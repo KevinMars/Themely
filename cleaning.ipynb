{
 "metadata": {
  "name": "",
  "signature": "sha256:dddaae49b53785b40c74bc03b6ea94cf3f758fb720c45559faa2400a4b6ae2be"
 },
 "nbformat": 3,
 "nbformat_minor": 0,
 "worksheets": [
  {
   "cells": [
    {
     "cell_type": "code",
     "collapsed": false,
     "input": [
      "from pymongo import MongoClient"
     ],
     "language": "python",
     "metadata": {},
     "outputs": [],
     "prompt_number": 2
    },
    {
     "cell_type": "code",
     "collapsed": false,
     "input": [
      "client = MongoClient()\n",
      "\n",
      "splits = client.dsbs.splits"
     ],
     "language": "python",
     "metadata": {},
     "outputs": [],
     "prompt_number": 3
    },
    {
     "cell_type": "code",
     "collapsed": false,
     "input": [
      "song_query = splits.find()\n",
      "songs = []\n",
      "for i in song_query:\n",
      "    song_dict = {}\n",
      "    song_dict['title'] = i['title']\n",
      "    song_dict['lyrics'] = i['lyrics']\n",
      "    song_dict['index'] = i['index']\n",
      "    song_dict['views'] = i['views']\n",
      "    song_dict['pyongs'] = i['pyongs']\n",
      "    try:\n",
      "        song_dict['annotations'] = i['annotations']\n",
      "    except:\n",
      "        pass\n",
      "    songs.append(song_dict)"
     ],
     "language": "python",
     "metadata": {},
     "outputs": [],
     "prompt_number": 4
    },
    {
     "cell_type": "code",
     "collapsed": false,
     "input": [
      "songs[5]['annotations'] = \"\"\"\n",
      "Nas borrows this line from \u201cNas Will Prevail\u201d to emphasize how easily he smashes his competition. This was later sampled on MC Solaar\u2019s \u201cL\u00e8ve-toi et rap\u201d. \n",
      "\n",
      "Nas is like E.F. Hutton \u2014 when he picks up a mic, people listen\n",
      "\n",
      "An early draft of this song had the same opening line but a more interesting second line:\n",
      "\n",
      "    The mic comes in contact with the third rail\n",
      "\n",
      "A sniper has one shot to kill \u2014 missing can mean death. For an emcee, Nas suggests, breath control on the mic is equally important. This also likens his lyrics to bullets in the damage they can do.\n",
      "\u2026after all, it wouldn\u2019t be an Illmatic track without cannabis (buddha = slang for cannabis).\n",
      "Nas' lyrics are flashy and attractive to the masses, but they are also as deep as Stephen King\u2019s psychological horror novel The Shining. Director Stanley Kubrick was very meticulous while adapting The Shining to film, loading it with possible allusions and scenes that took hundreds of takes to get right.\n",
      "Nas is from Queensbridge, so the island in question is Riker\u2019s Island, a nearby jail which Nas shouts out a few other times on the album. Nas is close with many of the people doing time there, so he plans on smuggling this in to them to help their cause \u2014 shouldn\u2019t be that hard to do, right?\n",
      "In Five-Percenter ideology, the Asiatic Black Man is the original man. Nas, while not a Five-Percenter himself, has long been fascinated by the group and incorporates their slang into his raps.\n",
      "One of the ideologies of the Five-Percent Nation is the rejection of a traditional God-figure in favor of the belief that the black man on Earth is part God. This is consistent with the way Nas views himself, as he has referred to himself as God\u2019s son and depicted himself as a Christ figure in the past. However, unlike Jesus Christ who is considered fully man and fully divine, Nas considers himself to be a mixture of both.\n",
      "Harking back to the last line about being a demigod, Nas is saying that he can only transfer his God-like thoughts to the masses when he is rapping in his \u201cphysical\u201d (human) form. This line also alludes to Nas' uncanny ability to express his physical experiences through music.\n",
      "The therapeutic effect of hip-hop on Nas is similar to that of Motrin to someone with a headache or fever.\n",
      "To \u201cshotgun\u201d is to inhale from a pipe or other smoking device, followed shortly by an exhalation into someone else\u2019s mouth. This term was developed by troops in Vietnam, who actually would put a marijuana cigarette (\u201cspliff\u201d) into the open chamber of an unloaded shotgun and blow it into each others' faces (an example of this can be seen in the movie Platoon)\n",
      "\n",
      "In Greek myth, Medusa had hair made of snakes, and her gaze would turn men to stone. But Nas is so bad, he can look Medusa straight in her eyes, and instead of him turning to stone, he gets her \u201cstoned\u201d by blowing weed smoke from his spliff into her mouth! Nas put this in his own words on this verified tate on the remix to this song.\n",
      "Nas refers to himself as \u201cthe buddha monk\u201d because of his love for marijuana \u2014 aka \u201cbuddha\u201d. Illmatic features an all-star team of producers including Q-Tip, Pete Rock, Large Professor and DJ Premier, so if you want to appreciate the full effect of the album you should turn your bass up and blast it.\n",
      "\n",
      "\n",
      "Aesop\u2019s Fables are a collection of writings which teach valuable moral lessons. Nas\u2019s stories differ in that they don\u2019t teach easy moral lessons, but rather dwell on the darker side of life where good deeds go unrewarded and bad deeds unpunished.\n",
      "\n",
      "Loading embed...\n",
      "Nas \u2014 like Biggie \u2014 is in it for the loot, so it might not be a good idea to invite him to a party with a lot of cash.\n",
      "When Nas isn\u2019t smoking joints, he\u2019s dropping \u201cjewels\u201d \u2014 hip-hop quotables.\n",
      "\u201cSchooling\u201d someone means to educate them about something, in this case Nas is teaching his competition how to rap. And because he does such a good job schooling them, his audience will \u201cfeel\u201d (appreciate) his work, like a blind man that is literally feeling for the Braille bumps in order to read.\n",
      "Shaquille O'Neal\u2019s giant hands allow him to hold a basketball (\u201cpill\u201d) with the same ease that Nas rocks a microphone. This can also be heard as \u201cholds appeal\u201d, since Shaq\u2019s quirkiness makes him one of the most popular media personalities out there.\n",
      "This is one of a few lines on the album that actually mentions the word \u201cIllmatic\u201d. Here\u2019s another. As for the meaning of Illmatic, Nas went Inside the Lines with Rap Genius and revealed that it was a QB slang word for something that was the absolute illest, and was also a reference to his incarcerated friend Illmatic Ice.\n",
      "\u201cFreak\u201d can be interpreted as slang meaning that Nas \u201cfucks\u201d the beat he raps over, an alternative to the oft-used \u201cI murdered the beat\u201d.\n",
      "Nas physically injures the beats he raps over in the same way that The Iron Sheik injures his opponents. The Iron Sheik, real name Hossein Khosrow Ali Vaziri, was an Iranian-American pro wrestler who spent years as a heel in the WWF. He and Russian Nikolai Volkoff formed a tag team with their gimmick being that they hate America.\n",
      "    Gave another squeeze, heard it click, \u201cYo, my shit is stuck\"\n",
      "    Try to cock it, it wouldn\u2019t shoot, now I\u2019m in danger\n",
      "    Finally pulled it back and saw three bullets caught up in the chamber\n",
      "\n",
      "Tec-9s are notorious for jamming, due to their large magazine capacities, and poor quality.\n",
      "\n",
      "On \u201cBack to the Grill\u201d and \u201cRepresent\u201d, Nas has lines about pulling a Tec out of his dresser. Jay-Z would later refer to these lines in \u201cTakeover\u201d\n",
      "To physically magnetize something there needs to be a magnetic field in place which requires a change in the surrounding current. Nas is implying that it doesn\u2019t matter what anyone tells him or thinks of him, he is not going to change who he is as a rapper/human.\n",
      "Nas never sleeps because he knows that there are always going to be people out there that are plotting his downfall. Nas explained this in his own words on this verified tate from the remix to this song.\n",
      "Literally saying that Nas will \u201crock well,\u201d but also a possible reference to \u2018Somebody\u2019s Watching Me\u2019 singer Rockwell\n",
      "The line also follows logically from the reference above to snorting heroin; cocaine often comes in rocks, which Nas boasts of selling on Illmatic.\n",
      "Her-on\u201d is the OG way to say heroin, because after you try it you become a junkie from \u201chere on\u201d. It occasionally gets stuck in your nose and becomes hard (\u201cfrozen\u201d) after a while, similar to how Nas\u2019s lyrics leave his competition frozen with fear.\n",
      "Nas often raps to stimulate the minds of his listeners, but occasionally he overstimulates them to the point where all they can do is sit there frozen in amazement.\n",
      "Many East Coast rappers at this time, such as The Wu-Tang Clan, Jay Z, and Mobb Deep and Nas himself heavily incorporated slang used by local drug dealers in their rap lyrics. This line was actually sampled in the hook to Big L\u2019s song \u201cEbonics\u201d, a track that further broke down hip-hop slang.\n",
      "\u201cBegin like a violin/End like leviathan\u201d suggests that Nas has the ability to be both smooth like a violin and destructive like the Biblical sea monster Leviathan. Leviathan possessed many traits a rapper would envy, such as the ability to spit flames and the tendency to scare away its challengers after one attempt.\n",
      "Grapefruit, cantaloupe, gourd, etc. are all slang words for your head. So Nas invites the people near him to gather round if they want to obtain some of the secondhand knowledge that is leaking out of his head.\n",
      "This song was recorded back when people still used \u201cbreaks\u201d \u2014 percussion-heavy instrumental interludes \u2014 instead of the beats produced by computer today. To prove that Nas really is \u201cthe smooth criminal on beat breaks\u201d, the instrumental cuts out the samples that had been in the background for most of the song and allows Nas to rap strictly over a drum kick for the rest of the verse.\n",
      "\n",
      "\n",
      "This is a very evocative way of saying that Nas makes mics bleed by pounding them with awesome lyrics.\n",
      "\u201cStreet\u2019s disciple\u201d is an important line to Nas, since it was the first line he put on wax, the first line on his debut album, and the name of his 7th studio album. This suggests that he spreads the knowledge he learned from the streets to others through his raps.\n",
      "Originally, on \u201cLive at the BBQ\u201d, Nas raps that his lyrics are the ones that are trifle. This line was also recycled on \u201cMemory Lane\u201d, so it\u2019s clear that Nas took a liking to it. \u201cTrifle\u201d is slang for trouble, so this can be interpreted as Nas claiming that he can manhandle even the most troublesome of beats with his awesome lyrics.\n",
      "Nas\u2019s father was a jazz musician, so you know that his lyrics are going to be smooth. He compares them to the Villanova hoops team, which was pretty smooth in the way that it handled its upset against Georgetown in the 1985 NCAA finals and the rest of its competition from the late 1980\u2019s to early 90\u2019s.\n",
      "As D'Angelo Barksdale explains, a \u201csoldier\u201d is a member of a crime organization that is pretty low on the ladder and dispensable to their higher ups. So while you are taking orders from everyone around you Nas is doing his own thing, much like the renegade cop Sylvester \u201cSly\u201d Stallone plays in the movie Cobra.\n",
      "\n",
      "\n",
      "Nas packs a weapon like a notoriously ganja-loving Rastafarian would pack a bowl of marijuana. This line was originally used in an earlier Nas song, \u201cNas Will Prevail\u201d.\n",
      "\n",
      "Rappers comparing their voice to a gun is a pretty common hip-hop trope, since it really is their most powerful weapon.\n",
      "Other MC\u2019s shouldn\u2019t feel bad about being Nas fans \u2014 everyone else is!\n",
      "The rhyme weed spot / need not was first used in \u201cNas Will Prevail\u201d, but the rest of the line was less clever than it is here:\n",
      "Nas has always viewed his lyrics as poetry \u2014 why else would he sign up for a Rap Genius account? And after maintaining success and popularity over a span of 11 solo albums and 23+ years in the game, it\u2019s safe to say Nas really does never fail.\n",
      "\u201cFail\u201d could also be heard as \u201cfell\u201d, meaning that even though Nas\u2019s poetry is deep like a hole in the ground he never falls into it because he knows how to control his talent.\n",
      "\"\"\"\n"
     ],
     "language": "python",
     "metadata": {},
     "outputs": [],
     "prompt_number": 5
    },
    {
     "cell_type": "code",
     "collapsed": false,
     "input": [
      "album_dict = {}\n",
      "\n",
      "album_dict['illmatic'] = [2211,89,231,109,108,730,454,731,704,729]\n",
      "\n",
      "album_dict['it was written'] = [2036,979,953,2913,952,3463,860,4366,3467,3053,2358,2723,1590,3469]\n",
      "\n",
      "album_dict['i am'] = [1066,864,3470,3471,3472,3473,3474,3475,3476,3477,3478,498,2712,2744,2842,34803]\n",
      "\n",
      "album_dict['nastradamus'] = [34827,34831,34819,34828,34829,34820,884,2312,34823,34826,34830,34821,34822,34833,34825]\n",
      "\n",
      "album_dict['stillmatic'] = [225,654,34881,1703,631,490,3150,2492,34879,34875,5937,34876,627,5820]\n",
      "\n",
      "album_dict['gods son'] = 34788,1819,1073,34791,34782,614,34780,34790,34783,34787,34786,4046,3613,34785,34792,34784\n",
      "\n",
      "album_dict['streets disciple'] = 1860,34761,34752,34764,34753,3139,3130,34771,34754,34762,\\\n",
      "                                    34770,3686,34766,34768,29540,34767,34758,34759,34765\n",
      "\n",
      "album_dict['hip hop is dead'] = 34797,2732,687,1446,1503,1667,34796,1818,34794,1032,34795,51699,\\\n",
      "                                1610,56243,3665,401852,71063,3620\n",
      "\n",
      "album_dict['untitled'] = [2200,34885,34888,1966,3910,4179,5674,34886,4180,3610,34890,3184,3944,628,34889,34887]\n",
      "\n",
      "album_dict['life is good'] = [78861,78862,78727,72461,78863,78864,78865,78866,78867,68291,\\\n",
      "                              78868,78870,51034,78871,78872,78873,78874]\n"
     ],
     "language": "python",
     "metadata": {},
     "outputs": [],
     "prompt_number": 10
    },
    {
     "cell_type": "code",
     "collapsed": false,
     "input": [
      "for key, values in album_dict.iteritems():\n",
      "    for idx, value in enumerate(values):\n",
      "        for i in songs:\n",
      "            if i['index'] == value:\n",
      "                i['album'] = key"
     ],
     "language": "python",
     "metadata": {},
     "outputs": [],
     "prompt_number": 11
    },
    {
     "cell_type": "code",
     "collapsed": false,
     "input": [
      "nas_final = client.dsbs.nas"
     ],
     "language": "python",
     "metadata": {},
     "outputs": [],
     "prompt_number": 13
    },
    {
     "cell_type": "code",
     "collapsed": false,
     "input": [
      "for i in songs:\n",
      "    nas_final.insert(i)"
     ],
     "language": "python",
     "metadata": {},
     "outputs": [],
     "prompt_number": 14
    },
    {
     "cell_type": "code",
     "collapsed": false,
     "input": [],
     "language": "python",
     "metadata": {},
     "outputs": []
    }
   ],
   "metadata": {}
  }
 ]
}