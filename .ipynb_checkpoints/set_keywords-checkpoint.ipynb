{
 "metadata": {
  "name": "",
  "signature": "sha256:62fafa21ed9a662fb4c8b53836c43a0053455bc5a24dea965d7124450e45d94f"
 },
 "nbformat": 3,
 "nbformat_minor": 0,
 "worksheets": [
  {
   "cells": [
    {
     "cell_type": "code",
     "collapsed": false,
     "input": [
      "from indicoio import sentiment, political, text_tags\n",
      "from nltk import pos_tag\n",
      "from nltk.corpus import wordnet, stopwords\n",
      "from nltk.tokenize import word_tokenize,WordPunctTokenizer\n",
      "from operator import itemgetter\n",
      "from pymongo import MongoClient\n",
      "from pprint import pprint\n",
      "import re, string\n",
      "from sklearn.feature_extraction.text import TfidfVectorizer, CountVectorizer\n",
      "from sklearn.cluster import KMeans, AgglomerativeClustering, DBSCAN, MiniBatchKMeans\n",
      "from textblob import TextBlob, sentiments\n",
      "\n",
      "nas = MongoClient().dsbs.nas"
     ],
     "language": "python",
     "metadata": {},
     "outputs": [],
     "prompt_number": 37
    },
    {
     "cell_type": "code",
     "collapsed": false,
     "input": [
      "song_query = nas.find()\n",
      "songs = []\n",
      "for i in song_query:\n",
      "    song_dict = {}\n",
      "    song_dict['index'] = i['index']\n",
      "    song_dict['views'] = i['views']\n",
      "    song_dict['pyongs'] = i['pyongs']\n",
      "    song_dict['title'] = i['title']\n",
      "    song_dict['lyrics'] = i['lyrics']\n",
      "    song_dict['annotations'] = i['annotations']\n",
      "    song_dict['album'] = i['album']\n",
      "    songs.append(song_dict)"
     ],
     "language": "python",
     "metadata": {},
     "outputs": [],
     "prompt_number": 257
    },
    {
     "cell_type": "code",
     "collapsed": false,
     "input": [
      "album_dict = {}\n",
      "for x in songs:\n",
      "    album_dict[x['album']] = []\n",
      "for x in songs:\n",
      "    album_dict[x['album']].append(x['lyrics'] + x['annotations'])"
     ],
     "language": "python",
     "metadata": {},
     "outputs": [],
     "prompt_number": 258
    },
    {
     "cell_type": "code",
     "collapsed": false,
     "input": [
      "album_names = []\n",
      "words_unsorted = []\n",
      "for album, songs in album_dict.iteritems():\n",
      "    words_unsorted.append(songs)\n",
      "    album_names.append(album)"
     ],
     "language": "python",
     "metadata": {},
     "outputs": [],
     "prompt_number": 259
    },
    {
     "cell_type": "code",
     "collapsed": false,
     "input": [
      "words = [[] for i in range(len(album_dict))]\n",
      "words[0] = words_unsorted[5]\n",
      "words[1] = words_unsorted[9]\n",
      "words[2] = words_unsorted[7]\n",
      "words[3] = words_unsorted[6]\n",
      "words[4] = words_unsorted[2]\n",
      "words[5] = words_unsorted[1]\n",
      "words[6] = words_unsorted[0]\n",
      "words[7] = words_unsorted[3]\n",
      "words[8] = words_unsorted[4]\n",
      "words[9] = words_unsorted[8]\n",
      "\n",
      "album_names = ['illmatic','it was written','i am','nastradamus','stillmatic','gods son','streets disciple',\\\n",
      "               'hip hop is dead','untitled','life is good']"
     ],
     "language": "python",
     "metadata": {},
     "outputs": [],
     "prompt_number": 260
    },
    {
     "cell_type": "code",
     "collapsed": false,
     "input": [
      "for idx, album in enumerate(words):\n",
      "    for idx2, song in enumerate(album):\n",
      "        words[idx][idx2] = (song.lower().replace(\"'s\",\"\").replace(\"'\",\"\").replace(u\"\u2019\",\"\").replace(u\"\u2014\",\"\").replace(\"/\",\"\")\\\n",
      "                            .replace(\"[intro\",\" \").replace('[hook',\" \").replace('[verse 1',\" \").replace('[verse 2',\" \")\\\n",
      "                            .replace('[verse 3',\" \").replace('[verse 4',\" \"))"
     ],
     "language": "python",
     "metadata": {},
     "outputs": [],
     "prompt_number": 243
    },
    {
     "cell_type": "code",
     "collapsed": false,
     "input": [
      "for idx, album in enumerate(words):\n",
      "    for idx2, song in enumerate(album):\n",
      "        words[idx][idx2] = re.sub('http\\S+', \"\", song)"
     ],
     "language": "python",
     "metadata": {},
     "outputs": [],
     "prompt_number": 244
    },
    {
     "cell_type": "code",
     "collapsed": false,
     "input": [
      "pattern = re.compile('[\\W_]+')\n",
      "for idx, album in enumerate(words):\n",
      "    for idx2, song in enumerate(album):\n",
      "        words[idx][idx2] = pattern.sub(' ', song)"
     ],
     "language": "python",
     "metadata": {},
     "outputs": [],
     "prompt_number": 245
    },
    {
     "cell_type": "code",
     "collapsed": false,
     "input": [
      "for idx, album in enumerate(words):\n",
      "    for idx2, track in enumerate(album):\n",
      "        words[idx][idx2] = \" \".join([w for w in set(TextBlob(track).words)])"
     ],
     "language": "python",
     "metadata": {},
     "outputs": [],
     "prompt_number": 246
    },
    {
     "cell_type": "code",
     "collapsed": false,
     "input": [
      "words = [\" \".join(i) for i in words]"
     ],
     "language": "python",
     "metadata": {},
     "outputs": [],
     "prompt_number": 247
    },
    {
     "cell_type": "code",
     "collapsed": false,
     "input": [
      "num_album = len(words)"
     ],
     "language": "python",
     "metadata": {},
     "outputs": [],
     "prompt_number": 248
    },
    {
     "cell_type": "code",
     "collapsed": false,
     "input": [
      "song_tagged = [[] for i in range(num_album)]\n",
      "for i in range(num_album):\n",
      "    song_tagged[i] = TextBlob(words[i]).tags"
     ],
     "language": "python",
     "metadata": {},
     "outputs": [],
     "prompt_number": 249
    },
    {
     "cell_type": "code",
     "collapsed": false,
     "input": [
      "song_nouns = [[] for i in range(num_album)]\n",
      "for i in range(num_album):\n",
      "    for word in song_tagged[i]:\n",
      "        if word[1] == \"NN\" or word[1] == \"NNS\" or word[1] == \"NNP\" or word[1] == \"NNPS\":\n",
      "#             if len(wordnet.synsets(str(word[0]))) > 0:\n",
      "            song_nouns[i].append(word[0])\n",
      "for i in song_nouns:\n",
      "    print len(i)\n",
      "song_nouns = [\" \".join(i) for i in song_nouns]"
     ],
     "language": "python",
     "metadata": {},
     "outputs": [
      {
       "output_type": "stream",
       "stream": "stdout",
       "text": [
        "5319\n",
        "6496\n",
        "5175\n",
        "4002\n",
        "5671\n",
        "4580\n",
        "4624\n",
        "5793\n",
        "5027\n",
        "6649\n"
       ]
      }
     ],
     "prompt_number": 250
    },
    {
     "cell_type": "code",
     "collapsed": false,
     "input": [
      "# for i in song_nouns:\n",
      "#     print TextBlob(i).sentiment"
     ],
     "language": "python",
     "metadata": {},
     "outputs": [],
     "prompt_number": 251
    },
    {
     "cell_type": "code",
     "collapsed": false,
     "input": [
      "# for i in song_nouns:\n",
      "#     print sentiment(i)"
     ],
     "language": "python",
     "metadata": {},
     "outputs": [],
     "prompt_number": 252
    },
    {
     "cell_type": "code",
     "collapsed": false,
     "input": [
      "# for idx, i in enumerate(words):\n",
      "#     tag_dict = text_tags(str(words[idx]))\n",
      "#     print sorted(tag_dict.keys(), key=lambda x: tag_dict[x], reverse=True)[1:9]"
     ],
     "language": "python",
     "metadata": {},
     "outputs": [
      {
       "output_type": "stream",
       "stream": "stdout",
       "text": [
        "[u'entertainment', u'news', u'television', u'psychology', u'humor', u'movies', u'books', u'politics']\n",
        "[u'news', u'politics', u'humor', u'entertainment', u'television', u'psychology', u'conservative', u'history']"
       ]
      },
      {
       "output_type": "stream",
       "stream": "stdout",
       "text": [
        "\n",
        "[u'news', u'relationships', u'entertainment', u'humor', u'psychology', u'television', u'parenting', u'christianity']"
       ]
      },
      {
       "output_type": "stream",
       "stream": "stdout",
       "text": [
        "\n",
        "[u'news', u'entertainment', u'humor', u'parenting', u'relationships', u'television', u'politics', u'psychology']"
       ]
      },
      {
       "output_type": "stream",
       "stream": "stdout",
       "text": [
        "\n",
        "[u'news', u'entertainment', u'television', u'humor', u'psychology', u'relationships', u'movies', u'parenting']"
       ]
      },
      {
       "output_type": "stream",
       "stream": "stdout",
       "text": [
        "\n",
        "[u'entertainment', u'news', u'parenting', u'christianity', u'humor', u'relationships', u'television', u'psychology']"
       ]
      },
      {
       "output_type": "stream",
       "stream": "stdout",
       "text": [
        "\n",
        "[u'news', u'entertainment', u'humor', u'television', u'parenting', u'relationships', u'movies', u'psychology']"
       ]
      },
      {
       "output_type": "stream",
       "stream": "stdout",
       "text": [
        "\n",
        "[u'entertainment', u'television', u'news', u'humor', u'movies', u'psychology', u'nba', u'parenting']"
       ]
      },
      {
       "output_type": "stream",
       "stream": "stdout",
       "text": [
        "\n",
        "[u'music', u'conservative', u'politics', u'history', u'entertainment', u'religion', u'humor', u'television']"
       ]
      },
      {
       "output_type": "stream",
       "stream": "stdout",
       "text": [
        "\n",
        "[u'entertainment', u'television', u'psychology', u'humor', u'relationships', u'news', u'parenting', u'movies']"
       ]
      },
      {
       "output_type": "stream",
       "stream": "stdout",
       "text": [
        "\n"
       ]
      }
     ],
     "prompt_number": 232
    },
    {
     "cell_type": "code",
     "collapsed": false,
     "input": [
      "stop = stopwords.words('english')\n",
      "stop += ['http', 'www', 'com', 'i', 'me', 'my', 'myself', 'we', 'our', 'ours', 'ourselves', 'you', 'your', \n",
      "             'yours', 'yourself', 'yourselves', 'he', 'him', 'his', 'himself', 'she', 'her', 'hers', 'herself', \n",
      "             'it', 'its', 'itself', 'they', 'them', 'their', 'theirs', 'themselves', 'what', 'which', 'who', 'whom', \n",
      "             'this', 'that', 'these', 'those', 'am', 'is', 'are', 'was', 'were', 'be', 'been', 'being', 'have', 'has', \n",
      "             'had', 'having', 'do', 'does', 'did', 'doing', 'a', 'an', 'the', 'and', 'but', 'if', 'or', 'because', 'as', \n",
      "             'until', 'while', 'of', 'at', 'by', 'for', 'with', 'about', 'against', 'between', 'into', 'through', 'during', \n",
      "             'before', 'after', 'above', 'below', 'to', 'from', 'up', 'down', 'in', 'out', 'on', 'off', 'over', 'under', \n",
      "             'again', 'further', 'then', 'once', 'here', 'there', 'when', 'where', 'why', 'how', 'all', 'any', 'both', \n",
      "             'each', 'few', 'more', 'most', 'other', 'some', 'such', 'no', 'nor', 'not', 'only', 'own', 'same', 'so', \n",
      "             'than', 'too', 'very', \"'s\", \"n't\", 'can', 'will', 'just', 'don', 'should', 'now','Written','oct','sep','aug']"
     ],
     "language": "python",
     "metadata": {},
     "outputs": [],
     "prompt_number": 253
    },
    {
     "cell_type": "code",
     "collapsed": false,
     "input": [
      "vectorizer = TfidfVectorizer(stop_words=stop, max_df=0.9)\n",
      "song_vector = vectorizer.fit_transform(song_nouns)"
     ],
     "language": "python",
     "metadata": {},
     "outputs": [],
     "prompt_number": 254
    },
    {
     "cell_type": "code",
     "collapsed": false,
     "input": [
      "song_vector.shape"
     ],
     "language": "python",
     "metadata": {},
     "outputs": [
      {
       "metadata": {},
       "output_type": "pyout",
       "prompt_number": 255,
       "text": [
        "(10, 11115)"
       ]
      }
     ],
     "prompt_number": 255
    },
    {
     "cell_type": "code",
     "collapsed": false,
     "input": [
      "for idx, album in enumerate(song_vector):\n",
      "    counter = 0\n",
      "    print\n",
      "    print album_names[idx]\n",
      "    print \n",
      "    for index, tfidf in sorted(zip(album.indices,album.data), key= itemgetter(1), reverse=True):\n",
      "        if counter < 50:\n",
      "            if len(wordnet.synsets(str(vectorizer.get_feature_names()[index]))) > 0:\n",
      "                print vectorizer.get_feature_names()[index], tfidf \n",
      "                counter += 1"
     ],
     "language": "python",
     "metadata": {},
     "outputs": [
      {
       "output_type": "stream",
       "stream": "stdout",
       "text": [
        "\n",
        "illmatic\n",
        "\n",
        "microphone"
       ]
      },
      {
       "output_type": "stream",
       "stream": "stdout",
       "text": [
        " 0.0861024985435\n",
        "premier"
       ]
      },
      {
       "output_type": "stream",
       "stream": "stdout",
       "text": [
        " 0.0658393619587\n",
        "film"
       ]
      },
      {
       "output_type": "stream",
       "stream": "stdout",
       "text": [
        " 0.0658393619587\n",
        "villain"
       ]
      },
      {
       "output_type": "stream",
       "stream": "stdout",
       "text": [
        " 0.0656107642567\n",
        "raps 0.0625100420358\n",
        "dukes"
       ]
      },
      {
       "output_type": "stream",
       "stream": "stdout",
       "text": [
        " 0.0578856291326\n",
        "trifle 0.0578856291326\n",
        "wizard"
       ]
      },
      {
       "output_type": "stream",
       "stream": "stdout",
       "text": [
        " 0.0574016656956\n",
        "breaks 0.0572894888861\n",
        "samples"
       ]
      },
      {
       "output_type": "stream",
       "stream": "stdout",
       "text": [
        " 0.0546962867814\n",
        "jazz"
       ]
      },
      {
       "output_type": "stream",
       "stream": "stdout",
       "text": [
        " 0.0546962867814\n",
        "nation"
       ]
      },
      {
       "output_type": "stream",
       "stream": "stdout",
       "text": [
        " 0.0546962867814\n",
        "brain"
       ]
      },
      {
       "output_type": "stream",
       "stream": "stdout",
       "text": [
        " 0.0546962867814\n",
        "source"
       ]
      },
      {
       "output_type": "stream",
       "stream": "stdout",
       "text": [
        " 0.0517910661257\n",
        "claims"
       ]
      },
      {
       "output_type": "stream",
       "stream": "stdout",
       "text": [
        " 0.0513922747833\n",
        "bop"
       ]
      },
      {
       "output_type": "stream",
       "stream": "stdout",
       "text": [
        " 0.0510341941657\n",
        "enforcement"
       ]
      },
      {
       "output_type": "stream",
       "stream": "stdout",
       "text": [
        " 0.0510341941657\n",
        "sentences"
       ]
      },
      {
       "output_type": "stream",
       "stream": "stdout",
       "text": [
        " 0.0510341941657\n",
        "buddha"
       ]
      },
      {
       "output_type": "stream",
       "stream": "stdout",
       "text": [
        " 0.0510341941657\n",
        "telephone"
       ]
      },
      {
       "output_type": "stream",
       "stream": "stdout",
       "text": [
        " 0.0492080731925\n",
        "inhale 0.0492080731925\n",
        "paranoia"
       ]
      },
      {
       "output_type": "stream",
       "stream": "stdout",
       "text": [
        " 0.0492080731925\n",
        "cannabis"
       ]
      },
      {
       "output_type": "stream",
       "stream": "stdout",
       "text": [
        " 0.0492080731925\n",
        "inhabitants 0.0492080731925\n",
        "dialogue"
       ]
      },
      {
       "output_type": "stream",
       "stream": "stdout",
       "text": [
        " 0.0492080731925\n",
        "grants 0.0492080731925\n",
        "chill"
       ]
      },
      {
       "output_type": "stream",
       "stream": "stdout",
       "text": [
        " 0.0468825315269\n",
        "front 0.0468825315269\n",
        "production"
       ]
      },
      {
       "output_type": "stream",
       "stream": "stdout",
       "text": [
        " 0.0468825315269\n",
        "professor"
       ]
      },
      {
       "output_type": "stream",
       "stream": "stdout",
       "text": [
        " 0.0458315911089\n",
        "loot 0.0458315911089\n",
        "heres"
       ]
      },
      {
       "output_type": "stream",
       "stream": "stdout",
       "text": [
        " 0.0458315911089\n",
        "cigars 0.0458315911089\n",
        "spite"
       ]
      },
      {
       "output_type": "stream",
       "stream": "stdout",
       "text": [
        " 0.0430512492717\n",
        "ganja 0.0430512492717\n",
        "thief"
       ]
      },
      {
       "output_type": "stream",
       "stream": "stdout",
       "text": [
        " 0.0430512492717\n",
        "herb"
       ]
      },
      {
       "output_type": "stream",
       "stream": "stdout",
       "text": [
        " 0.0430512492717\n",
        "demo"
       ]
      },
      {
       "output_type": "stream",
       "stream": "stdout",
       "text": [
        " 0.0430512492717\n",
        "stereo 0.0430512492717\n",
        "packs"
       ]
      },
      {
       "output_type": "stream",
       "stream": "stdout",
       "text": [
        " 0.0430512492717\n",
        "jams "
       ]
      },
      {
       "output_type": "stream",
       "stream": "stdout",
       "text": [
        "0.0430512492717\n",
        "lane"
       ]
      },
      {
       "output_type": "stream",
       "stream": "stdout",
       "text": [
        " 0.0428268956527\n",
        "age"
       ]
      },
      {
       "output_type": "stream",
       "stream": "stdout",
       "text": [
        " 0.0428268956527\n",
        "jam"
       ]
      },
      {
       "output_type": "stream",
       "stream": "stdout",
       "text": [
        " 0.0428268956527\n",
        "army 0.0428268956527\n",
        "percent"
       ]
      },
      {
       "output_type": "stream",
       "stream": "stdout",
       "text": [
        " 0.0428268956527\n",
        "corner"
       ]
      },
      {
       "output_type": "stream",
       "stream": "stdout",
       "text": [
        " 0.0428268956527\n",
        "tip"
       ]
      },
      {
       "output_type": "stream",
       "stream": "stdout",
       "text": [
        " 0.0414328529005\n",
        "competition"
       ]
      },
      {
       "output_type": "stream",
       "stream": "stdout",
       "text": [
        " 0.0414328529005\n",
        "vocals"
       ]
      },
      {
       "output_type": "stream",
       "stream": "stdout",
       "text": [
        " 0.0414328529005\n",
        "\n",
        "it was written\n",
        "\n",
        "production"
       ]
      },
      {
       "output_type": "stream",
       "stream": "stdout",
       "text": [
        " 0.0616961907271\n",
        "thousands 0.0575613715599\n",
        "african"
       ]
      },
      {
       "output_type": "stream",
       "stream": "stdout",
       "text": [
        " 0.0548410584241\n",
        "law 0.0548410584241\n",
        "cases"
       ]
      },
      {
       "output_type": "stream",
       "stream": "stdout",
       "text": [
        " 0.0545245555576\n",
        "thugs"
       ]
      },
      {
       "output_type": "stream",
       "stream": "stdout",
       "text": [
        " 0.0526018075523\n",
        "firms"
       ]
      },
      {
       "output_type": "stream",
       "stream": "stdout",
       "text": [
        " 0.0507839871129\n",
        "biscuit"
       ]
      },
      {
       "output_type": "stream",
       "stream": "stdout",
       "text": [
        " 0.0507839871129\n",
        "shitty"
       ]
      },
      {
       "output_type": "stream",
       "stream": "stdout",
       "text": [
        " 0.0507839871129\n",
        "grooves"
       ]
      },
      {
       "output_type": "stream",
       "stream": "stdout",
       "text": [
        " 0.0507839871129\n",
        "region"
       ]
      },
      {
       "output_type": "stream",
       "stream": "stdout",
       "text": [
        " 0.0503593982588\n",
        "river"
       ]
      },
      {
       "output_type": "stream",
       "stream": "stdout",
       "text": [
        " 0.0503593982588\n",
        "cities"
       ]
      },
      {
       "output_type": "stream",
       "stream": "stdout",
       "text": [
        " 0.0503593982588\n",
        "gats"
       ]
      },
      {
       "output_type": "stream",
       "stream": "stdout",
       "text": [
        " 0.0502609837519\n",
        "foxy 0.0502609837519\n",
        "slavery"
       ]
      },
      {
       "output_type": "stream",
       "stream": "stdout",
       "text": [
        " 0.0495102205505\n",
        "zone"
       ]
      },
      {
       "output_type": "stream",
       "stream": "stdout",
       "text": [
        " 0.0495102205505\n",
        "concept"
       ]
      },
      {
       "output_type": "stream",
       "stream": "stdout",
       "text": [
        " 0.0495102205505\n",
        "bass"
       ]
      },
      {
       "output_type": "stream",
       "stream": "stdout",
       "text": [
        " 0.0495102205505\n",
        "information"
       ]
      },
      {
       "output_type": "stream",
       "stream": "stdout",
       "text": [
        " 0.0495102205505\n",
        "dealers"
       ]
      },
      {
       "output_type": "stream",
       "stream": "stdout",
       "text": [
        " 0.0479859261211\n",
        "message"
       ]
      },
      {
       "output_type": "stream",
       "stream": "stdout",
       "text": [
        " 0.0479859261211\n",
        "clothes"
       ]
      },
      {
       "output_type": "stream",
       "stream": "stdout",
       "text": [
        " 0.0479859261211\n",
        "samples"
       ]
      },
      {
       "output_type": "stream",
       "stream": "stdout",
       "text": [
        " 0.0479859261211\n",
        "cognac"
       ]
      },
      {
       "output_type": "stream",
       "stream": "stdout",
       "text": [
        " 0.0454371296314\n",
        "moves"
       ]
      },
      {
       "output_type": "stream",
       "stream": "stdout",
       "text": [
        " 0.0454371296314\n",
        "drums"
       ]
      },
      {
       "output_type": "stream",
       "stream": "stdout",
       "text": [
        " 0.0454371296314\n",
        "dice"
       ]
      },
      {
       "output_type": "stream",
       "stream": "stdout",
       "text": [
        " 0.0454371296314\n",
        "class 0.0450872636163\n",
        "victim"
       ]
      },
      {
       "output_type": "stream",
       "stream": "stdout",
       "text": [
        " 0.0450872636163\n",
        "cat 0.0450872636163\n",
        "strings"
       ]
      },
      {
       "output_type": "stream",
       "stream": "stdout",
       "text": [
        " 0.0447731137705\n",
        "enforcement"
       ]
      },
      {
       "output_type": "stream",
       "stream": "stdout",
       "text": [
        " 0.0447731137705\n",
        "segregation"
       ]
      },
      {
       "output_type": "stream",
       "stream": "stdout",
       "text": [
        " 0.04317102867\n",
        "ounce"
       ]
      },
      {
       "output_type": "stream",
       "stream": "stdout",
       "text": [
        " 0.04317102867\n",
        "connections"
       ]
      },
      {
       "output_type": "stream",
       "stream": "stdout",
       "text": [
        " 0.04317102867\n",
        "gamble"
       ]
      },
      {
       "output_type": "stream",
       "stream": "stdout",
       "text": [
        " 0.04317102867\n",
        "masterpiece"
       ]
      },
      {
       "output_type": "stream",
       "stream": "stdout",
       "text": [
        " 0.04317102867\n",
        "skin"
       ]
      },
      {
       "output_type": "stream",
       "stream": "stdout",
       "text": [
        " 0.0412585171254\n",
        "peep"
       ]
      },
      {
       "output_type": "stream",
       "stream": "stdout",
       "text": [
        " 0.0412585171254\n",
        "link"
       ]
      },
      {
       "output_type": "stream",
       "stream": "stdout",
       "text": [
        " 0.0412585171254\n",
        "meanings 0.0412585171254\n",
        "film"
       ]
      },
      {
       "output_type": "stream",
       "stream": "stdout",
       "text": [
        " 0.0412585171254\n",
        "government"
       ]
      },
      {
       "output_type": "stream",
       "stream": "stdout",
       "text": [
        " 0.0411307938181\n",
        "statement"
       ]
      },
      {
       "output_type": "stream",
       "stream": "stdout",
       "text": [
        " 0.0411307938181\n",
        "snitches"
       ]
      },
      {
       "output_type": "stream",
       "stream": "stdout",
       "text": [
        " 0.0411307938181\n",
        "lord"
       ]
      },
      {
       "output_type": "stream",
       "stream": "stdout",
       "text": [
        " 0.0411307938181\n",
        "members"
       ]
      },
      {
       "output_type": "stream",
       "stream": "stdout",
       "text": [
        " 0.0411307938181\n",
        "lifestyle"
       ]
      },
      {
       "output_type": "stream",
       "stream": "stdout",
       "text": [
        " 0.0411307938181\n",
        "state"
       ]
      },
      {
       "output_type": "stream",
       "stream": "stdout",
       "text": [
        " 0.0411307938181\n",
        "\n",
        "i am\n",
        "\n",
        "driver"
       ]
      },
      {
       "output_type": "stream",
       "stream": "stdout",
       "text": [
        " 0.0844574012508\n",
        "questions"
       ]
      },
      {
       "output_type": "stream",
       "stream": "stdout",
       "text": [
        " 0.0793434547479\n",
        "credibility"
       ]
      },
      {
       "output_type": "stream",
       "stream": "stdout",
       "text": [
        " 0.0717965070896\n",
        "none 0.0656104249518\n",
        "thugs"
       ]
      },
      {
       "output_type": "stream",
       "stream": "stdout",
       "text": [
        " 0.0656104249518\n",
        "wit"
       ]
      },
      {
       "output_type": "stream",
       "stream": "stdout",
       "text": [
        " 0.0617542772944\n",
        "dough"
       ]
      },
      {
       "output_type": "stream",
       "stream": "stdout",
       "text": [
        " 0.0562375071016\n",
        "ny"
       ]
      },
      {
       "output_type": "stream",
       "stream": "stdout",
       "text": [
        " 0.0562375071016\n",
        "bang 0.0558456668618\n",
        "whore"
       ]
      },
      {
       "output_type": "stream",
       "stream": "stdout",
       "text": [
        " 0.0538473803172\n",
        "dogs 0.0514618977453\n",
        "problems"
       ]
      },
      {
       "output_type": "stream",
       "stream": "stdout",
       "text": [
        " 0.0513025880018\n",
        "checks"
       ]
      },
      {
       "output_type": "stream",
       "stream": "stdout",
       "text": [
        " 0.0501525655623\n",
        "allah"
       ]
      },
      {
       "output_type": "stream",
       "stream": "stdout",
       "text": [
        " 0.0501525655623\n",
        "powers"
       ]
      },
      {
       "output_type": "stream",
       "stream": "stdout",
       "text": [
        " 0.0471100947927\n",
        "sort"
       ]
      },
      {
       "output_type": "stream",
       "stream": "stdout",
       "text": [
        " 0.0468645892513\n",
        "door"
       ]
      },
      {
       "output_type": "stream",
       "stream": "stdout",
       "text": [
        " 0.0468645892513\n",
        "games"
       ]
      },
      {
       "output_type": "stream",
       "stream": "stdout",
       "text": [
        " 0.0468645892513\n",
        "answer"
       ]
      },
      {
       "output_type": "stream",
       "stream": "stdout",
       "text": [
        " 0.0453391169988\n",
        "leg"
       ]
      },
      {
       "output_type": "stream",
       "stream": "stdout",
       "text": [
        " 0.0453391169988\n",
        "government"
       ]
      },
      {
       "output_type": "stream",
       "stream": "stdout",
       "text": [
        " 0.0427521566682\n",
        "wake"
       ]
      },
      {
       "output_type": "stream",
       "stream": "stdout",
       "text": [
        " 0.0427521566682\n",
        "john"
       ]
      },
      {
       "output_type": "stream",
       "stream": "stdout",
       "text": [
        " 0.0427521566682\n",
        "hands"
       ]
      },
      {
       "output_type": "stream",
       "stream": "stdout",
       "text": [
        " 0.0427521566682\n",
        "bust"
       ]
      },
      {
       "output_type": "stream",
       "stream": "stdout",
       "text": [
        " 0.0427521566682\n",
        "state"
       ]
      },
      {
       "output_type": "stream",
       "stream": "stdout",
       "text": [
        " 0.0427521566682\n",
        "clothes"
       ]
      },
      {
       "output_type": "stream",
       "stream": "stdout",
       "text": [
        " 0.0427521566682\n",
        "front"
       ]
      },
      {
       "output_type": "stream",
       "stream": "stdout",
       "text": [
        " 0.0427521566682\n",
        "raps"
       ]
      },
      {
       "output_type": "stream",
       "stream": "stdout",
       "text": [
        " 0.0427521566682\n",
        "arguments"
       ]
      },
      {
       "output_type": "stream",
       "stream": "stdout",
       "text": [
        " 0.0422287006254\n",
        "almighty"
       ]
      },
      {
       "output_type": "stream",
       "stream": "stdout",
       "text": [
        " 0.0422287006254\n",
        "billions"
       ]
      },
      {
       "output_type": "stream",
       "stream": "stdout",
       "text": [
        " 0.0422287006254\n",
        "sixes"
       ]
      },
      {
       "output_type": "stream",
       "stream": "stdout",
       "text": [
        " 0.0422287006254\n",
        "swing"
       ]
      },
      {
       "output_type": "stream",
       "stream": "stdout",
       "text": [
        " 0.0418842501464\n",
        "wonders"
       ]
      },
      {
       "output_type": "stream",
       "stream": "stdout",
       "text": [
        " 0.0418842501464\n",
        "victory"
       ]
      },
      {
       "output_type": "stream",
       "stream": "stdout",
       "text": [
        " 0.0418842501464\n",
        "momma"
       ]
      },
      {
       "output_type": "stream",
       "stream": "stdout",
       "text": [
        " 0.0418842501464\n",
        "hammer"
       ]
      },
      {
       "output_type": "stream",
       "stream": "stdout",
       "text": [
        " 0.0418842501464\n",
        "stitches"
       ]
      },
      {
       "output_type": "stream",
       "stream": "stdout",
       "text": [
        " 0.0418842501464\n",
        "popularity"
       ]
      },
      {
       "output_type": "stream",
       "stream": "stdout",
       "text": [
        " 0.0418842501464\n",
        "sister"
       ]
      },
      {
       "output_type": "stream",
       "stream": "stdout",
       "text": [
        " 0.0418842501464\n",
        "package"
       ]
      },
      {
       "output_type": "stream",
       "stream": "stdout",
       "text": [
        " 0.0418842501464\n",
        "composition"
       ]
      },
      {
       "output_type": "stream",
       "stream": "stdout",
       "text": [
        " 0.0418842501464\n",
        "fate"
       ]
      },
      {
       "output_type": "stream",
       "stream": "stdout",
       "text": [
        " 0.0411695181963\n",
        "share 0.0411695181963\n",
        "cole"
       ]
      },
      {
       "output_type": "stream",
       "stream": "stdout",
       "text": [
        " 0.0376144241717\n",
        "cheating"
       ]
      },
      {
       "output_type": "stream",
       "stream": "stdout",
       "text": [
        " 0.0376144241717\n",
        "yea 0.0376144241717\n",
        "safety"
       ]
      },
      {
       "output_type": "stream",
       "stream": "stdout",
       "text": [
        " 0.0376144241717\n",
        "cake"
       ]
      },
      {
       "output_type": "stream",
       "stream": "stdout",
       "text": [
        " 0.0376144241717\n",
        "\n",
        "nastradamus\n",
        "\n",
        "thugs"
       ]
      },
      {
       "output_type": "stream",
       "stream": "stdout",
       "text": [
        " 0.08889446177\n",
        "prediction"
       ]
      },
      {
       "output_type": "stream",
       "stream": "stdout",
       "text": [
        " 0.0750946304819\n",
        "nostradamus"
       ]
      },
      {
       "output_type": "stream",
       "stream": "stdout",
       "text": [
        " 0.0638372965534\n",
        "cons 0.0638372965534\n",
        "diamonds"
       ]
      },
      {
       "output_type": "stream",
       "stream": "stdout",
       "text": [
        " 0.0610092525991\n",
        "lord"
       ]
      },
      {
       "output_type": "stream",
       "stream": "stdout",
       "text": [
        " 0.0608203872675\n",
        "clips"
       ]
      },
      {
       "output_type": "stream",
       "stream": "stdout",
       "text": [
        " 0.0594570094563\n",
        "sticks"
       ]
      },
      {
       "output_type": "stream",
       "stream": "stdout",
       "text": [
        " 0.0558500910207\n",
        "wizard"
       ]
      },
      {
       "output_type": "stream",
       "stream": "stdout",
       "text": [
        " 0.0558500910207\n",
        "age"
       ]
      },
      {
       "output_type": "stream",
       "stream": "stdout",
       "text": [
        " 0.0555590386063\n",
        "door"
       ]
      },
      {
       "output_type": "stream",
       "stream": "stdout",
       "text": [
        " 0.0555590386063\n",
        "floor"
       ]
      },
      {
       "output_type": "stream",
       "stream": "stdout",
       "text": [
        " 0.0506836560562\n",
        "jewelry 0.0506836560562\n",
        "weapons"
       ]
      },
      {
       "output_type": "stream",
       "stream": "stdout",
       "text": [
        " 0.0506836560562\n",
        "african 0.0506836560562\n",
        "hands"
       ]
      },
      {
       "output_type": "stream",
       "stream": "stdout",
       "text": [
        " 0.0506836560562\n",
        "lifestyle 0.0506836560562\n",
        "front"
       ]
      },
      {
       "output_type": "stream",
       "stream": "stdout",
       "text": [
        " 0.0506836560562\n",
        "trek"
       ]
      },
      {
       "output_type": "stream",
       "stream": "stdout",
       "text": [
        " 0.0500630869879\n",
        "suggestions"
       ]
      },
      {
       "output_type": "stream",
       "stream": "stdout",
       "text": [
        " 0.0500630869879\n",
        "routes"
       ]
      },
      {
       "output_type": "stream",
       "stream": "stdout",
       "text": [
        " 0.0500630869879\n",
        "seer"
       ]
      },
      {
       "output_type": "stream",
       "stream": "stdout",
       "text": [
        " 0.0500630869879\n",
        "lounge"
       ]
      },
      {
       "output_type": "stream",
       "stream": "stdout",
       "text": [
        " 0.0500630869879\n",
        "windows"
       ]
      },
      {
       "output_type": "stream",
       "stream": "stdout",
       "text": [
        " 0.0496547330949\n",
        "platinum"
       ]
      },
      {
       "output_type": "stream",
       "stream": "stdout",
       "text": [
        " 0.0488074020793\n",
        "lust"
       ]
      },
      {
       "output_type": "stream",
       "stream": "stdout",
       "text": [
        " 0.0488074020793\n",
        "prisoners"
       ]
      },
      {
       "output_type": "stream",
       "stream": "stdout",
       "text": [
        " 0.0488074020793\n",
        "ground"
       ]
      },
      {
       "output_type": "stream",
       "stream": "stdout",
       "text": [
        " 0.0488074020793\n",
        "angel"
       ]
      },
      {
       "output_type": "stream",
       "stream": "stdout",
       "text": [
        " 0.0445927570922\n",
        "downs"
       ]
      },
      {
       "output_type": "stream",
       "stream": "stdout",
       "text": [
        " 0.0445927570922\n",
        "advantage"
       ]
      },
      {
       "output_type": "stream",
       "stream": "stdout",
       "text": [
        " 0.0445927570922\n",
        "weight"
       ]
      },
      {
       "output_type": "stream",
       "stream": "stdout",
       "text": [
        " 0.0445927570922\n",
        "seeds 0.0445927570922\n",
        "representation"
       ]
      },
      {
       "output_type": "stream",
       "stream": "stdout",
       "text": [
        " 0.0445927570922\n",
        "supply 0.0445927570922\n",
        "appearance"
       ]
      },
      {
       "output_type": "stream",
       "stream": "stdout",
       "text": [
        " 0.0445927570922\n",
        "arms"
       ]
      },
      {
       "output_type": "stream",
       "stream": "stdout",
       "text": [
        " 0.044447230885\n",
        "legs"
       ]
      },
      {
       "output_type": "stream",
       "stream": "stdout",
       "text": [
        " 0.044447230885\n",
        "feed"
       ]
      },
      {
       "output_type": "stream",
       "stream": "stdout",
       "text": [
        " 0.044447230885\n",
        "snitch"
       ]
      },
      {
       "output_type": "stream",
       "stream": "stdout",
       "text": [
        " 0.044447230885\n",
        "folks"
       ]
      },
      {
       "output_type": "stream",
       "stream": "stdout",
       "text": [
        " 0.044447230885\n",
        "inmate"
       ]
      },
      {
       "output_type": "stream",
       "stream": "stdout",
       "text": [
        " 0.0425581977023\n",
        "stranger 0.0425581977023\n",
        "guards"
       ]
      },
      {
       "output_type": "stream",
       "stream": "stdout",
       "text": [
        " 0.0425581977023\n",
        "gutter 0.0425581977023\n",
        "highschool"
       ]
      },
      {
       "output_type": "stream",
       "stream": "stdout",
       "text": [
        " 0.0425581977023\n",
        "heels 0.0425581977023\n",
        "pianist"
       ]
      },
      {
       "output_type": "stream",
       "stream": "stdout",
       "text": [
        " 0.0425581977023\n",
        "composer"
       ]
      },
      {
       "output_type": "stream",
       "stream": "stdout",
       "text": [
        " 0.0425581977023\n",
        "stink"
       ]
      },
      {
       "output_type": "stream",
       "stream": "stdout",
       "text": [
        " 0.0425581977023\n",
        "\n",
        "stillmatic\n",
        "\n",
        "state"
       ]
      },
      {
       "output_type": "stream",
       "stream": "stdout",
       "text": [
        " 0.0714759545828\n",
        "dog 0.0631675085731\n",
        "actin"
       ]
      },
      {
       "output_type": "stream",
       "stream": "stdout",
       "text": [
        " 0.0588340043954\n",
        "edge"
       ]
      },
      {
       "output_type": "stream",
       "stream": "stdout",
       "text": [
        " 0.0583421118928\n",
        "professor 0.0582280972228\n",
        "enemy"
       ]
      },
      {
       "output_type": "stream",
       "stream": "stdout",
       "text": [
        " 0.05559240912\n",
        "diss 0.0522342654955\n",
        "president"
       ]
      },
      {
       "output_type": "stream",
       "stream": "stdout",
       "text": [
        " 0.0522342654955\n",
        "babies"
       ]
      },
      {
       "output_type": "stream",
       "stream": "stdout",
       "text": [
        " 0.0477986057397\n",
        "opportunity"
       ]
      },
      {
       "output_type": "stream",
       "stream": "stdout",
       "text": [
        " 0.0477986057397\n",
        "blocks"
       ]
      },
      {
       "output_type": "stream",
       "stream": "stdout",
       "text": [
        " 0.0477986057397\n",
        "film"
       ]
      },
      {
       "output_type": "stream",
       "stream": "stdout",
       "text": [
        " 0.0477986057397\n",
        "problems"
       ]
      },
      {
       "output_type": "stream",
       "stream": "stdout",
       "text": [
        " 0.0476506363885\n",
        "ladies"
       ]
      },
      {
       "output_type": "stream",
       "stream": "stdout",
       "text": [
        " 0.0476506363885\n",
        "hope"
       ]
      },
      {
       "output_type": "stream",
       "stream": "stdout",
       "text": [
        " 0.0476506363885\n",
        "hands"
       ]
      },
      {
       "output_type": "stream",
       "stream": "stdout",
       "text": [
        " 0.0476506363885\n",
        "attention"
       ]
      },
      {
       "output_type": "stream",
       "stream": "stdout",
       "text": [
        " 0.0476506363885\n",
        "clothes"
       ]
      },
      {
       "output_type": "stream",
       "stream": "stdout",
       "text": [
        " 0.0476506363885\n",
        "nation"
       ]
      },
      {
       "output_type": "stream",
       "stream": "stdout",
       "text": [
        " 0.0476506363885\n",
        "brain"
       ]
      },
      {
       "output_type": "stream",
       "stream": "stdout",
       "text": [
        " 0.0476506363885\n",
        "mary"
       ]
      },
      {
       "output_type": "stream",
       "stream": "stdout",
       "text": [
        " 0.0465824777782\n",
        "sisters"
       ]
      },
      {
       "output_type": "stream",
       "stream": "stdout",
       "text": [
        " 0.0465824777782\n",
        "attacks"
       ]
      },
      {
       "output_type": "stream",
       "stream": "stdout",
       "text": [
        " 0.0465824777782\n",
        "moments"
       ]
      },
      {
       "output_type": "stream",
       "stream": "stdout",
       "text": [
        " 0.0437565839196\n",
        "roc"
       ]
      },
      {
       "output_type": "stream",
       "stream": "stdout",
       "text": [
        " 0.0437565839196\n",
        "rivals"
       ]
      },
      {
       "output_type": "stream",
       "stream": "stdout",
       "text": [
        " 0.0437565839196\n",
        "friendship"
       ]
      },
      {
       "output_type": "stream",
       "stream": "stdout",
       "text": [
        " 0.0437565839196\n",
        "magazines"
       ]
      },
      {
       "output_type": "stream",
       "stream": "stdout",
       "text": [
        " 0.0437565839196\n",
        "position"
       ]
      },
      {
       "output_type": "stream",
       "stream": "stdout",
       "text": [
        " 0.0435285545796\n",
        "revenge"
       ]
      },
      {
       "output_type": "stream",
       "stream": "stdout",
       "text": [
        " 0.0435285545796\n",
        "fashion"
       ]
      },
      {
       "output_type": "stream",
       "stream": "stdout",
       "text": [
        " 0.0435285545796\n",
        "drama"
       ]
      },
      {
       "output_type": "stream",
       "stream": "stdout",
       "text": [
        " 0.0435285545796\n",
        "verses"
       ]
      },
      {
       "output_type": "stream",
       "stream": "stdout",
       "text": [
        " 0.0435285545796\n",
        "juice"
       ]
      },
      {
       "output_type": "stream",
       "stream": "stdout",
       "text": [
        " 0.0421116723821\n",
        "result"
       ]
      },
      {
       "output_type": "stream",
       "stream": "stdout",
       "text": [
        " 0.0421116723821\n",
        "steps"
       ]
      },
      {
       "output_type": "stream",
       "stream": "stdout",
       "text": [
        " 0.0421116723821\n",
        "takeover"
       ]
      },
      {
       "output_type": "stream",
       "stream": "stdout",
       "text": [
        " 0.0421116723821\n",
        "religion"
       ]
      },
      {
       "output_type": "stream",
       "stream": "stdout",
       "text": [
        " 0.0421116723821\n",
        "dick"
       ]
      },
      {
       "output_type": "stream",
       "stream": "stdout",
       "text": [
        " 0.0397088636571\n",
        "cry"
       ]
      },
      {
       "output_type": "stream",
       "stream": "stdout",
       "text": [
        " 0.0397088636571\n",
        "mama"
       ]
      },
      {
       "output_type": "stream",
       "stream": "stdout",
       "text": [
        " 0.0397088636571\n",
        "pussy"
       ]
      },
      {
       "output_type": "stream",
       "stream": "stdout",
       "text": [
        " 0.0397088636571\n",
        "coast"
       ]
      },
      {
       "output_type": "stream",
       "stream": "stdout",
       "text": [
        " 0.0397088636571\n",
        "features"
       ]
      },
      {
       "output_type": "stream",
       "stream": "stdout",
       "text": [
        " 0.0397088636571\n",
        "step"
       ]
      },
      {
       "output_type": "stream",
       "stream": "stdout",
       "text": [
        " 0.0397088636571\n",
        "daddy"
       ]
      },
      {
       "output_type": "stream",
       "stream": "stdout",
       "text": [
        " 0.0397088636571\n",
        "bag"
       ]
      },
      {
       "output_type": "stream",
       "stream": "stdout",
       "text": [
        " 0.0397088636571\n",
        "message"
       ]
      },
      {
       "output_type": "stream",
       "stream": "stdout",
       "text": [
        " 0.0397088636571\n",
        "front"
       ]
      },
      {
       "output_type": "stream",
       "stream": "stdout",
       "text": [
        " 0.0397088636571\n",
        "siblings"
       ]
      },
      {
       "output_type": "stream",
       "stream": "stdout",
       "text": [
        " 0.0392226695969\n",
        "\n",
        "gods son\n",
        "\n",
        "comrade"
       ]
      },
      {
       "output_type": "stream",
       "stream": "stdout",
       "text": [
        " 0.070575454914\n",
        "mommy"
       ]
      },
      {
       "output_type": "stream",
       "stream": "stdout",
       "text": [
        " 0.063144827258\n",
        "master"
       ]
      },
      {
       "output_type": "stream",
       "stream": "stdout",
       "text": [
        " 0.063144827258\n",
        "diss"
       ]
      },
      {
       "output_type": "stream",
       "stream": "stdout",
       "text": [
        " 0.0626586119257\n",
        "jones"
       ]
      },
      {
       "output_type": "stream",
       "stream": "stdout",
       "text": [
        " 0.0626586119257\n",
        "panthers"
       ]
      },
      {
       "output_type": "stream",
       "stream": "stdout",
       "text": [
        " 0.0599955844489\n",
        "lake"
       ]
      },
      {
       "output_type": "stream",
       "stream": "stdout",
       "text": [
        " 0.0599955844489\n",
        "concept"
       ]
      },
      {
       "output_type": "stream",
       "stream": "stdout",
       "text": [
        " 0.0573377314532\n",
        "film"
       ]
      },
      {
       "output_type": "stream",
       "stream": "stdout",
       "text": [
        " 0.0573377314532\n",
        "trust"
       ]
      },
      {
       "output_type": "stream",
       "stream": "stdout",
       "text": [
        " 0.0571602319886\n",
        "period"
       ]
      },
      {
       "output_type": "stream",
       "stream": "stdout",
       "text": [
        " 0.0558789019038\n",
        "keys 0.0558789019038\n",
        "royalty"
       ]
      },
      {
       "output_type": "stream",
       "stream": "stdout",
       "text": [
        " 0.0524890468929\n",
        "joy 0.0524890468929\n",
        "movements"
       ]
      },
      {
       "output_type": "stream",
       "stream": "stdout",
       "text": [
        " 0.0524890468929\n",
        "region 0.0524890468929\n",
        "tool"
       ]
      },
      {
       "output_type": "stream",
       "stream": "stdout",
       "text": [
        " 0.0524890468929\n",
        "support 0.0522155099381\n",
        "daughter"
       ]
      },
      {
       "output_type": "stream",
       "stream": "stdout",
       "text": [
        " 0.0522155099381\n",
        "none 0.0522155099381\n",
        "issue"
       ]
      },
      {
       "output_type": "stream",
       "stream": "stdout",
       "text": [
        " 0.0522155099381\n",
        "verses 0.0522155099381\n",
        "queen"
       ]
      },
      {
       "output_type": "stream",
       "stream": "stdout",
       "text": [
        " 0.0505158618064\n",
        "caliber"
       ]
      },
      {
       "output_type": "stream",
       "stream": "stdout",
       "text": [
        " 0.0505158618064\n",
        "pun"
       ]
      },
      {
       "output_type": "stream",
       "stream": "stdout",
       "text": [
        " 0.0476335266572\n",
        "hands"
       ]
      },
      {
       "output_type": "stream",
       "stream": "stdout",
       "text": [
        " 0.0476335266572\n",
        "lord"
       ]
      },
      {
       "output_type": "stream",
       "stream": "stdout",
       "text": [
        " 0.0476335266572\n",
        "producer"
       ]
      },
      {
       "output_type": "stream",
       "stream": "stdout",
       "text": [
        " 0.0476335266572\n",
        "grandchildren"
       ]
      },
      {
       "output_type": "stream",
       "stream": "stdout",
       "text": [
        " 0.047050303276\n",
        "asthma"
       ]
      },
      {
       "output_type": "stream",
       "stream": "stdout",
       "text": [
        " 0.047050303276\n",
        "noises"
       ]
      },
      {
       "output_type": "stream",
       "stream": "stdout",
       "text": [
        " 0.047050303276\n",
        "lps"
       ]
      },
      {
       "output_type": "stream",
       "stream": "stdout",
       "text": [
        " 0.047050303276\n",
        "commission"
       ]
      },
      {
       "output_type": "stream",
       "stream": "stdout",
       "text": [
        " 0.047050303276\n",
        "deuteronomy"
       ]
      },
      {
       "output_type": "stream",
       "stream": "stdout",
       "text": [
        " 0.047050303276\n",
        "centers"
       ]
      },
      {
       "output_type": "stream",
       "stream": "stdout",
       "text": [
        " 0.047050303276\n",
        "offices"
       ]
      },
      {
       "output_type": "stream",
       "stream": "stdout",
       "text": [
        " 0.047050303276\n",
        "wing"
       ]
      },
      {
       "output_type": "stream",
       "stream": "stdout",
       "text": [
        " 0.0466665240154\n",
        "doctor"
       ]
      },
      {
       "output_type": "stream",
       "stream": "stdout",
       "text": [
        " 0.0466665240154\n",
        "salaam"
       ]
      },
      {
       "output_type": "stream",
       "stream": "stdout",
       "text": [
        " 0.0466665240154\n",
        "intentions"
       ]
      },
      {
       "output_type": "stream",
       "stream": "stdout",
       "text": [
        " 0.0466665240154\n",
        "curse"
       ]
      },
      {
       "output_type": "stream",
       "stream": "stdout",
       "text": [
        " 0.0466665240154\n",
        "nations"
       ]
      },
      {
       "output_type": "stream",
       "stream": "stdout",
       "text": [
        " 0.0466665240154\n",
        "teaching"
       ]
      },
      {
       "output_type": "stream",
       "stream": "stdout",
       "text": [
        " 0.0466665240154\n",
        "sister"
       ]
      },
      {
       "output_type": "stream",
       "stream": "stdout",
       "text": [
        " 0.0466665240154\n",
        "cancer"
       ]
      },
      {
       "output_type": "stream",
       "stream": "stdout",
       "text": [
        " 0.0458701851625\n",
        "date"
       ]
      },
      {
       "output_type": "stream",
       "stream": "stdout",
       "text": [
        " 0.0458701851625\n",
        "focus"
       ]
      },
      {
       "output_type": "stream",
       "stream": "stdout",
       "text": [
        " 0.0458701851625\n",
        "prince"
       ]
      },
      {
       "output_type": "stream",
       "stream": "stdout",
       "text": [
        " 0.0458701851625\n",
        "struggles"
       ]
      },
      {
       "output_type": "stream",
       "stream": "stdout",
       "text": [
        " 0.0458701851625\n",
        "minds"
       ]
      },
      {
       "output_type": "stream",
       "stream": "stdout",
       "text": [
        " 0.0458701851625\n",
        "\n",
        "streets disciple\n",
        "\n",
        "disciple"
       ]
      },
      {
       "output_type": "stream",
       "stream": "stdout",
       "text": [
        " 0.0922066190503\n",
        "toe"
       ]
      },
      {
       "output_type": "stream",
       "stream": "stdout",
       "text": [
        " 0.0887296174417\n",
        "ooh 0.0887296174417\n",
        "promise"
       ]
      },
      {
       "output_type": "stream",
       "stream": "stdout",
       "text": [
        " 0.071448844865\n",
        "battle"
       ]
      },
      {
       "output_type": "stream",
       "stream": "stdout",
       "text": [
        " 0.0689292805597\n",
        "chucks"
       ]
      },
      {
       "output_type": "stream",
       "stream": "stdout",
       "text": [
        " 0.0665472130813\n",
        "freaky"
       ]
      },
      {
       "output_type": "stream",
       "stream": "stdout",
       "text": [
        " 0.0565712108711\n",
        "bubble"
       ]
      },
      {
       "output_type": "stream",
       "stream": "stdout",
       "text": [
        " 0.0565712108711\n",
        "wit"
       ]
      },
      {
       "output_type": "stream",
       "stream": "stdout",
       "text": [
        " 0.054065060399\n",
        "diamonds 0.054065060399\n",
        "chick"
       ]
      },
      {
       "output_type": "stream",
       "stream": "stdout",
       "text": [
        " 0.053897692088\n",
        "breasts"
       ]
      },
      {
       "output_type": "stream",
       "stream": "stdout",
       "text": [
        " 0.0494931246603\n",
        "burners"
       ]
      },
      {
       "output_type": "stream",
       "stream": "stdout",
       "text": [
        " 0.0494931246603\n",
        "switch 0.0494931246603\n",
        "food"
       ]
      },
      {
       "output_type": "stream",
       "stream": "stdout",
       "text": [
        " 0.0492352003998\n",
        "lips 0.0476325632433"
       ]
      },
      {
       "output_type": "stream",
       "stream": "stdout",
       "text": [
        "\n",
        "consequences"
       ]
      },
      {
       "output_type": "stream",
       "stream": "stdout",
       "text": [
        " 0.0476325632433\n",
        "cats"
       ]
      },
      {
       "output_type": "stream",
       "stream": "stdout",
       "text": [
        " 0.0449147434067\n",
        "jewelry"
       ]
      },
      {
       "output_type": "stream",
       "stream": "stdout",
       "text": [
        " 0.0449147434067\n",
        "ladies"
       ]
      },
      {
       "output_type": "stream",
       "stream": "stdout",
       "text": [
        " 0.0449147434067\n",
        "african"
       ]
      },
      {
       "output_type": "stream",
       "stream": "stdout",
       "text": [
        " 0.0449147434067\n",
        "dance"
       ]
      },
      {
       "output_type": "stream",
       "stream": "stdout",
       "text": [
        " 0.0449147434067\n",
        "sade"
       ]
      },
      {
       "output_type": "stream",
       "stream": "stdout",
       "text": [
        " 0.0443648087209\n",
        "makings"
       ]
      },
      {
       "output_type": "stream",
       "stream": "stdout",
       "text": [
        " 0.0443648087209\n",
        "hun"
       ]
      },
      {
       "output_type": "stream",
       "stream": "stdout",
       "text": [
        " 0.0443648087209\n",
        "viewings"
       ]
      },
      {
       "output_type": "stream",
       "stream": "stdout",
       "text": [
        " 0.0443648087209\n",
        "liquors"
       ]
      },
      {
       "output_type": "stream",
       "stream": "stdout",
       "text": [
        " 0.0443648087209\n",
        "thong"
       ]
      },
      {
       "output_type": "stream",
       "stream": "stdout",
       "text": [
        " 0.0443648087209\n",
        "heritage"
       ]
      },
      {
       "output_type": "stream",
       "stream": "stdout",
       "text": [
        " 0.0443648087209\n",
        "voices"
       ]
      },
      {
       "output_type": "stream",
       "stream": "stdout",
       "text": [
        " 0.0443648087209\n",
        "lap"
       ]
      },
      {
       "output_type": "stream",
       "stream": "stdout",
       "text": [
        " 0.0443648087209\n",
        "trusty"
       ]
      },
      {
       "output_type": "stream",
       "stream": "stdout",
       "text": [
        " 0.0443648087209\n",
        "taylors"
       ]
      },
      {
       "output_type": "stream",
       "stream": "stdout",
       "text": [
        " 0.0443648087209\n",
        "butt"
       ]
      },
      {
       "output_type": "stream",
       "stream": "stdout",
       "text": [
        " 0.044002934465\n",
        "hypocrisy"
       ]
      },
      {
       "output_type": "stream",
       "stream": "stdout",
       "text": [
        " 0.044002934465\n",
        "author"
       ]
      },
      {
       "output_type": "stream",
       "stream": "stdout",
       "text": [
        " 0.044002934465\n",
        "blaze"
       ]
      },
      {
       "output_type": "stream",
       "stream": "stdout",
       "text": [
        " 0.0395171224501\n",
        "whites"
       ]
      },
      {
       "output_type": "stream",
       "stream": "stdout",
       "text": [
        " 0.0395171224501\n",
        "shells"
       ]
      },
      {
       "output_type": "stream",
       "stream": "stdout",
       "text": [
        " 0.0395171224501\n",
        "fellas "
       ]
      },
      {
       "output_type": "stream",
       "stream": "stdout",
       "text": [
        "0.0395171224501\n",
        "facts"
       ]
      },
      {
       "output_type": "stream",
       "stream": "stdout",
       "text": [
        " 0.0395171224501\n",
        "novel"
       ]
      },
      {
       "output_type": "stream",
       "stream": "stdout",
       "text": [
        " 0.0395171224501\n",
        "ring"
       ]
      },
      {
       "output_type": "stream",
       "stream": "stdout",
       "text": [
        " 0.0393881603198\n",
        "jones"
       ]
      },
      {
       "output_type": "stream",
       "stream": "stdout",
       "text": [
        " 0.0393881603198\n",
        "college 0.0393881603198\n",
        "singer"
       ]
      },
      {
       "output_type": "stream",
       "stream": "stdout",
       "text": [
        " 0.0393881603198\n",
        "none 0.0393881603198\n",
        "mothers"
       ]
      },
      {
       "output_type": "stream",
       "stream": "stdout",
       "text": [
        " 0.0393881603198\n",
        "thugs 0.0393881603198\n",
        "rings"
       ]
      },
      {
       "output_type": "stream",
       "stream": "stdout",
       "text": [
        " 0.0393881603198\n",
        "\n",
        "hip hop is dead\n",
        "\n",
        "west"
       ]
      },
      {
       "output_type": "stream",
       "stream": "stdout",
       "text": [
        " 0.0842988196321\n",
        "flash"
       ]
      },
      {
       "output_type": "stream",
       "stream": "stdout",
       "text": [
        " 0.0676598602372\n",
        "age 0.0674390557056\n",
        "diamonds"
       ]
      },
      {
       "output_type": "stream",
       "stream": "stdout",
       "text": [
        " 0.0647978380625\n",
        "genre"
       ]
      },
      {
       "output_type": "stream",
       "stream": "stdout",
       "text": [
        " 0.0611661294895\n",
        "diss"
       ]
      },
      {
       "output_type": "stream",
       "stream": "stdout",
       "text": [
        " 0.0590091737424\n",
        "jam"
       ]
      },
      {
       "output_type": "stream",
       "stream": "stdout",
       "text": [
        " 0.0590091737424\n",
        "pioneers"
       ]
      },
      {
       "output_type": "stream",
       "stream": "stdout",
       "text": [
        " 0.0564936191301\n",
        "grandmaster"
       ]
      },
      {
       "output_type": "stream",
       "stream": "stdout",
       "text": [
        " 0.0564936191301\n",
        "james"
       ]
      },
      {
       "output_type": "stream",
       "stream": "stdout",
       "text": [
        " 0.0555410040536\n",
        "coast 0.053831037058\n",
        "state"
       ]
      },
      {
       "output_type": "stream",
       "stream": "stdout",
       "text": [
        " 0.053831037058\n",
        "raps"
       ]
      },
      {
       "output_type": "stream",
       "stream": "stdout",
       "text": [
        " 0.053831037058\n",
        "industry"
       ]
      },
      {
       "output_type": "stream",
       "stream": "stdout",
       "text": [
        " 0.0509717745746\n",
        "cent 0.0509717745746\n",
        "class"
       ]
      },
      {
       "output_type": "stream",
       "stream": "stdout",
       "text": [
        " 0.0505792917792\n",
        "jones 0.0505792917792\n",
        "careers"
       ]
      },
      {
       "output_type": "stream",
       "stream": "stdout",
       "text": [
        " 0.050226875699\n",
        "decades"
       ]
      },
      {
       "output_type": "stream",
       "stream": "stdout",
       "text": [
        " 0.0484296424394\n",
        "turntables 0.0484296424394\n",
        "counter"
       ]
      },
      {
       "output_type": "stream",
       "stream": "stdout",
       "text": [
        " 0.0484296424394\n",
        "nostalgia"
       ]
      },
      {
       "output_type": "stream",
       "stream": "stdout",
       "text": [
        " 0.0484296424394\n",
        "platinum 0.0462841700446\n",
        "vs"
       ]
      },
      {
       "output_type": "stream",
       "stream": "stdout",
       "text": [
        " 0.0462841700446\n",
        "wit 0.0462841700446\n",
        "mainstream"
       ]
      },
      {
       "output_type": "stream",
       "stream": "stdout",
       "text": [
        " 0.0462841700446\n",
        "blast"
       ]
      },
      {
       "output_type": "stream",
       "stream": "stdout",
       "text": [
        " 0.0461408889069\n",
        "sign 0.0461408889069\n",
        "step"
       ]
      },
      {
       "output_type": "stream",
       "stream": "stdout",
       "text": [
        " 0.0461408889069\n",
        "clothes 0.0461408889069\n",
        "culture"
       ]
      },
      {
       "output_type": "stream",
       "stream": "stdout",
       "text": [
        " 0.0461408889069\n",
        "cap"
       ]
      },
      {
       "output_type": "stream",
       "stream": "stdout",
       "text": [
        " 0.0451065734915\n",
        "yea"
       ]
      },
      {
       "output_type": "stream",
       "stream": "stdout",
       "text": [
        " 0.0451065734915\n",
        "cigars 0.0451065734915\n",
        "demise"
       ]
      },
      {
       "output_type": "stream",
       "stream": "stdout",
       "text": [
        " 0.0423702143476\n",
        "conscience 0.0423702143476\n",
        "sampling"
       ]
      },
      {
       "output_type": "stream",
       "stream": "stdout",
       "text": [
        " 0.0423702143476\n",
        "middle"
       ]
      },
      {
       "output_type": "stream",
       "stream": "stdout",
       "text": [
        " 0.042149409816\n",
        "mcs"
       ]
      },
      {
       "output_type": "stream",
       "stream": "stdout",
       "text": [
        " 0.042149409816\n",
        "dog 0.0407774196597\n",
        "questions"
       ]
      },
      {
       "output_type": "stream",
       "stream": "stdout",
       "text": [
        " 0.0407774196597\n",
        "model 0.0407774196597\n",
        "ross"
       ]
      },
      {
       "output_type": "stream",
       "stream": "stdout",
       "text": [
        " 0.0407774196597\n",
        "70s 0.0407774196597\n",
        "government"
       ]
      },
      {
       "output_type": "stream",
       "stream": "stdout",
       "text": [
        " 0.0384507407557\n",
        "chains"
       ]
      },
      {
       "output_type": "stream",
       "stream": "stdout",
       "text": [
        " 0.0384507407557\n",
        "african"
       ]
      },
      {
       "output_type": "stream",
       "stream": "stdout",
       "text": [
        " 0.0384507407557\n",
        "listeners"
       ]
      },
      {
       "output_type": "stream",
       "stream": "stdout",
       "text": [
        " 0.0384507407557\n",
        "dance 0.0384507407557\n",
        "samples"
       ]
      },
      {
       "output_type": "stream",
       "stream": "stdout",
       "text": [
        " 0.0384507407557\n",
        "\n",
        "untitled\n",
        "\n",
        "nigger"
       ]
      },
      {
       "output_type": "stream",
       "stream": "stdout",
       "text": [
        " 0.11628831834\n",
        "african"
       ]
      },
      {
       "output_type": "stream",
       "stream": "stdout",
       "text": [
        " 0.0870630923506\n",
        "niggers"
       ]
      },
      {
       "output_type": "stream",
       "stream": "stdout",
       "text": [
        " 0.0830743035495\n",
        "whites 0.0812427438866"
       ]
      },
      {
       "output_type": "stream",
       "stream": "stdout",
       "text": [
        "\n",
        "movement 0.0812427438866\n",
        "kkk"
       ]
      },
      {
       "output_type": "stream",
       "stream": "stdout",
       "text": [
        " 0.0781791769314\n",
        "racism 0.0780855547191\n",
        "thomas"
       ]
      },
      {
       "output_type": "stream",
       "stream": "stdout",
       "text": [
        " 0.0726801989623\n",
        "government 0.0633186126186\n",
        "food"
       ]
      },
      {
       "output_type": "stream",
       "stream": "stdout",
       "text": [
        " 0.060733209226\n",
        "rights 0.060733209226\n",
        "ethnicities"
       ]
      },
      {
       "output_type": "stream",
       "stream": "stdout",
       "text": [
        " 0.0586343826986\n",
        "suburbia 0.0586343826986\n",
        "condition"
       ]
      },
      {
       "output_type": "stream",
       "stream": "stdout",
       "text": [
        " 0.0581441591699\n",
        "usa 0.0581441591699\n",
        "jackson"
       ]
      },
      {
       "output_type": "stream",
       "stream": "stdout",
       "text": [
        " 0.0580305313476\n",
        "masters 0.0580305313476\n",
        "slave"
       ]
      },
      {
       "output_type": "stream",
       "stream": "stdout",
       "text": [
        " 0.0554037860413\n",
        "chorus 0.0554037860413\n",
        "culture"
       ]
      },
      {
       "output_type": "stream",
       "stream": "stdout",
       "text": [
        " 0.0554037860413\n",
        "jfk"
       ]
      },
      {
       "output_type": "stream",
       "stream": "stdout",
       "text": [
        " 0.0524609862082\n",
        "americas"
       ]
      },
      {
       "output_type": "stream",
       "stream": "stdout",
       "text": [
        " 0.0524609862082\n",
        "ages 0.0516943240708\n"
       ]
      },
      {
       "output_type": "stream",
       "stream": "stdout",
       "text": [
        "september 0.0516943240708\n",
        "folk 0.0516943240708\n",
        "controversy"
       ]
      },
      {
       "output_type": "stream",
       "stream": "stdout",
       "text": [
        " 0.0516943240708\n",
        "neighborhoods"
       ]
      },
      {
       "output_type": "stream",
       "stream": "stdout",
       "text": [
        " 0.0516943240708\n",
        "challenges"
       ]
      },
      {
       "output_type": "stream",
       "stream": "stdout",
       "text": [
        " 0.0498445821297\n",
        "materialism"
       ]
      },
      {
       "output_type": "stream",
       "stream": "stdout",
       "text": [
        " 0.0498445821297\n",
        "slavery"
       ]
      },
      {
       "output_type": "stream",
       "stream": "stdout",
       "text": [
        " 0.0476364267604\n",
        "truth"
       ]
      },
      {
       "output_type": "stream",
       "stream": "stdout",
       "text": [
        " 0.047488959464\n",
        "slaves"
       ]
      },
      {
       "output_type": "stream",
       "stream": "stdout",
       "text": [
        " 0.047488959464\n",
        "poverty"
       ]
      },
      {
       "output_type": "stream",
       "stream": "stdout",
       "text": [
        " 0.047488959464\n",
        "message 0.047488959464\n",
        "law"
       ]
      },
      {
       "output_type": "stream",
       "stream": "stdout",
       "text": [
        " 0.047488959464\n",
        "david"
       ]
      },
      {
       "output_type": "stream",
       "stream": "stdout",
       "text": [
        " 0.0464244250781\n",
        "conspiracy"
       ]
      },
      {
       "output_type": "stream",
       "stream": "stdout",
       "text": [
        " 0.0464244250781\n",
        "tom 0.0436081193774\n",
        "china"
       ]
      },
      {
       "output_type": "stream",
       "stream": "stdout",
       "text": [
        " 0.0436081193774\n",
        "flag 0.0436081193774\n",
        "pimp"
       ]
      },
      {
       "output_type": "stream",
       "stream": "stdout",
       "text": [
        " 0.0433808637329\n",
        "door 0.0433808637329\n",
        "existence"
       ]
      },
      {
       "output_type": "stream",
       "stream": "stdout",
       "text": [
        " 0.0419687889666\n",
        "result 0.0419687889666\n",
        "problems"
       ]
      },
      {
       "output_type": "stream",
       "stream": "stdout",
       "text": [
        " 0.0395741328866\n",
        "country 0.0395741328866\n",
        "listeners"
       ]
      },
      {
       "output_type": "stream",
       "stream": "stdout",
       "text": [
        " 0.0395741328866\n",
        "problem 0.0395741328866\n",
        "nation"
       ]
      },
      {
       "output_type": "stream",
       "stream": "stdout",
       "text": [
        " 0.0395741328866\n",
        "rates 0.0390895884657\n",
        "\n",
        "life is good\n",
        "\n",
        "salaam"
       ]
      },
      {
       "output_type": "stream",
       "stream": "stdout",
       "text": [
        " 0.0796611633354\n",
        "divorce"
       ]
      },
      {
       "output_type": "stream",
       "stream": "stdout",
       "text": [
        " 0.0613201950731\n",
        "elements"
       ]
      },
      {
       "output_type": "stream",
       "stream": "stdout",
       "text": [
        " 0.0613201950731\n",
        "age"
       ]
      },
      {
       "output_type": "stream",
       "stream": "stdout",
       "text": [
        " 0.0611200797181\n",
        "80s"
       ]
      },
      {
       "output_type": "stream",
       "stream": "stdout",
       "text": [
        " 0.0587263416799\n",
        "samples"
       ]
      },
      {
       "output_type": "stream",
       "stream": "stdout",
       "text": [
        " 0.0557567081122\n",
        "production 0.0557567081122\n",
        "drums"
       ]
      },
      {
       "output_type": "stream",
       "stream": "stdout",
       "text": [
        " 0.0554349207789\n",
        "room 0.0534800697534\n",
        "luxury"
       ]
      },
      {
       "output_type": "stream",
       "stream": "stdout",
       "text": [
        " 0.0534800697534\n",
        "verdict"
       ]
      },
      {
       "output_type": "stream",
       "stream": "stdout",
       "text": [
        " 0.051631898209\n",
        "organ"
       ]
      },
      {
       "output_type": "stream",
       "stream": "stdout",
       "text": [
        " 0.051631898209\n",
        "marl"
       ]
      },
      {
       "output_type": "stream",
       "stream": "stdout",
       "text": [
        " 0.0511001625609\n",
        "vacation 0.0511001625609\n",
        "legend"
       ]
      },
      {
       "output_type": "stream",
       "stream": "stdout",
       "text": [
        " 0.0503368642971\n",
        "share 0.0503368642971\n",
        "film"
       ]
      },
      {
       "output_type": "stream",
       "stream": "stdout",
       "text": [
        " 0.0503368642971\n",
        "state"
       ]
      },
      {
       "output_type": "stream",
       "stream": "stdout",
       "text": [
        " 0.0487871195981\n",
        "fun 0.0487871195981\n",
        "company"
       ]
      },
      {
       "output_type": "stream",
       "stream": "stdout",
       "text": [
        " 0.0487871195981\n",
        "raps 0.0487871195981\n",
        "vocals"
       ]
      },
      {
       "output_type": "stream",
       "stream": "stdout",
       "text": [
        " 0.0461957673158\n",
        "piano"
       ]
      },
      {
       "output_type": "stream",
       "stream": "stdout",
       "text": [
        " 0.0461957673158\n",
        "marley 0.0461957673158\n",
        "president"
       ]
      },
      {
       "output_type": "stream",
       "stream": "stdout",
       "text": [
        " 0.0458400597886\n",
        "stage"
       ]
      },
      {
       "output_type": "stream",
       "stream": "stdout",
       "text": [
        " 0.0458400597886\n",
        "vibe 0.0458400597886\n",
        "fila"
       ]
      },
      {
       "output_type": "stream",
       "stream": "stdout",
       "text": [
        " 0.0455206647631\n",
        "suits"
       ]
      },
      {
       "output_type": "stream",
       "stream": "stdout",
       "text": [
        " 0.0455206647631\n",
        "agent 0.0455206647631\n",
        "anxiety"
       ]
      },
      {
       "output_type": "stream",
       "stream": "stdout",
       "text": [
        " 0.0455206647631\n",
        "tragedy 0.0455206647631\n",
        "hall"
       ]
      },
      {
       "output_type": "stream",
       "stream": "stdout",
       "text": [
        " 0.0438918305668\n",
        "twitter 0.0438918305668\n",
        "banger"
       ]
      },
      {
       "output_type": "stream",
       "stream": "stdout",
       "text": [
        " 0.0438918305668\n",
        "anthony"
       ]
      },
      {
       "output_type": "stream",
       "stream": "stdout",
       "text": [
        " 0.0438918305668\n",
        "graffiti"
       ]
      },
      {
       "output_type": "stream",
       "stream": "stdout",
       "text": [
        " 0.0438918305668\n",
        "honor 0.0419473869142\n",
        "roots"
       ]
      },
      {
       "output_type": "stream",
       "stream": "stdout",
       "text": [
        " 0.0419473869142\n",
        "bottle 0.0419473869142\n",
        "concept"
       ]
      },
      {
       "output_type": "stream",
       "stream": "stdout",
       "text": [
        " 0.0419473869142\n",
        "bottles 0.0419473869142\n",
        "trust"
       ]
      },
      {
       "output_type": "stream",
       "stream": "stdout",
       "text": [
        " 0.0418175310841\n",
        "references"
       ]
      },
      {
       "output_type": "stream",
       "stream": "stdout",
       "text": [
        " 0.0418175310841\n",
        "brand"
       ]
      },
      {
       "output_type": "stream",
       "stream": "stdout",
       "text": [
        " 0.0418175310841\n",
        "producer"
       ]
      },
      {
       "output_type": "stream",
       "stream": "stdout",
       "text": [
        " 0.0418175310841\n",
        "culture 0.0418175310841\n",
        "cole"
       ]
      },
      {
       "output_type": "stream",
       "stream": "stdout",
       "text": [
        " 0.0408801300487\n",
        "swag"
       ]
      },
      {
       "output_type": "stream",
       "stream": "stdout",
       "text": [
        " 0.0408801300487\n",
        "beach"
       ]
      },
      {
       "output_type": "stream",
       "stream": "stdout",
       "text": [
        " 0.0408801300487\n"
       ]
      }
     ],
     "prompt_number": 281
    },
    {
     "cell_type": "code",
     "collapsed": false,
     "input": [
      "print words[9]"
     ],
     "language": "python",
     "metadata": {},
     "outputs": [
      {
       "output_type": "stream",
       "stream": "stdout",
       "text": [
        "[u'[Produced by No I.D.]\\n[Intro]\\n42nd street terminal\\n[Verse 1]\\nYo, yo, I live it and I speak it\\nMy religion is reefer\\nBig money and the most\\nUninhibited freak to sleep with\\nMy visions are realistic\\nNothing is figurative\\nI can wish it into existence\\nGod want this nigga to live\\nBlunt big as a dread\\nI get high and forget who bled\\nWho we stomp-kicked in the head and who we left for dead\\nWho are you niggas\\nWhy argue niggas\\nThe truth is the truth\\nI really put my scars on niggas\\nThey wear them lifetime, they tell they hoes, Nas did this\\nPointing to they scars like\\nRight here, baby, really Nas did this\\nLike a badge of honor, not bragging I\\'m just honest\\nWar stories we tell them\\n, \\nnothing\\'s realer than karma\\nSip prohibition liquor, prohibition whiskey\\nRap Jack Dempsey,\\n \\nmatte black Bentley, pimply\\nShatterin\\' your silence, \\npassing round the chalice\\nDue to my Indian ancestry at the weed dispensery\\nOfficial kings and gents is who I mix and mingle with\\nFuck your ice\\nI rock rubies, amethyst\\nI\\'ll fuck your wife cause she a groupie, scandalous\\nThis for my bad hood bitches, ghetto glamorous\\n[Break: Large Professor]\\nYo, what we talking bout niggas\\nWhat we talking bout niggas\\nThis is Nas, what, Nas\\nWhat, Nasty, what recollect fucker\\n[Verse 2: Nas]\\nAt seventeen I made seventeen thousand living in public housing\\nIntegrity intact, repping hard\\nThey asking how he disappear and reappear back on top\\nSaying Nas must have naked pictures of God or something\\nTo keep winning is my way like Francis\\nAs long as I\\'m breathing, I\\'ll take chances\\nA soldier comin\\' home, twenty years old with no legs\\nSayin\\' there\\'s no sense to cry and complain, just go head\\nSo much to write and say, yo I don\\'t know where to start\\nSo I\\'ll begin with the basics and flow from the heart\\nI know you think my life is good cause my diamond piece\\nBut my life been good since I started finding peace\\nI shouldn\\'t even be smiling, I should be angry and depressed\\nI been rich longer than I been broke, I confess\\nI started out broke, got rich, lost paper then made it back\\nLike Trump being up down up, play with cash\\n[Break: Large Professor]\\nMy nigga\\'s like a locomotive\\nNas, we push it, mush \\'em\\nQueensbridge\\n \\nto Bushwick\\nHarlem\\nBronx\\nAll that\\nYou ain\\'t even supposed to be here\\nYou know where you at\\n[Verse 3]\\nAt night, New York, eat a slice too hot\\nUse my tongue to tear the skin hanging from the roof of my mouth\\nShit was felicissimo melting pot, city sweltering hot\\nStaggering, drunker than those cops that 2Pac shot\\nI was a crook by the train with that iron thing, concealed\\nReaching, soon as I heard them iron wheels screeching\\nWhen it came to a halt whoever walked off got caught\\nToken man safe behind a locked door for sure\\nMinor thief shit, minor league shit, beasting\\nLooking for the juks young, but now we older chiefing\\nIn my truck, play The Greatest Adventures of Slick Rick\\nBugging on how his imagination was so sick\\nIt\\'s ghetto beef, sinister niggas snicker through yellow teeth\\nAlcohol aging my niggas faster than felonies\\nHow dare I\\nMust be, something in the air that corrupts me\\nLook at my upkeep, owned and sublease\\nI\\'m here y\\'all\\n[\\nOutro\\n]\\nThis for my trapped in the 90s niggas\\nFor my trapped in the 90s niggas\\nHa for y\\'all niggas  A choir comes in and sets the stage of the song as  Nas  rides across New York on the 42nd Street Terminal and Park Avenue.  \\u201cLoco-Motive\\u201d has an underground vibe and keyboards similar to Nas\\' 1994 song  \\u201cN.Y. State of Mind\\u201d . Featuring all the bells and whistles of the railroad, no hook just interludes with  Large Professor  urging the listener to recognize the presence and power of Mr. Jones.  With this song and  Life is Good , Nas wanted to bring back some of the old-school hip-hop with break beats, scratching and no hooks. Therefore, with Large Professor in the interludes with no real hook and boom-bap beats, Nas is applying just these elements.  No I.D. shed light upon this particlar track in an interview with  Complex :   This one record\\u2014we don\\u2019t know what we are going to call it, we just call it \\u201cThe Train.\\u201d You know, I don\\u2019t even know if he knows how good he is when he puts his input in, but I was showing him what I do when I make music and it just so happened that we were having a conversation about Illmatic, and he was talking about the ideas he would have and he would just sit with the producers sometimes and share his ideas and I would start messing around with the beat\\u2014not necessarily that it would be something that I was going to put on the record, but I would just do what he is saying while he was talking. And so at one point he was like, \\u201cMan, it would be crazy if, like, a train came through and then the next thing you know a train appeared.\\u201d So songs would develop like that.  We would be watching movies, talking. That again, is where my strength as producer is. I honestly don\\u2019t really deal by sending people beats. I really deal as being someone who can pull something out of an artist that\\u2019s there. And you can\\u2019t pull something out of someone that you don\\u2019t know. So sometimes he\\u2019d be sitting there and we\\u2019re talking, I would just put the headphones on and start playing with the beat so by the next session I\\u2019d be like \\u201cI got that.\\u201d \\n  A choir comes in and sets the stage of the song as Nas rides across New York on the 42nd Street Terminal and Park Avenue. Along the way he reflects upon his success and his past as well as the general influence that New York has had upon his career.    Hint:  The first thing you hear in Illmatic is a train coming through on \\u201cGenisis\\u201d \\u2014 trapped in the 90s the last line of the song and the whole mood of the reord.\\n\\nNas spends more time smoking marijuana than being religious, so he basically worships it because he smokes day and night \\u2014  Jah Rastafari !     (Nas, left; Damian Marley, Right)  Word to the  Marleys , several prominent Rastas. Some  Distant Relatives  of the  God\\u2019s Son .\\nEverybody knows that Nas is very successful in the rap game. Selling millions of albums has lead him to become very wealthy as well.  Also any girl that spends the night with Nas better beware, he has no restraints. Nas is saying that at this point, he\\u2019s seen it all, done it all, sexually\\u2014 he only wants the ABSOLUTE FREAKIEST girls to come home with him these days.\\nclever word-play:  \\u201crealistic\\u201d typically connotes pragmatic or \\u201ccompromised\\u201d  this is  opposite  of what Nas\\u2019s visions are, however\\u2014 he reaches for the sky.  still, they are \\u201crealistic\\u201d because they \\u201chave the substance of reality in them,\\u201d basically. he visualizes it, and it becomes real \\nWhen you may think he is over exaggerating his success or his bank or supremacy, take it literally! Because it\\xb4s not just a figure of speech.  He came from nothing to on top of the world, so whatever he wants he\\xb4ll make it happen. Perhaps he believes in the  Law of Attraction .    For instance:  Bring back Arsenio  In 2013 The Arsenio Hall Show was revived that was  inspired by the line  and Arsenios entrance music borrowed that lined.\\n  He is  God\\u2019s Son  after all.  It also suggests that Nas has been living a blessed life, being able to overcome much adversity despite the circumstances because of his faith in God who makes sure Nas lives well.\\nNas has got a blunt the size of a  Rasta\\u2019s dreadlock  burning, which he is smoking in order to forget some dark moments in his past  \\nFollowing the preceding line, Nas gets high and tries to forget what happened in his past \\u2014 including the crimes he committed against his friends and foes.\\nThis line refers specifically to Twitter haters:  What\\u2019s your relationship with the blogs and Twitter?  I don\\u2019t understand how artists get pissed off at people on Twitter. I appreciate a good joke. I mean, who are you? Not to say that people should have the toughest skin, and nothing should bother you\\u2026 Maybe it\\u2019s just my age. I know who I am. I know what I\\u2019ve survived, and I know what I\\u2019ve done. That shit wasn\\u2019t easy. So for someone who doesn\\u2019t know anything about that to comment on it, you can\\u2019t be mad at them. They don\\u2019t know any better.  Read the rest of the interview  here\\nNas is so damn famous that his victims wear the scars that he gave them as a badge of honour, showing them off to their hoes to prove they are real gangstas and they fuck wit the greatest\\u2026 Nasty Nas.  \\nNas and his people sit around and tell there stories of their life in the hood just like soldiers told about their harsh times at war. Nas also implies that living in his old neighborhood was like being in war with all the shootings and murders. This could be a reference to Tradin War Stories, A 2pac song on All Eyez On Me.  http://www.youtube.com/watch?v=D9tw8a3ZolE\\n\\nKarma, in simple terms, can be defined as \\u201cwhat goes around comes around.\\u201d That shit is real.\\nDuring  prohibition , whiskey was commonly smuggled around the country, similar to the drug trade today.  \\nJack Dempsey  was an American professional boxer and cultural icon of the 1920s and held the World Heavyweight Championship from 1919 to 1926    Nas compares his status in rap as one of the all time greats to that of Dempsey, one of the greatest boxers of all time, known for being aggressive and a showman in the ring\\n\\nNas rides around in his incredibly fancy black Bentley, looking like a pimp.  \\n\\nNas may be referring to using a chalice as a glass for alcohol, but is probably talking about the chalice pipe, a piece used for marijuana use.  \\nNas passes round his weed like the traditional practice of native americans (also called \\u201cred indians\\u201d) who would pass around a  \\u201cPeace Pipe\\u201d  (a pipe used to smoke hallucinogenic herbs or tobacco) at their meetings and rituals. This is because, according the legend himself, his ancestors are native americans.  \\nLike, for example,  Nat King Cole\\nWhile ya\\u2019ll rock small/common amounts of ice, Nas is rocking all types of jewelry like rubies and amethysts.  An amethyst is a violet variety of quartz often used in jewelry:    A ruby is a pink to blood-red colored gemstone:  \\nYou may think your wife is loyal, but really she\\u2019s just one of Nas\\u2019s groupies and she\\u2019s probably getting fucked as we speak.\\n\\nLarge Pro\\u2019s appearance on this song is notable, as he and Nas have known each other since the late 1980\\u2019s.  Hear a compilation of their world-beating collaborations, including several tracks from Nas\\' 1991 demo tape,  here  \\n\\n\\n\\n\\n\\nWhen Nas originally got his record deal at 17, he famously  got a $17,000 advance from the label . Word Play: 17 yers \\u2014 17 thousand.     Possibly one of the dopest examples of internal rhyming/flow in recent history:  \\u201c[At sev-en-TEEN] (I made sev-en-TEEN  THOU \\u2013 sand\\'), [LIV- in\\'  in] [PUB- lic ] [ HOUS \\u2013 ing*]\\u201d  the first foot is a  paeon  (rare 4-syllable chunk, 1 stress at the end), the end is a  dactyl  (3-syllable, 1 stress at the beginning) and two  trochees  (2-syllable, 1 stress at the beginning)\\u2014  but check the middle!  \\u201csev-en-TEEN THOU-sand\\u201d is an enjambment. this messes with our brains. this flow is the equivalent of juggling time-signatures in jazz/math-metal.  the  timing  of Nas\\' delivery here allows his flow to slide between several irregular rhythms to fall into a regular one, depending on how we mentally break it into feet (by syllables):  1) \\u201c[I made] [sev-en-TEEN] [THOU-sand]\"  -2/3/2, altogether a 4/2/3/2/3/2/2 (unstructured)  2) \\u201c[I-made] [sev-en-TEEN-THOU-sand]\"  \\u2013 2/5, altogether 4/2/5/3/2/2 (unstructured)  3) \\u201c[I-made-sev-en-TEEN-THOU-sand]\"  \\u2013 one foot of 7 (!), altogether 4/7/3/2/2 (unstructured)  4) \\u201c[I-made-sev-en] [TEEN-THOU-sand]\"  \\u2013 4/3, altogether 4/4/3/3/2/2 \\u2014 paired paeons, dactyls, and trochees (STRUCTURED!!!)  this shit is crazy\\nNas is so huge that the only explanation people can come up with is that he blackmailed God with some dirty pictures to give him the success he has got.  \\nNas shouts out here to the song  \\u201cMy Way\\u201d , which was popularized by Frank Sinatra.  That same tune, though in a non-Sinatra version, was sampled by Jay-Z for his 2002 song  \\u201cI Did It My Way\\u201d\\nFortune favors the bold  The secret behnd his success of reappering on top is because he is never afraid of taking chances. For instance albums like  Hip Hop Is Dead  and  Untitled  are something many would call career suicide with all the shots and controversy stirring up.  Nas here realizes that things could be a lot worse, and takes inspiration from people who are overcoming real, life-changing difficulties. The line is also a pun \\u2014 as the soldier has no legs, he just uses what he has left, his head.\\nUnlike nine albums ago, Nas  does  know  how to start his shit  now. Only issue is  where  to start.  I guess a nice authentic, honest  Nas-flow  will do.\\nMoney doesn\\u2019t buy happiness, that is something comes from within. Nas has found inner peace and is happy, not because of his jewlery \\u2014 hence the album title  Life Is Good .  Note the homophone on piece and peace, clever!  http://youtu.be/fj9DXqfk3nM?t=1m30s\\nWith all of the things that have gone wrong for Nasty in the past few years (marriage, taxes, etc.) he should be down but instead he is finding peace, making dope music and getting money.\\nNas\\' first big payday, as mentioned  above , occurred when he was 17.  At the time of this album\\u2019s release, the rapper was 38, so his math here checks out.  He also recognises there\\u2019s no point pretending to be something he\\u2019s not; the album\\u2019s whole concept is about celebrating his life as it is now.\\nIt came out in March 2012 that Nas  owed the IRS about $6.5 million  in back taxes, causing some of his album royalties to be sent directly to Uncle Sam.\\nUsed in conjunction with the previous line, Donald Trump, comparatively, is famous for  losing and gaining his money  in large sums.    The \\u2018play with cash\\u2019 punch line also alludes to Donald Trump\\u2019s various ownership of Atlantic City casinos, as it is a reference to gambling and, more generally, being well-off enough not to worry about how much money you are spending.  \\n\\nA locomotive is a vehicle that provides power for a train.  Also, the title of the song is officially Loco-Motive. So Loco-motive can also be translated in Spanglish to mean \\u201ca crazy motive\\u201d. (Loco in Spanish means crazy).\\n\\nQueensbridge Houses  in Long Island City, Queens, are the largest projects in the US. They also happen to be where Nas grew up and got his start as a rapper in the late 80s and early 90s.    Many other famous rappers and producers come from Queensbridge. Marley Marl and MC Shan put QB on the map with 1986\\u2019s seminal  \\u201cThe Bridge\\u201d . Marley\\u2019s  Juice Crew  introduced other Queensbridge rappers like Tragedy, Craig G and Roxanne Shante.  In the 90s, Nas led the second generation of QB representers into the spotlight, including Mobb Deep, Capone & Noreaga, and Cormega.\\n\\nBushwick is a neighborhood in the northern part of the New York City borough of Brooklyn.  \\nA major African-American cultural center in the New York borough of Manhattan and the location of the major black cultural, political, and social movement of the 1920\\u2019s and 1930\\u2019s called the  Harlem Renaissance  in which black literature and music took major artistic strides and revolutionized American and African-American society and culture.    (Also home to some great rappers like Big L and Mase\\u2026)\\n\\n\\nwe all stare  At the out-of-towners, they better break North  Before we get the four pounders  Outsiders are rarely welcome in NY\\u2019s inner-city hoods. Queensbridge is no different.\\n\\nNew York is famous for its pizza that is hot and cheesy.    Also, this could be a reference to his song,  Represent  from Illmatic:  This nigga raps with a razor, keep it under my tongue.  Were Nas to have a razor under his tongue, it could be used to \\u201ctear the skin hanging from the top of his mouth\\u201d. As in to say he raps in a sharp/intelligent manner.  When you eat hot pizza too hot, it\\u2019ll burn the roof of your mouth. Sometimes so bad, that skin will start peeling.  This is what Nas is talking about. Very descriptive.\\nFelissimo means good/happy, meaning the above lyrics made him happy as he reminisces. \\u201cMelted Pot\\u201d is referring to the large variety of races in New York. In summer time, New York is notorious for being hot  \\nIn 1993, Tupac  shot two off-duty police officers .  Per a  1997  New Yorker  article , \\u201cThe charges were dropped when it emerged that the policemen had been drinking and had initiated the incident, and when the prosecution\\u2019s own witness testified that the gun one of the officers threatened Tupac with had been seized in a drug bust and then stolen from an evidence locker.\\u201d  \\nNas used to wait by the train station with a weapon, he knew that when the wheels of the train screeched it was stopping and someone was coming off, meaning he\\u2019d find a victim to rob. Nas would then reach for his weapon to intimidate his victim with.\\n\\nThe token booth clerk (Back when the MTA used tokens) was safely locked in the booth while Nas mugged his victim\\u2019s at gunpoint.\\n\\n\\u201cJuks\\u201d is slang for any altercation. Often a stick up. Sometimes a larger scale fight with groups participating on each side. When Nas and his friends were young they were looking for a fight. Now that they have grown up they are just sitting around, relaxing and smoking weed.\\nSlick Rick  is a pioneering Golden Era rapper whose early storytelling rhymes influenced countless others, including Nas, Biggie, and Snoop (who  covered one of his songs ).  The Great Adventures of Slick Rick  was his debut album.    Rick influenced Hip Hop in other ways too, rocking  gold teeth , truck jewelry, suits and designer accessories back when everyone else was still in Fila tracksuits.\\nSlick Rick was a storyteller and he used to paint vivid imaginative pictures with his rhymes. This inspired Nas to become the emcee he is today.\\nPerhaps like this?    Nas\\' imagery throughout \\u201cLife is Good\\u201d is so incredible and vivid.\\nNot Nas though, he hasn\\u2019t seemed to age since he dropped  Illmatic . \\u201c20 years in this game looking 17\\u201d\\nHow dare I?  \\u2014 The question refers to two things:  His work. Growing up in a neighborhood where everyone\\u2019s top priority was to escape and make it big, what made him resist a commercial sound and create a unique style? Nas points to the air; the air in his home. Nas\\' father, Olu Dara, was a jazz musician, so from an early age he was exposed to art and creativity.  His culture. Society has always criticized hip hop for almost its every aspect.  Why does nas wear those clothes? why does he curse and talk about such scary stuff? Again, he points to his roots.  The image rappers portray is developed from the environment they grew up in. So when Nas raps to suburban kids about guns and drugs, its not because he hates America, its because he grew up watching those things influence and shape his world.  http://www.youtube.com/watch?v=Zgk-VUaJa78\\nLook at everything Nas has accomplished, he\\u2019s made it and he is here to stay.  Not only does Nas own (and not rent) his house, he also has multiple properties that he could or does sublease.\\n\\n\\n\\nMost hip-hop heads today always seem to bring up the fact that their favorite rappers they grew up listening to just can\\u2019t match the caliber of quality music they once made back in the day.  They don\\u2019t realize we are in a new era of rap and artists eventually progress and move on over time, and with  Life Is Good  Nas displayed a variety of styles that showed that he has moved on, but he dedicates this one, just this one song to those nostalgic fans longing for that classic 1990s rap.  This definitely did cater to those fans, and is a probably won them over as well, as the classic boom bap sound of this fiery record is a vivid flashback to his 90s style, and gives the same feel we used to get while  bumping  Illmatic .  Also note the double entendre in the phrase \\u201ctrapped in the 90\\u2019s\\u201d, where trapped means  hustled', u\"[Produced by Salaam Remi]\\n[Verse 1]\\nRest in peace to Black Just\\nRiding through Jamaica Queens in his black truck\\nTimbs was forty below, waves to the side of his dome\\nDefinition of good nigga, yo\\nGangsters don\\u2019t die, niggas only become immortal\\nAngels don\\u2019t only fly, they walk right before you\\nIn front of you, it\\u2019s foul what this money could do\\nCash corrupts the loyal\\nI hung with E-Money too\\nThe fucking truth\\nFucking with Stretch from Live Squad\\nI could\\u2019ve died the same night that Stretch died\\nI just got out of his ride\\nHe dropped me off and drove to Springfield\\nNovember thirtieth, another Queens king killed\\nIt fucked me up, y\\u2019all\\nI was just trying to make it with Steve Stoute\\nThe legal way, drug-free route\\nBack in the days, they was sleeping on us\\nBrooklyn keep on taking it\\nManhattan keep on making it\\nTrying to leave Queens out\\nBut we was pulling them Beems out, them M3\\u2019s out\\nPumping bringing them D's out\\nRastas selling chocolate weed inside of a weed house\\nColosseum downstairs, gold teeth mouth\\nAstoria warriors,\\n eight street, twin buildings\\nVernon\\n, can\\u2019t even count the Livingston children\\nJustice in \\nRavenswood,\\n nice neighborhood\\nCaught sleeping out there, be a wrap though\\nBridge niggas be up in Petey\\u2019s ten racks, yo\\nA simple bet on a serious cash flow\\nGet money, Manolo\\nWelcome home, Castro\\nQueensbridge unified all I ask for\\nLet\\u2019s do it for DU\\nSay what up to Snacks, yo\\nI just salute real niggas when I pass through\\n[Verse 2]\\nNiggas is very hungry for that bank robbery\\nBury money, trying to get to a Benz from a Hyundai\\nThe Queens Courthouse right next to the cemetery\\nNiggas\\u2019 rap sheets look like obituaries\\nYou be starving in Kew Gardens\\nBolognas and milk from a small carton\\nYou could still feel chills from the team\\nOn 118, my nigga Ben fly by like it\\u2019s a dream\\nHis face on his Shirt Kings\\nLaced in a pinky ring, in his black Benz murking\\nBack when Black Rock and Ron was on the map\\nCheeba in yellow sacks\\n, \\ndope sold in laundromats\\nThugs bark, getting amped from weed\\nOver the heart of champions, see\\nEver since back then, a nigga been about the dough\\nYou all know how the story go\\n[Verse 3]\\nAny other real niggas in the world besides us, I ask\\nProbably is, but odds are we\\u2019ll never cross paths\\nPut your glass high if you made it out the stash spot\\nAnd here to tell a story and celebrate the glory\\nDrinks in the air for my niggas not here\\nThis how we do, \\nI see you DU\\nQueens to the heavens,\\n \\nsalute the hood legends\\nCrack the Patr\\xf3n, Hennessy and Glenlivets\\nChampagne bottles drowning out the sorrows\\nHope the memories\\u2019ll get us through tomorrow\\nI\\u2019m a real OG cause back in nine-three\\nNiggas couldn\\u2019t fuck with me\\nSipping 'gnac since I was little\\nLaid back in a rental\\nMouth shining, Eddie\\u2019s gold caps all up in the dental\\nNigga getting money now but you know I\\u2019m still mental but not simple\\nPut your glass high if you made it out the stash spot\\nAnd here to tell your story and celebrate the glory\\nDrinks in the air for my niggas not here\\nThis for the fallen soldiers\\nHold it down, I told you\\nPop another bottle and keep the smoke rolling\\n[Verse 4]\\nWatch the calm realist channel his mom\\u2019s spirit\\nGoosebumps cover me, mother\\u2019s here, I could feel her\\nBlood of Christ covers me\\n, \\nour savior and healer\\nDrug prices up or down, I know a few dealers\\nAnd some accident murderers\\nThey act like they killed on purpose\\nLiars brag they put work in\\nYou ain\\u2019t mean to murk him\\nYour gun\\u2019s a virgin\\nBetter stay on point, if not it\\u2019s curtains\\nBebo Posse reincarnated through me probably\\nIf music money didn\\u2019t stop me\\nI never claimed to be the toughest\\nThough I\\u2019m to blame for a few faces reconstructed\\nIt\\u2019s the game that we was stuck with\\nNow I\\u2019m the only black in the club with rich Yuppie kids\\nSad thing, this is the top, but where the hustlers went\\nNo familiar faces around, ain\\u2019t gotta grab the musket\\nIt\\u2019s all safe and sound, champagne by the bucket\\nWhere them niggas I shouted out on my first shit\\nBo cooking blow\\n, \\nfuck is Slate at? Where Turkey went?\\nOld videos show niggas that was murdered since\\nAnother reason to get further bent\\nPut your glass high if you made it out the stash spot\\nAnd here to tell your story and celebrate the glory\\nDrinks in the air for my niggas not here\\nThis for the fallen soldiers\\nHold it down, I told you\\nPop another bottle and keep the smoke rollingThe production is a roller coaster switching from mood to mood \\u2014 feeling nostalic from samples of old-school hip-hop paired with shout outs to friends who has passed away. To a climax with classical music, but ends up bringing you down by the end over only a hauntingly piano.  Salaam Remi  samples three songs on this record.  Interestingly enough one is his own song \\u201cQueens Story\\u201d on the soundtrack entitled \\u201cPraguenosis\\u201d from 2009.  The first part of the whole beat is basically recycled.    The second sample is a line from the song  Peter Piper  by  Run-D.M.C.  from their album  Raising Hell :  And you all know how the story go(go)   Nas gets classically Romantic in this bitch by switching the beat and rapping over  Fr\\xe9d\\xe9ric Chopin\\u2019s famous \\u201cRevolutionary\\u201d Etude (Op. 10, No. 12) for the fourth verse  Ending with the song over a hauntingly piano loop and spitting some lines that leads to into the next track becomes the hook for it \\u2014  \\u201cAccident Murderers\\u201d .  In an interview with Salaam by   Okay Player  it was revealed that the beat was originally made around the Hip Hop is Dead album:  The track for \\u201cA Queens Story,\\u201d he wrote rhymes for Hip-Hop is Dead to that track. He told the engineer to pull up the Salaam track and the engineer pulled up the other track. So there are always moving pieces. He never used it, so I put it on my instrumental album, Pragnosis. I went to Prague working on film composing, and then he had heard that and said let me write something else to that. Cause we\\u2019ve been working together for the last ten years, there\\u2019s loads of ideas. At any given point I can spit out ten songs to Nas real quick. We have a chemistry, I would say. Most of the artists I have a working relationship with, we have a chemistry so we have a lot of material.\\n\\nSee  this note  for info on Colbert \\u201cBlack Just\\u201d Johnson  40 belows are super high top Timberland boots (think Naughty By Nature). East coast swag, early nineties.  \\nLegends never die.    As a rapper, Nas will  live forever  through his music.\\n\\nMoney is power  One example of what such money could do:  http://www.youtube.com/watch?v=qtHuoF5qoC8&t=0m17s  And another:  \\nFrom  Heisman winners  to  lobbyists\\nE-Money Bags  was a rapper Nas worked with that was shot to death in Queens on July 16th 2001  He was also mentioned by 50 Cent on the notorious song \\u201c Ghetto Qu'ran \\u201d  He was also  rumored  to have been the one who killed the aforementioned Black Just\\nhttps://soundcloud.com/rapgenius/nas-talks-about-stretch   Stretch he was a great friend of mine. We were working on the \\u201cIt was Written\\u201d album together. He dropped me off at home after we was done and as soon as I got into bed, I got the call that his car was riddled with an AK-47 and that\\u2019s a gun that ain\\u2019t even used in New York then. It destroyed me. He was one of the coolest dudes I\\u2019ve ever met in my life. I\\u2019ve never talked about it until now. It was hard to talk about. I\\u2019ll talk about it more in my upcoming book. But I really want to respect his memory and at the same time talk about our relationship.  Stretch if you don\\u2019t know, rapped with Tupac and produced so much of Pac\\u2019s record, \\u201cPain\\u201d I think. Pac thought that Stretch had something to do with him being set up and Stretch was really hurt by that because they was like brothers. Had Pac lived longer, I think they would have reconciled.\\nNas is saying that when one of his close freinds Stretch died it caused him to realize how close he was with death living in the tough streets of New York. in the previous lines Nas comments on how possible it could have been that he died the night that Stretch died. He had just talked with him hours before Stretch died. He says how this realization that Nas could have easily been the victim Stretch was, messed him up.\\nSteve Stoute is Nas' former manager.  Stoute is now an  ad exec who \\u201cspecializes in the multicultural market\\u201d  \\nBack in the days people overlooked work by Queens emcees\\nA reference to BDP\\u2019s famous Queensbridge diss  \\u201cThe Bridge is Over\\u201d  Manhattan keeps on making it  Brooklyn keeps on taking it  Bronx keeps creating it  And Queens keeps on faking it  Queens may have lost the  Bridge Wars  but Nas has been solidly representing QB since the 90s. Has anyone done the same for the Bronx?  See  \\u201cBack When\\u201d  for another  callback to the Juice Crew era .\\nEven though people were overlooking the Queens rap scene, they were getting money and driving luxury cars like the BMW M3.    Citing the conflict and Boogie Down\\u2019s willingness to leave Queens out of the picture of early rap, Nas reminds listeners that Queens was still winning because of its prolific drug dealers, whose habits helped mold hip-hop culture beyond music.\\n\\n\\nThat would be the  Colosseum Mall in Jamaica, Queens\\nAstoria is a neighbourhood in the North West of Queens.  \\n\\nVernon Boulevard where Nas grew up  \\n\\n\\nhousing projects down the street from the queensbridge projects\\n\\n\\n\\n\\nNas is comparing two famous Cubans. Manolo, from  Scarface , profits from drug distribution. Fidel Castro, however, gained wealth by overthrowing his country\\u2019s previous dictator, and becoming leader himself. The transition between the two is his way of showing that your hustle and grind will pay off, and you soon will become the head of your community.  Christ Castro is also a fellow Queens rapper, as well as Tragedy Khadafi\\u2019s brother. Nas is welcoming him home after his recent release from prison.\\nThe \\u201cDU\\u201d here is Queensbridge street legend Clarence \\u201cDrawz\\u201d Williamson, also known as DU, who was killed in 2011.  Nas also references his killing on this album\\u2019s  \\u201cAccident Murderer\\u201d  DU talks about unifying QB in this  video interview .  http://www.youtube.com/watch?v=-XjwQv9Z2ac\\nReferencing slain rapper Stack Bundles, who is also from Queens.  Nas is asking DU to stay what up to Stacks in heaven. Although Nas may not know Stacks personally, he still wants to salute real niggas from queens.  \\n\\n\\nNas jumps onto a classic hiphop meme, the move from a cheap Hyundai Excel to a hot Mercedes Benz. First penned by Biggie, the line has passed to Kanye West\\u2019s  Gold Digger  and Das Racist. Nas sees men getting large piles of money from crime and theft then hiding the evidence by buying a new car.  Baby Benz, traded in your Hyundai Excel\\nThe  Maple Grove Cemetery  in Queens borders a courthouse. Many notable mobsters have been buried there.    This connection between the cemetery and courthouse seems to imply foreshadowing; Nas could perhaps be saying that those convicted of crimes (perhaps unfairly) are condemned to rot in jail and later be buried in the cemetery bordering the courthouse they were sentenced in. It\\u2019s almost as if they\\u2019re being sentenced to death.\\nIf your rap sheet (criminal record) is as long as an obituary, you have committed a decent amount of crimes. An extensive rap sheet can land you in jail for a long time and effectively mark the end of your life, much like an obituary would. This line also plays off the previous line because a rap sheet is related to the courthouse and an obituary is related to the cemetery.\\nQueens Criminal Court and Central Booking  is in the Kew Gardens neighborhood.  Bologna sandwiches and small carton of milk is jail food  \\n\\n\\nShirt Kings  was a graffiti-inspired fashion company from Jamaica, Queens. Working out of the famous Colosseum Mall, they airbrushed custom designs (your face, posse name, favourite cartoon character etc) onto t-shirts and sweaters.  Queens legends  LL Cool J  and Jam Master Jay were early customers, and rappers from other boroughs came to Queens just to cop the gear. You can see artists like Audio Two and Just Ice rocking it on old record sleeves.      Along with  Harlem\\u2019s Dapper Dan , Shirt Kings was some of the  flyest shit  out in late 80s New York. Check out the  Shirt Kings book  for the full story.  Nas and Prodigy both shout out Shirt Kings on Run DMC\\u2019s  \\u201cQueens Day\\u201d .\\n\\nThe second most popular rap trio to come out of Hollis, Queens,  Black Rock & Ron  never reached anything like the heights of Run DMC. But they put out some decent tracks around 88/89 such as  \\u201cStop The World\\u201d  and  \\u201cGetting Large\\u201d .  \\n  weed was sold in yellow baggies\\n\\nSee  here  for info on the quintessential example of drug-laundering clothes places in Queens.  Laundering in laundromats\\u2026 I see what you did there, Nas.\\n\\nover the heart of many thugs in queens lays a champion clothing big \\u201cC\\u201d  \\nNas shifts his focus from how his childhood in Queens affected him now. Following his experiences with jail, gangs, dead friends, mob cemeteries, drugs, and other difficult aspects of His early days in the hood Nas takes from all this to focus on money and getting out of this hell. Looking back on it now those were the things that made him rap.\\nThis line is of course sampled from Run-D.M.C.\\u2019s  \\u201cPeter Piper\\u201d\\n\\nGrowing up in Queens, Nas has seen the bad, the good and the ugly. He hang around the most dangerous and realest gangstas in his life. He could just imagine if there\\u2019s people like them elsewhere in the world. Well there is, there\\u2019s a lot of ghettos in America, a lot of ghettos in Africa filled with real gangstas. But these gangstas will never see eye to eye because the world is so big and wherever they are they are asking the same question\\nCheers to those that made it out of the hood  Putting your glass high  means to celebrate. The  stash spot  is one of the most volatile places to be when you\\u2019re in the illegal drug business. At any moment not only could the  police bust in and raid the place you\\u2019re at with a large amount of drugs and guns but even worse. This is where robberies take place. A lot of times there will be a gun battle between the people trying to take your drugs and money and the people who are there to protect it.\\nNas puts his drink in the air for his dead homies. R.I.P.  Willie \\u201cIll Will\\u201d Graham .  Other Examples being Stretch and DU, both referenced earlier in the song.\\n\\nClarence \\u201cDrawz\\u201d Williamson was a hood legend from Queens. (R.I.P.)  refer back  here  for more information\\nThis line reflects the rags-to-riches story often seen in Hip Hop. Nas made from Queens and lives the good life.\\n\\nLike he just did above shouting out Queens deceased legend DU\\nPatron, Hennessy, and Glenlivets are all relatively expensive drinks that Nas is using here to forget his problems.\\nIn relation to the previous two lines, Nas hopes that his fun night of drinking will help him get through the next day as he relives it in his mind.\\n\\u201c\\u2018Gnac\\u201d  is slang for  Cognac  which is a variety type of Brandy.    Nas is also saying back in 1993 he was too G (gangsta) and cool for anyone to want any problems with him.\\n\\nEddie Plein , the godfather of grills, is credited with kick-starting the trend for  gold teeth in Hip Hop . He made the fronts that Nas wears in the  video  for  \\u201cThief\\u2019s Theme\\u201d .  Eddie opened his first store in Queens back in the 80s, making custom fronts for trend-setters like  Just Ice  and Flavor Flav. In the 90s he  moved to Atlanta  and brought removable grills to the South.  \\nCivil as opposed to Simple in \\u201cMental but not simple\\u201d Being Mental, as in, an intellectual as Nas often refers to himself, already carries implication that one isn\\u2019t simple. I think the line is Mental but not civil, as in: I\\u2019m smart but don\\u2019t get it twisted I\\u2019m not tame.  \\nCheers to those that made it out of the hood  Putting your glass high means to celebrate. The stash spot is one of the most volatile places to be when you\\u2019re in the illegal drug business. At any moment not only could the police bust in and raid the place you\\u2019re at with a large amount of drugs and guns but even worse. This is where robberies take place. A lot of times there will be a gun battle between the people trying to take your drugs and money and the people who are there to protect it.  \\nNas pays homage to his friends that were killed or have since passed away by having a drink in their honor.  J Cole has a  very similar line  to this one in his song Grown Simba. This is slightly coincidental, because J Cole\\u2019s biggest influence in rap was Nas. (However, note that Grown Simba came out before A Queens Story, so its not a reference or ripoff by J Cole).\\nThis song is for the dead homies, including but not limited to Ill Will and Stretch from Live Squad. R.I.P.\\nDouble Entendre\\u2026  The two last verses end the same way for repetition and to put emphazie on it. Hold it down as in:  Keep representing for the fallen soldiers or/and you area now that they are gone, ties to the title \\u2014 Nas i still representing Queensbridge.  Maintain your coolness.  And live life to the fullest til it\\xb4s your time.  \\nNas gets classically Romantic in this bitch by switching the beat and rapping over Fr\\xe9d\\xe9ric Chopin\\u2019s  famous \\u201cRevolutionary\\u201d Etude (Op. 10, No. 12)  \\nNas' mother  passed away in his arms of cancer  in 2002, an event that sent him into a depression and carelessness that culminated in his  failed 2002 Summer Jam attempt to hang Jay-Z in effigy  and his  famed rant shortly thereafter  on rival station Power 105.1.  In the vh1 behind the music he said that what made him come back to music was that he could feel his mom inside of him and in the mother. He could move on:  that\\xb4s life. You keep living on.  http://youtu.be/K8VcczZtIeI?t=4m42s  Thats the feeling he is describing right here.\\nWhen the  Blood of Christ  covers you you are protected and saved from your sins\\n\\n  Jesus Christ is our savior and healer.\\n\\nThese lines turn up as the hook in the next song in the album,  \\u201cAccident Murderers\\u201d\\nyou better stay alert and always know whats going on in the streets if not then the coroners will be putting the white sheet over you when your dead. Clever metaphor for dying as incurtains closing as in the end of films.\\nSee  here  for info on Howard \\u201cPappy\\u201d Mason and his notorious gang of enforcers, The Bebos.  Nas also namedrops Mason on  \\u201cThe World is Yours,\\u201d   \\u201cGet Down,\\u201d  and  \\u201cJust A Moment\\u201d\\n\\nNas is honest about where he stands today by professing his vulnerability as a human being. While he acknowledges that he\\u2019s not the grittiest, he has still responsible for the damage he has done to individuals as a result of his street upbringing.  This could also be a reference to  this line  from Memory Lane:  Here\\u2019s my basis, my razor embraces, many faces\\nThis idea of being the only person from a hood background in an upscale setting is a big theme for Nas on this record.  He addresses this idea on  \\u201cReach Out\\u201d   Can see myself in presidential campaign dinners  But I\\u2019m passing blunts around a bunch of gang members  When you\\u2019re too hood to be in them Hollywood circles  And you\\u2019re too rich to be in that hood that birthed you  He talks about in this interview:  http://youtu.be/YuaJzK2i8as?t=36m10s\\nBig Bo  cooked up the blow  on \\u201cRepresent,\\u201d from Nas' debut album  Illmatic  \\n\\nHere, Nas is questioning the disappearance of his old homies, such as Big Slate ( who he apparently shouted out on Represent ) and Turkey, the \\u201cniggas [he] shouted out on [his] first shit\\u201d.\\nSee  here  for a look at Nas' 1994 video for \\u201cOne Love\\u201d and an in-depth interview with its director, Fab 5 Freddy.  Freddy used Nas' real-life Queensbridge neighbors for his jail and crowd scenes:   I think the thing when I think back about the \\u201cOne Love\\u201d video now \\u2013 my process and methodology was very similar to [when I directed Gang Starr\\u2019s] \\u201cJust to Get a Rep\\u201d video. Of course, it was a significantly bigger budget but the core was the same in that all those people [cast in the video] with the exception of one or two were all the real dudes that Nas grew up with in Queensbridge.  Looking back at old videos he made shows people he knew that have been killed. This would be depressing to anyone. That\\u2019s why he said \\u2018Another reason to get further bent (drunk).  \\nRejoice if you\\u2019ve overcome your illicit means of acquiring money and made it out the ghetto with your dignity still intact. Not everyone can say they did.  \\nNas pays homage to his friends that were killed or have since passed away by having a drink in their honor. including but not limited to Ill Will and Stretch from Live Squad. R.I.P.  \\n\\n\", u\"[Produced by No I.D.]\\n[Verse 1: Nas]\\nYou cocked back\\nYou thought you had it planned\\nYou thought you had your man\\nHe saw you coming, he ran when you tried to blast that man\\nYou missed him by inches, he sprinted\\nSome of his boys on the corner was who your bullets entered\\nTwo of em pull through but one didn't, son's finished\\nYou took the life of him\\nThe part about it that's crazy, you was aight with him\\nTight with him, why was he in the way\\nWhy was he standing next to the enemy that specific day\\nHis style never hollas loud, stays reclusive\\nGood dude, got that look like he always about to do shit\\nSide of his mouth toothpick, one eyebrow raised\\nGot into it with dude who still tried to live out his old wild out days\\nThey never had no probs\\nSomehow they rubbed each other wrong like a bad massage\\nThese two different personalities had to collide\\nNiggas could not aim and innocent niggas died\\nYou ask why, cause of a\\n[Hook: Nas]\\nAccident murderer, act like you killed on purpose\\nLiars brag, you put work in\\nYou ain't mean to murk him\\nYour gun's a virgin\\nStreets are full of em\\nRead the bulletin\\nAccident murderer\\nYou just an accident murderer\\n[Verse 2: Rick Ross]\\nWe grew up doing graffiti\\nNow hollow heads getting heated\\nSeated in foreign cars, constantly getting weeded\\nProceeded to count profits\\nI know they got on binoculars\\nBut fuck em all, we balling til they come lock us up\\nTwenty to life; I'm clubbing, blowing twenty tonight\\nWe the mob, Bob Marley Marlin' all through the night\\nAddicted to wealth, never cold turkey to war\\nSnatch a tec off the shelf,\\n \\nlive forever; that's Insh'Allah\\nMemoirs of a rich nigga;\\nSweat suits, gold chains, old drug dealers\\nNew Benz, chrome rims are for show, killer\\nYou niggas accidental, shoppers in back of the limo\\nPay your tithes, stay alive, can't be dodging my clique\\nCut a check; I use your bitch for some bargaining chips\\nIn a hole, sell your home, nigga go sell your soul\\nThis forty-five in control\\nGod forgives and I don't\\n[Hook]\\n[Bridge: Nas]\\nAccident murderer, accident murderer\\nYou just an accident murderer\\n[Verse 3: Nas]\\nYo, for my nigga that got killed, got hit up\\nVodka spills on the concrete\\nLight a swisha, we miss ya\\nAnd for that girl who never made it home, shot in the dome\\nHow they gon' kill that beautiful sista\\nViolent adolescents, homicidal with weapons\\nNot a lot of knowledge inside of they minds, that I'm guessing\\nTell me who you impressing\\nShooters I knew them when they was babies\\nI used to test them\\nMake em throw up they hands, choke em out playing wrestling\\nWatch em grow to a man\\nI see them now they repping\\nBut they cold-blooded, homie\\nWondering where the respect went\\nCan't play with these little niggas, gangsta little niggas\\nCan't hang with these little niggas, they killing, they reckless\\nWish I could build with him, but will he change really\\nSome real killers\\nI think of Wayne Perry\\nThink of my nigga Drawz\\nBut you aren't a name to me\\n \\nyou ain't mean to kill him\\nIt wasn't necessary\\n[Hook]\\u201cAccident Murderers\\u201d incorporates pipe organ in its production, and its lyrics addresses senseless violence with a rags-to-riches narrative by Rick Ross.  The producers from tracks 2 and 3 collaborates on track 4 here to bring us a perfect sound bed for Rick Ross\\u2019 feature. More piano, organs, choir and rap-cinema flavor, with our first true hook at 4 records in. It has an instrumental break after first hook which leads into verse 2 and the more patented story-telling Nas, a la \\u201cI Am\\u201d.  Worth noting that despite several singing features ( Victoria Monet ,  Mary J. Blige , the late  Amy Winehouse ), and  Large Professor \\u2019s appearance on  Loco-Motive , Rozay is the only guest RAPPER on the album.  On the reasons why he only had one guest rapper, Nas said:  I didn\\u2019t want a lot of people on the album since it\\u2019s been four years for me. Next album I\\u2019ll do more features, but on this one I didn\\u2019t want to have a lot of people on the album. I also have Mary J. Blige on vocals. I\\u2019m drawn to that soulful sound.\\n\\nThe guy pulled his gun when he saw the guy he wanted to kill. In his mind, it was all gonna play out perfectly. But when his target saw him, he ran off, causing the guy to start shooting to try and get him before he gets too far.  But he missed the target and instead hit some nearby civilians. Two of the people the bullets hit survive, but one of them died.  Nas really sells the song\\u2019s concept here with language\\u2014 we get an avalanche of \\u2018you\\u2019s,\\u2019 \\u2018your\\u2019s,\\u2019 \\u2018he\\u2019s,\\u2019 and \\u2018him\\u2019s\\u2019, confusing listeners trying to attach real people to these floating pronouns\\u2014 a kind of parallel to a shooter trying to \\u2018pick out\\u2019 one man from a crowd to shoot at.  but what\\u2019s really cool is the slick, imagistic pun at the end of this little sequence\\u2026 let\\u2019s do some poetic analysis:  the line that sets it up:  \\u201csome of his boys on the corner was who your bullets entered\\u201d  notice the cluttered syntax\\u2014\\u2018the boys  was who the bullets entered \\u2019 instead of the much clearer \\u2018the bullets  entered the boys. \\u2019 this twist isn\\u2019t just a trick to fit into a rhyme scheme ( nas has plenty of internal rhyming here to spare, plus \\u2018sprinted\\u2019/\\u2018entered\\u2019 isn\\u2019t even a great fit ).  looking at the next lines:  \\u201ctwo of \\u2018em pulled through, but one didn\\u2019t/ son\\u2019s finished\\u201d  it\\u2019s clear this was intentional, because now it\\u2019s  unclear  what \\u201ctwo\\u201d and \\u201cone\\u201d are referring to:  \\u201cpulled through\\u201d seems to imply \\u201csurvived,\\u201d ie, two  boys  survived, and \\u201cone\\u201d was \\u201cfinished,\\u201d ie, \\u201cone boy died.\\u201d so we put together that there were three boys, all of whom got shot, and one of whom died. BUT:  \\u201cpulled through\\u201d could have a  literal  meaning, ie, \\u201ctwo  bullets  pulled through [a body], and one bullet didn\\u2019t [pull through].\\u201d this interpretation is helped by the fact that \\u201ctwo of \\u2018em\\u201d refers more readily to the last noun in the previous sentence (\\u201cbullets\\u201d) rather than the noun at the front of it (\\u201cboys\\u201d).  the full picture for the second meaning plays off the first one\\u2014 we\\u2019re focusing on the  one boy  who didn\\u2019t make it when  two bullets  passed cleanly through him and  one didn\\u2019t .  Nas takes punning even further here by having the images themselves be visual puns as in a movie\\u2014 we get a very cinematic sense of the chaos and moral ambiguity of street violence.\\nThe drive-by shooter unintentionally killed someone he was boys with instead of his target. He was unluckily hanging out on the corner with the enemy of the shooter.\\nNas is now talking about the other guy \\u2014 the one who got killed. He never flaunted expensive clothes or started any shit.\\nHe\\u2019s a good guy but he looks like he\\u2019s ALWAYS about to start shit. Nas describes the classic \\u201cYou tryna go?\\u201d look that Western movies have immortalized to paint a picture of what he\\u2019s saying.\\nHe was hanging out with someone who was trying to recapture his glory days. kinda like this guy:  \\nUsually massages feel good \\u2014 but today you got rubbed the wrong way:  \\nThe nice, calm guy had a bad run in with a guy who still wants to be the hardest and most dangerous. But that guy could not aim so when he fired his gun, innocent people suffered the casualties.\\n\\n\\n\\u201c \\u2026and I ain\\u2019t never heard of ya \\u201d (as the  Outlaw Immortalz  would say..)  He\\u2019s being ironic here. When Outlaw Immortalz said the line he meant it as in Puffy and Biggie were DENYING they tried to kill 2pac (like an accident). NaS is straight up calling these \\u201caccident murderers\\u201d fake G\\u2019s. They\\u2019re not really thug enough to do real damage.\\nthat the manslayer who kills any person unintentionally, without premeditation, may flee there, and they shall become your refuge from the avenger of blood. (Joshua 20:3)  You didn\\u2019t really intend to kill your victim, so therefore your gun hasn\\u2019t done anything legitimately. It\\u2019s like a virgin, it hasn\\u2019t \\u201cHad sex\\u201d, so to speak, or in this case hasn\\u2019t killed anything for real.\\nNas is saying \\u201cread the paper\\u201d if you want to see evidence of these accidental deaths\\u2014 in a way, the choice of \\u201cbulletin\\u201d here implies that in the ghetto the newspaper is just updates on who the \\u201cbullets\\u201d have gone \\u201cin\\u201d recently\\n\\n\\nWorth noting that despite several singing features ( Victoria Monet ,  Mary J. Blige , the late  Amy Winehouse ), and  Large Professor \\u2019s appearance on  Loco-Motive , Rozay is the only guest RAPPER on the album.  On the reasons why he only had one guest rapper, Nas said:  I didn\\u2019t want a lot of people on the album since it\\u2019s been four years for me. Next album I\\u2019ll do more features, but on this one I didn\\u2019t want to have a lot of people on the album. I also have Mary J. Blige on vocals. I\\u2019m drawn to that soulful sound.  Ross has also been critized for not staying on topic.\\nOne of the four pillars of hip-hop as described by Zulu Nation: tagging, DJing, break dancing, MCing  \\nNow guns are being fired (\\u201chollow\\u201d refers to hollow point which means a type of bullet that has a lead core and a swagged jacket but leaves the front portion of the projectile exposed)  It\\u2019s also talking about how they grew up together \\u201cdoing graffiti\\u201d, but the victim got shot because the shooter\\u2019s \\u201chollow head\\u201d got \\u201cheated\\u201d and his anger made him pull the trigger.\\nThe kids that used to waste time by tagging everything have grown up to ride around in expensive cars and constantly getting high.  \\u201cConstantly getting weeded\\u201d here also means that they were always being segregated against just because they were black. So the cops would \\u201cweed\\u201d them out from the rest.\\nRozay is counting his money while federal agents are watching him through binoculars. Rick Ross doesnt care about them and will enjoy stunting so hard the cops may come for him\\u2026\\u2026\\u2026 at the risk of getting sentenced twenty to life he will spend twenty thousand dollars.\\nThis is a reference to both Bob Marley, the reggae legend, and  Marley Marl , Queens legend and golden age hip-hop producer.  Both are well known smokers and use marijuana to sustain late night sessions.\\nHe\\u2019s obsessed with getting money, and is never gonna fully quit fighting  Also, in reference to the last line before, Marlboro = most well-known cigarette brand in the world. Cold Turkey line can be a play on the line before.  Play on Cold War and the country Turkey. Turkey was involved in the cold war and at the time a U.S. ally. Turkey is also 98% Muslim country, which goes with next line \\u201cthat\\u2019s Insh'Allah\\u201d!\\nA possible reference to Nas\\u2019s line on  \\u201cRepresent\\u201d  from  Illmatic  Pullin a Tec out the dresser  Police got me under pressure  This was one of the the objects of controversy in the Jay-Z/Nas beef  \\u201cTakeover\\u201d:  I showed you your first Tec, on tour with Large Professor  Then I heard your album about your Tec on the dresser  \\u201cEther\\u201d:  Smiling in my face, glad to break bread with the god  Wearing Jaz chains, no Tecs, no cash, no cars\\n\\nMeaning \\u201cGod Willing\\u201d in Arabic which is commonly used to avoid \\u201cjinxing\\u201d any future plans. So Rick Ross is attempting not to jinx his plans to live forever.\\nShould Rozay write a novel it\\u2019d be a little bit different than this one here.  \\nOld drug dealers dressed this way\\n  He says New Benz, chrome rims, a fa' sho killer\\u2026  fa' sho\\u2026as in for sure, killer (as opposed to an accidental one)\\u2026like \\u201cshe\\u2019s a ho\\u2026fa\\u2026sho\\u2026\\u201d :)\\nOff the last line, Rick Ross is flossing rims on his new Benz\\u2014 the other guys rent a limo just to hang in the back, without going out and buying anything\\nTithing is the Biblical practice of  dedicating a percentage of your income to God . In this case, Ross refers to the monetary tribute that other hustlers owe to his crew. If they pay their tithes when his clique comes to collect instead of trying to dodge them, they\\u2019ll stay alive.\\nRoss has kidnapped your girlfriend, and is using threats to her life to get you to give him money. He\\u2019s holding your woman for ransom.\\nIf you\\u2019re ever in a difficult situation, Ross' advice is to give up everything, even to the last dollar, as long as you never give up your pride.  \\nHis gun\\u2019s calling the shots; no pun intended.\\nShameless promotion of Rick Ross\\u2019s next album    Nas guests on this album, on a bonus track called  Triple Beam Dreams .\\n\\n\\n\\n\\n\\nNas pays his respect to the victims of accident murders. Nas has previously  dedicated a whole song  to people who died for various reasons.  Also, swisha is slang for a Swisher Sweet cigar, commonly made into a blunt with marijuana.  \\nShout out to Rap Genius for getting this. This line is referencing  \\u201cJerome\\u2019s niece\\u201d  from  One Love :  Guess who got shot in the dome-piece?  Jerome\\u2019s niece, on her way home from Jones Beach\\nA possible reference to the \\u201cJerome\\u2019s niece\\u201d line in  \\u201cOne Love\\u201d\\nYouth are more and more aggressive and violent, with less time spent in search of knowledge and more time spent trying to survive on the block and trying to gain a reputation. As people get more and more involved with gang culture they develope and image that they have to maintain. The rest of the verse reflects back on these lines, stating how all the youth he knew grew up to become cold-blooded and violent.  \\nMany of the people he grew up aroung and befriended are now hardcore and bona-fide killers  He\\u2019s saying the youngbuls he knew are all grown killers now. He\\u2019s reminiscing about play fighting with them to toughen them up, and now they are tough, maybe too tough.\\nThe new generation of players are cold-blooded and don\\u2019t have respect. This theme is reminiscent of  N.Y. State of Mind  and  One Love .\\nThe use of \\u201clittle\\u201d in these lines indicates that even kids are murderers, because they learn from their environment & just do what they see  While most kids just  \\u201cplay\\u201d  or  \\u201chang\\u201d  out with their friends, these kids  kill  with their friends  This epistrophe is reminiscent of Jay-Z\\u2019s in  Trouble . Whereas Jay-Z was condescending and threatening with it, Nas' attitude is more wary\\nNas considers taking the kid under his wing and straightening him out, but isn\\u2019t sure if the kid would really change.\\nWayne \\u2018silkk\\u2019 Perry is often thought of as the  most dangerous hitman in history    Or could Nas be referring to this Wayne Perry, recently elected National President of the Boy Scouts of America?    You decide\\u2026\\nClarence Shawn Williamson, a.k.a. Drawz or DU, was a Queensbridge street legend who was killed in 2011.  See an interview with him below:  http://www.youtube.com/watch?v=-XjwQv9Z2ac\\nThese little dudes aren\\u2019t \\u201cnames\\u201d like these two infamous killers are, they\\u2019re just posturing. they don\\u2019t have the mythology these guys do\\n\\nshould be: \\u201cyou ain\\u2019t mean to kill him/ it wasn\\u2019t necessary\\u201d  this tricky ending recapitulates the central premise of the song,  and  offers some interesting ghetto philosophy:  Nas is subtly saying that these other killers had a code they lived by, and they weren\\u2019t afraid to strike  when necessary.  But it\\u2019s different with these other guys\\u2014 they\\u2019re unprofessional, killing by accident, and killing at any provocation.  Basically \\u2014 there\\u2019s a G-code that street violence is inherently sanctioned by, and new kids are just imitating it without having understood how it works. Violence is sometimes necessary, but these kids don\\u2019t have the wisdom to tell the difference.\\n\\n\", u\"[Produced by No I.D.]\\n[Intro]\\nCheck it out\\nI call it, yeah\\nFor my brothers with daughters, I call this\\nFor my brothers with daughters, I call this\\nFor my brothers with daughters, I call this\\nFor my brothers with daughters\\n[Verse 1]\\nI saw my daughter send a letter to some boy her age\\nWho locked up\\nFirst I regretted it then caught my rage like\\nHow could I not protect her from this awful phase\\nNever tried to hide who I was, she was taught and raised like\\nA princess, but while I'm on stage I can't leave her defenseless\\nPlus she's seen me switching women, pops was on some pimp shit\\nShe heard stories of her daddy thugging\\nSo if her husband is a gangster can't be mad, I'll love him\\nNever for her I want better, homie in jail - dead that\\nWait till he come home\\nYou can see where his head's at\\nNiggas got game, they be tryna live\\nHe seen your Mama crib\\nPlus I'm sure he know who your father is\\nAlthough you real, plus a honest kid\\nDon't think I'm slow\\nI know you probably had that chronic lit\\nYou seventeen, I got a problem with it\\nShe looked at me like I'm not the cleanest father figure\\nBut she rocking with it\\n[Hook]\\nFor my brothers with daughters, I call this\\nFor my brothers with daughters, I call this\\nNot sayin' that our sons are less important\\nFor my brothers with daughters, I call this\\nFor my brothers with daughters, I call this\\nNot sayin' that our sons are less important\\n[Verse 2]\\nThis morning I got a call, nearly split my wig\\nThis social network said Nas go and get your kid\\nShe's on Twitter,\\n \\nI know she ain't gon post no pic\\nOf herself underdressed, no inappropriate shit, right\\nHer mother cried when she answered\\nSaid she don't know what got inside this child's mind,\\n \\nshe planted\\nA box of condoms on her dresser then she Instagrammed it\\nAt this point I realized I ain't the strictest parent\\nI'm too loose, I'm too cool with her\\nShoulda drove more time to school with her\\nI thought I dropped enough jewels on her\\nTook her from private school, so she can get a balance\\nTo public school, they too nurture teen talents\\nThey grow fast, one day she's your little princess\\nNext day she talking boy business, what is this\\nThey say the coolest playas and foulest heart breakers in the world\\nGod gets us back, he makes us have precious little girls\\n[Hook]\\n[Verse 3]\\nAnd I ain't tryna mess your thing up\\nBut I just wanna see you dream up\\nI finally understand\\nIt ain't easy to raise a girl as a single man\\nNah, the way mothers feel for they sons\\nHow fathers feel for they daughters\\nWhen he date, he straight, chip off his own papa\\nWhen she date, we wait behind the door with the sawed off\\nCause we think no one is good enough for our daughters\\nLoveThe song draws on shimmering soul music and contains two samples.  It samples multiple elements from  Cloud One\\u2019s 1979 song \\u201cDust to Dust\\u201d.   While the drums are from Wayne McGhie and the  Sounds of Joy\\u2019s 1970 song \\u201cNa Na Hey Hey Kiss Him Goodbye\\u201d.   It has a nice bassline and the samples are tied together nicely overall. The track is produced No I.D., who incorporated live instrumentation, including guitar by Steve Wyreman and keyboards by James Poyser and Kevin Randolph. Kaye Fox sung additional vocals featured in background throughout the track.  Complex  asked about the \\u201cDaughters\\u201d in an interview with No I.D.:  So did you do \\u201cDaughters\\u201d? It seems a lot of the work seems drenched in the blues tradition.  Yeeah, I mean I\\u2019m into that. Absolutely being from Chicago and growing up around that kind of music\\u2014but for me it\\u2019s a certain emotion I want from my music. Like with him it\\u2019s like, we know you can rap, now let\\u2019s know you as a human being. Because he\\u2019s not the guy that\\u2018s out. He\\u2019s not on TMZ. And when he comes out he has our attention, but now on this I was like, Let us in. And that\\u2019s where my music strength comes in, like when an artist opens up about something\\u2026\\nhttp://youtu.be/YuaJzK2i8as?t=5m39s    Vibe  interviewed Nas, this exert of the interview sheds light on \\u201cDaugheters\\u201d:  One of the songs on Life Is Good that showcases your fruitful collaborative relationship with No I.D. is the single \\u201cDaughters,\\u201d which talks about your at times rocky relationship with your teenage daughter Destiny. Can you describe the first time she heard the song?  She was there when I was recording it. We were in a big studio so Destiny was doing other things, but she walked into the room where I was recording it and heard a few words and said, \\u2018What\\u2019s going on?\\u2019 The whole room just started laughing and she kind of smiled and walked backwards out of the room. She didn\\u2019t know what it was about and she didn\\u2019t want to listen to it, but later on she heard the song.  And what was the verdict?  I think she understands where I was coming from. She can hear me saying that I wasn\\u2019t always around and I wasn\\u2019t always the best dad, but I care. And there are a lot of fathers like me. To me, \\u2018Daughters\\u2019 lets all those fathers out there know, \\u2018Hey, don\\u2019t end up like me in terms of not being there all the time.\\u2019 You should really pay attention to the most precious thing in the world. Destiny and I hang out all the time. She never beefs with me about it.  Were there any other artists that you wanted to collaborate with that didn\\u2019t make it on the album?  One of the only other rappers I thought about was AZ. And I wanted Eminem for a remix for \\u201cDaughters,\\u201d but he had already expressed that he\\u2019s spoken so much about his daughter throughout his career that he had done that subject too much. And me and Jay-Z talked about doing some things, but our schedules were so crazy.\\nSetting up the theme for the song. Nas wrote this specifically for people out there with daughters, to share with them his experiences.  On the album version, Nas says \\u201cfor my brothers\\u201d instead of \\u201cshit for ni***s\\u201d\\n\\nHistory is repeating itself \\u2014 when Nas was about her age, he wrote \\u201cOne Love\\u201d, about him writing one of his friends in jail \\u2014 now his daughter is doing the exact same thing.  He wants a better life for her, hence he \\u201ccaught his rage\\u201d meaning he had to contain his anger before he could speak to her.\\nIt\\u2019s all intertwined. Nas' experiences from his past and career have gifted him with wisdom, but because of them he can\\u2019t always spend the time he needs to with his daughter and his image in part is that of a thug.  Add in the pimping \\u2014 an ode to his own father, whom he discusses on \\u201c Poppa Was a Playa \\u201d \\u2014 and that makes it even harder to set a good example. Certainly something both of them realize, but work with.  \\nBeing judgmental of his daughter\\u2019s husband being a gangster would make him a hypocrite, as he proudly acknowledges his own thuggin'. Despite making himself a hypocrite, he says in the next line he wants better for her.  Nas is also saying that just because he is a gangster, that it doesn\\u2019t mean that he is a bad person. Because when Nas looks at himself, he sees that he is different from an average gangster, so he asks himself why he would judge this boy, because maybe this kid is also different, and maybe this kid is really a good person, in a bad place. So Nas realizes he can\\u2019t judge a book by its cover. Because if everyone thought like that, then Nas would never have made it, and he would just be a gangster.\\nNas instantly contradicts himself: he doesn\\u2019t want his daughter dating straight thugs, like him and to some degree his dad. For her he wants better, but he\\u2019ll wait for the kid to get home so he can see where his head\\u2019s at \\u2014 whether his mind-state is good, or still that of a thug \\u2014 and keep an eye on them \\u2014 where his  other  head\\u2019s at.\\nNas is no fool. He knows her daughter\\u2019s boyfriend has most likely chilled with her at her mother\\u2019s house ( the infamous Carmen ) and by now he has to know who he is\\u2014 a rap legend\\nNas doesn\\u2019t let his love for his daughter paint Destiny in an innocent light. He knows she\\u2019s likely to be smoking weed, like a lot of kids her age, and he lets her know it. She in turn lets him know that he\\u2019s not exactly a saint, but she\\u2019ll try.  \\n\\nNas wrote Daughters specifically for the people with daughters, but he\\u2019s not taking the limelight away from sons. He has one himself, named Knight.\\n\\nNas gets a call and it\\u2019s content has blown his mind to the point he\\u2019s nearly \\u2018split his wig,\\u2019 i.e., got him in a rage or shock. Interestingly, to split someone\\u2019s wig normally refers to shooting someone in the head \\u2014 that shows how serious things are.\\nGossip site  Bossip  put an article on their website showing Nas' daughter, Destiny, on Twitter showing off her car named \\u201cCocaine\\u201d and a box on her night-stand filled with condoms. At the end they told the rapper, \\u201cNas, please come get your daughter!!!\\u201d\\n  (that\\u2019s no longer her twitter handle)\\n\\nNas is still confident his daughter won\\u2019t do anything really ridiculous like post naked photos on the net, but he\\u2019s questioning his own confidence.\\nLike many parents, Carmen Bryan was was blissfully ignorant of her child\\u2019s antics:    \\n\\n  \\nNas is considering the possibility he hasn\\u2019t done his job as a parent right. He\\u2019s putting himself down for being too easy going and wishing he\\u2019d spent more time with her. It seems like he treated her too much like a friend and not enough like a daughter.\\nDouble entendre. Nas thought he dropped enough \\u2018jewels\\u2019 \\u2014 as in wise words and knowledge \\u2014 on her, and literal jewels \\u2014 necklaces, etc. \\u2014 to keep her content and behaved.  He may also have been giving expensive gifts to his daughter to try and instill in her the attitude that material things are not a big deal and shouldn\\u2019t define who somebody is as a person.  He also gave her a gift more precious than jewellery \\u2014 spending time and lavishing attention on her to share his wisdom on life. And being a parent, his anxiety and concern over it leads him to one conclusion \\u2014 he needs to do more of it.\\nAs a child that went from Public school, to Private school, then back to Public, I understand this notion. He wants his kid to have the best of both worlds \\u2014 The reality of public school, and the drive, ambition, and academics of private school\\nThis verse is essentially self explanatory, but he\\u2019s saying that she was so young and innocent one day and then she\\u2019s all grown up talking about dating, sex and other stuff in the blink of an eye. This probably happens to a fair amount of parents.\\nNas' realizing on karma\\u2019s effect on his life.  The irony \\u2014 After a life of being a heart breaking player, treating women less than fairly, and tossing other men\\u2019s daughters out the window, you\\u2019re going to get yourself your own precious girl to have that done to her by guys just like you. Puts things in perspective, huh? Now isn\\u2019t life a bitch?  Kanye West  has a similar line on  We Major , which interestingly enough, featured Nas.\\n\\n\\nClassic example of a father wanting his child to dream big and be successful, but having to crack down on them sometimes. He ain\\u2019t doing it for spite.\\nThose of us who haven\\u2019t been through this, can only imagine\\u2026. A man trying to raise someone of the opposite sex.  We can all admit that no man truly understands girls, even the ones we love, so trying to  raise  one without the advice of someone who has been through it themselves, seems like a nearly insurmountable task.  This is also Nas\\u2019s take on a line from 2Pac\\u2019s   \\u201cDear Mama,\\u201d  except it\\u2019s the opposite parent/child gender relationship.  I finally understand  For a woman, it ain\\u2019t easy trying to raise a man\\nWhen a son starts dating and learning more about females, dads don\\u2019t find it a bad thing (probably because they\\u2019ve been through it), but it\\u2019s different when females start dating because dads become overprotective.  When their daughters bring a boy home, because of this protective attitude, fathers usually try and intimidate him \\u2014 although not usually with a sawed-off shotgun as Nas is contemplating (although the issue with the condoms may have Nas' trust in her dented and he may be just that angry\\u2026)  Nas refers to a double standard in parenting. If the child had been a boy and gone out on dates, Nas would have been proud of him and considered him to be a \\u201cchip off his own papa\\u201d(chip of his own block). However, he gets really possessive of his daughters that he waits behind the front door with a shotgun because no man is is good enough for his \\u2018princess\\u2019.\\n  Despite everything, Nas loves his daughter for who she is.\", u'[Produced by DJ Hot Day, Rodney Jerkins & Salaam Remi]\\n[Hook: Mary J. Blige]\\nThis kind of love is a once in a lifetime groove\\nReach out and touch the love that I have for you\\nI see you standing there\\nSo lost and all alone\\nI wanna take you in my arms\\nAnd tell you that you\\u2019re home\\nI look into your eyes\\nI said I know you very well\\nI see a mirror of my life\\nA reflection of myself\\n[Verse 1: Nas]\\n3:45AM can\\'t sleep, can\\'t dream\\nI\\'m stuck, money problems pop up\\nHow will I survive\\nGuess it\\'s best to decide not to decide\\nSo that\\'s my decision\\nWhatever happens happens\\nI keep making my millions\\nCan see myself in Presidential campaign dinners\\nBut I\\'m passing blunts around a bunch of gang members\\nWhen you\\u2019re too hood to be in them Hollywood circles\\nAnd you\\u2019re too rich to be in that hood that birthed you\\nAnd you become better than legends you thought were the greatest\\nAnd outgrow women you love and thought you could stay with\\nLife become clearer when you wipe down your mirror\\nAnd leave notes around for yourself to remember\\nI like to teach and build\\nWith brothers about how easy it is to reach a mil\\nAll you need is some skill\\nThen it\\u2019s grindtime\\nImagination better than knowledge, ask Einstein\\nIt\\u2019s all in the mind\\nNasty the nicest\\nJust one minute after it\\'s heard, you all will recite it\\nYou all will repeat it, you\\'ll call me a genius\\nIf you didn\\'t now that I said it I forced you to think it\\nWrite in my little vignettes\\n, \\nsipping Moet\\nBitch when you vision me, you vision the best\\nWhen I was young they called me Olu\\u2019s son\\nNow he\\u2019s Nas\\' father, I was the good seed\\nHe was the wise gardener\\n[Hook]\\n[Verse 2: Nas]\\nBeautiful life, often I dream that I can bring my niggas\\nConservatives don\\u2019t understand slang linguistics\\nThe burbs talking like the hood will change with quickness\\nLove the skinny model chicks but I prefer the thickness\\nSo what I rap about my riches and I\\u2019m ostentatious\\nGet out a gangsta\\u2019s business, seems to me your thoughts are basic\\nTry to compare what you live to the life I master\\nSee the fly shit I wear, you try to rock it after\\nBig bracelets, \\ngolden Egyptian faces\\nWhite wine spritzers and Switzerland on vacation\\nThe strip club scene favors your \\nJosephine Baker\\nDope fiend neighbors, growing up I\\u2019ve seen paper\\nI describe it, hope you can visualize it\\nThis is reminiscent to all the parks in the project\\nWhen my British Knights can rival your Foamposites\\nDon\\u2019t make me pull my Lottos out the closet\\n[Hook]Old school from the jump and Mary J sets it off over a sparse drum pattern, after which a very recognizable piano sample drops in. Dope flip of it albeit not chopped much if at all. It contains 3 samples.  \\u201cIke\\u2019s Mood\\u201d by Isaac Hayes.  An interpolation of the hook on \\u201cOnce in a Lifetime Groove\\u201d by New Edition.  It also samples \\u201cHot Day Master Mix\\u201d by Hot Day with Super Kids.  Salaam Remy shed light upon the making of the record in n interview with  LargeUp :   \\u201cReach Out\\u201d \\u2013that\\u2019s something that was personal to Nas cause [DJ] Hot Day\\u2018s from his block, and that was something that never came out on a record, that was just in the hood. I was really working off stuff that came out on tapes.  With \\u201cReach Out,\\u201d I hit up Hot Day, we were going to put it out as a mixtape joint, but at the last minute now Mary [J. Blige] is going to get on. But just like recreating something we heard in the parks. It has another approach to what made it sound like radio or fun, or hip-hop but at the same time it\\u2019s Nas\\u2019s album and he\\u2019s telling the story from his \\nMary J is covering Once In A Lifetime Groove by the R&B group New Edition.  http://www.youtube.com/watch?v=vGGNdLbxZ0c\\n\\nRead  here  about Nas\\' real-life \\u201cmoney problems\\u201d \\u2014 namely the over $6 million he owes the IRS\\n\\nWith  Life is Good  Nas just finished his contract with Def Jam, making him a free agent.  But as you can see from these bars, I guess we can\\u2019t expect \\u201cThe Decision\\u201d a la Lebron James.  http://www.youtube.com/watch?v=RTeCc8jy7FI\\nNas looks at the contradiction of his life: he could be dining with the highest in society, like Jay-Z who is a high profile supporter of President Obama. However, he keeps getting drawn back to his origins in Queens.      Nas with The Bravehearts in 1992\\nNas is in a strange situation where he is too rich for the hood but doesn\\u2019t really fit in with other rich (and presumably lighter-skinned) people. He talked about this in  Black Republican , and it also forms somewhat of a theme on  Life Is Good .  Nas is explaining the nature of people in the black community from a sociological perspective, specifically the idea that citizens are a \\u201cproduct of their environment.\\u201d  Essentially, this excerpt describes the notion that putting people in a different setting or scenario will have little to no effect on their basic instincts and behavior.  It leaves open the possibility that once you grow up in an environment, you may never be able to shed the influence of that environment. In that sense, people from the hood are products of their environment (or at least the environment of their developmental years).  He talks about it in this interview:  http://youtu.be/YuaJzK2i8as?t=36m10s\\nWhile Nas doesn\\u2019t name any names here, he has long expressed admiration bordering on reverence for  Rakim , even once  rapping the elder artist\\u2019s biography .  In addition, Nas\\' early style was influenced by  Kool G. Rap  \\u2014 so much so that Russell Simmons turned down the opportunity to sign a young Nas  because he thought the two sounded too alike.    Either way, many people believe that Nas has surpassed both in skill and discography quality, that he is a true legend.\\nNas thought he could stay with Kelis, his wife, but they divorced in April 2009. Nas has said in interviews that he still has love for her.  Nas also said during a show at London:  \\u201cYou know, I text her the other night. I said, \\u2018Can we make love one more time?\\u2019 Seriously!\\u201d  \\nNas is literally talking about being reflective here, making the mirror reference a particularly apt metaphor.\\nThe kind of forward thinking, sober planning that an adult mind understands is of benefit. This is not a \\u2018live fast die young\\u2019 mindset. This is reflective (as alluded to in the previous line).\\n\\u201cPerseverance, see the fake hustler rapper to them it hurts to hear this  Oh you went platinum \\u2013 yeah that\\u2019s nice, now let me see you do the same thing twice  New times, 4 times, then been a couple of more times\\u2026\\u201d -Nas\\' first lines of his verse on  Kanye West\\u2019s \\u201cClassic\\u201d  It\\u2019s all about struggle and staying in the game even when things get tough.\\nEven if you have a skill, you have to put the work in. Although Nas was naturally gifted at rapping, he still had to work at it, try to innovate and pick himself up when his work wasn\\u2019t well received.\\nhttp://embed.vidyard.com/share/30v_pkGC-7USqg__2SFhYg\\nReferring to this Einstein quote:  \\u201cImagination is more important than knowledge. For knowledge is limited to all we now know and understand, while imagination embraces the entire world, and all there ever will be to know and understand.\\u201d\\n\\n\\u201cNasty Nas\\u201d was Nas\\' early-career moniker  \\nNas is a psychic because he knows that everyone will love his music before they have even heard it. And isn\\u2019t it right?  Nas is using embedded commands to reach your subconscious\"Now that i said it i force you to think it\".I\\u2019m sure the smart ones went back to this line and realized what all good artists and politicians do\\u2026The rest are just thinking it\\u2026 If you didn\\xb4t think he was a genius before, he forced you to think about it by mentioning it.  ACCEPTED COMMENT: shouldn\\u2019t the words read:  Nasty the nicest, I\\u2019m somewhat of a psychic\\nNas is notorious for \\u2018painting pictures\\u2019 with his lyrics. A vigntette is a pictoral scene. (Rappers, take note and step your vocab game up)\\n\\nMo\\xebt  is a French winery and co-owner of the luxury goods company Mo\\xebt-Hennessy.  Mo\\xebt et Chandon is one of the world\\u2019s largest champagne producers and a prominent champagne house.    Fun extra fact: The company holds a Royal Warrant to supply champagne to Queen Elizabeth II.\\n\\nNas\\' father is a jazz musician  and player  named  Olu Dara . When Nas first came out, his father was more famous than him but now Nas has surpassed his father\\u2019s fame    Nice bit of wordplay \\u201cgood seed\\u201d has a double meaning confirmed by \\u201cwise gardener\\u201d:  Seed = child/offspring.  Gardener = father.  Seed = literal plant seed; Gardeners plant seeds.\\n\\n\\nEven though Nas has found success in life and was able to leave Queensbridge, many of his friends are still stuck there  or have already died due to the violence that proliferates in the area.  Nas isn\\u2019t just grinding to increase his bank accounts, he\\u2019s also  hustling  so he can one day make enough money to bring the life of luxury he leads back to all of his homies stuck in the projects.  \\nNas went after a conservative who \\u201cdon\\u2019t understand slang linguistics\\u201d in 2007 when he  lashed out at Bill O\\'Reilly .  O\\'Reilly had criticized Virginia Tech for allowing Nas to perform at the school after a deadly shooting incident there.  Nas\\' response to MTV laid it on the line:  \\u201cHe\\u2019s a racist,\\u201d Nas said. \\u201cEverybody has a marketing plan; his marketing plan is racism.\\u201d   [O\\'Reilly] doesn\\u2019t understand the younger generation. He deals with the past. The people he represents are Republican, older, a generation that has nothing to do with the reality of what\\u2019s happening now with my generation. \\u2026 He\\u2019s not really on my radar. People like him are supposed to be taught and people like me are supposed to let n\\u2014-as like him know. I don\\u2019t take him serious. His sh\\u2014 is all about getting ratings or whatever. I wouldn\\u2019t honor anything Bill O\\'Reilly has to say. It just shows you what bloodsuckers do: They abuse something like the Virginia Tech [tragedy] for show ratings. You can\\u2019t talk to a person like that\\nDOUBLE ENTENDRE  Skinny model chicks are stereo-typically shallow Nas is saying he enjoys more deep     women then that. He\\u2019s also saying he enjoys thicker women.\\nSome may say that Nas seems more pretentious nowadays because he raps often about the things that he has or does which are only available to him due to his financial  \\u201csuccess\\u201d .  Ostentatious  is an adjective which explains someone who shows off in order to gain attention.\\nNas now believes the gangsta/mafiosa rap he has produced for most of his career is too simple and is looking to expand into maturer, more complex music.\\n  Nas has reached a level of success in his life most of his peers and those living in the projects would only dream of attaining. He has become one of the most influential lyricists in hip hop history and a real advocate for urban and stylistic fashion. Most men would attempt to imitate and copy Nas\\' style because they believe it will enable them to be as close to the reality Nas is a part of.\\n\\nNas\\u2019s album cover for  I Am\\u2026  was shot by Danny Hastings and features a his face as a golden Egyptian one. It was created using a clay face mold, which nearly killed Nas.  According to Danny :  The funny part was that the first attempt, Nas was getting asphyxiated. We almost killed Nas. We cleaned him up, and he was like, \\u2018Let\\u2019s do it again!\\u2019 [\\u2026] Nas was a true sport.  Speaking on his album covers,  Nas said :  According The first one, you have him being a boy, very young. The second was a little bit older. And the third one, he was a king,\\u201c he continued. \"He already conquered the world. He was on top of the world. He was doing a lot of big things. We came with the concept of making a King Tut sarcophagus piece.\\u201d    Continuing the Egyptian theme, Nas also has a Pharaoh piece necklace.  \\n\\n\\nBaker  was an American-born French dancer, singer, and actress.  She began her career in the 1920\\u2019s as an erotic dancer  \\n\\n\\nNas big-ups his old-school sneakers here, putting them (and, by extension himself and his rapping) up against the of-the-moment  Nike Foamposites  and, presumably, the younger performers who favor them\\nPopular sneaker in NYC in the 1980s  \\n', u'[Produced by Salaam Remi]\\n[Intro: Anthony Hamilton]\\nLies and the pain\\nBetrayal; life\\n[Bridge: Anthony Hamilton]\\nIn danger\\u2019s face\\nLook what you\\u2019re facing, gave your heart away\\nAnd all the remedies couldn\\u2019t ease the pain\\nAll the hurt and betrayal; need to get away\\nIn a world so cold\\nYou gain your life just to lose your soul\\nNever thinking twice bout what the future holds\\nAll the lies and the games not worth fighting for\\n[Refrain: Anthony Hamilton]\\nThe world is an addiction\\nServing up a fix\\nThe world is an addiction\\nIt\\'s way too much for me\\n[Verse 1: Nas]\\nSnitches and rapists in the street, crime to the fullest\\nAsking niggas if they got any extra nine bullets\\nThey deny me that\\nThey know the bullets they loan me\\nBe the same ones that probably had them lying flat\\n \\nstretched out\\nLetter T\\nIt\\'s better to dead a beef than let it breathe\\nThen we don\\'t succeed\\nCause then you gotta murder dummies\\nWaste your time, they allergic to money\\nI\\'m never squirmish to blood\\nWe can thug and get out of hand\\nWhat\\u2019s the options\\nOnly conclusion is shooting\\nBullets popping, hoodlums dropping\\nFear any day that the feds will come knocking\\nWas young and nervous\\nAsking myself what\\u2019s my purpose\\nIn the back of a paddy wagon, bracelets aching me\\nPigs ignoring, I\\'m asking what precinct they taking me\\nThese cops can\\u2019t relate to me\\nDeath to prison, empty vacancy\\n[Refrain]\\n[Verse 2: Nas]\\nThou shall not be selfish, real nigga commandments\\nKnow a billionaire, he has everything but a fam\\nGuess how angry this man gets\\nHad so many bad chicks in his bed\\nStrange sex, same sex\\nHas addictions that are sadistic\\nChain of events, habits\\nHe puts cocaine on his prick and acts sick\\nSelf-esteem needs boosting, alcohol consumption\\nNicotine fusion, some athletes juicing\\nPastors quote biblical chapters, Psalms\\nAll along he\\u2019s into bestiality porn\\nAnd it\\u2019s wrong, so I keep the Cali weed in the bong\\nAnd I\\'m strong but the female anatomy got me sprung\\nAnd these women need shoes and baddest cars and condos\\nFine clothes and these fiends needs to get high so they find dough\\nTo mainline dope, and ya\\'ll know\\n[Refrain]\\n[Verse 3: Nas]\\nSo many vices, habits\\nMine of course, bad chicks\\nMy response to any advice on what is the essentials of life\\nI\\'m just rebellious, not selfish\\nGuess we all share different definitions of what wealth is\\nI need the best things in life, that\\'s women, that\\u2019s cars, cigars\\nA vintage bottle on ice that\\u2019s priceless\\nThe other night, just in the emergency room\\nA patient said she needs to see a doctor soon\\nDoctor busy operating on a lady who\\'s sedated\\nHe can barely concentrate cause he\\u2019s newly separated\\nHis estranged wife likes entertaining her acquaintance\\nIn the house they were married in,\\n mad people waiting\\nSome young some old, heads and stomachs aching\\nFilling out an application cause they all need medication\\nBut the doctor need love or a quick vacation\\nCalling up his travel agent\\nSame time, premedidating murdering his ex wife\\nLife, savage ain\\'t it\\nSome need Xanax just to maintain it\\nWe all need faith cause the world keep changing\\nLet go of the illusion, start some restraining\\n[Outro: Anthony Hamilton]\\nJust hold onAnthony Hamilton delivered the deep-voiced hook, Nas slid into tight over atmospheric accompaniment. Rap-cinema at full force, It uses drops. The first drop is pretty thin, leading to more of a build-up like \\u201cOne Mic\\u201d. Violins and full orchestra sound, nice bassline, verse two includes some more elements. Nas is heavy back onto his story-mode and this one is on-point as the end of the track comes together.  This song samples \\u201cSomething\\u2019s Missing\\u201d by The Five Stairsteps & Cubie ft. Alohe:  http://www.youtube.com/watch?v=FY6BlLCOrjc\\n\\n\\n\\n\\n\\nHe\\u2019s capturing the situation of an unfortunate person. You put 110% in, and you get crap in return. You\\u2019ve tried everything, but you still cannot ease the pain.  \\n\\n\\nMatthew 16:26 (NIV) says:  What good will it be for someone to gain the whole world, yet forfeit their soul? Or what can anyone give in exchange for their soul?  In their quest to attain the addictions of the world (such as fame, money, drugs), many lose things much rarer such as family, friends and their soul.\\n\\n\\nThis song is about hurt, lies, betrayal etc.  It\\xb4s way too much for me  Is the mindset we have and leads us to escape \\u201clife\\u201d with such as alcohol, drugs sex. We use it/do it so much we create an addiction and it becomes our whole world/life to for instance drink.  \\n\\nThis first line tells where Nas comes from, Queensbridge, a place where crime is at is fullest, but after all, he always kept his mind positive because The World Is An Addiction.  \\nNas was looking for bullets to protect himself in his younger days. No one would help him out because they know how easily the gun could be pointed at them in the future\\n\\nThe dead body was laid out on the floor, arms to the side, shaped like a letter \\u201cT\\u201d, as though they were crucified.  \\nBeefing eats up time and hinders success of who ever is beefing\\u2026so its better to kill the beef and the remove the burden that can hold you back in achieving more in life. He goes on to say that if you don\\u2019t dead it, then you have to murder someone which of course is worse.  This likely refers to the ending of the infamous  Nas vs Jay-Z  beef\\nNas mocks the people who want to beef with him for their lack of money, suggesting if they got it they would be a danger to themselves.\\nMost people may become sick or uneasy at the sight of large amounts of blood, but not Nas.\\nNas is describing the gangster mentality here that there is no other option for retaliation than to shoot back and kill whoever offended you.\\nWhen he was young in the hood he asked whats the purpose of his life when he was born into this god forsaken place. No money or job, could barely pay the bills so he was forced to do illegal activities to survive. So now he is worried getting caught by the police.  \\nPaddy wagon is an old-school term for those van/trucks the police use to escort prisoners en masse to central booking.  I\\u2019ve been in one before, here\\u2019s an old picture but damned if they don\\u2019t still look exactly like this:    Interestingly, you can try to communicate with the cops driving you but they usually ignore you or crack jokes.  These two guys don\\u2019t have cuffs on, but every time I\\u2019ve been in one everyone\\u2019s handcuffed.  I imagine this is to deter fighting while you\\u2019re in there.\\nCops are usually white while Nas is black, to become a cop you need money for education for instance. To get a job you often need contacts. Add that with this scenario being played out in the 90s when there was a whole lot more and openly racism going on.    How could one of these cops relate to a poor kid who dropped out of highschool, with death, empty vacancy and people going to prison surrounding him why he started with illegal activities?\\n\\n\\nNas\\' play on the  10 commandments  of the Bible. One of his commandments of the streets is that you should give back to your community once you make it big. Nas isn\\u2019t fronting, he has used his success to help propel many Queensbridge rappers onto the big stage, including:  Nature ,  Jungle ,  Wiz , and  Horse . (He also backs the Queensbridge based rap group,  Bravehearts ).  \\nOne the themes of this song is the age-old adages that \\u201cmoney can\\u2019t buy you love or happiness,\\u201d and that \\u201cthings are not always what they seem.\\u201d One of the most famous literary examples is The Great Gatsby where Gatsby is a rich man who throws parties but doesn\\u2019t really interact with them. This fellow has the cash, but that can\\u2019t afford him family or stop his destructive habits.\\nOn  Blaze A 50 , Nas also touched on a wealthy man with a sadistic side, only in that story he killed the man:  Caught him with his spanish maid  He had a lighter with a can of spray, burning her legs  She tied to the bed, sex S&M, sadomasochistic  Sadistic, yoked her from behind, blew him out exsistance  His maid cried \\u201cNo\\u201d, lucky she was blindfold  Naked with mad burn marks all on her thighs, yo\\nhttps://www.youtube.com/watch?v=Wu-MKSmVT7s#t=58\\nInterestingly, the billionaire this song is about has low self-esteem and uses alcohol to \\u2018drown\\u2019 his sorrows and  gain confidence.\\nWhen you smoke nicotine and get it into you\\u2019re blood it makes you feel good about yourself and a state of euphoria credited to the effects of dopamine which is released when nicotine stimulates your nervous system. Juicing is illegal but some athletes doubt they have what it takes to be a champion without relying on supplement drugs like steroids, tying into the previous line of self esteem requiring a boost. If they believed in themselves more they wouldn\\u2019t have to resort to such means to feel confident.\\nPastors are speaking on things from the bible and in turn telling you how you should live your life.  But the entire time behind the scenes he is a sick individual himself. Nas can\\u2019t come to grips with the bull shit and hypocrisy of our society, so he always has a bowl of that bomb weed packed.  California is famous for having the best Mary Jane because of the heavy population of stoners and the ideal growth conditions  Besides that, Nas could also mean that because the pastors are into bestiality porn, or other sinful things, there is no reason he can\\u2019t sin, or do something wrong, like smoke weed  \\nTo quote The Bible:  \\u201cWatch and pray, that ye enter not into temptation: the spirit indeed is willing, but the flesh is weak.\"  \\u2013 Matthew 26:41    The flesh is weak indeed.\\nThe women will let him fuck, but at the cost of expensive shoes, new cars, and housing.\\n\\n\\n\\n\\nThere are so many evils around us that can throw our lives off course if we choose to abuse them, bad chicks being included. He follows by saying it\\u2019s okay to be a little rebellious, as long as your not selfish, and that it takes a lot more than money to have what he considers real wealth.\\nThe things he mentions are all materialistic things and even though this is Nas\\' definition of wealth it\\u2019s probably not his definition of happiness. This distinction between wealth and happiness is the main theme of this song and it\\u2019s especially made clear in Nas\\' 2nd verse.\\nHe\\u2019s telling a story about a doctor who\\u2019s newly divorced thus he\\u2019s distracted thinking about his life which has turned to shambles.\\nThe doctor is now separated from him wife and she hasn\\u2019t wasted time in sleeping around; while they are technically married, she\\u2019s isn\\u2019t quite cheating on him though. She seems to have kept the house in the divorce and is now desecrating a place that had special memories for him.\\n\\nIn an album largely from the first perspective, about Nas\\' journey coming up in the game and his lost love, Nas takes an outer perspective and tells an exhilarating story about a doctor\\u2019s demise. If Nas decided to become an author of fiction or short stories, I\\u2019d be first in line to buy that nahimsayin?\\n\\nXanax  or some may know it as  \\u201cXannies\\u201d  is a prescription drug that tends to anxiety disorders, panic disorders, and nausea due to chemotherapy.    This is the addiction that Nas refers to in the title.\\nhttps://soundcloud.com/rapgenius/nas-on-faith\\nWe all need some type of belief system because the world and life in general can be confusing. They change everyday, and some changes are too drastic to handle without some kind of faith to make sense of our strange existence. Whether it\\u2019s through mythology, art, science, or religion \\u2014 we need belief and that\\u2019s okay; it\\u2019s our nature.  Now the second line is an interesting  oxymoron . How are you supposed to \\u2018let go\\u2019 and \\u2018restrain\\u2019 at the same time? Well, you can let go of the illusions that often come to dominate traditional belief systems, and at the same time you can show some restraint on your lifestyles and not severe your roots. Some traditions need to be reformed, but many need to be maintained. Otherwise we become lost in this rough world.\\n\\n', u\"[Produced by Swizz Beatz]\\n[Intro: Miguel]\\nBad bitches, champagne wishes\\nFreaks only, baby -- let me take pictures\\n[Nas and Miguel]\\nLife is good, life is good\\n[Hook: Swizz Beatz]\\nC\\xeeroc on splash\\n, \\nsummer on smash\\nTop all gone, got the on summer on smash\\nTank top on, summer on smash\\nMy neck got a whole lot of glass\\nGot the summer on smash, summer on smash\\nY\\u2019all know who got the summer on smash\\n (WE DO!)\\nLook at baby girl showing that ass\\nShe let the world know the summer on smash\\nGot the summer on smash, summer on smash\\nEverybody get the summer on smash\\nWe got the summer on smash, summer on smash\\nY\\u2019all know who got the summer on smash\\n[Verse 1: Nas]\\nGot the summer on smash, eighteen karats\\nLittle overweight, hit the gym\\nLet\\u2019s go get the abs in\\nLouis belt hangs on the waist it ain\\u2019t even fastened\\nI\\u2019m trying to get every number from every woman passing me by\\nShe\\u2019s fly; Black, Asian\\n, \\nBoricua\\nItalian, mixed chicks, Middle Eastern\\nEritrean, Ethiopian, \\nhow you opening\\nJust rolled four with them bout to smoke again\\nRose-gold Rollie\\n, \\nriding the top down\\nHow does Pucci bathing suits on a yacht sound\\nSend a massive e-mail to the females\\nTell \\u2018em where to meet us, give em the details\\n[Hook]\\n[Verse 2: Nas]\\nIt\\u2019s the jam here, check it\\nIt\\u2019s the summertime, women damn near naked\\nIt\\u2019s single season, they choosing who to mess with\\nI just smashed another belt for the record\\n, respect it\\nNas get you out your seats, play this in your Jeeps\\nMy people in the streets\\nI make it feel like it\\u2019s the beach\\nMy goons close by\\nI\\u2019m daring one of y\\u2019all to reach\\nI\\u2019m protected like the President\\nAin\\u2019t gotta give a speech\\nGot a compass on the wrist\\n, \\nIllmatic on the feets\\nAnd they ain\\u2019t even out yet,\\n \\nshe like Ciroc peach\\nChain-smoke cigars\\n, count a whole lot of cash\\nAnd y\\u2019all already know who got the summer on smash\\n[Hook]\\n[Verse 3: Miguel]\\nI gotta do something kinda unexpected, huh\\nBad bitches, champagne wishes\\nFreaks only baby\\nLet me take pictures\\nSkin, sin\\nWait, do you know whose pool you\\u2019re in\\nBeaches in Brazil, steaks on a grill\\nYour body is a weapon that you can\\u2019t conceal\\nReal make money when the freaks call\\nSummer on Mars, it\\u2019s totally Total Recall\\nLike, pura vida, she butterfly\\nCaliente, Mami vente, vente comigo, ayo\\n[Hook]\\u201cSummer on Smash\\u201d is a rambunctious party-starter featuring Miguel. The Don cooked up a feel-good banger \\u2014 a summertime anthem.  The song has a distinctly different feel from the rest of the introspective Life Is Good, but that was all by design. As Swizz Beatz commented on the track in an interview with  MTV :  I listened to the album and the whole entire album was super lyrical, it had all the different elements, I just think that it was perfect because it was dropping in the summer  Instead of crafting something cerebral, Swizz believed that there was room for \\u201csomething fun\\u201d on God\\u2019s Son\\u2019s 10th LP.  You know as a producer you\\u2019re a fan of the artist so you have stuff like, \\u2018Yo I need him to do this.  In this interview Miguel explained his part: why he rapped instead of sang and essentially changed the whole track to Swizz singing the hook.  http://www.youtube.com/watch?v=WmU0BCGfO5U#t=3m55s  The slick production features heavy drums. Electric organ lead the way on the verse portion of the beat with swizz\\xb4s \\u201chey\\u201d in the background, followed by violin melodies.\\nNas himself says in this interview it\\u2019s not good when it\\xb4s completely serious:  http://youtu.be/YuaJzK2i8as?t=35m10s  It\\xb4s also ironic how people hail for instance Jay Z for doing songs like \\u201c Girl, Girls, Girls \\u201d and \\u201c Big Pimpin' \\u201d as you can see  here  and  here  meanwhile criticize Nas when he does a more radio friendly song like this one, \\u201c Hate Me Now \\u201d or \\u201c Oochie Wally \\u201d.  \\n\\n\\n\\nBest three things in my life right now: my daughter, my son, and my music.\\n\\nA Diddy-endorsed brand of French vodka    The drink has lately been  sponsoring   parties  for Swizz as well\\n\\nTo have something on smash means to dominate it. Swizzy believes that he has the summer on smash no matter what.\\nThe roof of his car is gone..his album dropped and he is stunting for the summer.they got the summer on smash\\n\\nA lot ofshine on his neck. Swizz is flossy too.\\nthe life is good album dropped and is getting steady airplay\\u2026nas got the summer on smash\\n\\nThe summer makes girls \\u201cskin out\\u201d meaning dress like their going to late night clubs and parties even when its still early in the day. They wear leggins and tight-up skirts and got they bras nice and tight\\u2026.tities out and everything.  \\n\\n\\n\\n\\n\\n\\n\\nPerhaps Nas should have a talk with RG\\u2019s guiding light and fitness guru,  Maboo  \\nfly belt. nas is sagging his pants like the true hood dude he is.\\n\\nHe is describing the different types of females that\\u2019s passing him by that he wants to smash (see what i did there)\\n\\nPuerto Ricans proudly refer to themselves as Boricuas\\n\\n\\nas in opening the blunt to put the weed in. he rolling heavy and about to roll another\\nSomething like this:  \\n\\n\\n\\nDear Entire Female Gender,  Hey! It\\u2019s Nas. I\\u2019m bored. Lets hang out. Come to my yacht. If you\\u2019re wondering how I got all your E-mail adresses, I\\u2019m the fucking G.O.A.T.  Sincerely,  Nasir\\n\\n\\nhis flow is that good shit right now, check it is what them old school rappers say before they kick a meen flow and rock a mean mic\\nDuring the summer women look their best, working out in the gym to get that body right to show it off for the summer at the beach. Beach wear is practically water lingerie anyway.  \\nContrary to Winter, which is cuffing season.  Girls choose who to mess around with for the summer \\u2014 a \\u2018single\\u2019 season as opposed to a long term commitment.\\nNote the wordplay on belt and record as in boxing. He is comparing getting women to getting another W (win) under his belt, duh winning!  \\n\\n\\n\\n\\nNas knows full well flaunting wealth generates hate, therefore he keeps his bodyguards around. Most likely this is an ego-boosting exercise to show his enemies how invincible he is.\\nThe President is always protected by the United States Secret Service, though lately the Service has been  more trouble than they\\u2019re worth\\nHe has a crazy watch on; the bezel has the continents on the floor of the watch, matching up with the compass imagery.\\n\\nWhile Nas has had a relationship with the Fila shoe company  since 2008 , there are as yet no reports of any \\u201cIllmatics\\u201d sneakers  \\n\\n\\nRappers have long taken to being photographed with cigars as a mark of status:    \\nThey got lots of money to do it big in the Summer\\n\\nInterview with Miguel talking about this song and his verse  http://www.youtube.com/watch?v=WmU0BCGfO5U#t=3m55s\\nAlthough it  is  unusual for Miguel to rap rather than sing, the rap below is hardly \\u201cunexpected\\u201d, as it appears earlier  at the beginning of the song\\n\\n\\n\\nskin(showing it or seeing her flesh) is a sin called fornication. taking naked pictures showing her skin then sexing with him\\nIT\\u2019S MY POOL, BITCH!  \\nClassic summer icons  Clean Beach    Barbeque  \\nIn polite company you are expected to conceal weapons. There\\u2019s no disguising her body though, no matter how much she\\u2019s wearing.\\n\\nThey\\u2019re living a life that\\u2019s out of this world.  Total Recall  was a 1990 sci-fi film (which is currently undergoing a  totally un-necessary remake ) about a man who gets himself virtual vacation memories of the planet Mars, and the series of events that follow. The film was loosely based on the Philip K. Dick story \\u201cWe Can Remember It for You Wholesale\\u201d.  \\nProps to Noahzer  pura vida is a Costa Rican saying, basically stating that Life is Good.\\nShout out to @g0harvey for this..I\\xb4ll post it for him since he says he has no points\\u2026  This line means:  Hot Mami come, come with me, ayo.\\n\", u\"[Produced by Buckwild]\\n[Intro]\\nYeah, Harlem, Bronx, Brooklyn\\n[Verse 1]\\nLet's make a bet, I know the reason you ain't make it yet\\nYour stage was set but you ain't see the tedious ingredients\\nThat go inside of a rider,\\n \\nyou hiding from problems and\\nYou never knew how to make dollars\\nYou couldn't make orders at a drive-through McDonald's\\nI was fly at the Apollo\\n \\nwith Black Jason, 89 with a bottle\\nNiggas jealous of Jason, dark green seven forty, no tint\\nRollie on wrist, gleaming he rock the baldy\\nUsed to ride with him to Brooklyn, Lewis and Halsey\\nCop chocolate Thai, Vernon style and burn it down\\nMy nigga hype in the federal joint, verdict out\\nTwenty years getting money in the Dirty South\\nThat's alleged, you see my nigga's a stand up dude\\nSo I'm yelling free my nigga\\nMy nephew godfather Malik, he jammed up too\\nFor what his hands usually call for but he ain't do it\\n[Hook: Victoria Monet]\\nWho you are ain't in the recipe to what I am\\nCause where I'm from\\nMan, what I see you wouldn't understand\\nWhere I been and what I do\\nNo matter how you try you never can\\nCause where I'm from\\nAnd what I see you wouldn't understand\\nWhere I been, where I been\\n[Verse 2]\\nYou ever been on the other end of a robber's revolver\\nNot me, call me Lucky Nas Castellana\\nOr been shot in the medulla oblongata\\nAnd survived\\n \\nand praise God with a bullet I never collided\\nSome did and they lived, I salute the gods\\nMoet spilling, splashed by mistake on my Timb boots for y'all\\nN.Y. nigga, Adidas, jogging suit\\nShelltoes, slim, fly nigga\\nHudson River, rent a boat,\\n \\nt-shirt with a dinner coat\\nA vintage Fila like\\n \\nI'm the ghost of Domencio\\nOn any day getting throat in a tinted vehicle\\nLike a old BK gangsta, but I'm the CEO\\nOf Nasty Nas Enterprises, mastermind, made men\\nMy success symbolizes loyalty, great friends\\nDedication, hard work, routine builds character\\nIn a world full of snakes, rats and scavengers\\nNever make choices out of desperation, I think through it\\nBreak through walls like Pink Floyd,\\n \\nand drink fluids\\nOf all kind of alcohol y'all\\nVineyards in France, yachts out in Cannes\\n[Hook]\\n[Verse 3]\\nNow holla at a millionaire\\nRollie, Hublot and Audemar, deciding which one to wear\\nWho to screw, what to drive,\\n \\n550 with the cream guts inside\\nOr the Super Sport Range truck is fly\\nDiamond ring on my knuckles like fire, bitch\\nGats on us, I don't really trust these guys\\nSpend a couple bucks a night on bottles on cuties\\nIf she beautiful, the lustful type, I'll hit it and bust inside\\nFuck it, I'ma die one day, they gon' probably make that day a holiday\\nUntil then, let's go on a shopping spree\\nSpeaking for my real niggas, only OGs\\nCertified who kill niggas when put in that seat\\nBut tonight we on chill nigga, chill mode\\nSpill more Spades,\\n \\nlisten to Yeezy and Hov,\\n \\nsome Rozay\\nIt's like we always on the grind with no brakes\\nSo tonight we gon' act like we on vacation with this on rotation\\n[Hook]\\n[Outro]\\nTrue B nigga, yeah\\nFor my hood niggas, yeah, yeah\\nTo my man Eric B, what up, yeah\\nThe whole city, I see you\\nTo my man Big Slate in the fed joint\\nMy man Spunk, free my niggas\\nAll my niggas, yeah\\nClub Vernon, I see you\\nI see you, yeah\\nAnd Baltum, I see youBuckwild gifts Nas a gem with an old school essence. It samples mostly  Mike Jaye\\xb4s \\u201cLet Start Love Over\\u201d.  You can hear the classic line  \\u201cMake em clap to this\\u201d  by  Eric B  and  Rakim  sampled in the background of the intro and hook if you listen carefully. That is to put more emphasize on where he\\xb4s from (grew up in late 80s early 90s in New York when that song was poppin) \\u2014 the theme and title of this track.  \\u201cEric B is President\\u201d  is a timeless song and it makes this song so much more nostalgic.  You didn\\xb4t catch it and don\\xb4t believe us? Hear Nas recite the line during the hook in his Arsenio Hall performance:  http://youtu.be/5A-mvrrEP68?t=3m7s\\n\\n\\n\\n\\n\\n\\n\\nYou are not a hustler. Nas was born in the projects, got rich, lost his paper, and has now made it back; Life is good.  \\nMaking orders is slang for selling records; the people Nas is directing this song against couldn\\u2019t even take orders at McDonalds. Nas has no problem with it personally \\u2014 his most successful album sold over  5 million copies world wide.\\nThis refers to the  Apollo Theater  which is a famous music hall in New York. It has seen great performers like  Aretha Franklin  and  Michael Jackson .  \\n\\nAs Nas states in the  line below , Black Jason was a close friend of his. The scene he lays out is him and his homie, getting drunk or in the process of getting drunk, as they arrive at the  Apollo Theatre  in 1989.    The Apollo Theatre in Harlem, New York is by far the most famous performance venue associated with African American entertainers, whether they be musicians or actors.\\nFirst dude I saw with a gold Rolex was in 1989, Black Jason, my man from my block\\nThe BMW 7 Series, of which the 740 was a part,  started production in 1986 , thus giving credence to Nas' memory here\\n\\u201cRollie\\u201d  \\u2014 Slang term for  Rolex . A Rolex is an expensive luxury watch.    \\nNas and Black Jason\\u2019s weed spot was at the  corner of Lewis Avenue and Halsey Street  in Brooklyn\\u2019s Bed-Stuy\\n\\n\\nNas always trusts his homies, so unless his homie admits he did it, Nas is always going to believe they\\u2019re innocent, even if convicted.  This line is similar to a sentiment he shared on  Get Down,  where he stated:  The D.A. who tried him was lyin'  I wanna crack a smile when I see him  Throw up a fist for Black Power, cause all we want is his freedom  \\nNas is saying Malik is in jail for battery. Although Malik usually wants to hit people, in this case he is innocent according to Nas.\\n\\nBasically, Nas is unique and no one will ever be able to replicate him or his music. He was molded by his childhood in Queensbridge, his life and travels, and his parents/family and this all added up to create Nas' unique musical sound.  Since no one will ever live a life exactly like Nas, they\\u2019ll never be able to duplicate his music, ever.  \\n\\nI love it\\n[sic].  Nas here conflates the names of two legendary mobsters,  Charles \\u201cLucky\\u201d Luciano  and  Constantino Paul \\u201cBig Paul\\u201d Castellano  \\u2014 not Castellan a , as Nas has it here  Big Paul Castellana never did dirty work on the streets. He grew up on the right side of the tracks, unlike his Cousin Carlo. So PC Never had a gun pointed at his Face therefore proving the phrase \\u2018'Call me Lucky\\u2019\\u2018 correct.\\nTo be shot in your Medulla Oblongata and survive is some  \\u201cG Shit\\u201d .  The medulla oblongata  is the lower half of the brainstem\\n\\nA line said almost backwards, the grammatical correct line would have been \\u2014\\u2013 \\u201cAnd praise god I never collided with a bullet\\u201d. This is of course intentional, something he has done  before  and is no stranger to. Nas even made that whole song  backwards .  \\nExamples of this is 50 Cent who got shot  nine  times. One inch here or there and he would be dead, he should salute God if he hasn\\xb4t yet! It became the basis of the menacing aura that he used to catapult himself to fame (with the help of Eminem and Dr. Dre, of course).    Tupac Shakur survived the first time he got shot. Cam\\xb4ron is another example of someone who survived. He got shot twice in the arm.     It\\u2019s also a reference to the 5% nation, considering the fact they refer to one another as god. So he could also be saying he salutes those \\u201cgods\\u201d, both those that have passed away and those who survived. Nice double entendre.\\nSplashed on his  Timberland Boots .    Nas is wearing a pair here.  \\n\\nLike these  \\nThe Hudson River  is a 315-mile (507 km) watercourse that flows from north to south through eastern New York State in the United States.  \\n\\nA rather humble article of clothing don\\u2019t you think?  \\nFila Suit  \\n\\nThe \\u201cDomencio\\u201d here is Domenico Benson, a Brooklyn street figure who was  killed by Wayne Perry , supposedly on the orders of legendary dealer  Albert \\u201cAlpo\\u201d Martinez .  He is center in the picture below:  \\nHe\\u2019s getting oral while sat in a car. With tinted windows, nobody outside can see.  \\nNas compares being a gangsta to running a company. If it was, he would be the CEO (Chief Executing Officer), always the highest person in the company. CEO\\u2019s are often more than businessmen; like Steve Jobs, they guide companies with their vision.\\nDespite his success as a rapper( 8 platinum disc records! ) his friends didn\\u2019t opt to backstab him or rob him, showing their loyalty to Nas.  \\nNas didn\\u2019t get big by luck, he got there by working hard and never stopping the  hustle.  He knows that in a world full of crooks trying to keep you down (symbolized by snakes and rats) the only way to become successful is by always grinding, even during the hard times.   If you don\\u2019t have work ethic, you\\u2019ll never make it because talent alone won\\u2019t get you anywhere. So get working!  \\nNas doesn\\u2019t allow emotion to clout his mind. Instead of making snap decisions when something drastic happens, he waits and thinks through what he wants to do and makes sure he makes the correct decision.  This vision to think through big decisions is why Nas is still around making great music \\u2014 while others ruined their lives and careers by not thinking thing through, Nas always made the right choice for himself.  \\nThe Wall  is a 1979 concept album, later turned into a  movie , by the band Pink Floyd about a rock star named (surprise!) \\u201cPink Floyd\\u201d who builds a metaphoric \\u201cwall\\u201d between himself and the rest of the world, which allows him to act fascistically towards his loyal audience.  At the end of the record, he tears down the wall and perhaps finds a bit of redemption  \\n\\nNas has got money, and loves the finer things in life like great wine from France and while he\\u2019s there why not chill out on a yaht in Cannes?  \\n\\n\\nThe last two verses described why Nas is successful, and with the start of the third verse he starts to flaunt that success.  While some might hate him for making it big,  he hopes that you will recognize the struggle he had to go through to become a success (or millionaire) from his humble start as a poverty stricken teenager in the projects.  \\nWatch Talk. Nas owns a Rolex, Hublot, and an Audemars Piguet but he does not know which one he should wear.  \\nMost people only have one car and one girl/guy. Nas' success has given him the independence to choose. This shows he\\u2019s also seeing the positive sides of his recent divorce.\\n\\nCould he be talkin about the benz    or the beamer    or the other benz  \\ndope.  \\nNas' famous pinky ring.  \\n\\nAfter being in a destructive relationship  that ended with a divorce  with the singer,  Kelis  \\u2014 it\\u2019s no surprise that Nas is just looking to have a good time and isn\\u2019t interested in any long term relationships.  Nas uses his money and clout to pick up random girls at the club, bang them, and then repeats the cycle the next night. This shows that he\\u2019s not interested in much more than one-night stands.  \\nDue to his impact on rap, Nas is predicting that the day of his death will eventually be a celebratory day of remembrance. Seems about right for a man that dropped what is regarded as the  greatest hip hop album of all time .\\nThe shopping spree here is a metaphor for living life to its fullest. Because Nas knows that he\\u2019s going to eventually die, he\\u2019s going to spend his remaining days on Earth balling out \\u2014 which for him means smoking weed, banging girls, and spending money on nice things\\u2026.  all while dropping some knowledge of course!  \\nNas hangs with former killers. However, this song is celebratory and all his homies are on chill mode, but they will kill if you put them in that \\u201cseat.\\u201d You shouldn\\u2019t test their queen roots.  Below is a picture of Nas' brother Jungle. In the Behind the Music documentary, Jungle says he once wanted to shoot 2pac. Peep the video below.    http://www.youtube.com/watch?v=avONGkgtofY\\nArmand de Brignac champagne, colloquially known as \\u201cAce of Spades\\u201d because of the bottle design, is an expensive (if overly sweet) bubbly that  Jay-Z owns a stake in  \\n\\nHe means Kanye West and Jay-Z, who collaborated together on Watch the Throne.  \\n\\nDouble entendre:  Continuing off the listening line, Nas references Miami rapper Rick Ross, the only MC featured on  Life Is Good .    Continuing off the Spades line, Nas references an a different type of champagne, an expensive French brand,  Ros\\xe9 .  \\nA car with no brakes doesn\\u2019t stop. Essentially Nas is saying that he is very industrious, so today he deserves celebration. Seems about right for a man on his  tenth album .  \\n\\n\\nQB= Queensbridge. Here Nas says \\u201cTrue B\\u201d instead. Queensbridge is the infamous housing projects in the Long Island City neighborhood of Queens.    Notable former residents include  Metta World Peace ,  Mobb Deep , and Nas.  \\nEric B is Rakim\\u2019s ex-partner. Nas has been upfront about his  admiration for Rakim  in the past and now fellow Queens native Eric gets a shout out too.    Eric and Ra\\u2019s  \\u201cEric B Is President\\u201d  is sampled throughout this song.\\nNas will be repping New York until his death.  So, here he name drops the whole city! He wants everyone in NY to know that he cares about them and will always support them.  \\nApparently an old friend of Nas' who he also shouted out way back on  Represent . Even though he\\u2019s in prison, Nas still supports him.\\n\\n\\nVernon is a street in Long Island City, Queens. That is the location of Queensbridge, the housing projects that Nas is from.  \\n\", u'[Produced by No I.D.]\\n[Refrain]\\nYou love to hear the story\\nHow it all, how it all, got started, got started\\nStart it off, start it off, start it off\\nBack when, back when, back when, back when\\nBack when, back when, back when, back when\\n[Verse 1: Nas]\\nThe ill reminisce and think about the fly days\\nNothing like them 80\\'s summer NY days\\nHop on the MB5 days\\nMopeds, \\nPro Keds\\n, \\ncity split five ways\\nHow it all started, fifth floor apartment\\nA jigsaw puzzle aerial view of the projects\\nA kid saw struggle, buried a few of his partners\\nNow I chill in resorts, enjoying massages\\nCheck out the oracle bred from city housing\\nNas, I arise the dead by thousands\\nI remember seeing Shan chilling near his Audi\\nHollis had Run and them but I proudly\\nPut a poster up of Shan and Marley, that was art kid\\nYou love to hear the story how it started\\nThe bubbly I\\'m pouring wasn\\'t popped yet\\nBefore there was an audience to watch us\\nI assure you there was a process\\n[Refrain]\\n[Verse 2: Nas]\\nTo call them fake today is hate, real niggas extinct\\nPac left me inside a rap world with niggas that wink\\nAt other rappers,\\n \\nundercover niggas spit every way\\nWon\\'t be surprised if all their rides have federal plates\\nLet alone their wardrobes and Studio 4 flow\\nIt was real when I appeared\\nIt would\\'ve been some jaws broke\\nNas, my real name, stage name, same thing\\nHow could you let these lames claim king\\nI\\'m so ashamed, man\\nI light a L for Vernon\\nFor niggas who would burn in Hell\\nFor Vernon; 10th Street, 12th Street, Nightmare on Elm Street\\nPimps creep, delve deep inside the editorials\\nOf the ghetto queens, kings, stories true\\nWho possesses the testicular fortitude\\nTo blow away myths that\\'s a hindrance to all of you\\nYou blame your own shortcomings on sex and race\\nThe mafia, homosexuals and all the Jews\\nIt\\'s hogwash point of views, stereotypical\\nAnti-Semitic like the foul words Gibson spewed\\nAnd it\\'s pathetic\\nI don\\'t get the credit I deserve\\nThat\\'s why I hate doing interviews\\nBut I don\\'t sweat it, study long, study raw\\nMy man Dion said Nas over-think the songs he writing\\nI\\'m not a wack performer standing near a corny hype man\\nI got the Donism in me\\nI\\'m here to enlighten\\n[Refrain]A very nostalic vibe to this track. The production incorporates orchestral elements and musical references to both contemporary and golden age hip hop, including boom bap beats and old school samples. Which complement Nas\\xb4 lyrics about the 80s. The choir which leads the way and is truly beautiful.  \\u201cBack When\\u201d contains 4 samples:  The riff from \\u201cDouble Agent Jones\\u201d by Barry Moore Combo.  Vocals from The Bridge\" by MC Shan:  \\u201cyou love to hear\\u201d and \\u201chow it all got started\\u201d.   \\u201cAw Yeah\\u201d from \\u201cLive Routine\\u201d by MC Shan  Both of which fits perfect since Mc Shan was THE MC of Queensbridge back in the 80s (the times Nas are rapping about in the first verse) and one of his idol growing up, which makes this song so much more nostalgic.  Then another old school song is sampled: \\u201cRaptivity\\u201d by Ronnie Gee, which are also vocals of small phrases as:  warning\", \\u201cnew york\\u201d, \\u201cthe sound you are about to hear\\u201d.  Through his masterful storytelling on \\u201cA Queens Story,\\u201d \\u201cDaughters,\\u201d and \\u201cBye Baby\\u201d he paints a picture of growing up in Queens, the ups and downs of fatherhood and coping with a failed marriage. But it\\u2019s \\u201cBack When\\u201d that he\\u2019d choose if he had to pick one song that conveyed what he wanted to get across on this album. \\u201cIt goes into me reflecting,\\u201d he said about the track. \\u201cIf I say life is good, let me say why. Let me tell you where I come from.\\u201d \\u201cBack When\\u201d is a contrast of the then and now. \\u201cThe first verse tells you where I come from, and the second verse tells you where I\\u2019m at.\\nAll of this section, save the words \\u201cStart it off\\u201d, are sampled from MC Shan\\u2019s  \\u201cThe Bridge\\u201d , a song which was, not coincidentally on this nostalgic album, about Nas\\' beloved Queensbridge projects\\nThrough his masterful storytelling on  \\u201cA Queens Story,\\u201d   \\u201cDaughters,\\u201d  and  \\u201cBye Baby\\u201d  he paints a picture of growing up in Queens, the ups and downs of fatherhood and coping with a failed marriage. But it\\u2019s \\u201cBack When\\u201d that he\\u2019d choose if he had to pick one song that conveyed what he wanted to get across on this album.  It goes into me reflecting,. If I say life is good, let me say why. Let me tell you where I come from.\\u201d \\u201cBack When\\u201d is a contrast of the then and now. \\u201cThe first verse tells you where I come from, and the second verse tells you where I\\u2019m at.  From this:    To this:  \\nNas is a New York City native and the 80\\u2019s was around the time got big. At that time, hip-hop was almost strictly considered an NYC affair.\\nThose were the cool mopeds back in the day\\n\\n\\n\\n\\n  At an earlier time in hip-hop, New Yorkers repped their boroughs heavily and the entire city was in a competition for whose borough produced the best rappers.\\nNas lived his childhood in public housing\\nNas was raised in the largest housing projects in North America,  Queensbridge    Note the skill of the writing here: Nas rhymes  twelve syllables (!) in this line with the one that follows.\\nNas was raised by a single mother, he went through hardship and has lost some of childhood friends including his best friend Ill Will\\nNow he lives a luxury life, chilling in resorts and getting his body massaged.  Life Is Good\\nNas is the ghetto  Oracle  (a holy being that predicts the future)  \\nDouble Entendre\\u2026  His skill is so great that he spits shit powerful enough to raise the dead.  Zombies!    I think you could also add that the dead he\\u2019s raising is the dead rappers, both figuratively dead (like the rappers whose careers are dead that he talks about in the next line) and literally dead (like \\u2018Pac and Biggie). He raises the dead all the time by keeping their memories alive, being the one to \\u201c Carry on Tradition \\u201d (from  Hip Hop is Dead ), etc.\\nShan was the big rap star in the neighborhood!\\nMC Shan and Marley Marl were the first to put Queensbridge on the map with their 1986 anthem  \\u201cThe Bridge\\u201d  (sampled in the hook of this song).  Queens was already huge in Hip Hop thanks to Run DMC (from Hollis) and LL Cool J (representing Farmers Blvd, St Albans), but Shan and Marley were from the same projects as Nas. He used to see them in the street, of course he\\u2019s gonna rock their poster.    ^MC Shan with trademark Puma gear and  his face on his Shirt Kings\\nThe story of Nas\\u2019s career/life and how it started in Queensbridge  \\nBefore rap music became popular, hip-hop pioneers like Biggie, Pac, Nas and Big L went thru a process to make it an established respected genre.\\n\\n\\nIn today\\u2019s society, giving a negative opinion is looked upon as \\u2018hating\\u2019; the people who could handle negativity are seemingly all gone. As Nas and No I.D.\\u2019s friend and collaborator Common said on  \\u201cThe 6th Sense\\u201d :  Who am I to judge one\\u2019s perspective?  Though some of that shit y\\'all pop true it, I ain\\u2019t relating  If I don\\u2019t like it, I don\\u2019t like it, that don\\u2019t mean that I\\u2019m hating\\nWinking at another person signifies a secret you share with them and could be to \\u2018say\\u2019 it\\u2019s time to start doing whatever you conspired to do.  You could also slyly wink at someone to let them know you\\u2019re up to something to put them in a state of fear.  Nas  is claiming that when infamous rapper  Tupac  was shot down, he left him with a world full of rappers who are cautious and watch their backs making sure they \\u2018get\\u2019 another rapper before they themselves can be \\u2018got\\u2019.  Tupac\\u2019s death was surrounded with conspiracies that Biggie and/or his record label/group had ordered a hit on him. Pac was also cautious after  getting shot in an elevator at a studio where Biggie was recording in \\u201894 .  Could also be Pac left him inside a world full of homosexual/soft rappers as winking at another man could be considered gay by some.\\n\\nNumerous rappers in the mainstream media who are constantly dropping rhymes glorifying gangster-ism. Usually are in entourages of many bodyguards. Selling the image of a strong street character who raises a middle finger to the police and yet you just know they would be the first ones to snitch on their opposition. So it wouldn\\u2019t phase Nas or anyone else who agrees, if we saw them in the company of the feds.\\n\\nWhen Nas appeared (came up) in the rap scene, hip hop was real and the struggle to get into the rap game was real hard. Everything was real\\nThese fake rappers would\\u2019ve gotten treated like this back then:  \\nNasir Bin Olu Dara Jones, has retained his birth name in his professional life\\u2014simply shortening it.  He tried to  shorten it even further  in 2006\\n\\nThe main streets in Queensbridge\\nall these streets mentioned all surround and intersect with the queensbridge projects, so these are the streets nas and his crew grew up and roamed around. Vernon blvd is located on the other side of the projects and underneath the queensborough bridge. nas and cormega had shot videos at the park that is on vernon ave which has the bridge right above it. check out nas\\' one love video to see it.  \\n\\n\\nA euphemism for balls\\u2014\\u2014a slang term that is synonymous with bravery.\\n\\nhttps://soundcloud.com/rapgenius/nas-on-excuses   People come up with too many excuses for why they ain\\u2019t winning\\u2026 That\\u2019s normal for young kids, but a lot of adults are dwelling too much on things that don\\u2019t help them move forward.  Even I\\u2019ve been victim of this too but I just decided it\\u2019s not productive.\\nWhen Nas refers to Gibson, he is speaking on the  allegations  of anti-semitic imagery within the movie  The Passion of the Christ , directed by Mel Gibson.  \\nLike this:  http://www.youtube.com/watch?v=eKBjbgqLLfc\\nI write fast, but I always write too much, he\\u2019s always telling me \\u201cyou already had it, you don\\u2019t have to overthink it! You don\\u2019t have to keep writing. It\\u2019s done.\\u201d\\nThe \\u201cDion\\u201d here is likely  Dion \\u201cNo I.D.\\u201d Wilson , who produced this song  \\nhttps://soundcloud.com/rapgenius/nas-on-donism   A natural air about yourself that you carry with you that commands respect because you\\u2019ve been around, you\\u2019ve seen things, you\\u2019ve been through things that could really put a weak person down.\\n\\n', u'[Produced by Heavy D, Da Internz & Salaam Remi]\\n[Intro: Super Cat]\\nHe\\'s the heartbeat of the people\\nThe ghetto people, and when I say ghetto people\\nThe people who cannot afford to go to big concert\\nSome of these people do not even have TV, so they can\\'t afford cable\\nSome of them can afford a radio\\nSo the only thing they can listen to is the music\\nPeople the ghetto, people from the projects, street people\\nHortical ghetto youth who know what it is to sing about suffering and reality\\nNew York girl, dem a mad over we\\nNew York girl, dem a mad over we\\nNew York girl, dem a mad over we\\nNew York girl, dem a mad over we\\n[Hook]\\nNas the Don, Nas the Don, Nas the Don, Nas the Don\\nNas the Don, Nas the Don, Nas the Don, Nas the Don\\nInna New York City, inna New York City\\nInna New York City, inna New York City\\n[Verse 1]\\nSmoking a escubano,\\n \\nguzzle my second bottle\\nHope I don\\u2019t catch a homo,\\n \\ngrossing our net\\nSimultaneously making me climb higher\\nHeinous crimes behind me,\\n \\nsearch but can\\'t find me\\nFuck sadness,\\n \\nhad this been you having this lavish\\nHabitual happiness at me you wouldn\\u2019t look backwards\\nYou would have sex on condominium roof decks\\nSo anyone move next, I\\'ll hit you with two Tecs\\nRocking Roberto Cavalli no shirt on\\n \\nconvertible Mazy\\nMy Colombiana mommy riding beside me\\nEvery tat mean something, that\\u2019s my word on my body\\nI\\u2019ll have to lean something with that Mossberg shotty\\nMy niggas is ignant, put lead in your pigment\\nJust cause y\\'all was mad at all the years I was getting it\\nIn 97 the six,\\n \\n98 the Bentley\\nNow it\\u2019s the Ghost Phantom\\nAnd y\\'all can\\'t stand em but\\n[Hook]\\n[Verse 2]\\nArmy jacket swag\\nArmy jacket green and black\\nWith the square top pocket that snaps\\nWhere the gas at\\nPass that, not you,\\n \\nyou hold cracks in your asscrack\\nI never did that, my sock\\'s where my stash was at\\nYo, I used to listen to that Red Alert\\n \\nand Rap Attack\\nI fell in love with all that poetry I mastered that\\nCutting school with Preme team, the Fat Cat was at\\nFuture not crystal clear yet Baccarat\\nNow I\\'m the one who repping Queens\\nWay beyond your wildest dreams\\nBottles on bottles with sparklers surround my team\\nThat long cash get the baddest bitches out they jeans\\nTwenty years in this game, looking seventeen\\nI don\\u2019t lean: no codeine, promethazine\\nI just blow green, pick which bitch to bless the king\\nAlthough he\\u2019s on to another chapter\\nHeavy D gave this beat to Salaam for me to rap to\\n[Hook]\\n[Verse 3]\\nNew York is like an Island, a big Rikers Island\\nThe cops be out wilding, all I hear is sirens\\nIt\\'s all about surviving, same old two-step\\nTry to stay alive when they be out robbing\\nI been out rhyming since born knowledge\\nLike prophet Muhammad said the ink from a scholar\\nWorth more than the blood of a martyr\\nSo I\\'mma, keep it on \\'til I see a billion dollars\\nKeep your friends close and your enemies closer\\nLove model chocha Mommy pop it like she \\'pose to\\nEyes red shot like I\\'m never sober\\nBig time smoker, Indonesian doja\\nMini me\\'s you can hold up before you end up wet up from my soldiers\\nDon shit, under fire I remain on some calm shit\\nThis for every ghetto in the hood\\nNas the Don, Super Cat the Don Dada, understood\\n[Hook]The banger begins with the first use of a sample of  \\u201cDance in New York\\u201d by Super Cat, used as a means of explaining the importance of music to poorer communities.  Following this, Nas\\' lyrics are backed by an \\u201cairy\\u201d, boom bap-orientated production, composed by producers  Da Internz ,  Heavy D  and  Salaam Remi , containing influences of reggae, whilst also featuring a prominent \\u201cbass thud\\u201d, staccato drum and piano break \\u2013 similar in style to much of the production featured on Nas\\' debut album, Illmatic. Other parts of \\u201cDance in New York\\u201d are blended into the song\\u2019s production throughout.  Heavy D originally presented the song \\u201cDance in New York\\u201d, by reggae singer Super Cat to Remi as Nas mentions in the song:  Heavy D gave this beat to Salaam for me to rap to  In an interview with  LargeUp  Salaam broke down into detail how it was made.\\nTaken from a  1992 interview with Super Cat on Yo! Raps . Interestingly, Heavy D was present and Don Dada performed  Ghetto Red Hot , a single released in that year with an alternative Hip-Hop mix produced by Bobby Konders and Salaam Remi. In this case, Nas is that ghetto representative.  \\u201c Hortical \\u201d is Jamaican  patois  generally used to refer to someone who\\u2019s genuine or respected. In the final lines of the previous song on the LP,  Nasir addresses Donism , which is part of being hortical is his case.\\nJamaican slang for:  \\u201cNew York girls crazy for us\\u201d  This is also vintage and well known Reggae artist  Super Cat  singing.\\n\\nhttp://embed.vidyard.com/share/sYZk5gAOQqcgC2LMxF2rkQ\\nThis single\\u2019s release date (March 15th, 2012) is the 40th anniversary of  The Godfather , which is Nas\\u2019s favorite film.  This song\\u2019s title is from the famous character,  Don  Vito Corleone  Nas, The Don of New York.  \\n\\u201cInna\\u201d is slang for \\u201cin\\u201d. Sadly, not the singer Inna.\\n\\n\\u2018Escubano\\u2019 is the Cuban word for \\u201cCuban.\"  Nas uses this to insinuate that he\\u2019s smoking a Cuban cigar, a vice that is both  very expensive , and  illegal .  \\n\\n\\nThat\\u2019s \\u201chomo\\u201d as in \\u201chomicide charge,\\u201d not any other kind  Considering Nas is on his second bottle of alcohol, he hopes he doesn\\u2019t do anything stupid  Don\\u2019t  hype him up and make him catch a body like that \\u2026\\n\\nNas uses a couple of business terms to reiterate a common rap boast.  The first is \\u2018Gross,\\u2019 which refers to \\u2018 Gross Profit .\\u2019 Gross profit is the amount of money a business takes in, subtracted by the costs and losses that the business incurs. Nas uses this to refer to the profit he makes on all the music he has sold; and is still selling to this day.  The second is \\u2018Net,\\u2019 which refers to \\u2018 Net Worth .\\u2019 Net worth is a term used to describe the most common measure of wealth. It is measured by taking all of one\\u2019s assets and money, and subtracting all of their debts, ending with an accurate representation of their wealth. Nas applies this by using it to insinuate that he does, in fact, have a net worth, which is a term usually only used to apply to the rich or to businesses, insinuating he has a  LOT  of money.  Together, he says that whenever he earns money, he\\u2019s actually earning as much as his net worth, so his net worth is doubling every time he earns something.\\nNas talks about how he has \\u2018grown up\\u2019 morally.  He has went from committing heinous crimes in the hoods of Queensbridge, which he has talked about in previous songs, to being a pure artist, trying to help people find the truth in his music, putting all the problems he had had previously in life behind him.  \\u201cSimultaneously making me climb higher\\u201d can also refer to his much increased money.\\n\\nThis line talks about Nas trying to find himself when he was committing the aforementioned crimes. To find oneself is a common wish, especially among hurt or religious people, and Nas makes a commentary on that in this line.  He says that he\\u2019s not able to find himself, most likely because he has lost a part of himself with his upbringing.\\nAs Nas says in a recent  interview , his soon-to-be-released album,  Life is Good , was written with an extremely positive mindset.  This line illustrates that principle; with Nas renouncing sadness, the exact opposite of happiness.\\n\\nIf you had said lavish life, and  was  rich enough to buy habitual happiness, you probably wouldn\\u2019t think  twice  about fuckin on top of a condo  \\nThe  Tec-9  is a popularly referenced submachine gun, known for its menacing looks and high ammunition capacity. It\\u2019s very prominent in gangster rap culture, referenced by greats such as:  Rakim  Biggie Smalls  Mobb Deep  Kendrick Lamar  Big Pun  Cam\\'ron  OutKast  Nas threatens to use two of them to shoot up his opposers.  \\nAh, Cavalli jeans and topless \\u2014 a man\\u2019s favorite outfit (especially if you hit the gym frequently, as Nas does)  \\n\\nMaserati  \\nNas is  no stranger to Latina girls . In this line, mentions that the girl is from  Colombia , a South American country that was home to notorious drug lord  Pablo Escobar , from whom Nas took his \\u201cNas Escobar\\u201d alias    Colombiana  is also the title of a recent film about a female assassin\\nFirst meaning: My word on my body as in \\u201cI swear on my body it is the truth.\\u201d  Second meaning: He only has the truth about his life tattooed on him  Third meaning: A literal interpretation, its his words he has tattooed on him  \\nO.F. Mossberg & Sons  is one of the leading top-end shotgun manufacturers in the world.  \\nJust a clever way to describe shooting somebody. \\u201cLead\\u201d is a bullet, but it\\u2019s also a shade of the color grey. Pigment refers to skin color.  Nas\\' crew will add some lead-grey to your skin color. Free of charge, most likely.\\nWhile people were hating on Nas for his success after Illmatic and the following albums, Nas continued to make more music, building up his money  Nas uses a progression of luxury vehicles to illustrate this growth of wealth, in the next 4 bars.\\nNas uses 3 of the last lines in his verse to talk about the progression of cars he has rode throughout the years.  Nas was probably talking about the 1997 Mercedes Benz s600.  \\n\\nIn only one year, Nas went from driving an old BMW to a (probably) brand new Bentley, the epitome of luxury vehicles, and usually an extremely expensive vehicle.    Nas uses this to say that it only took him one year to blow up and realize his dreams, making enough money to go from an old, relatively inexpensive car to something that is actually an expensive status symbol.\\nThis line completes Nas\\u2019s chronology of the cars he progressed from owning.  Now Nas claims to be rolling in the dough, driving a  Rolls Royce   Ghost :    And  Phantom :    These are two of the most expensive and luxurious luxury vehicles one could own.  Considering the fact that both of these cars are usually symbolic of lavish wealth and richness, and the fact that Nas professes to own both of them, it shows an extreme weath, a willingness to spend on style, and a carelessness with money that is usually seen as a admirable quality in the rap game.\\n\\n\\n\\nThis line is reminiscent of Nas\\u2019s  Shootouts , in which he professes his love for army apparel and talks about how it is related to battle, using it to take cover in trees while he shoots at his enemies.  Dip behind trees in fatigues and squeeze, dodge and weave    Plus the lining is perfect for  hiding an Uzi .\\nThis line speaks to Nas\\u2019s realness. Whereas many rappers will just buy something, without really thinking about the significance and authenticity of the item, and just buying it for the looks, Nas speaks of his authenticity and the symbolism of the item.    Real army jackets and fatigues have extremely loose square-top pockets with fasteners, that are good for carrying ammunition clips and other battle supplies.\\nProbably refers to  Sour Diesel  weed.  \\nNaS wants the gas, but he doesn\\u2019t want it from the guy that holds cracks in his asscrack.\\n\\nNas makes a comparison between himself and other rappers in the game. While he claims to be a metaphorical  mafia don  in the song, he likens others to a don\\u2019s drug runners, who put cocaine in their asses to transport it.  Nas uses this to say that others in the game are under his command, and that they\\u2019re petty slaves to his dominance. On the other hand, Nas claims to put the drugs in his sock, not needing to risk being caught with it, because he is able to avoid the humiliation of anything up his ass.  This is also a clever wordplay, using ass and crack in the same line, to reference the popular term \\u2018 ass-crack ,\\u2019 meaning the cleft in between one\\u2019s buttocks.  \\nDJ Red Alert  was one of the major Hip Hop DJs in the New York area starting in the late 80s. He collaborated with  Boogie Down Productions , and helped breakthrough the artists De La Soul and A Tribe Called Quest  \\n\\nHosted by Mr. Magic,  Rap Attack  was the first exclusive rap radio show in NYC.  \\nAlthough Nas fell in love with the rap from the aforementioned artists, which he sees more as poetry than music, he also proclaims to have mastered the art.  The comparison between rap and poetry is common both  in hip-hop culture  and in  rap music itself , and Nas makes another contribution to the discussion with this line, especially as most of his music mirrors poetry altogether.\\nAs a young man in Queensbridge, Nas would cut school with members of  Kenneth McGriff \\u2019s  Supreme Team , infamously known for being one of NYC\\u2019s largest drug dealing rings.    This line also references  Lorenzo \\u201cFat Cat\\u201d Nichols , who was another neighborhood drug figure    For the full story of the Supreme Team and the Queens drug trade of the time, see 50 Cent\\u2019s dangerous truthful song  \\u201cGhetto Qu\\'ran (Please Forgive Me)\\u201d\\nAt the time when he was cutting school and hanging out with drug dealers, he did not know that his future would be as a famous and idolized rapper.  He uses the expression \\u2018not crystal clear\\u2019 to mean that he had some inkling of a belief that he could do this, but he was not sure that it was what his life would result in.  The line uses a popular crystal manufacturer,  Baccarat , to reinforce the imagery of crystal, and to make a small call-out to the fact that he is glamorous and knowledgeable enough to be able to name-drop them.  \\nThis line refers to the fact that Nas has been extremely faithful to the project and hood he grew up in;  Queensbridge .    He has repped QB in some of his most idyllic songs, including:  One Time 4 Your Mind  Memory Lane  Black President  The World is Yours  Take it in Blood \\nBottles with sparklers are usually a sign of success. And Nas has a lot of it \\u2014 so much that even his friends enjoy it.  his team gets bottle service.  \\nThe longer (more) money you have, the more \\u201cbadder\\u201d (better and sexier) girls you can have sex with.  Even the most random motherfucker could fuck a bitch, but how about the best bitches?  You, yeah you, you can\\u2019t fuck them, you\\u2019re one of those random motherfuckers.  BUT if you can\\u2019t, who can? Nas,  yeah that Nas . Why you ask? Because he got that money, long/high stacks of money.\\nThe Don  was recorded in 2011.  2011-17= 1994 . A reference to his debut album,  illmatic , which came out in 1994.    Nas is one of those highly blessed people who don\\u2019t age (\\u201clookin\\' 17\\u201d).  Nas then.    Nas now.    Ain\\u2019t shit changed.  In addition to Nas\\' fountain of youth appearance, he could also be implying here that though he\\u2019s been in the game for two decades, he\\u2019s still as fresh as all of the new guys coming onto the scene.  Nas made a statement similar to this a year earlier on \\u201c Rich and black \\u201d  The Don voice stay pristine like I\\u2019m still seventeen\\nNas avoids  lean  because it rots your teeth and makes you retarded  Q: is it still ok to take  Zan ?? Or is that off-limits too?\\nInstead of doing hardcore drugs like Codeine, Nas is only into  weed.  Nas uses \\u2018bless the king\\u2019 as an entendre for giving him oral sex, and says that he has a whole plethora of girls that he can choose from at any moment.    Nas attempts to paint a picture of a very happy life, getting high and having a large selection of female companions.\\nThis line alludes to one of Nas\\u2019s friends, producers, and mentors,  Heavy D , who passed away last year.    Nas says he\\u2019s not spiritually gone, only entering a new chapter of his life, a belief common to most beliefs, religions, and theologies.\\nSalaam Remi , who is known to frequently work with Nas, produced this beat. He also produced Nas\\' first single from Life Is Good,  Nasty .  Heavy D , the legendary rapper/producer who passed away recently (November 8, 2011), gave this beat to Salaam.    \\n\\nNas changes the instrumentations for 4 lines and then returns back to the original sampled instrumental of \\u201cDance inna New York\\u201d by Super Cat.\\nNas\\u2019s comparison of NYC to  Rikers Isle  gets at the turmoil present in both environments. There\\u2019s police brutality and there are never enough ambulances and EMT\\u2019s.  Nas himself has referenced to the place  occasionally  over his career, even with his classic song  \\u201cOne Love.\\u201d  \\nNas then says that there\\u2019s a routine to follow to stay alive, despite the bullets and the police cruelty.  Some resort to theft, while Nas\\u2019s hustle is MCing. Legal hustles are safer, anyway\\u2026  Like many rappers say,  Doing rhymes  beats  doing crimes  The \\u201csame old two step\\u201d line here is a nod to one-time enemy 50 Cent\\u2019s song  \\u201cWanksta\\u201d   Be easy, stop the bullshit, you get your whole crew wet    We in the club doin\\' the same ol\\' two step\\nReference to a hadith (or non-scriptural report about something the Prophet Muhammad allegedly said, but which is NOT in the Quran) that  has the prophet saying that at the time of judgment, a scholar\\u2019s ink weighs 1000 times more heavily than the blood of a martyr  \\u2014 that the pursuit of/spreading of knowledge is more virtuous before Allah than the shedding of blood in His name. This is apparently considered a \\u201cweak hadith\\u201d by scholars of Islam.  It\\u2019s likely that most rap fans know this hadith from  Lupe\\u2019s invocation of the line on American Terrorist.  \\u201cSince Born Knowledge\\u201d is a Supreme Mathematics reference to \\u201cSince \\u201891\\u201d Born=9 Knowledge=1.  Nas first heard himself on the radio in 1991, marking the beginning of his career and the start of new \\u201cknowledge.\\u201d  Continuing the theme from the last lime, while others were literally \\u201cout robbing\\u201d, Nas was \\u201cout-rhyming\\u201d other MCs.\\nNas claims to want to keep rapping until he makes a billion dollars from it.  Considering Nas\\u2019s net worth is apparently around  35 Million , this seems to be a claim that he\\u2019s going to continue to rap until he dies, a common claim that shows severe dedication to the rap game.  This line is a carry-on from the previous one regarding the islamic hadeeth.  Since it says that ink is worth more than blood, he plays with that idea and claims that he will keep writing rhymes until he sees a billion dollars aka since the prophet said writing is worth more than blood, he\\u2019d rather write to make money than to live in the streets and die as a martyr.\\nWhen you know you can\\u2019t trust someone, keep them close so you know what they\\u2019re up to.  This is an old saying made popular by  Michael Corleone  (a fictional character) in The Godfather, which this song pays homage to.  Corleone says:  My father taught me many things here \\u2014 he taught me in this room. He taught me \\u2014 keep your friends close but your enemies closer.  The first who historically said that seems to be  Sun Tzu  (400 B.C.), author of On  the Art of War\\nNas love the ladies. \\u201cChocha\\u201d = pussy.  As Jay Electronica  said  Pop that pussy for a real nigga!  Nas certainly qualifies; he\\u2019s the Don!\\nNas stays blowin\\' dat pot! After all, it\\u2019s  one of the reasons  he came here from the Wheel of Ezekiel!  Nas likes his weed (doja) like he likes his women\\u2026exotic.\\nTo \\u201c wet \\u201d someone is to shoot a person with a firearm, which would lead them to being wet, by their blood  Nas continues his cadence of military-like language (check out the beginning of the second verse)\\nWhen Nas is being shot at, he keeps his cool and stays calm and collected.  This is a sign of rationality and emotional strength, and he claims to be able to have control of his emotions even in the wildest and most stressful of situations, an extremely admirable characteristic.\\nNas makes music for people who were much like him growing up. He hopes to send the message that no matter how you grow up, you have a chance to be successful like him, as long as you follow your dream.  To add to this, much of Nas\\u2019s supporters are black males who come from the hood or the ghetto, and he makes music for these faithful.\\nSuper Cat  is a Jamacian DJ who features on this track, and Nas makes a shout out to him  Nas also references Super Cat\\u2019s nickname, Don Dada, which links him to the title of the song, as they both contain \\u2018Don.\\u2019  The nickname comes from contemporary usage of the phrase  Don Dadda , which generally means someone who is in charge, most likely stemming from the roots \\u2018Don\\u2019 meaning a higher-up member of the mafia, and \\u2018Dada,\\u2019 a bastardization of \\u2018Dad,\\u2019 another mafia term for someone high up, like a godfather.  This is also a reference to Supercat\\u2019s track  Don Dada .\\n', u\"[Produced by No I.D.]\\n[Hook]\\n[Verse 1]\\nPeace to the Five Percenters\\nOn-line engine inventors\\nShout to them niggas\\nFamily men, bringing home dinners\\nWatch out for desperate lonely women\\nHurt your happy home\\nMiserable and alone\\nKissable, nice to bone\\nShe not the type deserving of a throne\\nHer beauty is her curse\\nShe fuck for shoes and a purse\\nMake me a movie first\\nCan watch you on my phone\\nI shop in Barcelona\\nI spend some nights in Rome\\nFeel like a Knight from England\\nThat's what I named my son, Knight\\nHe was born to be one\\nThat's how my game was won\\nWhite 740 Beamer\\nLicked by an angel's tongue\\nI'm living dangerous son\\nShe got a man, a famous one\\nHoney be pocket watching\\nShe got a lot of options\\nHard to make up her mind deciding which baller to rock with\\nHot to death, slim pickings but I'm not impressed\\nShe got the hottest sex\\nSo I guess I'mma just stay\\n[Hook]\\n[Verse 2]\\nEven though I don't like you\\nNext Friday night can't wait to fight you\\nLocked up I would knife you\\nDon't fuck with you\\nLast month I even bucked at you, you got locked\\nI felt bad, wait do I got love for you\\nI might kill you but do I got love for you\\nI want you dead under six feet of soil\\nAt the same time\\nWant you here to witness me while you in misery\\nWe hate each other but it's love\\nWhat a thug mystery\\nYears ago they ate the hearts of a slain enemy\\nWe enemies but your hatred could never enter me\\nSome seek fame cause they need validation\\nSome say hating is confused admiration\\nSpotlight on me\\nI still look twenty\\nStill get money, lady killer\\nPushing a Bentley\\nMaybe niggas could see too much of they failures through a nigga who realer\\nI don't like you near bruh, but I need you to stay\\u201cStay\\u201d mixes soul and jazz. Slowing it down now after that banger ( \\u201cThe Don\\u201d ), No ID continues to make his mark on this project with a jazzy, soulful approach, and sparse wisely-placed drums: ride cymbals and a small rim-shot from time to time. Nas uses the space well as expected and lays into another chapter in his storybook. The saxophone makes this work and it feels like No ID was shooting for something people could potentially make love too.  It samples  \\u201cSeven Steps To Nowhere\\u201d by The L.A. Carnival.  This beat was also used by  J. Cole  and  BIG K.R.I.T , but didn\\xb4t buy so they couldn\\xb4t use it for their albums. J. Cole explains how he lost the song here:  http://www.youtube.com/watch?v=OK7kGnPB8AI\\n\\n\\nhttp://www.youtube.com/watch?v=9UV5LqZw26E  The  Five Percent   (Nation of Gods & Earths) is a culture (way of life) and movement/organization that teaches self empowerment through the idea that the Black man is God & the Black woman is Earth. Made up of mostly Blacks & Latinos, the 5% was formed back in 1964 by an ex-member of the  Nation of Islam ,  Clarence 13X (Allah) , who left the Temple to teach his self styled interpretation of the  Supreme Wisdom  (or  120 Lessons , which is the 5% variation) of the NOI to the disenfranchised youth in the ghettos of New York City. Allah attracted many with 120 and his swag, making the movement catch like wild fire. He was like a father figure to these young kids he had made into Gods, hence, some gave him the nickname \\u201cthe Father\\u201d.  Allah was assassinated in 1969 but the 5 Percenters survived and  continue to have an impact on the world we live in today.  Many MCs, especially New York ones, including Nas either are or have been highly influenced by the 5 Percenters. Same thing with Hip Hop as a whole culture.  \\nInternet search engines like Google and wiki shout out to Rap Genius too cos they are the the rap google and rap wiki we got.\\nShout out to the guys who work hard & provide for their families\\nYou shouldn\\u2019t fuck with those females who are here to break up a good home.  Although beautiful and great in the sack they are destined to ruin everything. Take caution to women who are only out to ruin the good thing you have because she is alone.\\nShe may be a great sexual partner, but she\\u2019s by no means a queen befit for a king, i.e. a suitable and stable life partner.\\nWhether it\\u2019s of her own intentions, her looks bring negativity to a happy couple over the lust to be in her company. This, along with possibly having a reputation for causing rifts in relationships, could make this woman seen as vain and untrustworthy to those around her.\\nShe will have sex with you just to get shoes or a purse. Referring to  sugar babies  who sleep with others for material things.\\nNas now speaks to them goldigging girls that would be interested to hook him up.  The statement here is simple *\\u2018Shoot one of those kinky vidz, send me the whole footage. I am a bacheller \\u2013 bachelor + baller \\u2013 so i will watch it on my mobile device between two flights!\\u2019  \\nNas' son that he had with Kelis.    Nas is talking about being Knighted by the Queen of England, which is frequently awarded to civilians for public service and contributions to the nation. Foreign nationals can also be knighted, but they are not allowed to use the title \\u201cSir\\u201d or \\u201cDame\\u201d Basically Nas is asserting his royal status in this verse.\\nNas named his son after an honorable Knight, it\\u2019s also a reference to the board game Chess. Thoughtful wordplay here\\u2026\\nBMW 740i  \\nhttp://embed.vidyard.com/share/l-_tEgiC-VbYO8ZOCBOXEA\\nNas gives a double entendre here, 1 can interperate this as him simply getting head in his 740 beamer or it can reference Corinthians 13:1 for you religious folks.\\n\\n\\nShe\\u2019s going after the dudes with all the money. They\\u2019re all attracted to her, so she has plenty of men to choose from. A dangerous gold-digger.\\nBeautiful, flawless looking woman on the outside, yet is completely vapid, uninteresting, and shallow on the inside. No matter how amazing she looks, she\\u2019s nothing special to Nas because he doesn\\u2019t see the appeal of her personality whatsoever.\\nEven though she\\u2019s not all that, she apparently knows what she\\u2019s doing in bed, so that\\u2019s enough for Nas to stay. In a sense, it\\u2019s an emotionally shallow ending that brilliantly serves up a stark contrast to the emotional depth the verse started with, and that the song ends with.\\n\\nMany listeners be buggin\\u2019 on the internet tryin\\u2019 to find out WHO Nas was comin' at throughout the second verse. Lyrics such as  \\u201c \\u2026to fight you\\u201d  or  \\u201clocked up in a room I\\u2019d knife you\\u201d  provide some sort of a battling tone that made scores of people come to the conclusion that the QB General was going at another emcee.  Just my two cents here but i really think this sentiment been skewed by the beef frenzy b/c to me the truth is more domestic. Like most of the entire LIG content, the three fourth of the second verse refers to Kelis.    Kelis filed for divorce circa april 2009 i.e three months or so before the birth of their then unborn son Knight. From that point onwards, the ailing relationship went downhill and turn into a bitter one. Nas felt that Kelis wanted to get even by any means, including women down and use their newly born son to hurt his feelings.    \\xab My son was born with ice grills, so when his mom feels in the mood, she sends pictures. If not, it\\u2019s hell. It\\u2019s hell trying to figure that out, trying to get him. I will just leave it at that, it\\u2019s hell. A man shouldn\\u2019t go through that shit but it\\u2019s ANOTHER STORY I AM GOING TO TELL AT A DIFFERENT TIME.\\u201d   (Nas \\u2013 May 11th 2010 Vibe interview)  The tale came a little moe than year later in the form of these sixteen bars or so which Nas crafted to subliminally share about being deprived from the opportunity to bond with his infant:    \\u201cnext Friday\\u201d:  refers to the days Kelis and him most likely agreed on for visitation rights;  \\u201cfight you\\u201d:  hints at the quarrels they use to have with each other on those weekly visitation;  \\u201clast month i even buck at you\\u201d : Nas confesses about being on the verge of letting himself whirl along domestic violence. He knuckled up on the heat of the moment and she ran out and finally sought refuge in another room\\u2026;  All of those are proof enough for a sane listener to figure out who the addressee really is. If needed the verse is jam-packed of Kelis references such as when Nas mentions  \\u201cyou got locked, i felt bad (\\u2026) kill you but do i got love for you?\\u201d , when he admits wanting her  \\u201cunder six feet of soil\\u201d  or  broke and forced to witness his haute living.  By the eleventh bar Nas takes it from his conflict-ridden relationship with Kelis to a more reflexive approach on negative emotions\\u2026\\nThese bars explore an extreme love-hate relationship & dependency, and are some of the most intriguing of the album. Essentially, these are two bitter enemies that wouldn\\u2019t hesitate to kill one another, with one developing a twisted sense of love derived from the other\\u2019s pain. From his perspective, he needs his enemy to suffer to increase his own satisfaction with his successes.  Nasir then goes on and seemingly compares a relationship like this to the one between his haters and himself. They want him to suffer and for his career to die, but watching his pain pleases them so they need him. He on the other hand dislikes the haters, but understands the situation and uses it to his advantage. A much calmer look at the matter than \\u201c Hate Me Now ,\\u201d though from a not too dissimilar perspective.   Fun fact: This is one Nas favourite lines on the album as he tells in this interview:  http://youtu.be/YuaJzK2i8as?t=44m37s\\nThe Aztecs  and other   mesoamerican civilizations  would often remove the hearts of enemy warriors, collect the blood and handle their bodies  as an act of sacrifice to their gods . Their hearts were often eaten as well, and are viewed as special.    Nas is also saying, even though they would eat their hearts, which in Nas' enemy\\u2019s instance is filled with hate, that that hate in his heart couldn\\u2019t enter him spiritually and emotionally (even if he was to eat the heart physically). It\\u2019s sort of a play on references and anatomy.\\nSome persons will seek fame due to personal inadequacies, and a lust for significance. Some persons hate out of jealousy or longing for that significance \\u2014 a twisted love of sorts that requires effort to sustain. Much like \\u201c The Fox and the Grapes ,\\u201d people oft hate what they don\\u2019t have. Fear is closely related to hatred, and as was said on \\u201c Hate Me Now \\u201d:  Niggas fear what they don\\u2019t understand  Hate what they can\\u2019t conquer  Guess it\\u2019s just the theory of man  Became a monster\\nMany people hate on Nas because they see their own failures due to his outstanding success. He escapes the box that they have failed to, and stays looking young, being paid,  getting fine women  and driving expensive cars.\\nEnemies are bad but if you don\\u2019t have one it means you are not doing well, as they symbolise power and success. As Paul Newman famously said: \\u201cIf you don\\u2019t have enemies, you don\\u2019t have character.\\u201d\", u'[Produced by Noah \"40\" Shebib & Salaam]\\n[Hook]\\nI guess you knew and blew a good thing, baby\\n[Verse 1]\\nBye baby, I guess you knew why I walked away\\nWhen we walked to the altar that was an awesome day\\nDid counseling, couldn\\'t force me to stay\\nSomething happens when you say I do, we go astray\\nWhy did we mess it up? We was friends, we had it all\\nReason you don\\'t trust men, that was your daddy fault\\nHe in the grave let it go he no longer living\\nSaid you caught him cheating with Mom, fucking other women\\nFuck that gotta do with us\\nHere\\'s the keys to the newest truck\\nBirkin bags, we burning cash, now baby do it up\\nNo matter who you fuck, that was before me\\nWanted you as my shorty since before I saw you screaming\\nHate you so much right now\\nShould\\'ve saw the meaning, angry black woman\\nActions of a demon, I\\'m leaving\\n[Hook]\\nI guess you knew and blew a good thing, baby\\nYou know I\\'m saying bye-bye\\nCause I\\'m saying bye-bye\\n[Verse 2]\\nBye baby, I guess you know why I had to leave\\nSeven months in your pregnancy, bout to have my seed\\nLet\\'s take it back some years, rewind it to the happy years\\nYou and your Star Trak fam, I\\'m thinking you cats are weird\\nSame time different year, I was digging y\\'all flow\\nThen I tatted you on my arm so niggas would know\\nI thought no one could stop us, matching gold watches\\nI was your Johnny Depp, you was my Janis Joplin\\nYet, the cuter version\\nYet I knew you personally, better than you knew yourself and I knew this for certain\\nCrib in the Dominican you got away from everybody\\nYou screaming at the racist cops in Miami was probably\\nThe highlight of my life, like \"Ha, yo, look at my wife!\"\\nGangsta, me and twenty cops \\'bout to fight\\nCrazy night,\\n \\nbailed you out, next morning we got clean\\nLike it never happened and later we at that Heat game\\nJust another day in the life of two people in love\\nBut it wasn\\'t enough, so baby guess what\\n[Hook]\\n[Verse 3]\\nListen, could you imagine writing your deposition\\nDivorce lawyer telling you how this thing gonna be ending\\nWith you paying out the ass and I\\u2019m talking half\\nNot some but half, no, serious, half\\nHalf of your soul, half of your heart, you leaving behind\\nIt\\u2019s either that or die,\\n I wanted peace of mind\\nAnd all I seen was selfish cowards, under their breath\\nSaying why did Nas trust her\\nBut look at yourself, speak louder bro\\nYou live with your babymoms and scared to make an honest woman out of her\\nAnd make her your bride, fake pimps you ain\\u2019t even alive\\nAt least I can say I tried plus enjoyed the ride\\nPlus we got our little boy, my little joy and pride\\nHe got my nose, my grill, your colour, your eyes\\nNext go round I hope I pick the truest type and watch me do it all again\\nIt\\u2019s a beautiful life, aight\\nGoodbyeOrgan lead from the start and Nas flows a straight 16 over just that until the hook drops in and a nice break dominates your speakers. It has drums stop and go scheme and more soulful tunes on the album.  \\u201cBye Baby\\u201d contains samples of \\u201cGoodbye Love\\u201d by Guy.  In an interview with  Vibe  40 explained how the collaboration came to be and who did what parts.  How did you end up working on Nas\\u2019 \\u201cBye Baby,\\u201d and what exactly did you contribute?  Salam is really close to my manager Mr. Morgan. He\\u2019s like, \\u201cSalaam has this record he\\u2019s working on with Nas, and they want you to fuck with it.\\u201d Salaam sent me the looped sample and vocals for Nas. After that I got the entire session for the Guy record\\u2014all the separated Aaron Hall vocals, all the separated parts. I took all the parts and rebuilt some of them, flipped and mashed them all together and built the whole song. But I let Salaam lead on the production credit because even though I did the majority of the work, the initial idea of the sample, loop and the raps were all done with Salaam, and it was his idea.\\n\\nA sample from Guy\\u2019s \\u201cGoodbye Love\\u201d  http://www.youtube.com/watch?v=2aYaWnjHMCE  The sample appears at 1:40 into the video\\n\\nNas and Kelis had been fighting often (counseling mentioned in the third line), so he left assuming she knew what was on his mind.\\nPhotos of Nas and Kelis\\' wedding:  \\n  Usually couples go to marriage counseling to help fix the broken pieces of their relationship.  In Nas and Kelis\\u2019s case, not even a therapist can save their relationship from ending.\\nEverythings nice and sweet before marrige but Nas suggest when you say the words \\u2018I do\\u2019 at the alter, something (he cannot explain) happens and the relationship slowly but surely deteriorates\\nEven a cute little Destiny! (cf.  Daughters  )    Destiny was Nas\\' daughter from his previous relationship with Carmen Bryan, but Kelis played a motherly role to her\\nKelis\\' late dad cheated on her mother which resulted in her not being able to trust men, which probably got her paranoid about Nas whenever he werent about\\nKelis\\' father Kenneth \\u2014 an African American jazz musician and Pentecostal minister and formerly a professor at Wesleyan University \\u2014 cheated on her mom, leading to some major Twitter rants about heating men in 2009. Nas didn\\u2019t cheat though\\u2026 or  did he?  \\u201cFucking\\u201d is censored on the album, even on the explicit version. Probably due to legal issues, or for an ironic emphasis since she\\u2019d likely not want people to know of that.\\nNewest  implies that they buy cars on the regular.  He was exposing her to new things. Trusting her enough with something valuable, giving her it all.\\nOne of the world\\u2019s premiere luxury bags and something that will leave you  \\u201cburnin\\' cash\\u201d if you buy one seeing as they cost between $9000 and $150,000 dollars. Only the baddest bitches in the game rock Birkin bags. i.e.    Related note: On Nas\\u2019s \\u201cBehind the Music\\u201d episode his friends said that Kelis was blowing his money like crazy, so this line could be interpreted as a criticism of her spending habits.   Get More:   Nas ,  Behind The Music ,  Behind The Music ,  Behind The Music Nas ,  Nas Videos ,  Nas \\nKelis was rumored earlier in her career to have  dated mega-producer Pharrell Williams , but apparently it was a purely sexual relationship:  \\u201cWe never dated\\u2026we have the same relationship now that we did then, with the exception of the sexual part.\\u201c \\u2014  Kelis on Pharrell, Complex Mag interview\\nIn a past  interview  Nas said he wanted Kelis since he saw her in her  \\u201cCaught Out There\\u201d  video. He said,  Who is this black rock star chick screaming? That\\u2019s going to be my girlfriend.  http://www.youtube.com/watch?v=N3JFwd1bk4Q  Another double meaning maybe. He ends the line with screaming leading off to.. \\u201cHate you so much right now.\\u201d She makes him hate her so much sometimes.. even if he always loves her in the end.\\nShades of things to come; he saw her screaming and ranting, typical angry black woman, and saw it a lot more after he married her.\\nDemons are known in religions as malevolent spirits, and he finally sees Kelis as she really is. Nas is tired of it, so he\\u2019s finished with the relationship.\\n\\nNas is coming to grips with the fact that his ex wife is gone from his life. He feels like he is the best man she will ever be with, meaning that she blew a good thing.  This hook is stressing that they had a good thing, but now its a thing of the past.\\n\\nThe two were inseparable, but fell out of love years later.  Nas\\' manager, Anthony, said he had gotten all the divorce docs together, but reconsidered once he found out Kelis was pregnant with their son, Knight.  She ended up filing when a reconciliation didn\\u2019t work.  \\nNas is reminiscing on the times when him and Kelis first got together. Usually, the beginning of most relationships are the best.\\nKelis is closely affiliated with Star Trak, Pharrell\\u2019s record label/collective, and while Pharrell has a golden reputation as a beatsmith, his own music through N.E.R.D is different from the conventional hip-hop sound (thus leading a street cat like Nas to think they were weird)  \\nAt first Nas thought her and the Star Trak crew were weird, fast forward a year and he\\u2019s completely changed his opinion\\n\\nBefore the decline of the relationship, both parties were at the height of their happiness. Also, the matching watches symbolizes their previous devotion to each other.\\nReference to  Johnny Depp  singing  Cry Baby  to  Janis Joplin  http://www.youtube.com/watch?v=bXyQbJkXciQ\\ni.e., cuter than  Janis Joplin\\n  When you are in a relationship for so long you feel like you know the person inside and out.  Nas knew Kelis so much, that he knew her more than she knows her own self.\\nNas and Kelis had a home in the Dominican Republic.\\nBack in 2007 Kelis was  arrested for yelling at cops in Miami   The officers were working along a main avenue in the South Beach nightclub district when Kelis started screaming racial profanities at them, the report said  The report said the officers were talking with a group of men on the street when Kelis rushed toward them, screaming that one of the men in the group was her husband  According to the report, the officers were questioning the men about two suspected female prostitutes who were spotted in the area. The officers asked Kelis to step away, but the report states that she continued shouting  She then rushed toward them and had to be restrained by her friends, the report said  Kelis\\' \\u201cactions caused people walking by to stop and form a crowd. The sidewalk was blocked by the disturbance causing people to walk in the street and cause traffic to stop,\\u201d the report said  She calmed down for a few seconds, but then started shouting at the officers and charged them again, the report said.  Kelis resisted arrest while being handcuffed, the report said\\nnas is prepared to unconditionally back his girl\\n\\nPresumably they sobered the fuck up and came down off whatever shit they took that led them to provoking a fight with cops.\\nThe next day after  Kelis  was arrested for her antics in Miami, Nas paid her bail and took her out to a Miami Heat basketball game.    This line emphasizes his unconditional love for her, most husbands would be angry that  their wife got arrested , but he didn\\u2019t even question her, in-fact he rewarded her antics with Heat tickets. You\\u2019d think she would be grateful for that, but instead, she left him.\\nAt the time, Nas thought him and his wife would last, but it just didn\\u2019t work out. Even though the crazy things that they did together seemed to bond the pair, bigger issues remained buried.\\n\\n\\nIt\\u2019s an interesting line, explaining the absurdity of hearing an explanation of the end of your relationship from some suit-and-tie motherfucker who doesn\\u2019t even know you instead of from your own ex.\\n\\u201cIf you had 5 dollars and had to give somebody $2.50, you\\u2019d be upset\\u201d  https://www.youtube.com/watch?v=SniOXFhwIZ8  Nas was ordered to pay something to the effect of  almost $300,000  in the divorce settlement. However, he was able to get his child and spousal support payments slashed by 50% in early 2011.  Additionally, not only did he have to  pay  half, he lost half of his life with his wife leaving\\nThis is referring to the previous line where Nas said that she was leaving behind half of her heart, because obviously, you would die if you literally tried to live with just half of a heart.  \\n\\nNas is taking suckers to task for talking shit about his marriage. He\\u2019s saying they\\u2019re too cowardly to propose to the significant women in their lives and thus he\\u2019ll always be better than them because he showed his commitment to a woman and gave marriage a try.\\nEven though the relationship soured, Nas isn\\u2019t consumed with hatred concerning Kelis, he is actually thankful that he was able to have the experience.\\nNas points out that while his marriage with Kelis failed, he will always have the gift of his son, Knight, by her \\u2014 a child that is equal parts Kelis and Nas, and he takes pride in being his father.    \\nhttp://embed.vidyard.com/share/vWPzGr6dQRC6iA3nCBYk6g\\nHis bad experience with Kelis hasn\\u2019t put him off marriage.  This is how the album ends (normal version).  The album cover shows Nas holding Kelis\\u2019s wedding dress which is the only thing she left in their house when she left.  Life is Good is all about him moving on and this song brings closure to this chapter of his life.  \\nFittingly the final word of  Life is Good  (on the standard version; the deluxe edition has four more tracks and iTunes has an additional bonus track).', u\"[Produced by Salaam Remi]\\n[Intro]\\n(Y'all ready for Nas?\\nQueensbridge\\n y'all ready to see Nasty Nas?\\nUh huh, they ready)\\nYeah, word\\nGot some \\nRemy Martin\\n \\nand some good-ass cigars,\\n check it out\\n[Verse 1]\\nAyo, late night, candlelight,\\n \\nfiend with diesel in his needle\\nQueensbridge leader, no equal\\nI come from the Wheel of Ezekiel\\nTo pop thousand-dollar bottles of scotch,\\n \\nsmoke pot and heal the people\\nAny rebuttal to what I utter get box-cuttered\\nCount how many bad honeys I slut, it\\u2019s a high number\\nName a nigga under the same sky that I\\u2019m under\\nWho gets money, remain fly, yeah, I wonder\\nEyes flutter, it's love when Nas pops up\\nStars get starstruck,\\n \\npanties start drippin\\u2019\\nThe ways of Carlito,\\n \\nblaze, torpedo cigars\\nDrop Rolls, hoes drop clothes\\nLouis the XIII,\\n \\nfreaks, women nice size\\nI ride like Porsches, thick, brown and gorgeous\\nIt ain\\u2019t my fault, semiautomatic weapons I brought\\nThe world crazy,\\n \\nI\\u2019m rich and I\\u2019m girl-crazy\\nDick \\u2018em, convince \\u2018em all to praise me\\nThey ideology is confusion, I lose \\u2018em\\nFellates me, who hate me? My gun off safety\\nSince the Tunnel and Skate Key,\\n \\nmy jewelry in HD\\n[Verse 2]\\nSilent rage,\\n \\npristine in my vintage shades\\nI\\u2019m not in the winters of my life or the beginning stage, I am the dragon\\nMaserati,\\n \\npumpin\\u2019 Biggie, the great legend\\nBlastin\\u2019,\\n \\nI\\u2019m after the actress who played Faith Evans\\nMy little Jackie Onassis, dig?\\nI\\u2019m so high, I never land like Mike Jackson\\u2019s crib\\nVest on, .45 still crack ya rib sacrilege\\nTalk trash about the nasty kid\\nPast nasty now, I\\u2019m gross and repulsive,\\n \\ntalk money\\nIs you jokin\\u2019, cash everywhere, in my bank, in the sofa\\nIn the walls, in the cars, in my wallet, in my pocket\\nOn the floors, ceilings, the safe, bitch, I got it, you envy but don\\u2019t offend me\\nI\\u2019m skinny, but still I\\u2019m too big for a Bentley\\nYou are your car, what could represent me\\nToo Godly to be a Bugatti, you honestly\\nMust design me somethin' Tommy Mottonic from Queens had before the \\u201990s\\nDrug dealer car,\\n \\nrush to the bar\\nMove, niggas, we don\\u2019t give a fuck who you are\\nBlack card\\n \\nheavy like a magnet,\\n \\nin my stitched denims\\nPretty women see them saggin\\u2019,\\n \\nbet a hundred stacks\\nNiggas\\u2019ll run it back just havin\\u2019 fun\\nI ain\\u2019t even begun to black,\\n \\nlight another blunt in fact\\n[Interlude]\\n(Nasty) Yeah, nasty kid\\n[Verse 3]\\nFor the hustlers,\\n \\nthick as yellow bitches\\n \\nfor the suck of it\\nGot a bunch of niggas in prison braggin\\u2019\\nSaying it was Nas I used to hustle with\\nI display fashions while my lungs engage hashish,\\n \\nguns on my waist\\n, past this\\nSince I\\u2019m cakin\\u2019 up,\\n \\nput funds in my safe,\\n \\nlaughin\\u2019\\nAnd joining the blunt passin\\u2019 you niggas was straight assin\\u2019\\nExcuse the vulgarity, I\\u2019m still not fully adjusted\\nOr used to the new fans hearin\\u2019 me spit rapidly\\nI never see the whips niggas be claimin\\u2019 they drivin\\u2019\\nI guess entertainment means blatantly lyin\\u2019\\nFake it \\u2019til you make it,\\n \\nI\\u2019ve driven those toys\\nBeen in the wars, in the streets, cops kickin\\u2019 in doors\\nFor my deen niggas, your flow cheap as limousine liquor\\nI\\u2019m no fake rap CD listener\\nSit back and roll a mean swisher\\nFor my Gs, tell these clowns make room for the king, niggaWith this song and  Life is Good , Nas wanted to bring back some of the old-school hip-hop with break beats, scratching and no hooks. Therefore, with the disc jokey that introduces him, Nas are applying just these elements.  It\\xb4s a fantastically appropriate primer of a spoken-word introduction:  Queensbridge, y'all ready to see Nasty Nas? Uh-huh, they ready\\u2026  Provided by disc jockey Big Kap, a couple guitar hits and a drum break usher Nas into the proceedings, and he proceeds to spit for three minutes, with only occasional horn stabs and record-scratch interludes (but no chorus) to interrupt him. Nas owns the beat like the 20-year vet that he is.  There\\u2019s an obvious precedent here\\u20142003\\u2032s thunderous \\u201c Made You Look \\u201d (also produced by Salaam Remi), which \\u201cNasty\\u201d calls back to with its raw drum beat, four bars of acapella rhyming, and even a shotgun blast or two. \\u201cNasty\\u201d was even ranked number one on the list  Top 100 rap songs of 2011  here on Rap Genius.    In an interview with  LargeUp  Salaam revealed where he got the intro from:  Even the intro on \\u201cNasty,\\u201d was going through tapes of stuff that was going on in the 90\\u2019s. It\\u2019s the Illmatic release party, the beginning of \\u201cNasty,\\u201d and that\\u2019s Big Kap talking, saying \\u201cya\\u2019ll ready for Nas?\\u201d I have a bunch of records that I\\u2019ll end up using made from tapes of stuff that\\u2019s never really been on record. I was going through them and No I.D was like why don\\u2019t you just make that the intro for the song, so I was like, Whoah. Dope.\\nIn an interview with  LargeUp  Salaam revealed where he got the intro from:  Even the intro on \\u201cNasty,\\u201d was going through tapes of stuff that was going on in the 90\\u2019s. It\\u2019s the Illmatic release party, the beginning of \\u201cNasty,\\u201d and that\\u2019s Big Kap talking, saying \\u201cya\\u2019ll ready for Nas?\\u201d I have a bunch of records that I\\u2019ll end up using made from tapes of stuff that\\u2019s never really been on record. I was going through them and No I.D was like why don\\u2019t you just make that the intro for the song, so I was like, Whoah. Dope.\\n\\nThe legendary  Queensbridge projects  in Queens, New York, where Nas grew up and talks about in his raps. As the largest projects in the US, Queensbridge became a hotbed for Hip-Hop, having also produced  Mobb Deep ,  Cormega ,  Tragedy Khadafi ,  Marley Marl ,  Craig G  and  MC Shan , the last three were also was involved in the infamous  Bridge Wars  between  Boogie Down Productions  and artists from Queensbridge over the birthplace of Hip-Hop.  \\n\\n\\n\\n\\nR\\xe9my Martin is a specialist of fine champagne cognac.  \\n\\n\\n\\nNAS IS BACK!  \\nLike the college kids reading this, Nas pulls all nighters to pen his verses and deliver knockouts.  This (and the rest of the line) is also a reference to Raekwons' line from  Eye for an Eye  (on which Nas is also featured):  But Late night candlelight, fiend with a crack pipe\\n\\nReferring to sour diesel in a blunt, a little inspiration while he\\u2019s writing those verses. This could also be describing a junkie getting high. \\u201cDiesel\\u201d is slang for heroin. .  And a tip of the cap to Raekwon on a  song  that Nas was featured on.\\nNas is from Queensbridge, New York and has been repping it in his music since  Illmatic  times. There is no rapper from QB who can be compared to Escobar.  \\nIn the Bible, the prophet Ezekiel saw a vision of the Merkabah, God\\u2019s Chariot. The Merkabah was comprised of angels named \\u2018chayot\\u2019 who pulled another group of angels named ophanim. The ophanim were wheel-shaped angels.  Nas comes from God\\u2019s Chariot \\u2014 and by extension, Heaven. This continues to messianic imagery in his oeuvre. Nas views himself as the savior or Messiah of hip-hop. He was sent from Heaven to metaphorically save the genre with his dope rhymes.  \\nNas starts off the song with some Remy Martin wine, and now he\\u2019s got 1000 dollar bottles of scotch as well?!\\n\\nNas isn\\u2019t suggesting that marijuana (pot) heals people, however.  What \\u2018heal the people\\u2019 means is that he\\u2019s here to give rap fans real music. It continues the messianic imagery from the previous line of Nas being hip-hop\\u2019s savior.\\nAnyone who disagrees with him is getting cut  \\nHe takes beautiful women and turns em into sluts via fucking.\\nGetting money usually corrupts people and makes them betray their principles; Nas managed to get money \\u201cand remain fly\\u201d. However despite remaining true, he has been in  serious debt . But just like he says in  \\u201cLoco-mMotive\\u201d , also on  Life is Good :  I started out broke, got rich, lost paper then made it back  Like Trump being up down up, play with cash  As of 2013 his networth is estimated $30 million. Not only has he sold over 25 million, but currently owns a Fila sneaker store, a magazine publishing and his own record label. In fact, he currently serves as the associate publisher of Mass Appeal Magazine.\\nFans love him, they might wink and flutter there eyes when they see him  \\nNas is so great that even other rappers and celebrities are in awe of him, i.e.  J. Cole , who was heartbroken when he  let Nas down .\\n\\nThe sight of Nas makes women\\u2019s pussies very wet before they even take them off!\\n\\n\\nReferring to the shape of a cigar that he smokes. Cigars have always been connected with power, and this is why he says it. .  \\nInside the drop top Rolls Royce you can find Nas and some nude ladies.\\nRemember the beginning of this song?  Got some Remy Martin  Louis XIII is a cognac produced by R\\xe9my Martin, a bottle of it may be priced as high as $3000!\\n\\nHe likes his women the way he likes his cars; Thick, Brown and Gorgeous  Also note the double meaning of the word \\u2018ride\\u2019, i.e. it could mean coitus as in riding women or actual driving, as in riding cars.\\nBy semiautomatic weapons he may mean his flow, multiple rhymes, mad skills he brought to this world and made it go crazy. So it\\u2019s not his fault ladies go crazy about him.\\n\\nIn a \\u201ccrazy\\u201d world obsessed with petty shit and violence, Nas is \\u201crich\\u201d both spiritually and materially, which makes him a target, explaining his need to protect himself.  on the other hand, the only thing Nas is \\u201ccrazy\\u201d about is beautiful women\\nThis whole line is a double entendre off the last one:  On one level, this more literally refers to women who feel they need to \\u201cpraise\\u201d him after sex  On the other, \\u201cdick \\u2018em\\u201d is another way to say \\u201cfuck 'em,\\u201d probably referring back to the \\u201ccrazy world\\u201d of the lines before. the line after this says that their \\u201cideology is confusion,\\u201d explaining their craziness and he\\u2019ll \\u201close them,\\u201d or not acknowledge what they have to say.  Finally, extending on this Nas is level-headed, and through his flow he\\u2019ll convince the world to \\u201cpraise him\\u201d \\nWomen tend to thrive on being unsure. Chris Rock once famously said, it\\u2019s pointless arguing with women because we men have a tendency to make sense.  Being confused, having a million different feelings and playing mind games are some of their various ideologies and at that point, that\\u2019s when Nas the genius can no longer comprehend.\\nHaters suck his dick, if that path isn\\u2019t in your plans, well then Nasty Nas can make the hollow tip spit at your melon.  Also his gun = his cock. It\\u2019s ready to unload!\\nTwo legendary clubs back in the early 90\\u2019s in NYC.  He\\u2019s been in the game \\u2018since the Tunnel and Skate Key\\u2019 \\u2014 i.e. he\\u2019s been in the game since the 90s.\\n\\nHis jewlery is bright and clear.  Nas\\u2019s favorite channel  \\n\\nNas' personality is introspective and humble (\\u201csilent\\u201d) but still waters run deep\\u2014 when he spits we can see that he\\u2019s got plenty of \\u201crage\\u201d inside of him  ( \\u2018Life is Good\\u2019 tries to stay more positive, but see his other records for a clearer sense of this inner anguish he\\u2019s describing )\\n\\nNas likes his Gucci glasses  \\nHe\\u2019s using winter as a metaphor for death (cold, the final season in the cycle) or near the ending of his career, and \\u2018beginner stage\\u2019 means that he\\u2019s not a newcomer to the rap game either.  Double Entendre  The dragon could represent fire (I\\u2019m on fire), the opposite of the aforementioned winter.  It symbolizes power. Also, dragon does not become weaker by getting old, but becomes more powerful, as it is believed.  It could also be a reference to the biblical dragon representing Satan in the Bible\\u2019s Book of Revelation. Also, the dragon in Chinese folk lore was seen as a symbol of the emperor.  This isn\\u2019t Nas' first time referencing a biblical monster; check out  Eye for An Eye  where Nas references the Holy Beast.\\nNas is in his Maserati now, bumping his music  \\n\\nhttps://soundcloud.com/rapgenius/nas-speaks\\nI mean\\u2026 He was notorious\\u2026  Biggie Smalls and Nas often battled for the King of New York title  \\nplaying biggie loud in the car\\n\\nAntonique Smith played the role Faith Evans in the \\u201cNotorious B.I.G\\u201d movie    Faith Evans was married to the aforementioned Biggie.\\nWas the wife of the 35th President of the U.S. John F. Kennedy..    He is drawing a parallel between JFK and Biggie and between Jacqueline Kennedy and Faith Evans. Going after the actress who played Faith thus becomes like going after Jacqueline Kennedy after her husband died. He\\u2019s Aristotle. Dig?\\nMichael Jackson\\u2019s home is the Neverland Ranch. Nas is so high in the clouds that he can never fly to safety. Also high off drugs.  Nice wordplay here.\\nEven with a bulletproof vest on, his .45 handgun will still hit your ribs.    Sacrilege is the disrespect of a sacred object or person; he claims that anyone talking trash about him (the nasty kid) is insulting a god.\\nNas has \\u201cdropped the Nasty,\\u201d as Ghostface Killah once said, from his rap moniker \\u2014 he\\u2019s plain old Nas now. However he also claims he has become even eviler, moving past the level of \\u201cnasty\\u201d and on to \\u201cgross\\u201d and \\u201crepulsive\\u201d.\\n\\nNas is in his own lane not only artistically but when it comes to how he handles his personal business. He\\u2019s distancing himself from the \\u201cshow and tell\\u201d rappers  cough  Birdman  cough  saying that even though he doesn\\u2019t flaunt it, his paper is extensive. .  Here is is responding to critics who say that he is broke, particularly given his IRS woes.  He\\u2019s saying that the cash flows abundant.\\nI think he\\u2019s saying that he\\u2019s on a level above the stereotypical i-got-money-now-i\\u2019m-gonna-buy-me-a-Bentley-cause-Jermaine-Dupri-said-it-was-the-baller-thing-to-do-on-MTV-Cribs rappers\\nHere, Nas nitpicks between luxury vehicles showing his discerning taste \\u2014 He is a \\u201cgodly\\u201d man in most senses of the word, and Bugattis are only in style at the moment. He\\u2019s implying that they\\u2019re too flashy/trendy without substance for them to represent him. Clearly we\\u2019re getting into the upper-echelons of wealth and discerning taste here\\u2026  Tommy Mottonic was a Queens drug dealer in the 80\\u2019s; Nas wants a car designed for him to look like the car Tommy drove. Completing the \\u201cyou are your car\\u201d concept from earlier, Nas chooses a car that represents his heart (from Queens) and origins (as a street kid). .\\n\\n\\nCenturion Card the most prestigious AMEX.  \\n\\nHis card carries a lot of weight, namely purchasing power. And because it\\u2019s a symbol of how much money he has it\\u2019s attractive, like a magnet.  \\n\\n\\nHis jeans are saggin' both as a stylistic statement and because they\\u2019re filled with cash. .\\n\\nOne stack of money is $1000, so one hundred stacks is worth $100,000, that is how much money he is betting.  \\nPeople are gonna rewind his verse and play it over and over again\\u2026 and he feels he hasn\\u2019t even began to black out yet or spit crazy.\\n\\nNas is encouraging the listener (or alternatively, someone around him in the studio) to light a blunt up and prepare for the blacking out he just mentioned.\\n\\nNas used to go by the name of \\u201cNasty Nas\\u201d and he\\u2019s here to show he\\u2019s just as nasty as ever (even without it being in his name anymore)  His only single under this stage name \\u201cNasty Nas\\u201d was his Halftime single in 1992, two years before Illmatic dropped in April 20th 1994  \\n\\nNas is dedicating this to all the hustlers in Queensbridge in America who work hard in order to take care of their family, not to be confused with the magazine  HUSTLER  \\n\\nWe should thank God for these women\\u2026  \\n\\nNot for the fuck of it, but for the suck of it!\\nWhen growing up in Queensbridge, Nas knew alot of people who either died, or went to prison for the rest of their lives. The prisoners who were saying that they hustled with either hustled with him from the 80\\u2019s until the early 90\\u2019s    This line is not so much about how many hustlers know Nas, but more of how these guys in prison are proud to have known Nas before his fame.\\nA consistent theme within Nas' discography.  The embracing of life while also understanding he is slowly killing himself.  \\u201cLife\\u2019s a bitch and then you die/that\\u2019s why we get high\\u201d.\\n\\nThe Great Legend has multiple pistols on his waistline ready just in case people step out of line.\\n\\nSlang  for getting money  \\n\\nputting his money in a safe as opposed to flaunting it\\n\\n  \\nhttps://soundcloud.com/rapgenius/nas-on-nasty-at-the-espys   Performing this track at the ESPYs was crazy \\u2014 so many great athletes, new and old, it\\u2019s the Grammies of sports! I don\\u2019t think I ever watched the ESPYs in my life, which makes me so honored to bring hip-hop there  I was trippin off doing Nasty in front of all these rich motherfuckers in their suits with their gorgeous wives.. most of these coaches and owners probably never seen a street corner in their life or heard a breakbeat  Nasty is all about breakbeats, cuts, and scratches. It has no chorus, I\\u2019m trying to bring that back, hence a lot of other songs that are out today\\u2026 they came from the \\u201cNasty\\u201d embryo  I didn\\u2019t start that style, but I\\u2019m happy to bring it back over breakbeats, New York 90s style  Doing that song at the ESPYs was genius \\u2014 THANK YOU ESPYs\\nNew fans aren\\u2019t used to \\u201cNasty\\u201d Nas from the Illmatic days. Nas has surely garnered new fans on Lil Wayne\\u2019s 2011  Carter IV   \\u201cOutro\\u201d , which many believe is the best verse on the album.\\nNas never sees the cars people mention in their songs so he assumes entertaining the fans means lying about what you have  It is very similar to the line Drake uses in Dreams Money Can Buy, He says: I never seen the car you claim to drive, shit I seen it you just aint inside\\nMany rappers will claim they have something and continue the charade until they actually own it.\\n\\n\\u2018Toys\\u2019 is slang for cars, so Nas is saying that he has driven all these cars that other rappers claim they have.  Also a callback to the previous line \\u2018I never see the whips niggas be claimin\\u2019 they drivin'.  \\nFor many, this would be a description of the crime infested area of Queensbridge    More importantly, this line continues the \\u2018how real Nas is\\u2019 theme of the entire verse. He\\u2019s saying he\\u2019s actually been through many of the ghetto hardships that other rappers only claim they have.  \\u201cBeen in the wars\\u201d might refer to Nas' rap battles. After all, we know he killed Jay-Z in this game and remains one of the illest lyricists alive.\\nLiquor from a limo is probably not going to be the finest.    Often limo companies will supply magnums of cheap sparkling wine bought in bulk from Costco while giving the impression the limo comes with champagne.\\nI don\\u2019t listent to fake CDs. I don\\u2019t listen to fake shit.\\nHe only bangs real music.  \\nA Swisher Sweet cigar, split-open and used as a blunt: relax and roll it with weed.\\nNasty Nas is back!  http://www.youtube.com/watch?v=wo97R0ib1CE\", u\"[Produced by Salaam Remi]\\n[Verse 1: Nas]\\nI pull a string on the lamp and shit darkens\\nI'm living in an elegant Moroccan apartment\\nProletarian chicks sparking\\nConvo weak and I don't really care for her jargon\\nBalcony is windy\\nLooking at the stars and\\nI be in the Henny, woozy in the head, wobbling\\nGucci pillow on the bed, while she giving noggin\\nListening and tripping off the Maxwell album\\nThinking I should leave to a European island\\nBristol and Spain, bring a book about Stalin\\nDinner serenaded with a violin\\nBut shorty not qualified to be took to that kind of outing\\nGotta be a fly bitch to hang around that fly shit\\nFine dining Olive Garden, naw bitch\\n Nas is\\nIn the real deal, food spots on the constant\\nPick the right wine, a Chianti to wash it\\nLifestyle encompasses top-notch watches\\nRolexes synonymous shit I'm copping\\nAsk her has she been around duffle bags full of that fuck you cash\\nGet off the jet with me in heels\\nI'll cup your ass\\nLooking in my eyes\\nSaying Nas you're one lucky bastard\\nGrip your clutch, you'll get finger fucked in the passenger\\nI hit the dutch, blow smoke out, music and laughter\\nSee us in the coupe flying past you\\n[Verse 2: Nas]\\nEsco, dress code, it changes\\nHarrod\\u2019s in England\\nBack to the star spangled\\n labels in my closet hanging\\nCounting wonder in the tundra\\nCan\\u2019t humble the disgruntled when I come through, confront ya\\nLet nothing slide, sly remarks\\nYou must wanna die but\\n \\nyou frontin', why?\\nWhen we all know you pumpkin pie\\nWhen we in the bus we fly better shit than Emirates\\nTo Dubai, to the Chi\\nI\\u2019m a crucial conflict\\nHeaven sent, cause a storm, typhoon flood you out\\nYou are what a thug about\\nI\\u2019m a fuckin juggernaut\\nNever sleep, never tire\\n, \\nkeep a freak I tie up\\nWho don\\u2019t speak, she quiet\\nSo I can think, conspire\\nOn my feet\\u2019s a ?, and sometimes sneakers\\nWear ties at the Setai Miami\\nTime-pieces are from Zurich\\nIt\\u2019s like I\\u2019m allergic\\nTo Nonoxynol 9\\nGive it to you raw so you can feel itA 007 atmosphere from Salaam here (track title tips that off. It\\u2019s simple but with a lot of suspense and emotion in the sample. Drum choice is perfect; not a piece out of place. \\u201cWorldly Head-Nodder\\u201d would describe this best.  It samples/is the beat of another Salaam\\xb4s songs that was on his instrumental album \\u2014  \\u201cPraguenosis\\u201d  The beat uses violins and horns to evoke that classic James Bond soundtrack vibe seen in such pieces as 007 by  John Barry  In an interview with  Complex  explained partly the process:  I just heard you did the orchestra record with Nas.   Exactly. That was \\u201cBlack James Bond.\\u201d It was just us doing what we do. Like I said, the music\\u2019s there, and it\\u2019ll start in a simple place, and then it\\u2019ll just keep going, but once again, it\\u2019s hip-hop for the love of just making music. It gives me an emotion. Somebody will never know where it came from, but they can appreciate it, at the end. That\\u2019s the way I look at it. Like, we\\u2019re just cooking at all times.  During his writing process, Nas gives me a lot of ideas\\u2026 He\\u2019ll be like, \\u201cI want to do something like Bessie Smith.\\u201d So we\\u2019ll listen to some, and we\\u2019ll make some. \\u201cYo I want to do something like Miles Davis.\\u201d I\\u2019ll listen to Bitches Brew, \\u201cAlright, cool. Let\\u2019s do it.\\u201d   Fun Fact:  The track on \\u201cBlack Bond,\\u201d started during the Untitled sessions.\\n\\nThis is how a typical lamp shade works, you pull on the dangling beaded string to either turn it on or off. He\\u2019s painting a picture of the setting with his first couple of lines. He also leaves the listener to wonder what happens when the light is off, particularly if he\\u2019s got a girl in his room.\\nJames Bond never, ever slums it \\u2014 he always stays in the best hotels and apartments. The Living Daylights is the only Bond film so far to visit Morocco.  \\nProletarian chick refers to a working class girl (see Paul Fussell\\u2019s book \\u201cCLASS\\u201d) derived from Karl Marx\\u2019s original classification system. Her conversational abilities/topics outside of sex and probably pop culture are severely lacking.\\nIt may not actually be windy as he admits in the next line he\\u2019s drunk.\\nHe\\u2019s pretty tipsy off of the Hennessy  \\nHe gets head while relaxing on something like this  \\nMaxwell  is a singer and multi-instrumentalist from Brooklyn. His music spans R&B, funk and soul. But he is best known as one of the exemplars of the subgenre neo-soul movement of the latter 1990s.\\nNas is thinking of doing something extravagant with his money and decides to island hop. Bristol used to be a major port in the island of Britain, while Spain has its fair share of beautiful islands.    Since he\\u2019s in Europe, he might as well read a book about Joseph Stalin, former Premier of the Soviet Union.\\n\\nThe girl Nas is laying up with at the moment isn\\u2019t worthy of going with him on a luxurious vacation or romantic getaway. Shit, she thinks Olive Garden is high class!    If I take a girl to Olive Garden.. that usually means I\\u2019m trying to bang her in the backseat (feel me?)\\n\\nWhile probably not an  Action Bronson -level oenophile, Nas is trying to pair the right wine with his meal.  Nas' inflection on Chianti recalls Anthony Hopkins in SILENCE OF THE LAMBS: \\u201cA census taker once tried to test me, I ate his liver with some fava beans and a nice Chianti.\\u201d  \\nSynonymous defined as \\u2014 the same or a similar connotation. So Nas is buying Rolex watches and other brands of similar quality and brand perception.  E.g. Omega watches (the official watch of James Bond)  \\n\\n\\n\\n\\n\\nAside from promising to finger the girl, Nas also uses hand-related word play \\u2014 grip and clutch are both words to describe a finger gripping something.\\n\\na coupe is a car, usually a 2 door sports car for niggas tryna go fast as possible.    but this line is clever because to \\u2018fly the coop\\u2019 is an expression meaning to leave or get away. when nas gets away, it\\u2019s in a flashy car adorned with blunts and bitches. nas the don.\\n\\nRemember Esco, Nas' short lived clothing line?  \\nA famous high end department store, in London, infamous for  turning away celebrities  in the past who came dressed in inappropriate clothing, expecting to be let in\\nAfter his globe trotting, he returns to America, just as Bond returns to England after every mission.  \\n\\nWonder is taken from Wonder Bread, and bread is hood slang for the word money. This line refers to Nas counting cash in a Toyota Tundra pick-up  He can also mean tundra as in a geographical climate. He\\u2019s traveling to all sorts of places.\\nNas doesn\\u2019t ignore digs at him \\u2014 he confronts to the person making the \\u2018sly remarks\\u2019. \\u2018You must wanna die\\u2019 has two meaning \\u2014 either Nas would embarras them so much they want to disappear into the Earth, or they have a death wish and are trying to provoke Nas into killing them.\\n\\nSomeone who acts tough but is really a scared pussy. Note the clever word play of pumpkin, notable for Halloween, and pie, slang for a woman\\u2019s goods.\\nEmirates is an airline based in Dubai    Crucial Conflict  is a hip hop group from Chicago  https://twitter.com/FABNEWYORK/status/228484186472841216\\nA Biblical example of a Heaven-sent storm is the flood which covered the world for 40 days and 40 nights, killing everyone except Noah and those in his Ark. Nas is suggesting he is as unstoppable and devastating as that.\\nNas questioning others thug ideology, confirming he is beyond that. Many of the songs on Life is Good present a more mature outlook than he had in this youth.\\nNas is constantly conscious and alert, you can never catch him off point  Also reference to the rap line \\u201cI never sleep \\u2018cause sleep is the cousin of death\\u201d from his song  \\u201cNew York State of Mind\\u201d , also sampled on his song \\u201cThe Message\\u201d\\n\\nJames Bond\\u2019s never engaged in bondage on screen but given the amount of girls he\\u2019s been with, he must have tried it at some point\\u2026 This may also explain why she doesn\\u2019t speak.  While Bond is known for being complusive, Nas spends more time planning his next move.  \\n\\nThe Setai Miami  is a hotel and resort located in South Beach Miami.  He dresses like this when going there:  \\nThe only watch producer actually based in Zurich is Maurice de Mauriac.    Of course there are many stores selling different brands of watches in Zurich.\\nNonoxynol 9(N-9) is a  controversial microbicide  added to some condoms and also included in some lubricants. N-9 may reduce the chance of pregnancy but can actually increase the probability of catching a sexually transmitted disease (by stripping away protective layers of cells from the body). Nas say its like he\\u2019s allegic to it therefore he doesn\\u2019t use condoms. Which explains the next line, \\u201cgive it to you raw\\u201d.    He also uses the term in a rap sense, giving us raw music, straight from the heart so that we, the listener, can feel the music.\", u\"[Produced by Al Shux & Dan Wilson]\\n[Refrain: Nikki Flores]\\nJust like a rose\\nEverybody knows that you are so beautiful\\nBut I feel a thorn on my hide\\nI should've known\\nWe can't repair what we broke\\nBut I held you close, too close\\nI should've left your roses at the door\\nThey're sharper than before\\nAnd I don't want them no more\\n[Verse 1]\\nI have no time to give you guidance\\nBarely have any fuck time either\\nHefner minded like\\n \\nI think you're fine, but\\nI seen the finest women that ever came out a beaver\\nMind reader, can tell she vegan or not when I meet her\\nOr if she insecure, most are\\nIf she's mixed, a possible psycho alert goes off\\nNot a judge, cause a judge don't wear no draws, yet he allows\\nEverything to go to your spouse when you end your vows\\nMy tax bracket, not enough blacks have it\\nWho should I date --\\nProject chick or Cuban actress?\\nA White chick, they might flip talking that Blackness\\nShould only attract Black shit, I'm an ass magnet\\nIf you mad at that\\nYou'll be mad forever\\nNever played you\\nI prayed we would stay together\\nWished it'd last forever\\n, \\nknow what I mean\\nHeard you tear a rose from the roots, the rose screams\\n[Refrain]\\n[Verse 2]\\nThem Xanax can't manage your maniac manic depressive expressions\\nThey some silent killers, that stress shit\\nThat put ulcers in a lot of niggas\\nI'm blowing medical, it helps chill a violent temper\\nI done went to hell and back\\nYou always think you right\\nYou know when you wrong, and still you want to fight\\nWhen people like my song\\nYou want to kill em right\\nYou resent me every time I make a million right\\nYou want to experience life when you calling all the shots\\nOrdering bottles for all your girls up in the spot\\nHave your own cash, own your own Benz\\nYour own house, everything, me I understand\\nThought you would bask in the glory as Queen Bee\\nPut you on to Martin Scorsese Mean Streets\\nThe first movie he made, thought that was fly\\nI thought you was flyer, you a fucking liar\\n[Refrain]Al Shux does vintage work on the drums, with emotional vocals to set it off, and then eerie pianos pick it up from there. The production is centered around the mellow piano which sets up for Nas equally moody lyrics.\\nR&B and pop singer, pianist, and songwriter  \\nRoses are beautiful, but at the same time, they can hurt you\\nReferencing back to the line about how roses can hurt you, he should have known better to pick up (or trust) this rose because it ended up stinging him with its thorns. The Rose most likely symbolizes his ex-wife,  Kelis , who cheated on him, which led to their divorce.    There is no way he will ever be able to forgive or trust her again.\\n\\nNas' lifestyle is too busy for most women to handle\\n\\n\\nNas thinks that this woman is highly attractive, buuuuuuuut he\\u2019s been spoiled by seeing some of the most attractive women to ever be born as the term \\u2018beaver\\u2019 is slang for vagina.\\nHe is Nastradamus, right? As soon as he meets her, he can tell if she\\u2019s a vegan, if she\\u2019s insecure, etc.    Also, a little \\u201cmeet/meat\\u201d play on words.\\n\\nComplaining about his alimony is a one of the  themes  for Nas on this album  Draws = Equal and wordplay on underwear, he is saying the man is  not fair and is sticking it to him.\\nThe theme of there not being enough blacks in the 1% is raised repeatedly by Nas' old nemesis Jay-Z on the  Watch the Throne  album.  See  here , for example\\n\\nDating a white chick would spark hatred from the black community, which then turns into the, much too often occurring \\u201cblack shit\\u201d or the proverbial crab in the bucket mentality, where there\\u2019s a lot of hatred at some one succeeding in whatever goal they want to achieve. Nonetheless, Nas is an ass magnet who pulls chicks effortlessly from a Cuban Actress to a project chick and anything in between.\\nThe fact that, he\\u2019s an ass magnet will not change, that\\u2019s why the one who is mad will be mad forever.\\nThough her name is not spoken here, this section is about Nas' ex-wife, singer Kelis.  The dissolution of their marriage is a big theme on this album, and is the explicit subject of the song  \\u201cBye Baby\\u201d\\n\\nNas and his ex-wife truly did once have a beautiful thing represented as a rose. That \\u201crose\\u201d was pulled from its roots (the things that made it special in the beginning) and thus it eventually died meaning that their relationship became volatile and soon ended.  \\n\\n\\nDouble Entendre\\u2026  The person Nas is speaking to is most likely Kelis his ex-wife \\u2014 she is so crazy Xanax can\\xb4t manage her.    Generally that Xanax isn\\xb4t an effective medications \\u2014 ties to the next bar where speaks up on the side effects of it and it\\xb4s lethal. \\n  Xanax is short-acting anxiolytic of the benzodiazepine class of psychoactive drugs. Xanax is commonly used and FDA approved for the medical treatment of panic disorder, and anxiety disorders, such as generalized anxiety disorder (GAD) or social anxiety disorder (SAD).  Silent killers might either refer to:  Many don\\xb4t know it\\xb4s lethal.  we don\\xb4t know about the amount of people who have died from it.  You just pass away like dieing in your sleep.  An overdose of Xanax can be fatal. Overdose symptoms may include extreme drowsiness, confusion, muscle weakness, loss of balance or coordination, feeling light-headed, and fainting.   An ulcer is a discontinuity or break in a bodily membrane that impedes the organ of which that membrane is a part from continuing its normal functions.  Xanax has numerouse amount of side effets you can read about more thourghly  here .\\nNas knows the right kind of medicine to use  \\nMetaphor  Since his last album he had gotten divorced which to many feels like you hit the rock bottom and get depressed, Nas has come back from that and moved on as he displays and describes on this album. The difficulties he faced with his marriage is likened to going to hell.  It could also mean he overdosed on the medicactions he previously mentioned and experienced near death moment or outside of your body exerience.  \\nA warning from Nas:  Do not argue with women! There is no victory nor glory to be had.\\n\\n\\n\\n\\n\\n\\n\\n\\nMean Streets  wasn\\u2019t actually Scorsese\\u2019s first film as a director \\u2014 that honor goes to the 1967 film  Who\\u2019s That Knocking at My Door .  However, it was the first film that the director had total control over.  He co-produced it, co-wrote it, and even narrated it  \\n\\n\", u'[Produced by No I.D.]\\n[Verse 1: Nas]\\nAt times I window watch at the Wynn hotel\\nLots of thinking happens in life, will I win or fail?\\nMind of a shooter, CFO also\\nEthiopian food flown in, it\\'s unlawful\\nMoney is attractive, honey dress strapless\\nAgent Provocateur underwear: she\\'s classic\\nStroll up in the party: titanium black card\\nRomanian ladies like Casablanca, Casbah\\n\\'Cept we in the VIP area, that\\'s ours\\nYou know the real rap gods, typical trap star turned rap star\\nThese old heads got stories, the days they was kings\\nI pray secret indictments don\\'t take away their dreams\\nYou 16, you could do 20, come home young\\nCatch 20 years when you 40? Holmes, you\\'re done\\nWhat have we become? Rap stars from trap stars\\nBlack gods to Ansars to Sunnis back to goonies\\nA 360 in the streets real grizzly\\nShooters is cold, kid,\\n \\nthe old shit was learning\\nStudent enrollment to focus,\\n \\nyet hooligans roll with\\nToasters to pop your medullas off of your shoulders\\nThis ain\\'t the Truman Show; it\\'s the human show\\nAsk the F.B.I. agent at his cubicle\\nChewing on his pencil eraser with intents to erase you\\nIt\\'s U.S.A. against the gangsta, where\\'s the love?\\n[Hook: Cocaine 80s]\\nLove, I\\'ll trade you love\\nI\\'ve traded fire with you long enough\\nIs that all you brung? It\\'s not love\\nThat\\'s fucked up, but I saved your soul\\nRoll that up\\n[Verse 2: Nas]\\nSometimes I sit on the bench just to watch the game\\nFeet on cement, there ain\\'t a mobster living I could name\\nWho made it out rich, in his absence I do not proclaim\\nTo not have a heart like wild animals not tamed\\nMaybe just a typical thug nigga was my rank\\n\\'Cept I had a vision above niggas, what I think\\nIt\\'s crazy how many brothers come where I come from\\nSome made it out big, some dead, some unsung\\nShots for soldiers on 23 hours lock-up\\nYounger generation, they want to mimic and mock us\\nLaughing, separating themselves like they not us, like\\n\"Cops\\'ll look at you like they look at me? That\\'s preposterous\"\\nAin\\'t it gangsta how your man made it? I\\'m humble\\nOne gun, one crazy ass nigga, that\\'s Jungle\\nNow we having babies, cause growing up it was just us\\nNo uncles or cousins to fight with us, we was fucked up\\nBut still it was beautiful, the love is mutual\\nEven though me and Jung ain\\'t show up to your funeral\\nI hold your son hand, tell him he the man, we love you\\nYour pops was king, you have a whole lot to live up to\\nThe G is in your genes, already you tuck\\nInherit your dad\\'s swag\\n, his George Jefferson\\'s strut\\nStay flyest, they gon\\' want to know what in your diet\\nDon\\'t be surprised if they want to check your shit and your vomit\\nTell them you let it marinate, they swear you made them a promise\\nNo matter what they do, you just stay a man of honor\\nI\\'m a street corner nigga, New York Knicks loyalist\\nCorona sipper, pass it, I\\'mma blow it with you\\nIt ain\\'t the Truman show; it\\'s the human show\\nAs the F.B.I. agent at his cubicle\\nChews on his pencil eraser with intents to erase you\\nYoung brother go and get your paper, I got love\\n[Hook]No ID goes out with a bang here, nice Middle-Eastern drum flavor mixed in here under a bed of string swells and small melodies. Hook is trippy and catchy, abstract vibes but a lot of substance.  The drums are sampled from \\u201cBrooklyn-Queens\\u201d by 3rd Bass:  http://www.youtube.com/watch?v=5mJlcW3X4PQ#t=40\\n\\nWynn/win wordplay ( Steve Wynn  is a giant baller with a pimp hotel in Vegas)    This line\\u2019s word choice is also inspired by the lyrics of Nas\\u2019s partner in rhyme,  AZ , off of his song  \\u201cSugar Hill\\u201d .  At times I window watch out the Mariot\\nLife Is Good  was indeed a thoughtful/introspective/personal album and a trip inside Nas\\xb4s life/mind. From his financial anxiety in \\u201c Reach out \\u201d, to his relationship and divorce with Kelis in \\u201c Bye Bye Baby \\u201d or him reminiscing of old times in \\u201c No Introduction \\u201d.  \\nExpressing his duality \\u2014 his origin in the hood doing illegal activities, which will alway be apart of him.    But also the mind of a businessman considering:  He produced an emmy winning documentary and another one is on the way:  http://www.youtube.com/watch?v=dXaLLP6GJx4  Invested in a technology startup company, a job search appmaker called Proven.  New clothing line. Collaborative \\u2014 It\\u2019s half HSTRY, half Grungy Gentleman.  Partnerships with Hennessy being the brand ambassador for Hennessy\\u2019s \\u201cWild Rabbit\\u201d campaign. \\nFood shipped to you from overseas is indeed subject to tough  regulations under the Bioterrorism Act of 2002 .  Good thing Nas found a way around that!  Reference to the many famines in Ethiopia, Nas goes out of his way to have food flown in from a country with very very little food, its quite unlawful indeed\\nSince the women/gold diggers goes after men with money, they often dress more provactive to seduce them \\u2014 it shows that Nas got that paper!  \\nA classic (yet provocative) line of  lingerie .  \\nHis entrance looks like this:    All he\\xb4ll need to do is show his fancy titanium card and the next round is on him.  \\nThey love to party to  Stereo Love\\nSee Nas\\' talk about the  real  \\u201ctrap stars\\u201d of his youth on his song  \\u201cA Queens Story\\u201d\\nNas, who is aging, and is almost 40 (38), is saying that when he was younger, he could afford to risk 20 years in the pen, because he would still be about the same age he is now, and still able to live, however now, he is no longer a youth, and if he were to spend 20 years in jail, he\\u2019d come out an old man.  Nas talks about it a little bit here: At 52 min.  http://youtu.be/YuaJzK2i8as?t=52m  ACCEPTED COMMENT: Holmes is short for homie, home boy, etc\\u2026\\nhttp://embed.vidyard.com/share/3oDpHOS7DwlhEQZ9V7v5_Q\\nNas reflects on how a lot of cats went from being drug dealers to famous rappers. They went from being  5 Percenters  (Black Gods) to being Ansars (short for Ansaaru Allah Community a.k.a. the  Nuwaubian Nation ) to being  Sunni Muslims  to being thugs/goonies in the streets again.\\nDouble Entendre\\u2026  A 360 ties together with the previous that alludes to how a lot of cats went from being drug dealers to famous rappers. They went from being  5 Percenters  (Black Gods) to being Ansars (short for Ansaaru Allah Community a.k.a. the  Nuwaubian Nation ) to being  Sunni Muslims  to being thugs/goonies in the streets again. A circle thats 360 degrees.  While a 360 in streets are also a skatebord trick     Real grizzly is describing the characteristic of the ice cold killer \\u2014 he is huge, but before they where also studying which is explained in the next bar.\\n\\nWhen they were younger, before they got heavy in the street life, these shooters and thugs was studying the  5 Percenter Lessons known as 120.  A member of the 5% must commit the lessons to memory and study them to bring up their own interpretation. The first set of lessons (after one has learned their  Supreme Mathematics  &  Supreme Alphabets ) is the  STUDENT ENROLLMENT , which encompasses some of the basics such as:   Q.   Who is the Original Man?  A.   The Original Man is the Asiatic Blackman, the Maker, the Owner, the Cream of the Planet Earth, Father of Civilization, God of the Universe.   Nas is saying back in the day these kids had positive things to study to keep their mind occupied and focused, but unfortunately, that\\u2019s not the case anymore. Just old shit to \\u2018em\\u2026\\n\\nHood savages use guns to shoot the brains out of your head. The medulla oblongota is in the lower part of the brain.  \\nhttp://embed.vidyard.com/share/CK16OJ0eKQnVfZUxqPzjFA\\nNas compares the FBI surveillance of poor blacks in response to their supposed criminality to the unseen, all-powerful TV network controlling Jim Carrey\\u2019s life in the 1998 film  The Truman Show  \\nThe government always demonize the gangsters, blaming them for everything. For example, the war on drugs that Ronald Reagan led. The gangsters are also a part of America so you\\xb4re at war with yourself? The whole situation is a travesty so sad you can almost only laugh about it. Especially when the government  shipped   drugs  in to get better profit to keeping making more weapons. It\\xb4s a never ending cycle.  http://www.youtube.com/watch?v=nEGxoJWasZY\\n\\nThe hook is about forgiveness.  Nas is making peace with all the thugs he used to fight with.  He\\u2019s saying that the violence is pointless and that they should make peace.\\nHe fought with her for to long\\n\\n\\n\\n\\nSitting on the bench = sports terminology meaning to be in reserve or simply taking a time-out or break from playing.    Here, Nas uses the sports metaphor to mean that he sometimes takes a break from hip-hop to see how other rappers are playing the \\u2018game\\u2019 before coming back with a new album.  Nas\\' last solo album  Untitled  came out in 2008, before he waited 4 years to bring out  Life is Good .\\nThis could refer to several things:  One of the reasons he made  Hip-hop is Dead  was because of the realness. So it could refer to that he can\\xb4t name a mobster since people are fake.  The future for a mobster isn\\xb4t bright you make money for the day, but the risks are so high that you won\\xb4t get rich off of it. One snitch, bad drug deal, stick-up or fight could end it all.  He has said that apart of the reason that some of the old-school rappers isn\\xb4t popping today is because they are not true to themselves \\u2014 they pretend to be thugs and not make age appropriate music and that\\xb4s why they didn\\xb4t make it out rich.    Nas is not like these guys that proclaim they could go into a killing spree and other should fear AKA a \\u201cwild animals heart that is not tamed\\u201d. He likes his spot in the game and would never risk it for something stupid as to beat someone up. His wild heart is therefore tamed \\u2014 he can control himself.\\n  When he started of he was just a street corner kid as you learn in  Illmatic  unlike Biggie and jay Z who where known drug dealers. What made him rise above the likes of drug dealers was Nas visions and his thoughts that he could put in his raps \\u2014 that was what seperated himself from everyone else.\\n  It\\xb4s crazy the talents QB hss breed/produced \\u2014 considering how small it is. Exmples are:  Marley Marl, music producer  MC Shan, rapper  Nas, rapper  Nature, rapper  Cormega, rapper  Metta World Peace basketball player  Havoc, musician, half of the hip-hop group Mobb Deep.  Lou Del Valle, professional boxer  The idiom says it\\xb4s because of the water.\\nPrisoners held in  maximum security  in indeed generally locked down 23 hours a day.  This is also the case in so-called  supermax prisons .\\nIt well known that teenagers are full of themselves and don\\u2019t listen to their parents advice. They also separate themselves from their parents in two ways:  They separate themselves mentally by pretending they aren\\u2019t  going to end up like their parents, and by making fun of/ignoring their parents.  They separate themselves physically from their parents (as it isn\\u2019t cool to hang out with them) by always being out causing trouble with their friends.    Nas feels like the new generation of Blacks are too hopeful about racial profiling being dead, they need to stop being so na\\xefve and actually fix the issue.\\nHe wants the younger generation to know that there is nothing wrong with being a respectable person making their money legally (like he now is), it is still cool (gangsta) even if there is less excitement than a criminal life.  The second line is a double entendre:  To be a fool and act gangster by running around and sticking up people with a firearm, is jungle, or something only animals would do. It is pointless when there are legal ways to make cash.  Although Nas is now humbled, his younger brother (and fellow rapper),  Jungle , is still running around sticking people up for petty cash.    Above image:  Nas  (left) and his brother  Jungle  (middle) with their father  Olu Dara  (right).\\n\\n\\nNas and his brother weren\\u2019t able to come to most of his family funerals but still shows his compassion for his family by stating that he loves them just as much as they loved him.\\nFrom here, the verse relays a conversation that Nas had with his dead friend\\u2019s son. He starts by telling him that his father was a great man and that Nas has great expectations for the kid\\u2019s future.\\nJust like you would inherit any other trait from your parent, Nas feels like the children of thugs inherit gangster traits (symbolized by  swag  and the  George Jefferson strut  mentioned in the next line). Even though you have thugging in your blood, that doesn\\u2019t mean you have to continue the cycle and grow up to be a criminal, you can still break it like Nas did.    Nas often uses the letter G to symbolize  God  or  Gods  as  many 5%ers  do, however in this case it symbolizes  gangsters .\\nTHIS:  http://www.youtube.com/watch?v=fhtLTDK9yWA  NOT THIS:  http://www.youtube.com/watch?v=LbY-M55bGIo  LIKE A  BAWSE !\\nNas takes the metaphor of overly curious people wanting to know your business perhaps a little bit too far here..\\nWord Play  In the previous line he mentions his diet and vomit which all have something to do with food just like you marinate food. If you want to marinate on it you want to think about it/sleep on it. But they take it as you promised them. But don\\xb4t care what they say about you, you know what you said and if you actually did promise, make it happen and hold your promise \\u2014 stay a man of honor.  \\nAs we all know Nas origins is in the queens bridge project where on the block he used to spend his time hustling, drinking, smoking etc\\u2026 It\\xb4s still in him and he\\xb4ll gladly sip one with you for old times sake. His life on the block is extraordinary expressed in the bible \\u2014  Illmatic .  A Knicks loyalist he is indeed!  https://twitter.com/Nas/statuses/294651721265860610\\nClever line  Reference to the movie The Truman Show and a pun on it. The second verse ends with the same words as the first execpt the last line.  Spoiler alert  Truman Burbank is unknowingly part of a reality television program in which his entire life is played by actors. Basically everything is a lie/fake \\u2014\\u2013 the opposite of what Nas spits; reality/truth.  \\nJust like an eraser is used to erase mistakes, the FBI agent intends to erase (kill or imprison) you because he considers you a mistake (he most likely deems you a mistake because you are a young black man whose father was a thug).  \\nNas supports the hustlers hustling to do whatever they have to do for money.\\n', u'[Intro]\\nIt\\u2019s like a cold story repeated over and over\\nIn the winters of my mind\\nThis shit be real man\\nShit\\u2019s crazy out here\\nYo yo, yo what up y\\u2019all\\nThat\\u2019s my niggas over there\\nWord\\n[Verse 1]\\nIf you scared to take chances\\nYou\\u2019ll never have the answers\\nI could tell the future of a dude how his stance is\\nWonder will he shoot then you should study where his hands is\\nIs he gonna cock it and pop it\\nHis waistband big\\nBut he don\\u2019t have that thing in him\\nSlanging just ain\\u2019t in him\\nBody language is off, he\\u2019s soft\\nBut soft niggas all a sudden start dumping, fronting\\nCause he feel a way\\nMy niggas say the eyes is a giveaway\\nOne look could tell me if you really came to kill me\\nBe the quiet nigga looking\\nLaying with the milli\\nWho that over there, creeping\\nWho homie by the tree\\nBetter safe than sorry, look at p-noid me\\nFew machine guns close, we could squeeze all three\\nBe a cold day in hell fore they creep on me\\nIt\\u2019s a lesson every premonition\\nLotta niggas killed \\u2018cause they wasn\\u2019t paying attention\\nListen\\n[Hook]\\nI want a bitch I can trust\\nSome niggas I can trust\\nAccountants looking over my figures I can trust\\nA lawyer that\\u2019s fighting for my decisions I can trust\\nDamn my nigga trust\\nI can never get enough\\nA Ruger I can trust\\nShooters I can trust\\nGoons that know how to spot out a Judas I can trust\\nAnd if I can\\u2019t trust you, the fuck is you here for\\nSome of you niggas\\u2019 true colors becoming clear more\\n[Verse 2]\\nIt\\u2019s been so long\\nCan\\u2019t remember how we begun this war\\nThis is a ever-lasting thunderstorm\\nCause guns went off\\nI see your mom\\'s she still speak\\nShe don\\u2019t know I ain\\u2019t cool with her son no more\\nIt\\u2019s old shit, see forever we holding this grudge\\nTakes real men to squash beef\\nEnd it with hugs\\nWe buried our dead, been years\\nWhy should I worry bout him\\nConstantly watching my back\\nPlus niggas telling I dread\\nAnother day I put a family in black\\nThough I be calm and relaxed\\nThough I know somehow it will come back\\nEven if I\\u2019m in the right\\nCause still a life is a life\\nWhat was it worth to see you covered in dirt\\nIt\\u2019s quite redundant\\nWhether you the hunter or the hunted\\nMother\\u2019s cry, \\nno statute of limitation on a homicide\\nJust tattoos of my niggas\\u2019 names\\nI wonder will it change\\nLet\\u2019s ride\\n[Hook]\\n[Verse 3]\\nIt\\u2019s rare I listen to niggas who never been in my position\\nA caterpillar can\\u2019t relate to what an eagle envisions\\nFrom the mind of a man who went at it with killers\\nSit down little man\\nLet me school you in hood business\\nSeen a lotta niggas blow\\nLotta dreams folded\\nSome wasn\\u2019t humble, ate too much, got bloated\\nAin\\u2019t too much left to buy\\nBought it I\\u2019m loaded I guess\\nLear jets\\nI ask myself do I need love or success\\nThey say the artist that truly suffers\\nHis stuff is the best\\nCause his heart bleed on his sleeve\\nPain pistols and sex\\nRemember spray painting the word Fresh and then staring at it\\nOlder folks angry, pointing, swearing at it\\nBuildings I sprayed, nowadays drive the Mclaren past it\\nSame old man from years ago told me life is short\\nSo from infant to geriatric\\nTrust your own judgment\\nLive with it and love it\\n[Hook]A story about trust \\u2014 that Nas has been stabbed in the back over and over again. Therefore, it\\xb4s a \\u201ccold story repeated over and over again\\u201d. For instance his fiance\\xb4 having an affair with his rival, ex-wife after his money, managers he\\xb4s had beef with etc. Indeed history repeats itself.  \\n\\nIf you want to figure out something, you have to take the risk that it could affect negative on you (emotionally or physically). But then again, the knowledge could enrich yourself.\\nThe way the dude stands is a foreshadowing of the rest of his life. Is he hunched over, head down, ashamed of something or is he standing tall, unafraid, looking people dead in the eye? Nas is saying he can predict a man\\u2019s future simply by the way he carries himself.\\nBy reading a person\\u2019s body language, Nas is able to figure out a person\\u2019s possible murderous intentions.\\nEven though an individual may appear benign it isn\\u2019t wise to judge a book by its cover. A seemingly passive individual can become hostile should his emotions run high enough.\\nhere is an old English proverb that states, \\u2018the eyes are the window to the soul.\\u2019 This saying stems from a passage in the Bible, Matthew 6:22-23.    Eyes are the most important facial feature for humans to recognize emotions in one another such as Joy, Sadness, Anger, and Fear.  If someone is there to kill they may express anger or fear in their eyes.\\nIf someones carrying out a hit they will sneak around making sure they aren\\u2019t seen or drawing attention to themselves.  Milli is a slang term for 9 millimeter gun.  \\n\\n\\nIt is highly unlikely that someone will just \\u201ccreep up\\u201d on Nas without him knowing \\u2014 either physically to kill him or lyrically as a rapper. This is because he pays attention to what\\u2019s around him.  Nas suggests that if you even dream that somebody is about to come after you, you should react. A lot of people don\\u2019t take that seriously and that\\u2019s how they get taken advantage of.\\n\\nThese are all troubles he has had in the past, and some that he still has:  A bitch \\u2014 These could either be referring to his ex-fiance\\xb4 or ex-wife. Carmen Bryant his ex-fiance\\xb4 notoriously had and affair with Jay Z at the time of their rivalry to hurt him.  His ex-wife wanting so much spousal and child support .  Niggas \\u2014 friends that has stabbed him the back and beefed with. For instance Cormega and Mobb Deep.  Accountants \\u2014 he has had and still has  taxs problems due to his accountant .  Lawyer \\u2014 this could refer to a number of things or small situation the public hasn\\xb4t heard about.  \\n\\u201cBut yo I had some other plans, like the next time the beef is on  I make myself jam right in my owner\\u2019s hand\"  I Gave You Power  Nas don\\u2019t want this to happen to him\\nJudas Iscariot was a figure in the Bible who was infamously known for his betrayal of Jesus in return for money, which lead to Jesus\\' crucifixion. Here, Nas is saying that he wants to have people that he can trust to spot out a fake friend, or a \\u201cJudas\\u201d.\\nIf Nas can\\u2019t trust you then why are you trying to be involved with him?\\nHe can see who you really are now that he knows you are not trustworthy\\n\\nhttp://embed.vidyard.com/share/7lzScFXPJeEcjEm5M_peqQ\\n\\nThis is most definitely refers back during the Nas \\u2014  Jay Z  beef. Therefore tieing it with the previous bars that they don\\xb4t even know how it started, it is said to be that Nas didn\\xb4t make it to the studio session for  \\u201cCan I Live\\u201d  and the gap between them just expanded over small things after that.  As it\\xb4s known Nas and Jay Zs mothers were friends and it was Jay Zs mother who called Jay to inform him that he had gone to far for:  I came in your Bentley backseat, skeeted in your Jeep  Left condoms on your baby seat  And should apologize. At the time though she didn\\xb4t know they were beefing (my mom doesn\\xb4t follow hip-hop either lol). So it must have been kind of awkward for Nas when Jays mother greeted him when they were beefing.  As reflecting as Nas is on this album \\u2014 his verdict is that it\\xb4s in the past and we should all forgive and forget \\u2014 we can all be friends!  \\nhttp://www.youtube.com/watch?v=0ZvarRe-XVQ  \\nEven though it\\u2019s been years since the initial beef started with Ether (11 years in fact from 2001 stilmatic). Nas still find himself in the back of his head worried about where his rival is in life in terms of success and if he\\u2019s ever going to come after him and get revenge that\\u2019s been plotted or premeditated for years.\\n\\nOften times when a relative or loved one passes away they dress up in black for the funeral\\u2026 He\\u2019s saying he makes many family\\u2019s dress up for funerals because he has killed many people\\n\\n\\n\\n\\n\\nNas is saying that the hunter and the hunted are the same thing; both are in danger of losing their lives over meaningless beef\\n\\nTrue enough.  Homicide  \\u201cgenerally has no time limitation on prosecution\\u201d\\nIt\\u2019s common practice for somebody to get the name of a loved one who has died tattooed on their body.\\n\\n\\n\\n\\nhttp://embed.vidyard.com/share/Fuu1vPFoeOyyEThqcwjiCw\\nSomeone who\\u2019s just starting out doesn\\u2019t have the insight that someone as experienced and as high up the ladder as Nas has.  A lot of the times these people like to try to tell you what\\u2019s what, but Nas doesn\\u2019t listen to them.  Not only does a caterpillar not have the same view of the world as an eagle, but it can\\u2019t even comprehend the view that the eagle has \\u2014 the same thing applies to young guys with no life experience.\\n\\n\\n\\n\\n\\n\\nThis question \\u2014 of how his material success interacts with his ability to find love \\u2014 is a theme on much of  Life Is Good .\\nNas is one of the best rappers because he speaks from the heart about real issues; he ain\\u2019t a cornball. Nobody wants to hear about strippers and cocaine all the time \\u2018cause those are dry ass subjects. When you go through real shit you got something to talk about, and your raps are organic.\\n\\n\\nAdults just saw graffiti as vandalism and part of the hood type lifestyle, Nas seemed to see it as art/graffitti is Hip-Hop.\\nWhen Nas was younger, he used to vandalize (spray) buildings. After becoming a famous rapper, he has luxurious cars and drives past the same buildings he used to tag with graffiti.    This is juxtaposing just how different he is from his younger self.\\nNas could be talking about the old man from  \\u201cEvery Ghetto\\u201d :  Words of a old man with silver hair, in his wheelchair  His eyes were bloody while describin what lies before me  Said evil bitches and jealous men would try to destroy me  It occurred to me, this old nigga\\u2019s words couldn\\u2019t be realer  or possibly the guy from  \\u201cWhat Goes Around\\u201d  though he wasn\\u2019t stated to be old:  Life is short is what some nigga said\\nFrom birth, right through to old age (geriatric) always trust your own judgments, views and opinions.\\nBe yourself, and know who you are.  Be confident about taking decisions and be prepared to live with the consequences of your decisions and actions.\\n']\n"
       ]
      }
     ],
     "prompt_number": 286
    },
    {
     "cell_type": "code",
     "collapsed": false,
     "input": [
      "count = CountVectorizer(stop_words='english')\n",
      "count_vector = count.fit_transform(song_nouns)"
     ],
     "language": "python",
     "metadata": {},
     "outputs": [],
     "prompt_number": 141
    },
    {
     "cell_type": "code",
     "collapsed": false,
     "input": [
      "# for idx, album in enumerate(count_vector):\n",
      "#     counter = 0\n",
      "#     print \n",
      "#     print album_names[idx]\n",
      "#     print\n",
      "#     for index, tfidf in sorted(zip(album.indices,album.data), key= itemgetter(1), reverse=True):\n",
      "#         if counter < 50:\n",
      "# #             if len(wordnet.synsets(str(count.get_feature_names()[index]))) > 0:\n",
      "#             print count.get_feature_names()[index], tfidf\n",
      "#             counter += 1"
     ],
     "language": "python",
     "metadata": {},
     "outputs": [],
     "prompt_number": 262
    },
    {
     "cell_type": "code",
     "collapsed": false,
     "input": [],
     "language": "python",
     "metadata": {},
     "outputs": [],
     "prompt_number": 22
    },
    {
     "cell_type": "code",
     "collapsed": false,
     "input": [
      "import plotly.plotly as py\n",
      "from plotly.graph_objs import *\n",
      "\n",
      "trace0 = Scatter(\n",
      "    x=[1, 2, 3, 4],\n",
      "    y=[10, 15, 13, 17]\n",
      ")\n",
      "trace1 = Scatter(\n",
      "    x=[1, 2, 3, 4],\n",
      "    y=[16, 5, 11, 9]\n",
      ")\n",
      "data = Data([trace0, trace1])\n",
      "\n",
      "plot_url = py.plot(data, filename=\"python-change_plot\")"
     ],
     "language": "python",
     "metadata": {},
     "outputs": [],
     "prompt_number": 27
    }
   ],
   "metadata": {}
  }
 ]
}