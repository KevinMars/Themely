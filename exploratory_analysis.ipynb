{
 "metadata": {
  "name": "",
  "signature": "sha256:9513ab55b5970e5fd460ff98f2120d70954d6583a2ce709be9a97db17c7ba3b3"
 },
 "nbformat": 3,
 "nbformat_minor": 0,
 "worksheets": [
  {
   "cells": [
    {
     "cell_type": "code",
     "collapsed": false,
     "input": [
      "from indicoio import sentiment, political, text_tags\n",
      "from nltk import pos_tag\n",
      "from nltk.corpus import wordnet, stopwords\n",
      "from nltk.tokenize import word_tokenize,WordPunctTokenizer\n",
      "from operator import itemgetter\n",
      "from pymongo import MongoClient\n",
      "from pprint import pprint\n",
      "import re, string\n",
      "from sklearn.feature_extraction.text import TfidfVectorizer, CountVectorizer\n",
      "from sklearn.cluster import KMeans, AgglomerativeClustering, DBSCAN, MiniBatchKMeans\n",
      "from textblob import TextBlob, sentiments\n",
      "\n",
      "nas = MongoClient().dsbs.nas"
     ],
     "language": "python",
     "metadata": {},
     "outputs": [],
     "prompt_number": 1
    },
    {
     "cell_type": "code",
     "collapsed": false,
     "input": [
      "song_query = nas.find()\n",
      "songs = []\n",
      "for i in song_query:\n",
      "    song_dict = {}\n",
      "    song_dict['index'] = i['index']\n",
      "    song_dict['views'] = i['views']\n",
      "    song_dict['pyongs'] = i['pyongs']\n",
      "    song_dict['title'] = i['title']\n",
      "    song_dict['lyrics'] = i['lyrics']\n",
      "    song_dict['annotations'] = i['annotations']\n",
      "    song_dict['album'] = i['album']\n",
      "    songs.append(song_dict)"
     ],
     "language": "python",
     "metadata": {},
     "outputs": [],
     "prompt_number": 108
    },
    {
     "cell_type": "code",
     "collapsed": false,
     "input": [
      "album_dict = {}\n",
      "for x in songs:\n",
      "    album_dict[x['album']] = []\n",
      "for x in songs:\n",
      "    album_dict[x['album']].append(x['lyrics'] + x['annotations'])"
     ],
     "language": "python",
     "metadata": {},
     "outputs": [],
     "prompt_number": 109
    },
    {
     "cell_type": "code",
     "collapsed": false,
     "input": [
      "album_names = []\n",
      "words_unsorted = []\n",
      "for album, songs in album_dict.iteritems():\n",
      "    words_unsorted.append(songs)\n",
      "    album_names.append(album)"
     ],
     "language": "python",
     "metadata": {},
     "outputs": [],
     "prompt_number": 110
    },
    {
     "cell_type": "code",
     "collapsed": false,
     "input": [
      "print album_names"
     ],
     "language": "python",
     "metadata": {},
     "outputs": [
      {
       "output_type": "stream",
       "stream": "stdout",
       "text": [
        "[u'streets disciple', u'gods son', u'stillmatic', u'hip hop is dead', u'untitled', u'illmatic', u'nastradamus', u'i am', u'life is good', u'it was written']\n"
       ]
      }
     ],
     "prompt_number": 111
    },
    {
     "cell_type": "code",
     "collapsed": false,
     "input": [
      "words = [[] for i in range(len(album_dict))]\n",
      "words[0] = words_unsorted[5]\n",
      "words[1] = words_unsorted[9]\n",
      "words[2] = words_unsorted[7]\n",
      "words[3] = words_unsorted[6]\n",
      "words[4] = words_unsorted[2]\n",
      "words[5] = words_unsorted[1]\n",
      "words[6] = words_unsorted[0]\n",
      "words[7] = words_unsorted[3]\n",
      "words[8] = words_unsorted[4]\n",
      "words[9] = words_unsorted[8]\n",
      "\n",
      "album_names = ['illmatic','it was written','i am','nastradamus','stillmatic','gods son','streets disciple',\\\n",
      "               'hip hop is dead','untitled','life is good']"
     ],
     "language": "python",
     "metadata": {},
     "outputs": [],
     "prompt_number": 76
    },
    {
     "cell_type": "code",
     "collapsed": false,
     "input": [],
     "language": "python",
     "metadata": {},
     "outputs": []
    },
    {
     "cell_type": "code",
     "collapsed": false,
     "input": [
      "for idx, album in enumerate(words):\n",
      "    for idx2, song in enumerate(album):\n",
      "        words[idx][idx2] = (song.replace(\"'s\",\"\").replace(\"'\",\"\").replace(u\"\u2019\",\"\").replace(u\"\u2014\",\"\").replace(\"/\",\"\")\\\n",
      "                            .replace(\"[intro\",\" \").replace('[hook',\" \").replace('[verse 1',\" \").replace('[verse 2',\" \")\\\n",
      "                            .replace('[verse 3',\" \").replace('[verse 4',\" \")).lower()"
     ],
     "language": "python",
     "metadata": {},
     "outputs": [],
     "prompt_number": 77
    },
    {
     "cell_type": "code",
     "collapsed": false,
     "input": [
      "for idx, album in enumerate(words):\n",
      "    for idx2, song in enumerate(album):\n",
      "        words[idx][idx2] = re.sub('http\\S+', \"\", song)"
     ],
     "language": "python",
     "metadata": {},
     "outputs": [],
     "prompt_number": 78
    },
    {
     "cell_type": "code",
     "collapsed": false,
     "input": [
      "pattern = re.compile('[\\W_]+')\n",
      "for idx, album in enumerate(words):\n",
      "    for idx2, song in enumerate(album):\n",
      "        words[idx][idx2] = pattern.sub(' ', song)"
     ],
     "language": "python",
     "metadata": {},
     "outputs": [],
     "prompt_number": 79
    },
    {
     "cell_type": "code",
     "collapsed": false,
     "input": [
      "# for idx, album in enumerate(words):\n",
      "#     for idx2, track in enumerate(album):\n",
      "#         words[idx][idx2] = \" \".join([w for w in set(TextBlob(track).words.lower())])"
     ],
     "language": "python",
     "metadata": {},
     "outputs": [],
     "prompt_number": 80
    },
    {
     "cell_type": "code",
     "collapsed": false,
     "input": [
      "words = [\" \".join(i) for i in words]"
     ],
     "language": "python",
     "metadata": {},
     "outputs": [],
     "prompt_number": 81
    },
    {
     "cell_type": "code",
     "collapsed": false,
     "input": [
      "for i in words:\n",
      "    print len(i)"
     ],
     "language": "python",
     "metadata": {},
     "outputs": [
      {
       "output_type": "stream",
       "stream": "stdout",
       "text": [
        "171765\n",
        "202939\n",
        "168308\n",
        "120434\n",
        "191047\n",
        "143551\n",
        "127448\n",
        "181872\n",
        "151213\n",
        "210863\n"
       ]
      }
     ],
     "prompt_number": 90
    },
    {
     "cell_type": "code",
     "collapsed": false,
     "input": [
      "for idx, song in enumerate(words):\n",
      "    for word in TextBlob(song).words:\n",
      "        if len(wordnet.synsets(str(word))) == 0:\n",
      "            words[idx] = words[idx].replace(str(word), \"\")"
     ],
     "language": "python",
     "metadata": {},
     "outputs": [],
     "prompt_number": 91
    },
    {
     "cell_type": "code",
     "collapsed": false,
     "input": [
      "for i in words:\n",
      "    print len(TextBlob(i).words)"
     ],
     "language": "python",
     "metadata": {},
     "outputs": [
      {
       "output_type": "stream",
       "stream": "stdout",
       "text": [
        "24526\n",
        "28689"
       ]
      },
      {
       "output_type": "stream",
       "stream": "stdout",
       "text": [
        "\n",
        "24916"
       ]
      },
      {
       "output_type": "stream",
       "stream": "stdout",
       "text": [
        "\n",
        "17336"
       ]
      },
      {
       "output_type": "stream",
       "stream": "stdout",
       "text": [
        "\n",
        "27843"
       ]
      },
      {
       "output_type": "stream",
       "stream": "stdout",
       "text": [
        "\n",
        "20825"
       ]
      },
      {
       "output_type": "stream",
       "stream": "stdout",
       "text": [
        "\n",
        "18087"
       ]
      },
      {
       "output_type": "stream",
       "stream": "stdout",
       "text": [
        "\n",
        "26197"
       ]
      },
      {
       "output_type": "stream",
       "stream": "stdout",
       "text": [
        "\n",
        "21007"
       ]
      },
      {
       "output_type": "stream",
       "stream": "stdout",
       "text": [
        "\n",
        "30544"
       ]
      },
      {
       "output_type": "stream",
       "stream": "stdout",
       "text": [
        "\n"
       ]
      }
     ],
     "prompt_number": 98
    },
    {
     "cell_type": "code",
     "collapsed": false,
     "input": [
      "for idx, i in enumerate(words):\n",
      "    length = 0\n",
      "    for word in TextBlob(words[idx]).words:\n",
      "        length += len(word)\n",
      "    avg = float(length)/float(len(TextBlob(words[idx]).words))\n",
      "    print avg"
     ],
     "language": "python",
     "metadata": {},
     "outputs": [
      {
       "output_type": "stream",
       "stream": "stdout",
       "text": [
        "3.86389953519\n",
        "3.93426051797"
       ]
      },
      {
       "output_type": "stream",
       "stream": "stdout",
       "text": [
        "\n",
        "3.74947824691"
       ]
      },
      {
       "output_type": "stream",
       "stream": "stdout",
       "text": [
        "\n",
        "3.78155283802"
       ]
      },
      {
       "output_type": "stream",
       "stream": "stdout",
       "text": [
        "\n",
        "3.80048845311"
       ]
      },
      {
       "output_type": "stream",
       "stream": "stdout",
       "text": [
        "\n",
        "3.85911164466"
       ]
      },
      {
       "output_type": "stream",
       "stream": "stdout",
       "text": [
        "\n",
        "3.69071708962"
       ]
      },
      {
       "output_type": "stream",
       "stream": "stdout",
       "text": [
        "\n",
        "3.61255105546"
       ]
      },
      {
       "output_type": "stream",
       "stream": "stdout",
       "text": [
        "\n",
        "4.10991574237"
       ]
      },
      {
       "output_type": "stream",
       "stream": "stdout",
       "text": [
        "\n",
        "3.59530513358"
       ]
      },
      {
       "output_type": "stream",
       "stream": "stdout",
       "text": [
        "\n"
       ]
      }
     ],
     "prompt_number": 93
    },
    {
     "cell_type": "code",
     "collapsed": false,
     "input": [
      "for idx, i in enumerate(words):\n",
      "    unique = []\n",
      "    count = 0\n",
      "    for word in (TextBlob(words[idx]).words):\n",
      "        if count < 17000:\n",
      "            if not word.lower() in unique:\n",
      "                unique.append(word)\n",
      "        count += 1\n",
      "    print len(unique)"
     ],
     "language": "python",
     "metadata": {},
     "outputs": [
      {
       "output_type": "stream",
       "stream": "stdout",
       "text": [
        "3507\n",
        "3526"
       ]
      },
      {
       "output_type": "stream",
       "stream": "stdout",
       "text": [
        "\n",
        "3297"
       ]
      },
      {
       "output_type": "stream",
       "stream": "stdout",
       "text": [
        "\n",
        "3369"
       ]
      },
      {
       "output_type": "stream",
       "stream": "stdout",
       "text": [
        "\n",
        "3300"
       ]
      },
      {
       "output_type": "stream",
       "stream": "stdout",
       "text": [
        "\n",
        "3417"
       ]
      },
      {
       "output_type": "stream",
       "stream": "stdout",
       "text": [
        "\n",
        "3569"
       ]
      },
      {
       "output_type": "stream",
       "stream": "stdout",
       "text": [
        "\n",
        "3172"
       ]
      },
      {
       "output_type": "stream",
       "stream": "stdout",
       "text": [
        "\n",
        "3795"
       ]
      },
      {
       "output_type": "stream",
       "stream": "stdout",
       "text": [
        "\n",
        "3226"
       ]
      },
      {
       "output_type": "stream",
       "stream": "stdout",
       "text": [
        "\n"
       ]
      }
     ],
     "prompt_number": 101
    },
    {
     "cell_type": "code",
     "collapsed": false,
     "input": [],
     "language": "python",
     "metadata": {},
     "outputs": []
    }
   ],
   "metadata": {}
  }
 ]
}