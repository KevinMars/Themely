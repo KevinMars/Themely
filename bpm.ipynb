{
 "metadata": {
  "name": "",
  "signature": "sha256:f92f1c2de268c4af27c88801ace4e8ab7692a89268d9209fa70dc3710b489b45"
 },
 "nbformat": 3,
 "nbformat_minor": 0,
 "worksheets": [
  {
   "cells": [
    {
     "cell_type": "code",
     "collapsed": false,
     "input": [
      "from selenium import webdriver\n",
      "from selenium.webdriver.common.keys import Keys\n",
      "from pymongo import MongoClient\n",
      "import os \n",
      "import time"
     ],
     "language": "python",
     "metadata": {},
     "outputs": [],
     "prompt_number": 1
    },
    {
     "cell_type": "code",
     "collapsed": false,
     "input": [
      "fox = webdriver.Firefox()"
     ],
     "language": "python",
     "metadata": {},
     "outputs": [],
     "prompt_number": 2
    },
    {
     "cell_type": "code",
     "collapsed": false,
     "input": [
      "client = MongoClient()\n",
      "nas = client.dsbs.nas"
     ],
     "language": "python",
     "metadata": {},
     "outputs": [],
     "prompt_number": 3
    },
    {
     "cell_type": "code",
     "collapsed": false,
     "input": [
      "songs = nas.find({},{\"title\" : 1})\n",
      "song_titles = []\n",
      "for i in songs:\n",
      "    song_titles.append(i['title'])"
     ],
     "language": "python",
     "metadata": {},
     "outputs": [],
     "prompt_number": 4
    },
    {
     "cell_type": "code",
     "collapsed": false,
     "input": [
      "song_titles = [i.replace(\" \",\"-\").replace(\"'\",\"-\").replace(\".\",\"\").replace(\",\",\"\").lower() for i in song_titles]"
     ],
     "language": "python",
     "metadata": {},
     "outputs": [],
     "prompt_number": 5
    },
    {
     "cell_type": "code",
     "collapsed": false,
     "input": [
      "bpm_dict = {}\n",
      "for i in song_titles:  \n",
      "    try:\n",
      "        fox.get(\"http://songbpm.com/nas/\"+(i)+\"\")\n",
      "        submit = fox.find_element_by_xpath(\"//input[@type='submit']\").click()  \n",
      "        time.sleep(0.3)\n",
      "        bpm = fox.find_element_by_xpath(\"//div[@class='bpm side']\")\n",
      "        i = i.replace(\"-\",\" \")\n",
      "        bpm_dict[i] = bpm.text\n",
      "    except:\n",
      "        print \":( Didn't work for: %s\" % i"
     ],
     "language": "python",
     "metadata": {},
     "outputs": [
      {
       "output_type": "stream",
       "stream": "stdout",
       "text": [
        ":( Didn't work for: k-i-s-s-i-n-g\n",
        ":( Didn't work for: nature-shines"
       ]
      },
      {
       "output_type": "stream",
       "stream": "stdout",
       "text": [
        "\n",
        ":( Didn't work for: black-zombie"
       ]
      },
      {
       "output_type": "stream",
       "stream": "stdout",
       "text": [
        "\n",
        ":( Didn't work for: ny-state-of-mind-pt-ii"
       ]
      },
      {
       "output_type": "stream",
       "stream": "stdout",
       "text": [
        "\n",
        ":( Didn't work for: you-re-da-man"
       ]
      },
      {
       "output_type": "stream",
       "stream": "stdout",
       "text": [
        "\n",
        ":( Didn't work for: destroy-and-rebuild"
       ]
      },
      {
       "output_type": "stream",
       "stream": "stdout",
       "text": [
        "\n",
        ":( Didn't work for: my-country"
       ]
      },
      {
       "output_type": "stream",
       "stream": "stdout",
       "text": [
        "\n",
        ":( Didn't work for: the-cross"
       ]
      },
      {
       "output_type": "stream",
       "stream": "stdout",
       "text": [
        "\n",
        ":( Didn't work for: zone-out"
       ]
      },
      {
       "output_type": "stream",
       "stream": "stdout",
       "text": [
        "\n",
        ":( Didn't work for: book-of-rhymes"
       ]
      },
      {
       "output_type": "stream",
       "stream": "stdout",
       "text": [
        "\n",
        ":( Didn't work for: mastermind"
       ]
      },
      {
       "output_type": "stream",
       "stream": "stdout",
       "text": [
        "\n",
        ":( Didn't work for: revolutionary-warfare"
       ]
      },
      {
       "output_type": "stream",
       "stream": "stdout",
       "text": [
        "\n",
        ":( Didn't work for: these-are-our-heroes"
       ]
      },
      {
       "output_type": "stream",
       "stream": "stdout",
       "text": [
        "\n",
        ":( Didn't work for: street-s-disciple"
       ]
      },
      {
       "output_type": "stream",
       "stream": "stdout",
       "text": [
        "\n",
        ":( Didn't work for: ubr-(unauthorized-biography-of-rakim)"
       ]
      },
      {
       "output_type": "stream",
       "stream": "stdout",
       "text": [
        "\n",
        ":( Didn't work for: you-can-t-kill-me"
       ]
      },
      {
       "output_type": "stream",
       "stream": "stdout",
       "text": [
        "\n",
        ":( Didn't work for: can-t-forget-about-you"
       ]
      },
      {
       "output_type": "stream",
       "stream": "stdout",
       "text": [
        "\n",
        ":( Didn't work for: shine-on--em"
       ]
      },
      {
       "output_type": "stream",
       "stream": "stdout",
       "text": [
        "\n",
        ":( Didn't work for: the-n"
       ]
      },
      {
       "output_type": "stream",
       "stream": "stdout",
       "text": [
        "\n",
        ":( Didn't work for: where-y-all-at"
       ]
      },
      {
       "output_type": "stream",
       "stream": "stdout",
       "text": [
        "\n",
        ":( Didn't work for: you-can-t-stop-us-now"
       ]
      },
      {
       "output_type": "stream",
       "stream": "stdout",
       "text": [
        "\n",
        ":( Didn't work for: nigger-(the-slave-&-the-master)"
       ]
      },
      {
       "output_type": "stream",
       "stream": "stdout",
       "text": [
        "\n",
        ":( Didn't work for: y-all-my-niggas"
       ]
      },
      {
       "output_type": "stream",
       "stream": "stdout",
       "text": [
        "\n",
        ":( Didn't work for: we-re-not-alone"
       ]
      },
      {
       "output_type": "stream",
       "stream": "stdout",
       "text": [
        "\n",
        ":( Didn't work for: proclamation-(nigger-hatred)"
       ]
      },
      {
       "output_type": "stream",
       "stream": "stdout",
       "text": [
        "\n",
        ":( Didn't work for: world-s-an-addiction"
       ]
      },
      {
       "output_type": "stream",
       "stream": "stdout",
       "text": [
        "\n",
        ":( Didn't work for: you-wouldn-t-understand"
       ]
      },
      {
       "output_type": "stream",
       "stream": "stdout",
       "text": [
        "\n",
        ":( Didn't work for: stay"
       ]
      },
      {
       "output_type": "stream",
       "stream": "stdout",
       "text": [
        "\n",
        ":( Didn't work for: where-s-the-love"
       ]
      },
      {
       "output_type": "stream",
       "stream": "stdout",
       "text": [
        "\n",
        ":( Didn't work for: trust"
       ]
      },
      {
       "output_type": "stream",
       "stream": "stdout",
       "text": [
        "\n"
       ]
      }
     ],
     "prompt_number": 6
    },
    {
     "cell_type": "code",
     "collapsed": false,
     "input": [
      "bpm_dict[\"nigger (the slave & the master)\"] = 77"
     ],
     "language": "python",
     "metadata": {},
     "outputs": [],
     "prompt_number": 45
    },
    {
     "cell_type": "code",
     "collapsed": false,
     "input": [
      "bpm_dict2 = bpm_dict"
     ],
     "language": "python",
     "metadata": {},
     "outputs": [],
     "prompt_number": 47
    },
    {
     "cell_type": "code",
     "collapsed": false,
     "input": [
      "nas_bpm = client.dsbs.nasbpm"
     ],
     "language": "python",
     "metadata": {},
     "outputs": [],
     "prompt_number": 49
    },
    {
     "cell_type": "code",
     "collapsed": false,
     "input": [
      "nas_bpm.insert(bpm_dict)"
     ],
     "language": "python",
     "metadata": {},
     "outputs": [
      {
       "metadata": {},
       "output_type": "pyout",
       "prompt_number": 50,
       "text": [
        "ObjectId('54594d6c791e4b05746b347f')"
       ]
      }
     ],
     "prompt_number": 50
    }
   ],
   "metadata": {}
  }
 ]
}