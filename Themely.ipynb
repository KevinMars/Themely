{
 "metadata": {
  "name": "",
  "signature": "sha256:ad5bcb02b19aaf9a23ff26955631799d5a2b939238492ea9f1f157bcc4d300b8"
 },
 "nbformat": 3,
 "nbformat_minor": 0,
 "worksheets": [
  {
   "cells": [
    {
     "cell_type": "code",
     "collapsed": false,
     "input": [
      "from indicoio import sentiment, political, text_tags\n",
      "from nltk import pos_tag\n",
      "from nltk.corpus import wordnet, stopwords\n",
      "from nltk.tokenize import word_tokenize,WordPunctTokenizer\n",
      "from operator import itemgetter\n",
      "from pymongo import MongoClient\n",
      "from pprint import pprint\n",
      "import re, string\n",
      "from sklearn.feature_extraction.text import TfidfVectorizer, CountVectorizer\n",
      "from sklearn.cluster import KMeans, AgglomerativeClustering, DBSCAN, MiniBatchKMeans\n",
      "from textblob import TextBlob, sentiments\n",
      "\n",
      "nas = MongoClient().dsbs.nas"
     ],
     "language": "python",
     "metadata": {},
     "outputs": [],
     "prompt_number": 1
    },
    {
     "cell_type": "code",
     "collapsed": false,
     "input": [
      "song_query = nas.find()\n",
      "songs = []\n",
      "for i in song_query:\n",
      "    song_dict = {}\n",
      "    song_dict['index'] = i['index']\n",
      "    song_dict['views'] = i['views']\n",
      "    song_dict['pyongs'] = i['pyongs']\n",
      "    song_dict['title'] = i['title']\n",
      "    song_dict['lyrics'] = i['lyrics']\n",
      "    song_dict['annotations'] = i['annotations']\n",
      "    song_dict['album'] = i['album']\n",
      "    songs.append(song_dict)"
     ],
     "language": "python",
     "metadata": {},
     "outputs": [],
     "prompt_number": 35
    },
    {
     "cell_type": "code",
     "collapsed": false,
     "input": [
      "album_dict = {}\n",
      "for x in songs:\n",
      "    album_dict[x['album']] = []\n",
      "for x in songs:\n",
      "    album_dict[x['album']].append(x['lyrics'] + x['annotations'])"
     ],
     "language": "python",
     "metadata": {},
     "outputs": [],
     "prompt_number": 36
    },
    {
     "cell_type": "code",
     "collapsed": false,
     "input": [
      "album_names = []\n",
      "words_unsorted = []\n",
      "for album, songs in album_dict.iteritems():\n",
      "    words_unsorted.append(songs)\n",
      "    album_names.append(album)"
     ],
     "language": "python",
     "metadata": {},
     "outputs": [],
     "prompt_number": 37
    },
    {
     "cell_type": "code",
     "collapsed": false,
     "input": [
      "words = [[] for i in range(len(album_dict))]\n",
      "words[0] = words_unsorted[5]\n",
      "words[1] = words_unsorted[9]\n",
      "words[2] = words_unsorted[7]\n",
      "words[3] = words_unsorted[6]\n",
      "words[4] = words_unsorted[2]\n",
      "words[5] = words_unsorted[1]\n",
      "words[6] = words_unsorted[0]\n",
      "words[7] = words_unsorted[3]\n",
      "words[8] = words_unsorted[4]\n",
      "words[9] = words_unsorted[8]\n",
      "\n",
      "album_names = ['illmatic','it was written','i am','nastradamus','stillmatic','gods son','streets disciple',\\\n",
      "               'hip hop is dead','untitled','life is good']"
     ],
     "language": "python",
     "metadata": {},
     "outputs": [],
     "prompt_number": 38
    },
    {
     "cell_type": "code",
     "collapsed": false,
     "input": [
      "for idx, album in enumerate(words):\n",
      "    for idx2, song in enumerate(album):\n",
      "        words[idx][idx2] = (song.lower().replace(\"'s\",\"\").replace(\"'\",\"\").replace(u\"\u2019\",\"\").replace(u\"\u2014\",\"\").replace(\"/\",\"\")\\\n",
      "                            .replace(\"[intro\",\" \").replace('[hook',\" \").replace('[verse 1',\" \").replace('[verse 2',\" \")\\\n",
      "                            .replace('[verse 3',\" \").replace('[verse 4',\" \"))"
     ],
     "language": "python",
     "metadata": {},
     "outputs": [],
     "prompt_number": 39
    },
    {
     "cell_type": "code",
     "collapsed": false,
     "input": [
      "for idx, album in enumerate(words):\n",
      "    for idx2, song in enumerate(album):\n",
      "        words[idx][idx2] = re.sub('http\\S+', \"\", song)"
     ],
     "language": "python",
     "metadata": {},
     "outputs": [],
     "prompt_number": 40
    },
    {
     "cell_type": "code",
     "collapsed": false,
     "input": [
      "pattern = re.compile('[\\W_]+')\n",
      "for idx, album in enumerate(words):\n",
      "    for idx2, song in enumerate(album):\n",
      "        words[idx][idx2] = pattern.sub(' ', song)"
     ],
     "language": "python",
     "metadata": {},
     "outputs": [],
     "prompt_number": 41
    },
    {
     "cell_type": "code",
     "collapsed": false,
     "input": [
      "for idx, album in enumerate(words):\n",
      "    for idx2, track in enumerate(album):\n",
      "        words[idx][idx2] = \" \".join([w for w in set(TextBlob(track).words)])"
     ],
     "language": "python",
     "metadata": {},
     "outputs": [],
     "prompt_number": 42
    },
    {
     "cell_type": "code",
     "collapsed": false,
     "input": [
      "words = [\" \".join(i) for i in words]"
     ],
     "language": "python",
     "metadata": {},
     "outputs": [],
     "prompt_number": 53
    },
    {
     "cell_type": "code",
     "collapsed": false,
     "input": [
      "print words[9]"
     ],
     "language": "python",
     "metadata": {},
     "outputs": [
      {
       "output_type": "stream",
       "stream": "stdout",
       "text": [
        "represent all concept evidence forget pointing whoever hooks beware comparatively yellow four known shante sleep per upkeep skin go flashback everyones integrity seemed whose haters referring dactyl everything beasting sinatra young suits spotlight to 1980s 425322 sweltering depending late circumstances rob sent yers 47322 1991 breathing seized worse song very caught unstructured every jack fall word drinking version school basics 1997 notorious did bugging hous gun large intimidate sand casinos math tear locomotive yall clothes work neighborhood pragmatic hanging literature past crook heavyweight street gunpoint booth pass growing n hasnt even 90s what curse religious payday indian vehicle worships goes frank new groupie public snoop told pioneering kicked led drugs 5 honour compilation rhymingflow commercial punch here itll tracks suicide groups others sublease along legend jazzmath dispensery sending great substance colored inspired title allows commonly controversy hoods soldier accomplished felonies smoke social duty makes honor thats paired shootings behnd owed father amethysts towners spanish reord wit vivid issue outro rarely everybody environment use refers from takes would prove angry indians two next figurative few live 1930s call therefore roxanne 6 restraints means tell minor shatterin teen entrance mush door knows initiated faith started staggering under testified occurred loco accessories glass train basically broke fiery baby nostalgic gold 2pac must me supremacy 1993 locked 1994 mc niggas this originally policemen roof believes movies locker nine can mr following making metal my example history phrase heart crazy headphones trump figure give raps share fuck days high heard something want sense fans station honest simple absolute pink aging sip end outsiders conversation vibe nys clever watching write how hot fila 232 hop interview instead native dope pounders pizza map rastafari shouldnt particlar huge may peeling after tries sharpintelligent syllable mad coming everyone law authentic types man a criticized stress imagery rhythms famous light sit appreciate truck dread african harlem rastas playing talk greats producer longing developed over altogether displayed soon years produced held paper through committed mentioned existence smiling still drunker its roots before caliber 1 revived conjunction police ll dedicates winning chalice attraction messes covered bout gents image 2013 happened then them good halt yo 3 popularized safe break 443322 reaches they wealthy not now complain bank officially 80s gets damian pimp always times artist l choir realistic token doesnt truth rock americans side spanglish mean em goodhappy en bentley generation house chunk hard uninhibited juggling celebrating jewlery blood sexually scratching our girl marley influenced witness really album living alcohol inspiration kids borrowed god confess since looking stuff amethyst 7 got size cause red pun passes upon 1920s million threatened pub 20 houses ancestry york put sitting wanted beginning avenue advance portray g could scars success descriptive round thing american 000 tracksuits hence won today move think first does major dont feel owned one feet hook done specifically directly comin uncle ring stick visions cheesy hood millions city guess necessarily heads quality paint twenty top structured girls designer priority their burn 2 too properties show syllables legs realizes gives repping selling lot relationship that brains explanation eyez park took 1919 cops part because albums than king glamorous messing 17 culture depressed favors bother second screeching mobb marriage supposed iron were enjambment and bridge sam royalties wasnt smokes violet mind marijuana talking say himself manner have seen seem borough any pimply strength lic trapped able ideas emerged note mix relatives internal take which finding so many blunt toughest play sure multiple tobacco opposite track rappers who reach capone most brooklyn regular mouth nothing hustled realer why icon tokens lined corrupts crew professor sometimes flow order pipe points artistic dactyls professional tradin typically came imaginative saying signatures shot entendre lyrics visualizes chances meetings bring session soldiers aggressive longer find aint sayin northern jay juks state bust should terminal moments only going black rick rich gods tune 2012 hall hip do his creativity above get beat revolutionized stomp jazz prohibition listener illmatic olu grew pretending despite timing during nasty trade him ghetto fact bap keyboards badge cry rapper shape taxes checks naked collaborations bad qb she shots double release including buy movement where bushwick sev seventeen art aspect reference generally liquor reefer resist bled reminisces are 1926 hoes atlantic progress untitled paeon definitely instance practice cole record ways pictures irs label genisis behind difficulties various altercation between probably gemstone across dirty dempsey screeched we never terms 25 debut however strides incident styles wear recent article freakiest come pissed league z last irregular career joke ill hint adventures against called participating etc s stirring boxers bronx dopest passing argue whole afraid comes comment seminal smuggled point appeared sky pot whatever matte non arsenio nat slide kings prominent connotes 4232322 beats speak noreaga better recognises storytelling beef marl create classic political due been tragedy secret much damn craig featuring wait location wants life relaxing foes felissimo am thousand exposed else 38 lives compromised smoking rocking general ruby marleys those countless sound stolen look unlike juice these also appearance cash rhymes air will thou while melted overcome country mentally mugged murders taking theres ive larger rap eventually almost demo is gangstas it according middle cant someone im drug in march id disappear if grown different trumps develop harsh tupac suggests perhaps things make mta incredible same check guns complex speech 1990s largest underground several shan famously bells status queens used moved island 42nd fucker weed producers renaissance ancestors uses ownership fancy fucked changing officers wheels quartz keep reappering early off center older i safely weapon variety well cultural paeons representers more dreadlock greatest worry sets y the bumping left summer rubies mingle just golden being money exaggerating rest overcoming shouts foot projects distant showed victim using smallcommon 1986s dara happiness previous begin sampled bragging snicker stopping had liv knew day arsenios causing 4 easy input has hates gave real victims around read big showing sums successful dark possibly game boxer trochees know listening world railroad unique dare like melting incredibly fortune d lost rides honestly rituals yorker night translated become queensbridge adversity shed nigga old often deal people twitter interludes some thief dead motive donald championship shes escape home musician intact slice mood for literally though pros slick ice style wrong religion asking provides beating be welcome bold power reaching dropped equivalent each notable rent concealed found losing francis by stage beatnot on about rare puts anything getting reappear of sinister favorite recollect chiefing alludes whistles tongue introduced blackmailed or silence tape own whats burning presence storyteller into within blessed son down charges right clerk artists hallucinogenic recordwe your stare america hes spending housing there question long fight hed start inner way music jah was war happy ago head crimes north cormega enough bitches but back delivery hear showman survived line ha with eat he pull made applying biggie happen society wish prosecutions official up us lead whiskey stories reflects traditional piece similar age urging examples gone freak razor scandalous defined recognize era influence deep an imagination as diamond at groupies lifetime ing match spends shit again maybe no amounts peace when 43 reality such nas suburban other compares boom sick becomes gambling you out manhattan realize nice gaining scary elements emcee felicissimo preceding time stay herbs meaning scale cater throughout friends slang jewelry jones nass mase implies faster wife homophone blogs walked 2002 loyal races karma teeth push understand once having songs neighbors limited all diss evidence forget ron metaphor effigy caused graham focus foul steve baby manager comments go illicit rot children whose swag repetition homage z including glenlivets to citing relives late sent ta fly worse takes song very relatively cemeteries putting yellow fab winning dapper little bringing cool leads school heaven mothers did die having gun leave p liars team small loads bordering originally yall clothes jamaica talked neighborhood nineties ten protect trend streets boots budget timberland second street video castro pass growing healer air depression shining even 90s what plays christ ugly heres saved incurtains cooking milk business volatile above new ever guns filled told patr never fronts here hyundai hours met tracks let orand november shows tragedy 105 great kids didnt inspired composing m3s jail example amount rags coolest smoke birthed mercedes honor thats love addresses slain credited africa sample sorrows put cheeba already prodigy simba market summer from wealth working former super bundles two next few live implication music calm m3 memory etude campaign angels tell reflects more revolutionary wears flav removable upcoming club becomes company flyest wars astoria chocolate instrumental glass basically savior why known hold gangsta me reconstructed 1993 talks crimes anything result niggas this car ride work bolognas mall nine can following making lobbyists my route deceased something heart everyone bent patron snacks lives climax benz fuck pieces high heard weve pulling dropped want dignity times clothing drugs information end turn dinners comparing means damage enforcers boroughs write how hot winners hop interview place bebos goosebumps springfield map buildings rejoice okay professing obituary may stop reconciled after spot questioning soundtrack director blood waves salaam stoute coast revealed racks a attempt johnson illmatic onto lines stash think callback criminal maintain truck keeps title solidly dream yuppie talk theme aforementioned over move soon years produced course isnt referenced through committed mentioned hell still its before thirtieth messed laced harlems courthouse shifts ll methodology crew better production fidel pays carton 2011 setting overcome coincidental then them good affected fourth yo moms musket slate safe belows drinking rhymes they das not now rental killed bank easily shouted name realist always debut hollis habits truth rock went difficult side mean namedrops coles mental house peteys hard films fr related brother court variety reached our beyond event neighbourhood out album living given opened driving chopins rep since forty mason looking laid maple got cause salute unifying earlier clarence quran cars pumping free quick reason obituaries cheers york besides imagine ask mobsters alert rapped amped definition drowning g 1994 could transition days keep thing core livingston murderer today chills fallen top south first cubans info embraces naughty dont feel vh1 thereafter scene one hook shout done bitch another such says ring drove tomorrow hood engineer take razor story boulevard sheet stuck bologna caught twisted cartoon anyone their station master too passed time white friend meme curtains selling kanye lot relationship that realization depressing dudes part because shortly july representing hollywood character king 12 ben plein things jumps double bebo riches imply bed youve listeners r store were feeling members bet shirts and bridge fashion sees willingness mind mine sad juice say williamson graffiti buried rap further seen experiences dmc apparently any gear paths warriors responsible ideas note also squad luxury which so drinks switching channel toughest circles culminated pain godfather though track rappers who reach beems most brooklyn eight bdps sheets coroners america pulled overlooked queens forever audio dealers corrupts grove rastas later cover hungry crowd face acquiring away came saying piper shot entendre gold show cheap ending area large relation battle soldiers ripoff heavens albums help aint praguenosis jay justice with verse colbert written bust crime tame failed only jam black buying rich gnac riding piano rocking hope represent hip do ties his get beat familiar dope watch sipping famous community grew champions referencing du him celebrate ghetto places recycled ravenswood sweaters excel rapper bad qb rival release dough grab where 16th wrote rumored cole set freinds human reference prague mom ends scenes culture see full are unfairly biggie close bark idea seems blunts said 8889 record timbs posse drawz wests enough protected between probably champagne theft manolo heisman we men creating nature s sold memoriesll dome however blame day vernon kew police killing come roller cop c accident last robberies many taking drug hustlers riddled connection brag faces bronx passing whole setters sentenced childhood tough homies point simple had pop walk twin exception kings specializes along expensive turkey destroyed decent puts shouting stretch west condemned three been legend convicted much dictator borders stands khadafis wants life lived champion spit both heights influence prison hennessy else moment overthrowing sleeves bmw personally prices grills worked fellow digger spirit those honest sound myself east welcoming look pacs these pragnosis cash murking n will remi while upscale smart carelessness fun atlanta ill loop theres ive vulnerability have almost wherever is gangstas it laundering sleeping pinky player cant im in claimed colosseum ric if grown bags bottles shirt tupac etc perhaps pay make cross same food pac film 80s going gets downs conflict entitled used raid drink hang upbringing weed effectively helped couldve moving purpose spitting fucked stack recent refer til off era i traded youre well thiefs grind thought person 1 bottle mother the chemistry yours unified realest coaster gangs just being money baggies rest bunch verses front reincarnated quintessential victim mob flavor previous blow sampled death cancer hauntingly scarface drunk cemetery realize countrys lets book presidential samples crack extensive has gang kick sandwiches real starving aspects around disappearance big showing cognac possible caps early game know rollingthe dmcs world projects d brought starrs like lost interestingly laundromats multicultural 50 background theyre gangsters individuals t robbery night hung become queensbridge famed murk old often classical people fucking some back 10 immortal eddie examples respect home peter bigger 118 outs describing mood for closing exec legal cast asking willie leader booking hustle be process knew run rapping dental bo notable popular murdered fullest using although notorious eye refers bury by hiding gained on about directed central would piles getting og of howard hiphop prolific carries act mouth slightly or coolness op own whats civil material into intellectual arms down hes nigga references cent artists wrap couldnt mark rant your murderers significantly behind type legends her classically housing there question long custom virgin racist slang way biggest call was opposed designs head himself north elsewhere nostalic becoming emcees but airbrushed illegal reminds land penned dead basis hopes line trying downstairs raising he count pull made romantic glory dangerous inside j bucket up us until freddy paired below customers lays faking distribution ghettos similar grittiest gone trio ad videos classic flow ak dan moved covers an as clever right at emphazie mold check shit ice 2002 thugs intact jesus dying no 47 peace when depth 40 power nas other 5 sins pappy you really manhattan nice picture brothers favourite boogie welcome problems m stay brandy rolling hurt friends died lane foreshadowing e longer overlooking sacks odds together stacks eddies cooked loyal 2001 acknowledges teeth serious 2009 starting gardens profits songs represent all concept gs seated mcing dollar chaos leads posturing avalanche code gang hanging go toothpick lyrics weed z suits environment to glad golden under cluttered suffered pride worth shoot woman risk song far puffy rhyme genius choice sons updates decide stays telling trouble blast develope tagging cool homicidal called gun large punning reclusive liars guy ride clothes enjoy says core sanctioned streets wrestling youngbuls imply street further toughen zs even aim what plays reminiscent run flaunted infamous new tribute swagged guns unintentionally can body full tecs unprofessional never here newspaper tracks objects deaths civilians legend change referring boy great kids didnt leaves hims commonly controversy arent pick usually bob theres adolescents massage thats joshua control love addresses crazy put moral limo fake singing readily standing use from wealth would dude two next live noting calm wondering strike survive themselves care type tell today more tryna ambiguity biblical sessions started loco instrumental 98 visual binoculars basically known hole casualties piano 2pac me high g niggas this critized work soul movies hardest three learn aight my history beautiful hip vodka memoirs give lock benz fuck topic heard homie want sense difference counting world end rather plans means feature write how clubbing hitman hop interview instead beach ransom staying tried may advice after fa wrong blood coming president guys grow man a noun four beam light lines their reminiscing maintain so ho seems pulled playing theme interpretation producer itd werent years produced isnt paper through looks whats cold still blooded its features perfect swisher style imitating 20 fit la interesting crew late previously production 2011 image ally then them good yo cleanly ya killer guess collide impressing break records they hands not now flee day avenger going gets name jinxing always choir doesnt mythology each addicted went side mean em fired doing scheme hard dedicated our girl murders marley out album try gon stunting missed collaborates god since forty looking silkk sustain got cause pun philosophy clarence state cars rozay story clique ask indicates wanted guest incorporates befriended segregated language could days puns smokers projectile promotion loud think first there dont feel bread one hook shout done bitch miss flossing little heads personalities immortalz start twenty threatening dressed parallel attach wing 2 too passed shoppers percentage perfectly repping tec lot that shawn shelf bona took snatch massages cops part because western focusing than kind grew target showed culture outlaw riches whom bed jinx youth listeners future vocals were k and bridge youre wasnt face generation mind marijuana tonight talking say graffiti fighting rap anger sells saw any sell epistrophe person balling also causing build which many blunt obsessed play sure straightening shall track knew sequence clearer cinematic victoria most mouth plenty america why damage queens forever dealers professor shooter drive spend pipe reputation bulletin fact dodging saying shot subtly gold show syntax bring corner aggressive probs aint jaz knowledge jay tithing true less enough should only wayne black rick rich gangsta meant do his hit goes get watch illmatic killers despite referencing du chips him ghetto enemy glory organ ever rapper attitude eyebrow calling bad shots dangerous where sho guessing opposed reference national notice sex trick see are smiling imagistic practice said threats attempting federal movie inshallah aroung drawz weapons case 3 sista various drawn before we muslim recently rims dome killing willing takeover spare premise police come patented accident last country ill drug foreign hustlers players s brag planned whole comes nearby sentenced unclear tough provocation point reasons senseless wisdom dudes hollow agents respect ether expensive speak turkey quit proceeded stating second chrome classic reggae lets been kidnapped ran literal much entered waste mary wants life lived both thousand recapitulates exposed search offers finished spills niece hardcore evidence shameless sound novel look these straight appearance cash n will while involved wild situation ross taking rent have is it against helped cant someone im minds triple in ironic victims arabic ie y if grown different zulu wearing pay make manslayer tour who denying poetic babies several fide difficult used bonus cigar hang soulful producers afraid purpose intended nation pullin recapture kid off fully i organs dancing well spent analysis tithes thought concrete without gain sets very the yours watching elected monet immortalized just sentence being money rest front violent kill victim thug flavor previous cigarette cut legitimately nas trigger had killed pillars verse internal 4 innocent sweet has jeromes sprinted real premeditation around kills read possible amy pronouns five know mob bit condescending paint dreams like maybe necessary d marlin specific collect night become queensbridge dresser guests murk old often crowd people some back alive scouts motive understood dedicating shes images home theyre confusing forgives for avoid slick considers everything unluckily chains shooters be blowing murderer monetary pressure described refers by refuge takes on about works central beef anything getting of dollars violence choke marl plus sweat act or block raised rhyming winehouse cocked rosss owe pays into son nigga heated yous your murderers her hes constantly bargaining long virgin describes slang way was war therefore tricky head williamson names inches brand but somehow boys swisha survived line trying with buying he count pull throw made biggie blige wish inside j using up us rags below reflects dodge piece clear djing gone sometimes cinema am an twist as znas at girlfriend hollas floating shooting check shit hasnt theyll rubbed no na whereas wary when weeded til tight other holding income test you really reckless nice picture intend accidental marlboro time inherently stay meaning perry bullets kinda friends died jones nass implies lead bullet ending age together jacket portion u narrative intentional having profits songs all childs keep steve smoking go gossip sung certainly father young send to finally collaborate song sons putting awful sheds exact cool treating poppa school went mothers did knight shock proud leave walked verdict guy jewellery talked says sawed breakers past talks likely perspective writing ode even what hide chicago giving expressed version playa net public filled told degree loose eminem let making shoulda wait box boy kids daughter didnt example amount social usually history makes thats wig teenage love drums private havent issue cocaine cloud yourself confidence from would answered angry contains two next few live wayne call themselves more teen tryna door knows started site blissfully ignorant women me locked room niggas this car work soul can starts growing thuggin nurture my could something heart crazy figure chip share contradicts heard homie dropped want times breaking needs end turn vibe mens necklaces bassline till foulest interview instead shouldnt tried mess advice after tied questioning mad coming date guys grow man a realized light or jail realizes goodbye pay acknowledges dream realizing theme over wishing produced attitude including looks hell still its before limelight how cleanest fruitful better spoken window image instantly dad then them good somebody material academics kiss ambition not now day wont going rocky james artist someone doesnt gender repeating mean successful everyone doing house innocent yeah taught daugheters our girl randolph out album try gon network blues females god irony content may got cause shows state possibility standard imagine put wanted princess care backwards bring where just waits confident honest thing place wrote incorporated hence think lovethe first emotion major already dont blown feel crib one featured done specifically sounds drove instill little heads their caught girls player paint too saint worlds mama behaved friend listen shell lot relationship that exactly huh took wisdom part gone herself than boyfriend lavishing kind anxiety double recording vocals loves were treated and sees exert wasnt mind jewels beefs talking say rap anger seen saw any kevin instrumentation strength karmas kaye lit also take which showcases so concern switching sure multiple opposite track rappers who interviewed most experiences letter phase why understands considered average later cover drive looked judgmental ridiculous normally notion saying dates entendre please pops wanting instagrammed find aint slow sayin spite jay verse enough should only planted do his handle get overall truly ones nearly words despite wise defenseless him wyreman conclusion pimp keyboards nicely rapper isnt morning naked bad stuff she overprotective contain through poyser husband seventeen set fair sex gangster see are kanye best subject said draws destiny inappropriate joys away contemplating playas behind probably we never terms parent attention antics however guitar job article precious come both protect z career pimping ill etc s studio whole asked comes point had possessive learning leads throughout expensive speak considering protective raise asks west blink add been legend whom literal much mcghie define wants life describe samples knowledge essentially photos understand child condoms rocking regretted those theyve strictest intimidate straight harder single while many balance taking coolest thugging fool have is it chilled cant itself im in thug parentchild if grown different shooting shimmering things make admit same complex split gets daughters fairly yeeah hang effect weed hasnt dust tradition infamous kid task off 1979 i shotgun youre spent 1970 thought person insurmountable without mother the spend dads they cried less being tossing named front human seems except realize lets setting parents easy crack has gave real around bryan big showing game bitch know background schedules judge world like intertwined d gift interestingly gifted laughing always become dresser right deal people absolutely twitter some back dead self shes dear home happens trust for drenched tmz fox everything dating be business night although eye post refers by stage on about puts anything parenting of plus stand 2pacs discusses book block raised own whats into son down chronic because artists your wan additional her hes spending there hey fast hed start way music was fathers opens head himself proudly hypocrite but talents hear musicbut line trying with he woman made underdressed rage whether inside up us stories problem daddy similar website sometimes classic certain pic an as at carmen az check shit ni thugs maybe no na nah when bossip reality nas other someones you really nice elements brothers collaborative papa dented gifts meaning important explanatory smiled friends nass remix e longer age together time serious having songs neighbors limited all concept saying instincts everybody leads sleep gang talks shot only bank increase referring father young environment to 1980s me egyptian very putting decide telling luxury continued wipe minute entire school level die notes leave shows ups the talked alluded sign jump second perspective spritzers hayes even what rapping favor expressed thickness reminiscent new ever doing never here let possibility alone legend change mindset boy kids tapes my leaves jay contradiction products birthed honor thats golden named love campaign extra prefer apt ask names seriously fake actress recite yourself from russell working contains arms wordplay live jam call 6 survive tell more knows stylistic club largeup company musician it plant adult women fly high 1992 wouldnt divorced niggas this mo oh laid believes can royal growing making drops didnt def history beautiful compare violence raps agent sample heard discography something sense hit story biography influenced dinners holds owner surpassed write how hot hop asphyxiated interview nyc explains profile product shouldnt elizabeth may after different abuse gardeners salaam grow times a criticized realized danny attempt remember third famous light lines sh so keeps chandon looking dream order talk wine chicks lighter josephine over top years produced radar isnt paper london looks kanye still its bunch linguistics style recreating maturer fit la personal better complex isaac gangstamafiosa then them good they not now jerkins presidential worlds name elder james didn rock found went everyone financial generation house einstein idea society taught expect reached et recognizable out album try quality psychic artists sociological blunts cause gardener bordering deals nowadays 1920s million guess free struggle members conservatives put teach g created could area success british keep thing american due think first chopped embraces already dont scene one staying hook vigntette bitch another president sober force open hood millions little long interviews least response their master too white speaking urban eyes lot that shallow innovate part somewhat necklace believe hollywood obama vocab albeit kind b performers rival riches namely project r supposed were knights burbs and fashion wasnt mind talking say seed alike rap cleaned need seen any forced mil able parks note mix build which hennessy circles skinned though quote rappers who reach clearer most visualize plan reverence nothing outgrow queens understands proliferates cover face tech pictures skinny hastings painting notion came lottos perseverance particularly entendre lyrics show past text queen bring planning radio king supporter hustler copy knowledge moet true enough than theme going black rich fiend piano hope hip do his dj get dope jazz sipping childoffspring joint community ones nearly bracelets during nasty him champagne embedded covering approach rapper twice stuff she favors switzerland where vision bars reference imitate up edition see are anything close sport best singer said closet vignettes pattern irs genius 3 features drawn enjoys before youll available we men nature gifted attention tut however incident wear hurts group both essentially piece last 45am career many according contract april s faces expand conquered passing rodney comment presumably tough supply simple had peers whatever dancer confirmed platinum forms adjective addition wests vacation been tragedy literal much olus basic reflective mary killed life enable samples received turned pictoral commands finished lets understand covers drum those sound remy myself look erotic these bill n will remi while grindtime behavior fun situation 2007 ive have almost is gangstas mixtape ii player cant someone im against owes in fame if funny ostentatious shooting nike perform things make same strange largest kool interpolation bloodsuckers ratings ikes pick upon effect producers moment two opportunity thoughts mentioning rakim off reflection scenario older i youre well double thought person greatest sets model know just being money rest using touch co skill bit previous dining republican also thinking seems day verse setting 4 easy homies has warrant smart take real around represents read big couple advocate thicker virginia early quickness game simmons pop world dara accepted projects prominent like lost foamposites french benefit either sparse night popular become queensbridge shed because old often people fathers some back standing lashed sure olu mirror home happens developmental mood for literally decision grinding conservative does sneakers t be business marketing clay continuing kelis subconscious deadly step although notorious metaphor super by on about goods would origins getting of am citizens words lyricists extension seeds or block whats into sneaker son down doesnt accounts strip lebron your bravehearts wan fast legends her hes there racism specifically stuck describes racist died way forward music was naturally himself excerpt pharaoh stereo but yeah hear gain line highest with he pull admiration made wise blige born j mtv flip oreilly record nicest winery z groove called sarcophagus classic describe influence deep an imagination as right at lifetime work mold shit again moniker no na when reality nas politicians other you really hustling nice explaining repeat brothers living problems stay meaning important allowing friends influential slang began nass younger happening wife typically baker pretentious attaining fact time serious 2009 sounded once all chain restraining lack leads yoked supplement go everyones essentials disorders religion baddest whoever young literary to blaze marks pay worth ta shoot worse song billionaire every fam telling precinct little bassline nausea themes school gun large quick yall clothes force porn stairsteps streets okay surrounding likely street perspective savage evils cigars even 90s what heres orchestra waiting en goes new ever thin body drastic full exchange never here let fuck ignore along strong change mindset addictions great bible psalms title through ignoring stomachs smoke sadomasochistic usually priceless murdering makes options thats love family extra requiring imagine commandments sorrows outro cocaine wiz yourself use cheating crap wealth consumption positive angry two throw cali live doubt survive themselves type achieving more breathe flat rich biblical on started becomes premedidating refrain hurt drown bestiality tying hold blindfold capturing women me room divorced niggas this science soul exhilarating offended vs nine can violins believed drops my dropped heart slid give floor share mainline agent high fronting attain want sense needs end hinders travel acts id how aching panic sin rapists ft tried may watch advice after tied wrong pigs mad coming mocks salaam destructive guys response man a short author eats maintain so jungle things definitions addiction athletes chicks serving materialistic shoes burn enter indeed over soon rebellious outer produced course isnt dough existence cold still fullest roots dummies 26 police hypocrisy pray interesting fix better maid willing restrain choose adages bout main prisoners then them good return yo entire ye hamilton effects they wealthy not now day wagon term onanthony estranged always drop filling habits mode bills bong side lifestyles mean heavy nicotine cost house spanish society ex our worried popping out album try alcohol driving jokes beefing looking laid shambles suggesting got newly dominate cause especially afford belief cars confidence story quite reason california besides boosting put hand definition could days keep turn abuse place due divorce uses onto throws first distracted dont steroids feel relate knocking one hook such says fiction hood guess heads activities leading caught system euphoria anyone their too escort doesnt chemotherapy white legs speaking murder option that exactly mentality cops accompaniment doctors wasted off distinction than population 10 kind anxiety decided 16 largely scenes bed shes vantrucks future supposed were snitches damned and bridge pointed mind mine say buy rap voiced seem any forced self somethings masse instance ideal build which grips squirmish prick shall track quote rappers who betrayal anatomy most demise letter highschool why deny takes released clear m face traditional add entertaining lying saying bomb show chapters ending vacancy fear fine find help aint busy based nice jay condos nervous credited state crime only going black touched pretty forfeit do his handle get dope stop lucky famous ones bracelets him lighter boost married theme retaliation remove calling naked twice bad she though including where blew art sex gangster see individual horse are best lost said temptation away nature its behind between probably before conditions we god missing weak crucified job succeed xannies rarer group come holds cop protect packed thou many taking barely spray drug etc s concentrate games operating whole alohe comes otherwise point desecrating seems loan community 2nd cried likes considers expensive second itdo puts resort create vacation been relying confident dropping dangers waste mary empty systems remedies life general champion drugs turned crack deter anthony lives bull prescription fellow spirit those sound myself fiends atmospheric look these means cash will remi while situation mythology ive would have played is thus it sleeping need cant someone im in thug oxymoron fame if different education stimulates doctor vintage make bowl same tells matthew strange unfortunate gets events cubie used stoners restraint drink weed feds purpose mentions changing niv infamous kid kept scenario blood i changes youre well game fighting asked person severe without bottle the mic included traditions just flesh being money forsaken openly kill dopamine yet happiness vices death illusions cuffs nas thinking ease danger had killed verse sedated samples prison has reformed gave real around emergency easily big fusion quest five know burden world lady like success shaped should interestingly 50 facing t lose become queensbridge conclusion stretched nigga old often propel people nahimsayin maintained interact some back dead born growth 110 sight escape pain confusing delivered acquaintance describing for contacts memories hoodlums ice everything asking tends booking thighs be worldlife patient night communicate sprung uneasy pastors everyday from refers by stage faith about central beef wouldnt getting of youve sadistic or whats burning follows into arms lies juicing because esteem female parties couldnt whos your bravehearts technically her hes housing there racism long start handcuffed much low way jane was allergic tight himself something but gain line with he also made whether up us stories z examples separated medication play cinema sinful deep an as at shooting illegal shit selfish hasnt no amounts when backs 41 application other special sick you really illusion paddy poor picture elements xanax includes journey bullets gatsby previous friends younger wife age lot together rough time exsistance having once all sci chain saying roc four asian skin go follow hate whose icons show airplay send suits to under sneakers friendly ta fly woman song rambunctious anyway wishes every trouble entire school did louis sang swizzy car melodies commented yall unexpected says noahzer streets steaks likely design cigars even what anthem while abs freaks pucci exercise can body full here water bezel let sing adresses appears wait daughter k changed reports smoke makes thats followed although win explained ethiopian crazy sincerely rican total singing disguising everybody ayo from wealth working ofshine dude wordplay comparing splash call opposed wondering flaunting taken means tell more females knows company about glass basically baby starter women me grill meen room this recall roof believes three maboo believed meet my dropped vodka give states way something dress united daring guru rather meanwhile how pura leggins interview instead beach sin undergoing mess earlier wrist floor president types winter a criticize rollie goons light sons so keeps fan talk chicks bathing boxing producer seeing distinctly produced diddy gender still its before perfect ll hot vente late production choose lp mail bout then them good yo they wally now day going term always loosely 1990 lingerie fitness mean heavy doing series girl out album living stunting cerebral since cuffing got dominate ass guiding hang story completely boosting put philip beginning g worth massive w think already features feel number one introspective hook shout bitch another fi hood little service top neck girls hangs mami their too boricua man summertime relationship that season gym huh part eritrean than waist tities karats matter protected contrary bodyguards 10th and sagging film talking say have need events any continents mic fornication note instance take which ego blunt butterfly play electric though track rappers who reach most why don steady points clean sexing ricans gold banger ciroc radio shoe aint based jay true dick vacation should only jam black gods riding wearing do his hit listened get beat watch illmatic compass during him smash organ artist naked bad stuff she wholesale rapped barbeque where see are close best brazil lots pictures currently weapons un props champagne pants we opening rolled french come lyrical bras c taking s remake passing whole wear respect winning belt duh unusual verse been imagery illmatics secret dropping damn mars expected featuring hardly wants life eastern essentially puerto sound tank look cash near fun skirts theres rap is it middle cant eighteen im in ironic violin fila if different perhaps things make speech shit party gets feets status swizz nasir drink overweight weed totally costa off i weapon youre well caliente the stating summer just flesh being money rest not seats yet rgs also rose vida remember had lets has kick photographed real around big showing early know background world necessary like theyre t night comigo endorsed italian right old people fucking proudly hail clubs shes choosing dear matching enemies describing for memories slick everything does sponsoring refer rock drums post super by beaches on crafting getting conceal of o mixed or em boricuas commitment son down because female parties mark your g0harvey her there hey long much lot music bored was therefore tight himself pimpin brand bitches but fastened line trying with themselves he count invincible mtv up us planet record below miguel smashed z called gone classic flow an single at flossy beatz check as again peach no when virtual lately nas jeeps details oochie you roll nice elements generates polite meaning kinda rolling pool e lead practically yacht cooked portion serious 2008 songs represent all since jason ron rap rob overly steve executing mile go halsey compares decisions relationships collaborated supposedly predicting to ny those smile include started me random song far choice shoot surprise fullest audemars school did die michael gun platinum try disc verdict salute hustle yall rats streets boots past timberland street video corner n carlo even 90s what ros stands giving hate duplicate revolver tears new ever impact hasn full cam notable never here eminem stopping tracks let others alone benson great drops talent redemption didnt title allows jail jogging franklin pick usually residents deserves makes struggle 740 named love adidas clout names rakims outro support fed towards from would positive hudson dude theme france live wayne call therefore vehicle symbolized survive stage type until today more diamond knows club bottle company fuck yaht floyd basically 8 known earth fly states ace mc niggas this car ride work anywhere nine can praise freedom making arrive my example dropped beautiful hip figure stated process slim 550 early tinted homie something want partner phrase keep clothing native pink successful united end desperation rather means dinner gats hov how hop instead shouldnt tried stop after spot loyalty hublot vineyards wrist president destructive guys man a lustful rollie third famous coat dealer lost childhood domencio chief killers truck jungle allow african harlem alpo talk wine emotion help essence over despite years produced course isnt paper through kanye mcdonalds still avenue its roots before ima sic style trying concept nostalgic late production choose jasons holiday might finer then them good ceo slate cuties break records walls they hands not rotation now day wont conflates term shouted name always didn metaphoric doesnt mode rock side luck em everyone listening snakes due fascistically venue hard directing yeah brother 89 2pac ex fist ras tenth martinez out album travels gon jackson alcohol sentiment god stuy forty trusts looking companies 7 got cause correct audemar shows bubbly splashed working rozay million free admits girlguy reason york put mobsters wanted certified backwards mobb g spill starts could waits days brainstem times thing american musicians businessmen divorce repeats think south first recite dont scene one hook featured shout done bitch another drastic says ring benz hood city given molded twenty girls hangs their too passed cycle speaking listen catapult repping selling mostly that sweet exactly proving ogs baldy part because oblongata off thai believe than backstab ethic wide kind b performers double rolex bed matter friend loves design bet and deciding humble mind yachts banging tonight rent have throat seen saw orders sat screw relationship able balling sound take which so castellan rider added unless godfather theatre though track albert parentsfamily who victoria most brooklyn pair why colloquially queens singer don windows nobody later drive km musical fact saying shot entendre gold lewis charles recipe carefully nephew next hustler aint highest knowledge moet series with poppin outside bust should only going black rick rich gods aretha gangsta pointed medulla wearing do his hit get dope between watch lucky joint grew shared during nasty dr him gem metta spilling ended timeless stranger twice qb she hype flaunt river where island vision set reference 315 seat see are close sport arm seems said youbuckwild federal movie away shelltoes state routine probably champagne youll admiration lays buckwild we men jobs apparently scavengers sold however vernon wear upfront dedication cousin cop essentially last ill according millionaire officer thinking s became aura bronx poverty whole finds constantino very drunk battery had jaye menacing jammed arsenio article trust boat considering lyin tint described basis west create vacation been convicted pc collided much replicate 507 celebration killed location wants mike lived shopping innocent both fire turned crack enterprises understand bmw personally catch smoking fellow former robber chill case unlike these as choices will while watercourse owns luciano jay ross guide mistake opt seven credence eventually almost is thus it pinky rapper someone im against in bucks fame if spunk bottles shirt tupac perhaps vintage make any castellana emphasize 80s gets castellano showing used drink flows weed different running uses two jealous spree nation celebratory infamous recent rakim lower supports theater center 1979 band i dre no bang grind person de greatest cannes y the spend things neighborhood stake monet legendary just being money half rest verses kill behind paul yet sampled death brignac grammatical mcdonald regarded guts character hall wall verse interested teenager samples homies snap actors has remaining careers luxury real around big couple dark know background performance world bit unique salutes projects d like success miami 50 theyre french audience brooklyns t night gleaming queensbridge clap armand nigga old often brakes people domenico some back dead born sure examples thinks peace happens throughout for prison decision fluids grinding queen does expensive refer be knew power crooks burn continuing kelis bk industrious although become metaphor peep refers super by hiding throne on about yelling wouldnt getting of dollars cares stricken range stand act yeezy documentary or block seeing into copies down baltum references cent remembrance couldnt symbolizes your 1986 wan knuckles hes spending mastermind housing there alleged long 1989 start dropping way suit music was himself north brand memory but hear survived hopes line apollo true he also throw made builds entertainers whether inside up us ruined record below dirty malik shakur problem z similar inch associated classic recognize am life deep an piguet fila intro right at face eric shit cream tedious holla theyll ingredients na eastern when green nas other 5 test you really talkin nice picture star living problems gifts perry ceos chocolate friends sides slang ghost spades bullet oral together timb loyal independence time lives beamer intentional once all surrounded todays broke keep foul leads hating talks hate whose apartment young keds to enjoying lifesimply fly mainstream song very memories seemingly bravery every got telling winning donism cool entire school 12th race small stereotypical undercover yall neighborhood andor streets complement second street video perspective further even established what christ giving anthem section goes new public contrast body full mel here let alone strong great kids study credit pick usually opinion makes struggle golden love ive fake overthink standing spits from would contains negative next few live call themselves thru is today more main popped holy started dion refrain ashamed baby nostalgic 94 negativity me keeping mc niggas this glorifying can of growing making my beautiful claim performer process sense share agent something arise blvd hit times native huge productive vibe boroughs write how hop nyc if ronnie map tried earlier pimps lot ballsa fits man a shortcomings imagery natural remember light childhood wink so things gee over move produced resorts already including mentioned hell its before perfect police located ll repped writing production choose bye into then them good views synonymous downs underneath they st not now day above wont term name coping always l choir hollis rock went side mean doing jaws hard yeah society 80 marley out album gon coincidentally since rap fortitude 1986 after pathetic york put wanted incorporates retained phrases could days ups thing ism think first euphemism jigsaw dwelling dont powerful scene one hook done signifies another carry city story interviews elevator anyone their infamous syllables friend too selling gear that park massages reflecting representing king grew double likely recording future marriage speaking were bodyguards 10th treated and bridge youre storytelling wasnt pro raw say buried have crew borough saw tells alive wilson massaged note also luxury which poster rides sure though track rappers who puma testicular nothing delve america why queens entourages considered bred flow possesses looked federal hindrance professional away came affair shot entendre lyrics allegations contemporary labelgroup fear agrees fifth myths aint partners with state reminisce failed raising combo thousands hip do his handle intersect get watch truly ones words excuses him ghetto homosexuals bap course rapper common gotten hype through gibson view nas art victim sex gangster see decided are best said farmers ways movie nightmare enough finger routine vocals numerous across wouldve we hardship masterful weak blame vernon opposition genre come both commands many ill assure s became studio spewed point appeared character pop na anti kings extinct mafia adults pouring raise marl barry trademark add been shortening secret much collaborator idol life lived beloved spit orchestral else lives those chill sound has slyly these as rhymes air will near careers chilling bin aw almost wardrobes it respected middle someone im in ave audi shirt tupac etc media make albans shorten same pac split largest 80s plates shan daughters used nasir upon feds semitic pioneers tradition single kid off i floor know person riff mother the thats musical left summer just heavily being claiming seen thanks predicts where skill yet enlighten blow sampled death elm ordered had verse 4 samples save surprised real editorials around big dropping game five whatever birth judge world dara projects like d lost follows strictly audience zombies popular queensbridge help twelve right old jews people some back dead olu roamed respect winking creep for raptivity literally normal constantly everything passion be run rapping burn conveyed relating refers by stage hogwash on about cautious wouldnt getting paints am surround homosexualsoft sweat youve or seeing raised own puzzle within yourself down phase because references raises your bubbly wack fast yorkers hes tupacs housing there long hed start figuratively way forward music lames was north cormega nostalic proudly but hear competition mb5 line true shans he directed dmc biggie inside j up us tell record stories gone aerial moore videos mopeds deep an beats warning at fatherhood face check shit conspired 6th gay no deserve image when backs ny other boom corny you really company queensborough picture elements star conspiracies careerlife snitch friends slang jones nass age 2006 time oracle songs all companions illustrates dance recorded known legal skin go follow religious hardcore alludes collaborated swag homage tv lining baddest show father young mercedes to charge those under lord passed worth scriptural shoot fatigues kendrick saying risk incurs song very caught fat pigment pablo morally every nichols stays luxury exact donism 1994 school magic scholar cable presented did die f michael gun try item team renouncing businesses guy shows dip yall enjoy small talked says dealing brutality tec pun sign talks second street pass continues writing belief even what plays rapping giving sun squeeze boogie anniversary emotions reminiscent wildest pristine new net ammunition dem body internz full simultaneously longhigh dadda never grey here motherfucker growing mcgriff pursuit others sing epitome mindset search boast losses 35 imma amount pick usually mentions climb shootouts makes thats composed control ambulances love addresses figure claim sparklers highly backed lupes send jackets apply cocaine singing firearm lime use nickname from takes would army illegal two wordplay cavalli theme asses going music calm vehicle taken lorenzo doubling hiding attempts until more clever supporters comparison afford largeup mad shout hurt instrumental 98 corleone broke 8 robbing hold 97 women me high 1992 word anything 1997 niggas this car originally work soul roof cat remain condominium can of following making original my religions performed tat dodge crazy needing dealers kenneth mirrors raps benz rode fuck sample heard something want phrase dj martyr 1991 homicide successful committing end room pure rather discussion means poetry 1 how hot occasionally stemming influences significance interview nyc scholars speaks truthful dominance cadence snaps de building stop after islamic streets blood coming date salaam guys grow royce a changes imagery third famous communities mentors lines stash motherfuckers q alias sons green south shade threatens representation carelessness words talk rationality greats banger six interpretation help hadeeth tribe over move doja soon years produced whilst referenced vito looks november still its roots before perfect write style shotty police la weath continued hustles environments repped actually late resort production whole lp 400 cool admirable into 2012 dad then them someone somebody hop yo 3 nod males scene break 80s cutting they infamously not aka altogether now day runners term idyllic progression times debut featured bless productions mastered truth went buttocks mean em picture square knowledgeable colombia bentley doing there crimes yeah related breakthrough carry taught weave year our girl beyond out album large alcohol driving profit characteristic since diesel fasteners rolls looking qb fountain owning supercats keeps hanging got cause red common ass smalls earlier earns bass outkast quran cars million hosted forgive free hype please york condo put weed beginning rikers backwards mobb escubano lamar prophet could inexpensive ask success keep thing american place including leading heartbeat onto think fuckin first zan dons mr dont surviving bastardization symbolic bars one muhammad guzzle choose bitch another such sober neighborhood message quality hood illustrate take city story sadly reference service paint twenty top girls returns name anyone their attack too statement airy especially 40th final listen eyes selling lot allegedly that gym ofspreading took cops part nigga yours albums proclaims than begins king kind cracks last 17 culture crack roberto likely youth whenever female future colombiana blowin members result and mini sees willingness codeine measure repping smoker talking say buy rapperproducer fictional rap crew apparently well relatively strength genuine manufacturers able also sexier without latina which hoods so many club memory sure godfather opposite singles rappers who most stressful contain measured the queens singer don subtracted ezekiel released considered dream clear cover tecs principle slaves man konders fact mcing selection shot entendre lyrics exclusive blended escobar random preme anyway ending hating likens submachine radio battle opposers soldiers longer find subtracting aint o trying implying knowledge title situations debts written completes insinuating only insinuate black rich money invocation riding piano b hope hip do his hit member get beat between grossing glamorous trees da pocket illmatic ones aforementioned supplies safer nasty trade him ghetto 91 enemy regarding allah bap artist sour rapper stranger twice stupid she dangerous release dough where seventeen art concert humiliation turmoil professes reiterate around sex gangster see are inna close manufacturer seems closer project said capacity matter away rings bmw behind features authenticity probably islam theft 15th decks sirens we loose terms importance sold were weak djs poorer menacing convertible outfit come holds both c mans drum limits career country ill drug beliefs s lookin retarded fans drugs ignant expression decades among luxurious gone color character pot jeans pop dedication spiritually routine throughout earning expensive considering better petty hadith addition verse been whos whom literal much collected featuring extreme bullshit 4 wants life certainly fire mind wilding gas cruelty moment language representative habitual catch smoking rocking despite present case has look these 2011 appearance cash rhymes will remi while applies report jay voice taking theres changed tzu have cents is inkling it respected cant good im in promethazine qualifies thud if grown emts containing terrorist bottles shirt beats author vintage make richness same any beside popularly parts wheel orientated largest 9 gets isle higher status used nasir cigar upbringing alert producers helped uses realness military frequently president judgment contribution single recent rakim off asscrack i shotgun youre dada game non chocha person severe costs command comes bottle claims model spend things s600 pussy legendary just heavily being generally accurate seen lavish trust world alternative tattooed yet happiness previous blow sampled cut mix thinking baccarat had realize reasons add projects easy wet usage prominent avoids gave real exotic indonesian march increased metaphorical mcs big couple progressed virtuous camron suffering quest know commentary symbolism using dreams like d lost bobby interestingly 50 theyre continue popular notorious queensbridge rots likes because old people some back alive chronology born homo home drop transport enemies gross mafia recently lead literally avoid though lean best track staccato does weighs dat doin refer be business pose continuing cleft step idolized although putting jamacian major refers super by wealth chapter on about ol ok wouldnt getting island dollars favorite chance surround swear plus stand pockets positive own assassin or heavy ladies rhyming mossberg film plethora previously pays mommy blessed reinforce down doesnt references hortical artists shoots next your mazy shedding hes extremely instrumentations sock live long why hed start cats badder way call grew was war wanksta happy ghost himself enough brand bitches cuban but idea heinous hear theologies hopes line assets with buying he explaining made biggie understood wish up us historically clips crystal sadness growth jamaican hand emotional similar called patois instead supreme entering links classic ah describe topless deep an as at ink shooting check shit phantom area marking maserati faithful no whereas when detail reality til nas other boom mathematics you really reggae oneself dies symbol teeth problems stay meaning fell bullets rolling nycs friends hustle slang billion nass lane uzi for bullet vice oral age vehicles contemporary together stacks jacket electronica itself carrying came 1000 time apparel fresh starting having songs all month subliminally thoughtful sleep hating go compares hate relationships content swag haters baller referring mesoamerican imma digger father young send to finally whatsoever under hints agreed shoot woman advantage song continues seemingly honorable little bringing newly entire knight rights skewed leave sane saxophone small filled second perspective theory even civilizations what curse contributions while emotions goes new appeal public contrast movement impact pushing here fun bachelor others alone along teaches wait box buck search kids battling k extreme misery mentions suitable makes options thats beautiful named love although family highly addressee verge ailing use from takes would two wordplay next live jam means tryin type tell today more sort throne females knows started dislikes company fuck about hurt phone frenzy basically broke effort negativity women me uninteresting locked room niggas this ride work soul monster can making my proof 740 heart violence figure escapes slim share confused honey caution something want allowed sought handle influenced needs flawless dinners six id 1 how hot hop significance interview speaks explains suffer shouldnt beauty sir may sacrifice after derived blood destined such guys hatred man a 120 maybe lines tale provide buggin so enter increase opportunity banger infant interpretation shoes over stays years produced quarrels through looks hell still its islam percenters personal pickings amazing choose corinthians might 2010 then them lonely noi bacheller listener killer soulful nation break conquer they not movementorganization now mystery didn l good doesnt truth rock went nationals bone bond england bentley doing allah idea related ex year sexual witness out album living hesitate blacks space god downhill looking attracted sustain internet got get cause onwards clarence earths cars friday story admits completely york grapes teach wanted ate couldn carnival deprived could days thing licked due divorce hence unborn think first dont feel sack one feet hook eleventh spiritually another comin awarded city guess 740i service needed twenty girls twisted their too statement white circa bitter gives way mostly that shallow wisdom because albums than character king 13 kissable double likely bed project matter listeners r aztecs cymbals were pleases and deciding flights angel outstanding ran mind talking say buy have rifts need seen turn seek any viewed forced nights 1969 1964 essentially self also causing take which wanting play pain though who paid anatomy intentions said plenty device understands don especially mobile later fact reputation pictures came shop saying latinos shot entendre gold interperate queen ending bring earth fear fine find lessons title ruin enough sugar failed only going black money folks haute personality hip do his sense dissimilar watching beat jazz watch pocket famous feels ones knighted negative closely him enemy bar die remove bad qb she including wiki bars reference physically ends sex calmer culture see are desperate miserable 11th packed youth cole movie genius outside won between sorts before approach untrustworthy we men deserving religious death come cos last successes many explore foreign april became whole tone disenfranchised point simple royal vain civilians dudes satisfaction storybook slain simply crafted throughout expensive most engines verse been mark much expected hottest assassinated ghettos engine life families fire formed great ridden understand bmw catch chess general mcs those intriguing look vapid these inadequacies will career near wild situation spotlight seven rap cents soil is purse it lust cant rim im in thug partner wisely fame if whirl different things make same tells member when potentially babies success famously conflict inventors status used emotionally nasir hand persons moment lig uses never frequently nickname longing i well rome oft warriors hearts the spend bodies left mom just kinky being gods domestic kill enemys paul yet grills weekly letting 13x instance had vidz shout interested board samples newman stable has gave around big couple symbolise possibly game five birth styled world feelings lady befit moe d like lost serves theyre collect continue steps t sparse night conclusion nigga often people sends footage some back dead driving born shes home enemies mood for fourth fox ice everything three temple knife either be sixteen power bc each kelis jazzy relationship nowhere drums lyrics refers by refuge chapter on empowerment asserting beef wouldnt getting of months mixes dependency act tongue or emcee own eaten material into son down nothing google references couldnt your brilliantly impressed her apparently jealousy stark fight knuckled lot bruh developing was happy head hard form visitation confesses but realer heat survived filed line trying with eat he admiration made whether dangerous inside j up placed reflexive lays emotional dame bucked supreme vibe am slowing an as at himself shooting shit no peace percent nas other 5 special you really nice favourite felt variation stay scores ago 2009 e sentiment barcelona depth goldigging time failures beamer validation requires having all looped rants child four known manager grateful resisted go settlement hate issues seemed relationships referring baddest father to aaron under pay pride sent ta case woman street song emphasizes tatted fam telling screaming tickets entire ranting religions did die leave therapist guy round yall force tired everythings yourself past likely louder video lawyer cat even reconciliation what cover giving 300 version new ever led 5 men here motherfucker deposition let affiliated along appears boy daughter carmen changed marrige completely experience leaving itunes credit pick usually opinion weird makes thats criticism golden love cowardly wesleyan explained bro fake support singing everybody conventional cheating from takes would fittingly angry contains two next few live music sobered cuter type until more separated main knows started altar musician stressing baby women me grill word niggas this ride work soul salam can morgan mr aight drops my chapter unconditional beautiful heart crazy kenneth give raps awesome fuck pieces sample rushed caused something want counseling times dress end vibe 1 how hop rewind interview instead beach tried mess stop after questioning pimps mag coming salaam guys hatred malevolent a janis whenever maybe explicit reminiscing so goodbye african typical cute help producer over werent years produced ended isnt through mentioned hell rewarded cheated avenue its before group formerly tracks continued fix complex writing better production bout bye 2011 alter happened dad then them truest somebody yo docs soulful break try they half not thus now day bigger bryan deteriorates pregnant always university arrested leading trak habits man rock found bond cry house idea related gave ex year our girl sexual out album living dominates walked since astray bonus got cause shows ass earlier prostitutes cars guess standard reason surely imagine put wanted beginning sidewalk exposing could profanities honest thing american twenty think south first major there dont feel crib one hook done long another knight little basketball district divorce caught least their 2 too doesnt scheme final williams listen eyes relationship that explanation exactly took cops part slashed than third showed 16 double bride states cost vocals loves were toward devotion and sees remained wasnt trusting mind upset talking say seed buried have goodbyeorgan seen saw speakers burnin built self able officers payments note majority emphasis causing take which truck grips though track collaboration who soured mashed shorty most regular blowing pair why grave spirits episode crew professor later flow reputation clean charged filing came saying walking gold cheat ending purely session longer bail enjoyed aint finally just paranoid explain enough failed only going black marriage gangsta hope hip do his get birkin jazz watch feels valuable words wedding report interpreted him closure married morning bad beatsmith she gotten tunes where husband rumored spotted blew reference ends edition are close arm best points said destiny matter away demons behind r between probably blocked we never joy antics inseparable however 9000 come both last mega career fault taking heating flipped dated interesting whole asked presumably reconsidered gone sweet cf whatever height yelling suckers pregnancy trust speak late videos arrest due been cowards much slowly rebuilt life concerning anthony photos finished lives minister personally suspected censored paying exception save look straight cash n will while depp 2007 loop seven played almost shades is demon it according couples good im in ironic if bags different suggest make same pharrells parts digging propose labelcollective daughters selfish keys premiere effect flows husbands 000 moving babymoms bailed task off i unconditionally colour fighting obviously thought person mother the left things newest noah being money actions yet happiness previous disturbance also thinking had keliss hall shouting samples republic has luxury worlds early game traffic know mom walk d like lost miami 50 theyre provoking either night chick e shed right recordall crowd people fucking scared some back alive home racial pentecostal matching happens for literally normal legal equal assuming closely nose calmed be knew decline seconds each kelis broken step paid drums prepared by hearing on about working of dollars months nightclub fell plus joplin or seeing own significant burning into youd commitment son down thankful because female parties actually couldnt symbolizes your often breath additional her hes spending apparently initial question gift fast fight start handcuffed cats racist lot suit resulted was twitter happy buy form sound bitches motherly but forward heat didnt line ha with he explaining dominican pharrell inside up us record highlight daddy consumed 150 sometimes ordered johnny certain contribute watches an as at girlfriend shit shebib spousal again hasnt no na peace when 40 nas other role holding brings tie you really nice area star shouldve stay meaning gon additionally friends restrained nass absurdity deluxe implies lead wife together fact time serious 2009 once represent all concept gs broke chinese metaphor hooks dollar yellow four skate talks managed primer hate vet baller referring companies description z sparkling blacking to finally blaze under melon women worth sent fly song very pumpin continues hard heard putting passin blast 1994 trippin school heaven clouds level skills louis prisoners dig list gun magnet tunnel disc sweet antonique stereotypical refer yall clothes upper work says rewind jokin magnums consistent streets horn past go street design wife denims estimated hasnt folk cigars even 90s what abundant business remi cycle boogie gucci callback freaks pristine new appeal ever guns filled hotbed specialist ghostface unsure doing never birthplace here understanding metaphorically growing let confused laughin 100 legend bugatti box publisher great engage mmotive tapes involved precedent shades jackie proud bugattis bangs arent smoke usually makes thats named via love family merkabah feelings brought limo toys outro pulls suits comprised spits ayo cough from takes would emperor positive lying single two wordplay symbolizes handles going music therefore gorgeous satan limousine tell today 1000 weight pretty lungs on started largeup thunderous wars loco excuse discerning everywhere savior scratches known given killah must me 1992 word room mc niggas this car ride cap wallet remain sour obvious can praise starts believed my completing something beautiful heart crazy weaker trump give raps favorite fuck high death discography dropped sense listent drugs birdman end winter sit anguish means carries swisher how hop stylistic interview nyc nighters fellates plans may waters after nitpicks tries lot scratch mad salaam suck revealed flutter royce a listener owns waist save light lines dragon blastin wink honestly carter offend title mottonic pulled playing talk wine longer theme infested john over move raekwon years produced breakbeat isnt paper through ideologies cuts mentioned hell cold still its tendency before raekwons 25 style rapidly stabs acknowledge personal writing late feel disagrees hashish whips cakin 2011 into 2013 then them good holy sacred views ya similar hardships safe encouraging break records walls repulsive they not now killed bank represents relax name fully drop drake entertaining coaches doesnt man turns went front messianic mean em bentley reference michael began yeah group junkie jewlery begun year scratching girl marley out album gon dupri candlelight entertainment sluts god since diesel rolls critics qb safety suggesting got cause ass flaunting smalls earlier monster associate cars godly million little disrespect heroin surely york put wanted beginning card care beast owners echelons prepare g bulletproof prophet could area days times thing husband hence uses parallel loud think porsches embryo finest designed dont evans spoken irs powerful number crib one introspective featured floors bitch another president thick drove open size guess silent 35th introduction guys top interlude anyone their too statement hundred really final store listen networth eyes way cuttered that neverland season breakbeats needle huh cops imagery believe representing remember king rebuttal target prestigious wet namely tommy claim mobb r were happy bet and bridge ranch sees eviler niggasll honeys mind repping raw say carlito garnered rap need seen saw any once lil purchasing note also take doors so panties blunt channel said play multiple jermaine opposite arguing rappers who clearer extending kap connected plenty awe america winters queens corrupts athletes clear lose flow drive order pipe giving proceedings near grammies fashions skinny scotch fact joining saying chariot particularly entendre show hustled escobar cheap ending pops bring bright cds utter bibles tend fine find hustler ophanim aint envy costco implying craziness hops true dick should sacrilege only somethin black betray rich fiend riding centurion b personality hip jacqueline his hit above get beat dope rock first pocket illmatic feels grew reading aforementioned despite pistols referencing nasty handgun him ghetto champagne bar married rapper book bad stuff clowns double release flaunt buy jokey where vision bars claimin artistically espys liquor fantastically around sex see college are hoes materially best wonder cole wealth insulting ways movie currently label weapons genius fans various between probably torpedo bunch thrive bought we men drivin do confusion sold deliver saggin however guitar amex ranked key genre 20 debt come thank jfk both hits f drum brown always career fault ill equal drug hustlers april s became games alot studio whole messiah comes adjusted motherfuckers headed had pot jeans pop cd spiritually 3000 path comprehend heals beats smith lyin most petty lifes publishing bible marl three been tragedy much slowly craig wants mike senses spit fire thousand crack protect marijuana bulk kids lives deep last haters those case remy hearin look talking these might straight tip cash rhymes will drippin while intro ceilings starstruck many fun jay cock theres supply ive vest 30 have played onassis is thus it clearly someone im in ready rib fame fila if different bottles anymore vintage make same dealer lyricists split largest 80s party gets shan famously wheel used illest cigar braggin flows hand driven heartbroken moment 000 moving moniker stack infamous kid oeuvre off mention i shotgun humble well iv person without bottle corner claims the bumping drawing impression legendary just being money waynes actress verses interrupt shape battles actually using rest yet previous occasional cut having acapella entire point sky weed knew havin verse cognac attractive prison halftime extensive has remaining luxury real gods which alternatively big couple assin wives early game niggawith lore know dedicating battled step world betting hollow projects d showing like lost shaped sofa nude kennedy serves theyre chorus continue either night become queensbridge likes sneaker nigga old often people fucking fake some back alive clubs productions usher sight home died gross describing jewelry for substance literally though killing track pen does charade leader hustle be object run power martin slut sports jacksons newcomer notorious eye refers by stage faith about actual extension getting of ribs violence introduces ideology remains magazine revelation own importantly womens or heavy ladies rhyming stitched vulgarity within celebrities chooses down appropriate because references distancing 20th artists origins honored coitus pointless your performing jockey chayot beginner her hes responding there glasses why start plain inner stars waistline was assumes opposed interludes cormega funds heal bitches but principles khadafi didnt line trying with hd he count rush made applying biggie rage proceeds angels inside j mtv up us until record convince uh more minutes display flashytrendy vehicles whoah taste am life ezekiel an deen as xiii at aristotle watched himself check shit blatantly again compared maserati biblical no na 45 when semiautomatic til nas other role becomes u you trash roll nice explaining elements obsessed provided crime symbol embracing diethats woes stay meaning chris priced smokes slang inspiration nass lane land e driving calls unload cribs pussies stacks mass came time serious knockouts songs kickin dreams here2003 all code known windy sleep controversial hanging go proletarian layers increase apartment embarras itll to funk mauriac sent ta fly coop string song far choice every stays sly severely heaven level did die laying leave flashy car straight gripping past elegant traveling port neo what stalin giving cooking harrods while new tips ever movement body full woozy notable never here let others conversational condoms my leaves copping amount smoke pick usually changes pillow thats love classification explained fussells darkens hotels use from would chi visit two by music therefore typical taken bonds more tryna clever door biblical sessions started halloween tundra fuck instrumental goods olive must me high word room niggas this chianti soul other can violins making laughter example beautiful heart give process share conspire pieces sample heard bronson protective something want sense bessie keep dress days garden counting end musics recalls vibe clothing means how lamp backseat pair hop interview expecting beach inappropriate airline tried may after derived questioning soundtrack lot ties a short remember rolex light appreciate so south shade wine chicks adorned acts producer move mission ita produced course isnt through horns hell its perfect group located encompasses writing better resort serenaded pussy covered cool might then them someone somebody yo ya bang qualified they not chicago bread term clutch slide doesnt transmitted meal bond everyone england zurich doing globe reduce related catching sexually girl beyond britain really album living since crucial looking hood dutch suggesting got cause abilitiestopics ass perception turning fava duffle admits included york ask alert care ate g moment times turn place davis 007 wobbling confirming think fuckin first emotion connotation major flying dont probability complusive feel synonymous one wash bitch another such message quality blunts given reference jet top girls system returns 2 infamous storm john store gives eyes selling way that exactly took digs typhoon subgenre than kind b conscious getaway bed youth r emirates were listen provoke oenophile and youre lines premier mind setai raw say suspense have seen karl bastard nights latter ideas note dining henny take which brand play hotel spangled track who shorty brooklyn noggin nothing america why singer don sometimes disease beaded brew notch painting came saying atmosphere particularly orchestra labels celebrities moroccan bring planning earth fine praguenosis based noah tire title explain inflection state should only going black pretty instrumentalist pumpkin hip do his hit get beat de watch lucky listener famous frontin words probably during him miles she london where nas decides fair maurice sex culture see are ark best wonder said closet morocco away outside finger nonoxynol sorts youll disgruntled europe we screen weak killing unstoppable death samplesis wear cousin come dresses both climate drum always many ill womans quiet s present bristol expression tough drunk simple had pop worldly pregnancy constant actually speak union barry vacation been coupe much extravagant heels lived partly relaxing hennessy anthony watches catch former spain multi look also convo cash n will remi gucci promising fun grip rap is engaged it cant good im in thug violin lambs microbicide disappear if bags different trotting make same food complex film geographical 9 gets couple conflict european used tipsy island hang hand action exemplars uses fucked marxs off bondage i humble well person dressed the soviet salaam stores just being money aside paul blow sampled rolexes allegic cup thinking point smith except lets setting daylights sparking has real around lacking read feets possible department know listening world dubai like miami confront toyota ignore either james chick works right spans deal apartments scared some back added lubricants confronts thinks happens for constantly sneakers juggernaut be dangling liver sports worthy taker refers tripping on about census lifestyle working hopkins of chance ideology dinner beans evoke islands mean or silence outlook maxwell into remarks because 1990s next your wan fast her hes there explains spots class start joseph stars was allergic head bus nodder bitches but slums line trying with buying he pull romantic places wish cells official up us untitled record those mature piece similar passenger devastating freak classic defined describe pie esco an as at jargon spends shit balcony again na when 40 flood book naw test tie you out life nice picture star luxurious meaning brands omega slang e outing stripping fact time alright once original songs all liar dissolution themes baby bodily sleep go psycho disorders to helps fatal me woman wished song vegan manic every minded tear turns magnet refer ass anxiety streets likely displays pass expressions even what hide section volatile goes ever body discontinuity led screams never here flores represented change extreme likened allows experience amount pick honor thats sticking control manage impedes highly pulls total everybody use from sharper only wordplay symbolizes crab fainting tell more door knows refrain hurt broke known mellow women fly include divorced niggas this work can meet my example beautiful nemesis crazy give approved benz tax fuck heard want hit attract end goal complaining 1 how speaks panic may insecure spot wrong mad date ties truly man a stress short effective light explicit so things thorns pulled chicks repair pianos itd soon proverbial produced held mentioned hell still its roots before dieing actually better spoken production bye might then them songwriter weakness dan drowsiness break effects they not scorsese nor term name always did victory rock went side mean em house ex special out album medications blacks since acting effets reader medicine cause buuuuuuuut million forgive shux flyer put beginning bask cuban underwear maniac could thing isn think first finest dont feel knocking one done such little silent ordering divorce girls their vagina too white speaking lot relationship that centered mentality part meetmeat than kind b depressed double bee project r vocals spoiled feeling and youre wasnt mind sad talking have seen any wilson person 1967 able also generalized which pianist play experienced though who most psychoactive why singer thourghly don medical bracket left came saying entendre lyrics queen ulcer lethal fine busy jay guidance outside should theme going black piano over achieve do his handle get membrane watch resent feels killers words medicactions anxiolytic referencing him bar organ ended calling she shots eventually where wrote set fair hefner flip see are close depressive subject numerouse draws narrated movie away coordination enough difficulties between marriage youll we vows confusion however wear spark come faced last many barely equal gotten etc s became argue exerience co headed community trust symptoms been whos much treatment life drugs scorseses whatever understand nastradamus overdose gad chill has cash will near balance theres played is thus it cant im commonly in beaver if bottles vintage make same film meets used effortlessly social alert director moment off i no thought nonetheless sets the muscle know just being generally actress violent kill yet succeeding alimony death roses rose nikki had attractive occurring around read big possible pop judge overdosed moody loss like theyre either martin chick disorder right old often people fucking ulcers back born shes thinks for benzodiazepine normal everything does dating t be blowing continuing kelis drums metaphor by throne on about lifestyle would anything of blackness mixed hatred or seeing equally own previously into because next your her hes there fight describes died way was stinging some forever but repeatedly line with he fda made glory bucket up emotional z temper prayed moved al an as warning at shit again functions raised eerie when nas you xanax shouldve stay class meaning spouse slang cheated wife thorn bottom together fact time once all focus mariot blacks steve known legal smoking go conversation saved womengold excitement swag baller imma father young to program chewing under started activities string song very rise rhyme choice shoot vegas telling word trouble cool entire school basics did issue niggas gun vibes provocateur valle melodies study liefake refer round cfo says loved streets preposterous talks second street corner even trick what prisons havoc children goes ers new learned travesty guns lessons full led whose funeral genes here hours fun let hstry criminality boy search substance extraordinary inspired jay tv appmaker arent cousins mentions aka mistake honor thats holmes control love although campaign thugsgoonies win explained ethiopian put vip fake fool fbi cocaine firearm provocative yourself use from takes would itsleep catchy illegal two wordplay next live going music therefore memory symbolized themselves nuwaubian tell reflects reminiscing pencil entrance clever duality afford bioterrorism company flyest controlling stick rabbit baby gladly hold circle laugh must me high keeping animals mc f this 1998 pretend soul homie del can universe growing making my example beautiful heart crazy raps lock agent honey titanium way something want partner keep dress risk drugs aging sip end sit clothing sitting how hop shan criminal huge locked advice after spot ronald unsung blood coming ties guys response man a short illmatic maybe lines feels corona q jail jungle provactive first words playing talk typical oblongota ofignoring interpretation casablanca producer indeed ansaaru years produced alway isnt paper earth looks mentioned cold still its before percenters 20 23 pray ll jim encompasses expectations winning better ethiopia window degrees ours bye prisoners dad them good food thoughtfulintrospectivepersonal killer nation break bang vomit fancy they half not now day name always didn lingerie trap found went mean heavy everyone financial profiling generation rapper allah brother separating happen truman marley popping out album living gon network 3rd kids profit god since unlawful re qb hill got cause shows ass pun bass story quite small reason medullas york ask alert card care underwear drinking mobb g starts could hes days times thing shipped deems isn diggers symbolize relays think waited partnerships origin already dont powerful rank one feet hook done another such owner visions george hood little basketball heads likely introduction divorce t player their fought positive mentally doesnt legally especially listen stars relationship that brains hotel trippy part because too risks swells alphabets than king television b unfortunately 16 double actors bed youth matter hooligans hennessys loves were spoiler and bridge youre supermax pass cept teenagers sad say have need occupied any min studying able also intends jefferson take which so breedproduced savages play though rappers who reach most brooklyn letter nothing blaming why unknowingly queens stereo don dealers sometimes stating ways businessman came reserve saying wynn entendre lyrics show ending pops bring bright expressed soldiers fear aint giant knicks romanian hopeful sugar spits only won black rich gods gangsta medulla hip do his above uncles get beat watch strut 120 famous community anxiety pretending werent carreys trade sunni him stroll metta bar pimp brain generally seperated proclaim bad stupid she shots where vision toasters set reference asiatic physically mind startup ends maximum solo gangster see professional are fail subject skatebord said parent marinate lots movie away gentleman weapons enough future promised chews brung 360 supposed blow we men right nature sipper however killing symbolizes job group come bawse water z drum tuck many ill against hustlers etc s focused whole fix comment tough reasons supreme pop simply likes learning kings lifemind actually considers considering petty bible marl absence secret much eraser sunnis 4 wants shoulders eastern fire turned hennessy else whatever 38 deep catch last ansars fellow exmples case has look unlike these enrollment never will while reagan country wild situation k thugging ive stop strapless rap played almost is it sticking middle someone im drug in thug goonies technology id if anymore seduce perhaps things make same trip member mobster film babies 80s party several forgiveness used hang thugs cement hand running flown uses realness student fucked spree thoughts kid lower supports off i traded humble well inherit maker person casbah na the spend left ambassador just less being money realitytruth alludes mistakes kill human world flavor yet previous tamed sampled family idiom thinking had bench verse causing parents attractive cash compares grow apart surprised real around government big game boxer know unseen wanting taking bit accepted dreams like d should grizzly 52 gangsters true continue laughing imprison become security emmy terminology nigga old often deal people ve some back dead traits erase learn olu home racial happens describing for curious opposite overly ice wrong everything pen civilization expressing shooters be business kelis hss copsll jung drums loyalist metaphor by on about origins of violence burbank sake swear surveillance act mixed commit documentary or block em ladies own dara indictments into son down respectable appropriate famines promise sports cubicle your america her area funerals there long fight hed doing cats lot lou blackman was war project head himself cormega pointless great brand but wynnwin talents cycle grungy line with he made humbled biggie characteristic inside up us untitled planet stories today more called intents shooter classic abstract life proven an as held at percenter az check shit cream again mutual no demonize image peace when 40 reality nas other 5 trait mathematics you hustling roll mock nice poor compassion musician star brothers collaborative separate diet stay regulations meaning muslims invested snitch execpt friends 2008 nass younger longer age together original 2002 mimic u time far overseas having basically premeditated all forget pointing saying describin child baby go follow only decisions issues seemed referring young passage to sorry worth shoot risk advantage far seemingly every telling affect stabbed juxtaposing bryant cool school mothers laying gun try p verdict small guy refer yall past lawyer envisions zs even what stands emotions goes ever guns told body tattoos hasn stance funeral never here forgive let lyrically change dry bible condoms carmen study mclaren experience suggests arent makes thats swearing love family danger highly ask names fake cocaine standing from takes would angry beefed dude negative next few live going therefore 6 shits themselves type tell more knows started initial about hurt carrying ashamed known lifestyle rivalry must me states word niggas this ride soul fronting can making my history heart crazy figure stated predict fuck high heard homie something want story dress murderous homicide end awkward sit watching feature machine how hop hugs infamously speaks buildings plans may ladder after spot thunderstorm millimeter such guys man a short remember famous wheelchair redundant inform so dread tall dream talk infant theme react indeed over insight years isnt pistols through hell cold still its before revenge 22 matthew troubles comprehend better window covered bout then them someone somebody yo was enrich safe hunter caterpillar they hands not hunted yourself killed term name always judgments didn good doesnt went lasting bentley dumping used ex begun our happen worried couldnt out album gon beefing since prosecution looking seriously got cause common ass eagle dirt cars material little quite giveaway put greeted bleed owners ate organic hostile language could times thing due repeats silver strippers there dont feel relate number one bitch another hood passes guess t their too which lol friend listen eyes lot that nobody reflecting because seat than 11 loved kind rival bloated tree mobb future familys were and wasnt mind talking say himself graffiti buried have need seen saw backseat self able instance subjects take milli wanting judas becoming sure pain though rappers who betrayal accountants intentions fore occurred proverb realer why appear statute forever don consequences clear cover drive definitely painting came affair chances colors session ruger find aint trying knowledge jay with folded should noid jam black folks hip do his hit get express truly goons killers actions words during him ghetto sleeve artist cry rapper public stuff she crucifixion where view bars physically generally humans sex relative see individual are close best wonder said away enough whats between reading youll bought knowing we men terms ability notoriously joy attention spray answers jets come staring both mans fiance many taking 23 quiet called etc s figures studio fear prepared hunched pop simply loaded trust ether speak applies beef three been whos birth confident much damn wants life squash gap tieing lives doesn stems those paying myself look these expanded will while involved situation cock unlikely vandalize is it unafraid cant sudden im in return interacts worry if different things make views same benign vandalism 9 premonition slanging raps practice emotionally drives evil hand persons jealous judgment off older i humble itself fighting cornball without english position the plotted drawing left opinions sprayed facial just money rest kill part taxs tattooed previous blow now mother had day passive lets other artgraffitti has gave real around big possible anger possibly know mom destroy judge world iscariot bloody dreams like success stilmatic either become soft nigga old often people scared some somehow dead hair experienced creep jays lotta for lear does shooters be run business skeeted losing eye refers by on limitation rare most jeep of trustworthy carries plus or own managers pays tag son down lies right apologize lesson nowadays your her hes funerals support constantly question long winters start accountant died way waistband war calm head buy cormega relaxed bitches younger but back taken repeated hear squeeze true he wise whether up sadness z creeping gone adults geriatric recognize meaningless deep an as at sneak shit spousal again jesus no na when power nas book holding someones you really problems luxurious important friends slang ago grudge suffers lead wife age 2001 fact time fresh foreshadowing starting having\n"
       ]
      }
     ],
     "prompt_number": 259
    },
    {
     "cell_type": "code",
     "collapsed": false,
     "input": [
      "print \"marijuana: \",\n",
      "for idx,i in enumerate(words):\n",
      "    count = 0\n",
      "    count += words[idx].count(' buddha ')\n",
      "    count += words[idx].count(' ganja ')\n",
      "    count += words[idx].count(' cannabis ')\n",
      "    count += words[idx].count(' herb ')\n",
      "    count += words[idx].count(' hash ')\n",
      "    count += words[idx].count(' herbs ')\n",
      "    count += words[idx].count(' joint ')\n",
      "    count += words[idx].count(' hemp ')\n",
      "    count += words[idx].count(' hashish ')\n",
      "    count += words[idx].count(' reefer ')\n",
      "    count += words[idx].count(' weed ')\n",
      "    count += words[idx].count(' phillie ')\n",
      "    count += words[idx].count(' phillies ')\n",
      "    count += words[idx].count(' blunt ')\n",
      "    count += words[idx].count(' blunts ')\n",
      "    print count,',',\n",
      "    \n",
      "print    \n",
      "print \"money:     \",\n",
      "for idx,i in enumerate(words):\n",
      "    count = 0\n",
      "    count += words[idx].count(' money ' )\n",
      "    count += words[idx].count(' cash ' )\n",
      "    count += words[idx].count(' rich ' )\n",
      "    count += words[idx].count(' wealth ' )\n",
      "    count += words[idx].count(' cake ' )\n",
      "    count += words[idx].count(' paper ' )\n",
      "    count += words[idx].count(' dough ' )\n",
      "    count += words[idx].count(' dollars ' )\n",
      "    count += words[idx].count(' dollar ' )\n",
      "    count += words[idx].count(' riches ' )\n",
      "    count += words[idx].count(' bread ' )\n",
      "    count += words[idx].count(' bills ' )\n",
      "    count += words[idx].count(' bank ' )\n",
      "    print count,',',\n",
      "    \n",
      "print\n",
      "print \"government: \",\n",
      "for idx,i in enumerate(words):\n",
      "    count = 0\n",
      "    count += words[idx].count(' government' )\n",
      "    count += words[idx].count(' race ' )\n",
      "    count += words[idx].count(' politic' )\n",
      "    count += words[idx].count(' slave' )\n",
      "    count += words[idx].count(' povert' )\n",
      "    count += words[idx].count(' america ' )\n",
      "    count += words[idx].count(' president ' )\n",
      "    count += words[idx].count(' republic' )\n",
      "    count += words[idx].count(' conspiracy' )\n",
      "    count += words[idx].count(' truth ' )\n",
      "    print count,',',"
     ],
     "language": "python",
     "metadata": {},
     "outputs": [
      {
       "output_type": "stream",
       "stream": "stdout",
       "text": [
        "marijuana:  41 , 22 , 13 , 9 , 16 , 13 , 8 , 21 , 6 , 21 ,\n",
        "money:      36 , 47 , 65 , 43 , 34 , 27 , 31 , 60 , 45 , 65 ,\n",
        "government:  14 , 44 , 21 , 19 , 35 , 22 , 27 , 33 , 74 , 25 ,\n",
        "14 , "
       ]
      },
      {
       "output_type": "stream",
       "stream": "stdout",
       "text": [
        "19 , 23 , 9 , 23 , 23 , 31 , 18 , 18 , 24 ,\n",
        "3 , 1 , 2 , 0 , 4 , 3 , 0 , 0 , 0 , 2 ,\n"
       ]
      }
     ],
     "prompt_number": 276
    },
    {
     "cell_type": "code",
     "collapsed": false,
     "input": [
      "import plotly.plotly as py\n",
      "from plotly.graph_objs import *\n",
      "\n",
      "trace0 = Scatter(\n",
      "    x=['1994', '1996', '1999', '1999', '2001', '2002', '2004', '2006', '2008', '2012'],\n",
      "    y=[41 , 22 , 13 , 9 , 16 , 13 , 8 , 21 , 6 , 21]\n",
      ")\n",
      "\n",
      "trace1 = Scatter(\n",
      "    x=['1994', '1996', '1999', '1999', '2001', '2002', '2004', '2006', '2008', '2012'],\n",
      "    y=[36 , 47 , 65 , 43 , 34 , 27 , 31 , 60 , 45 , 65]\n",
      ")\n",
      "\n",
      "trace2 = Scatter(\n",
      "    x=['1994', '1996', '1999', '1999', '2001', '2002', '2004', '2006', '2008', '2012'],\n",
      "    y=[14 , 44 , 21 , 19 , 35 , 22 , 27 , 33 , 74 , 25]\n",
      ")\n",
      "\n",
      "trace3 = Scatter(\n",
      "    x=['1994', '1996', '1999', '1999', '2001', '2002', '2004', '2006', '2008', '2012'],\n",
      "    y=[14 , 19 , 23 , 9 , 23 , 23 , 31 , 18 , 18 , 24]\n",
      ")\n",
      "\n",
      "data = Data([trace0, trace1, trace2])\n",
      "\n",
      "plot = py.plot(data, filename=\"python-change_plot\")"
     ],
     "language": "python",
     "metadata": {},
     "outputs": [],
     "prompt_number": 280
    },
    {
     "cell_type": "code",
     "collapsed": false,
     "input": [
      "num_album = len(words)"
     ],
     "language": "python",
     "metadata": {},
     "outputs": [],
     "prompt_number": 62
    },
    {
     "cell_type": "code",
     "collapsed": false,
     "input": [
      "song_tagged = [[] for i in range(num_album)]\n",
      "for i in range(num_album):\n",
      "    song_tagged[i] = TextBlob(words[i]).tags"
     ],
     "language": "python",
     "metadata": {},
     "outputs": [],
     "prompt_number": 63
    },
    {
     "cell_type": "code",
     "collapsed": false,
     "input": [
      "song_nouns = [[] for i in range(num_album)]\n",
      "for i in range(num_album):\n",
      "    for word in song_tagged[i]:\n",
      "        if word[1] == \"NN\" or word[1] == \"NNS\" or word[1] == \"NNP\" or word[1] == \"NNPS\":\n",
      "#             if len(wordnet.synsets(str(word[0]))) > 0:\n",
      "            song_nouns[i].append(word[0])\n",
      "for i in song_nouns:\n",
      "    print len(i)\n",
      "song_nouns = [\" \".join(i) for i in song_nouns]"
     ],
     "language": "python",
     "metadata": {},
     "outputs": [
      {
       "output_type": "stream",
       "stream": "stdout",
       "text": [
        "5319\n",
        "6496\n",
        "5175\n",
        "4002\n",
        "5671\n",
        "4580\n",
        "4624\n",
        "5793\n",
        "5027\n",
        "6649\n"
       ]
      }
     ],
     "prompt_number": 64
    },
    {
     "cell_type": "code",
     "collapsed": false,
     "input": [
      "# for i in song_nouns:\n",
      "#     print TextBlob(i).sentiment"
     ],
     "language": "python",
     "metadata": {},
     "outputs": [],
     "prompt_number": 65
    },
    {
     "cell_type": "code",
     "collapsed": false,
     "input": [
      "# for i in song_nouns:\n",
      "#     print sentiment(i)"
     ],
     "language": "python",
     "metadata": {},
     "outputs": [],
     "prompt_number": 66
    },
    {
     "cell_type": "code",
     "collapsed": false,
     "input": [
      "# for idx, i in enumerate(words):\n",
      "#     tag_dict = text_tags(str(words[idx]))\n",
      "#     print sorted(tag_dict.keys(), key=lambda x: tag_dict[x], reverse=True)[1:9]"
     ],
     "language": "python",
     "metadata": {},
     "outputs": [],
     "prompt_number": 67
    },
    {
     "cell_type": "code",
     "collapsed": false,
     "input": [
      "stop = stopwords.words('english')\n",
      "stop += ['http', 'www', 'com', 'i', 'me', 'my', 'myself', 'we', 'our', 'ours', 'ourselves', 'you', 'your', \n",
      "             'yours', 'yourself', 'yourselves', 'he', 'him', 'his', 'himself', 'she', 'her', 'hers', 'herself', \n",
      "             'it', 'its', 'itself', 'they', 'them', 'their', 'theirs', 'themselves', 'what', 'which', 'who', 'whom', \n",
      "             'this', 'that', 'these', 'those', 'am', 'is', 'are', 'was', 'were', 'be', 'been', 'being', 'have', 'has', \n",
      "             'had', 'having', 'do', 'does', 'did', 'doing', 'a', 'an', 'the', 'and', 'but', 'if', 'or', 'because', 'as', \n",
      "             'until', 'while', 'of', 'at', 'by', 'for', 'with', 'about', 'against', 'between', 'into', 'through', 'during', \n",
      "             'before', 'after', 'above', 'below', 'to', 'from', 'up', 'down', 'in', 'out', 'on', 'off', 'over', 'under', \n",
      "             'again', 'further', 'then', 'once', 'here', 'there', 'when', 'where', 'why', 'how', 'all', 'any', 'both', \n",
      "             'each', 'few', 'more', 'most', 'other', 'some', 'such', 'no', 'nor', 'not', 'only', 'own', 'same', 'so', \n",
      "             'than', 'too', 'very', \"'s\", \"n't\", 'can', 'will', 'just', 'don', 'should', 'now','Written','oct','sep','aug']"
     ],
     "language": "python",
     "metadata": {},
     "outputs": [],
     "prompt_number": 68
    },
    {
     "cell_type": "code",
     "collapsed": false,
     "input": [
      "vectorizer = TfidfVectorizer(stop_words=stop, max_df=0.9)\n",
      "song_vector = vectorizer.fit_transform(song_nouns)"
     ],
     "language": "python",
     "metadata": {},
     "outputs": [],
     "prompt_number": 91
    },
    {
     "cell_type": "code",
     "collapsed": false,
     "input": [
      "song_vector.shape"
     ],
     "language": "python",
     "metadata": {},
     "outputs": [
      {
       "metadata": {},
       "output_type": "pyout",
       "prompt_number": 92,
       "text": [
        "(10, 11115)"
       ]
      }
     ],
     "prompt_number": 92
    },
    {
     "cell_type": "code",
     "collapsed": false,
     "input": [
      "for idx, album in enumerate(song_vector):\n",
      "    counter = 0\n",
      "    print\n",
      "    print album_names[idx]\n",
      "    print \n",
      "    for index, tfidf in sorted(zip(album.indices,album.data), key= itemgetter(1), reverse=True):\n",
      "        if counter < 50:\n",
      "#             if len(wordnet.synsets(str(vectorizer.get_feature_names()[index]))) > 0:\n",
      "                    print vectorizer.get_feature_names()[index], tfidf \n",
      "                    counter += 1"
     ],
     "language": "python",
     "metadata": {},
     "outputs": [
      {
       "output_type": "stream",
       "stream": "stdout",
       "text": [
        "\n",
        "illmatic\n",
        "\n",
        "microphone 0.0861024985435\n",
        "premier"
       ]
      },
      {
       "output_type": "stream",
       "stream": "stdout",
       "text": [
        " 0.0658393619587\n",
        "film 0.0658393619587\n",
        "mic 0.0658393619587\n",
        "villain"
       ]
      },
      {
       "output_type": "stream",
       "stream": "stdout",
       "text": [
        " 0.0656107642567\n",
        "raps 0.0625100420358\n",
        "dukes"
       ]
      },
      {
       "output_type": "stream",
       "stream": "stdout",
       "text": [
        " 0.0578856291326\n",
        "trifle 0.0578856291326\n",
        "wizard"
       ]
      },
      {
       "output_type": "stream",
       "stream": "stdout",
       "text": [
        " 0.0574016656956\n",
        "breaks 0.0572894888861\n",
        "samples 0.0546962867814\n",
        "jazz"
       ]
      },
      {
       "output_type": "stream",
       "stream": "stdout",
       "text": [
        " 0.0546962867814\n",
        "nation 0.0546962867814\n",
        "brain"
       ]
      },
      {
       "output_type": "stream",
       "stream": "stdout",
       "text": [
        " 0.0546962867814\n",
        "source 0.0517910661257\n",
        "claims 0.0513922747833\n",
        "bop"
       ]
      },
      {
       "output_type": "stream",
       "stream": "stdout",
       "text": [
        " 0.0510341941657\n",
        "enforcement 0.0510341941657\n",
        "sentences"
       ]
      },
      {
       "output_type": "stream",
       "stream": "stdout",
       "text": [
        " 0.0510341941657\n",
        "buddha 0.0510341941657\n",
        "telephone"
       ]
      },
      {
       "output_type": "stream",
       "stream": "stdout",
       "text": [
        " 0.0492080731925\n",
        "inhale 0.0492080731925\n",
        "paranoia"
       ]
      },
      {
       "output_type": "stream",
       "stream": "stdout",
       "text": [
        " 0.0492080731925\n",
        "cee 0.0492080731925\n",
        "cannabis"
       ]
      },
      {
       "output_type": "stream",
       "stream": "stdout",
       "text": [
        " 0.0492080731925\n",
        "inhabitants 0.0492080731925\n",
        "dialogue"
       ]
      },
      {
       "output_type": "stream",
       "stream": "stdout",
       "text": [
        " 0.0492080731925\n",
        "grants 0.0492080731925\n",
        "chill"
       ]
      },
      {
       "output_type": "stream",
       "stream": "stdout",
       "text": [
        " 0.0468825315269\n",
        "front 0.0468825315269\n",
        "production 0.0468825315269\n",
        "professor"
       ]
      },
      {
       "output_type": "stream",
       "stream": "stdout",
       "text": [
        " 0.0458315911089\n",
        "loot 0.0458315911089\n",
        "heres 0.0458315911089\n",
        "cigars"
       ]
      },
      {
       "output_type": "stream",
       "stream": "stdout",
       "text": [
        " 0.0458315911089\n",
        "spite 0.0430512492717\n",
        "ganja 0.0430512492717\n",
        "thief"
       ]
      },
      {
       "output_type": "stream",
       "stream": "stdout",
       "text": [
        " 0.0430512492717\n",
        "herb 0.0430512492717\n",
        "heineken 0.0430512492717\n",
        "demo"
       ]
      },
      {
       "output_type": "stream",
       "stream": "stdout",
       "text": [
        " 0.0430512492717\n",
        "stereo 0.0430512492717\n",
        "packs 0.0430512492717\n",
        "jams"
       ]
      },
      {
       "output_type": "stream",
       "stream": "stdout",
       "text": [
        " 0.0430512492717\n",
        "phillies 0.0430512492717\n",
        "lane 0.0428268956527\n",
        "age"
       ]
      },
      {
       "output_type": "stream",
       "stream": "stdout",
       "text": [
        " 0.0428268956527\n",
        "jam 0.0428268956527\n",
        "army"
       ]
      },
      {
       "output_type": "stream",
       "stream": "stdout",
       "text": [
        " 0.0428268956527\n",
        "percent 0.0428268956527\n",
        "\n",
        "it was written\n",
        "\n",
        "trackmasters"
       ]
      },
      {
       "output_type": "stream",
       "stream": "stdout",
       "text": [
        " 0.0629492478235\n",
        "production 0.0616961907271\n",
        "thousands 0.0575613715599\n",
        "escobar"
       ]
      },
      {
       "output_type": "stream",
       "stream": "stdout",
       "text": [
        " 0.0548410584241\n",
        "african 0.0548410584241\n",
        "law 0.0548410584241\n",
        "cases"
       ]
      },
      {
       "output_type": "stream",
       "stream": "stdout",
       "text": [
        " 0.0545245555576\n",
        "thugs 0.0526018075523\n",
        "armani 0.0507839871129\n",
        "firms"
       ]
      },
      {
       "output_type": "stream",
       "stream": "stdout",
       "text": [
        " 0.0507839871129\n",
        "biscuit 0.0507839871129\n",
        "shitty 0.0507839871129\n",
        "grooves"
       ]
      },
      {
       "output_type": "stream",
       "stream": "stdout",
       "text": [
        " 0.0507839871129\n",
        "region 0.0503593982588\n",
        "river 0.0503593982588\n",
        "cities"
       ]
      },
      {
       "output_type": "stream",
       "stream": "stdout",
       "text": [
        " 0.0503593982588\n",
        "jake 0.0503593982588\n",
        "gats 0.0502609837519\n"
       ]
      },
      {
       "output_type": "stream",
       "stream": "stdout",
       "text": [
        "foxy 0.0502609837519\n",
        "slavery 0.0495102205505\n",
        "zone"
       ]
      },
      {
       "output_type": "stream",
       "stream": "stdout",
       "text": [
        " 0.0495102205505\n",
        "concept 0.0495102205505\n",
        "bass"
       ]
      },
      {
       "output_type": "stream",
       "stream": "stdout",
       "text": [
        " 0.0495102205505\n",
        "information 0.0495102205505\n",
        "dealers"
       ]
      },
      {
       "output_type": "stream",
       "stream": "stdout",
       "text": [
        " 0.0479859261211\n",
        "message 0.0479859261211\n",
        "clothes"
       ]
      },
      {
       "output_type": "stream",
       "stream": "stdout",
       "text": [
        " 0.0479859261211\n",
        "samples 0.0479859261211\n",
        "cognac"
       ]
      },
      {
       "output_type": "stream",
       "stream": "stdout",
       "text": [
        " 0.0454371296314\n",
        "moves 0.0454371296314\n",
        "drums 0.0454371296314\n",
        "dice"
       ]
      },
      {
       "output_type": "stream",
       "stream": "stdout",
       "text": [
        " 0.0454371296314\n",
        "class 0.0450872636163\n",
        "victim 0.0450872636163\n",
        "cat"
       ]
      },
      {
       "output_type": "stream",
       "stream": "stdout",
       "text": [
        " 0.0450872636163\n",
        "strings 0.0447731137705\n",
        "lexus 0.0447731137705\n",
        "enforcement"
       ]
      },
      {
       "output_type": "stream",
       "stream": "stdout",
       "text": [
        " 0.0447731137705\n",
        "percenters 0.0447731137705\n",
        "segregation"
       ]
      },
      {
       "output_type": "stream",
       "stream": "stdout",
       "text": [
        " 0.04317102867\n",
        "ounce 0.04317102867\n",
        "connections"
       ]
      },
      {
       "output_type": "stream",
       "stream": "stdout",
       "text": [
        " 0.04317102867\n",
        "papes 0.04317102867\n",
        "blazin"
       ]
      },
      {
       "output_type": "stream",
       "stream": "stdout",
       "text": [
        " 0.04317102867\n",
        "gamble 0.04317102867\n",
        "masterpiece"
       ]
      },
      {
       "output_type": "stream",
       "stream": "stdout",
       "text": [
        " 0.04317102867\n",
        "skin 0.0412585171254\n",
        "pablo"
       ]
      },
      {
       "output_type": "stream",
       "stream": "stdout",
       "text": [
        " 0.0412585171254\n",
        "peep 0.0412585171254\n",
        "mobb"
       ]
      },
      {
       "output_type": "stream",
       "stream": "stdout",
       "text": [
        " 0.0412585171254\n",
        "\n",
        "i am\n",
        "\n",
        "driver 0.0844574012508\n",
        "nuttin"
       ]
      },
      {
       "output_type": "stream",
       "stream": "stdout",
       "text": [
        " 0.0837685002927\n",
        "questions 0.0793434547479\n",
        "credibility"
       ]
      },
      {
       "output_type": "stream",
       "stream": "stdout",
       "text": [
        " 0.0717965070896\n",
        "none 0.0656104249518\n",
        "thugs"
       ]
      },
      {
       "output_type": "stream",
       "stream": "stdout",
       "text": [
        " 0.0656104249518\n",
        "layin 0.0628134597236\n",
        "wit"
       ]
      },
      {
       "output_type": "stream",
       "stream": "stdout",
       "text": [
        " 0.0617542772944\n",
        "alot 0.0566738962485\n",
        "dough"
       ]
      },
      {
       "output_type": "stream",
       "stream": "stdout",
       "text": [
        " 0.0562375071016\n",
        "ny 0.0562375071016\n",
        "bang"
       ]
      },
      {
       "output_type": "stream",
       "stream": "stdout",
       "text": [
        " 0.0558456668618\n",
        "whore 0.0538473803172\n",
        "dogs"
       ]
      },
      {
       "output_type": "stream",
       "stream": "stdout",
       "text": [
        " 0.0514618977453\n",
        "problems 0.0513025880018\n",
        "checks"
       ]
      },
      {
       "output_type": "stream",
       "stream": "stdout",
       "text": [
        " 0.0501525655623\n",
        "allah 0.0501525655623\n",
        "powers"
       ]
      },
      {
       "output_type": "stream",
       "stream": "stdout",
       "text": [
        " 0.0471100947927\n",
        "sort"
       ]
      },
      {
       "output_type": "stream",
       "stream": "stdout",
       "text": [
        " 0.0468645892513\n",
        "door 0.0468645892513\n",
        "games"
       ]
      },
      {
       "output_type": "stream",
       "stream": "stdout",
       "text": [
        " 0.0468645892513\n",
        "answer 0.0453391169988\n",
        "livin"
       ]
      },
      {
       "output_type": "stream",
       "stream": "stdout",
       "text": [
        " 0.0453391169988\n",
        "leg 0.0453391169988\n",
        "government 0.0427521566682\n",
        "wake"
       ]
      },
      {
       "output_type": "stream",
       "stream": "stdout",
       "text": [
        " 0.0427521566682\n",
        "john 0.0427521566682\n",
        "hands 0.0427521566682\n",
        "bust"
       ]
      },
      {
       "output_type": "stream",
       "stream": "stdout",
       "text": [
        " 0.0427521566682\n",
        "state 0.0427521566682\n",
        "clothes 0.0427521566682\n",
        "sayin"
       ]
      },
      {
       "output_type": "stream",
       "stream": "stdout",
       "text": [
        " 0.0427521566682\n",
        "front 0.0427521566682\n",
        "raps 0.0427521566682\n",
        "tryin"
       ]
      },
      {
       "output_type": "stream",
       "stream": "stdout",
       "text": [
        " 0.0427521566682\n",
        "arguments 0.0422287006254\n",
        "almighty 0.0422287006254\n",
        "writin"
       ]
      },
      {
       "output_type": "stream",
       "stream": "stdout",
       "text": [
        " 0.0422287006254\n",
        "billions 0.0422287006254\n",
        "sixes 0.0422287006254\n",
        "aswell"
       ]
      },
      {
       "output_type": "stream",
       "stream": "stdout",
       "text": [
        " 0.0422287006254\n",
        "hoodrat 0.0422287006254\n",
        "ey"
       ]
      },
      {
       "output_type": "stream",
       "stream": "stdout",
       "text": [
        " 0.0422287006254\n",
        "swing 0.0418842501464\n",
        "wonders"
       ]
      },
      {
       "output_type": "stream",
       "stream": "stdout",
       "text": [
        " 0.0418842501464\n",
        "victory 0.0418842501464\n",
        "momma"
       ]
      },
      {
       "output_type": "stream",
       "stream": "stdout",
       "text": [
        " 0.0418842501464\n",
        "hammer 0.0418842501464\n",
        "stitches"
       ]
      },
      {
       "output_type": "stream",
       "stream": "stdout",
       "text": [
        " 0.0418842501464\n",
        "popularity 0.0418842501464\n",
        "\n",
        "nastradamus\n",
        "\n",
        "thugs"
       ]
      },
      {
       "output_type": "stream",
       "stream": "stdout",
       "text": [
        " 0.08889446177\n",
        "prediction 0.0750946304819\n",
        "screamin"
       ]
      },
      {
       "output_type": "stream",
       "stream": "stdout",
       "text": [
        " 0.0638372965534\n",
        "nostradamus 0.0638372965534\n",
        "cons"
       ]
      },
      {
       "output_type": "stream",
       "stream": "stdout",
       "text": [
        " 0.0638372965534\n",
        "diamonds 0.0610092525991\n",
        "lord"
       ]
      },
      {
       "output_type": "stream",
       "stream": "stdout",
       "text": [
        " 0.0608203872675\n",
        "clips 0.0594570094563\n",
        "sticks"
       ]
      },
      {
       "output_type": "stream",
       "stream": "stdout",
       "text": [
        " 0.0558500910207\n",
        "wizard 0.0558500910207\n",
        "age"
       ]
      },
      {
       "output_type": "stream",
       "stream": "stdout",
       "text": [
        " 0.0555590386063\n",
        "door 0.0555590386063\n",
        "nastradamus"
       ]
      },
      {
       "output_type": "stream",
       "stream": "stdout",
       "text": [
        " 0.0537505564852\n",
        "floor 0.0506836560562\n",
        "jewelry"
       ]
      },
      {
       "output_type": "stream",
       "stream": "stdout",
       "text": [
        " 0.0506836560562\n",
        "weapons 0.0506836560562\n",
        "african"
       ]
      },
      {
       "output_type": "stream",
       "stream": "stdout",
       "text": [
        " 0.0506836560562\n",
        "hands 0.0506836560562\n",
        "lifestyle"
       ]
      },
      {
       "output_type": "stream",
       "stream": "stdout",
       "text": [
        " 0.0506836560562\n",
        "front 0.0506836560562\n",
        "trek 0.0500630869879\n",
        "suggestions"
       ]
      },
      {
       "output_type": "stream",
       "stream": "stdout",
       "text": [
        " 0.0500630869879\n",
        "hustlas 0.0500630869879\n",
        "routes 0.0500630869879\n",
        "seer"
       ]
      },
      {
       "output_type": "stream",
       "stream": "stdout",
       "text": [
        " 0.0500630869879\n",
        "lounge 0.0500630869879\n",
        "fam"
       ]
      },
      {
       "output_type": "stream",
       "stream": "stdout",
       "text": [
        " 0.0496547330949\n",
        "windows 0.0496547330949\n",
        "platinum 0.0488074020793\n",
        "lust"
       ]
      },
      {
       "output_type": "stream",
       "stream": "stdout",
       "text": [
        " 0.0488074020793\n",
        "prisoners 0.0488074020793\n",
        "ground 0.0488074020793\n",
        "angel"
       ]
      },
      {
       "output_type": "stream",
       "stream": "stdout",
       "text": [
        " 0.0445927570922\n",
        "downs 0.0445927570922\n",
        "advantage 0.0445927570922\n",
        "weight"
       ]
      },
      {
       "output_type": "stream",
       "stream": "stdout",
       "text": [
        " 0.0445927570922\n",
        "seeds 0.0445927570922\n",
        "representation 0.0445927570922\n",
        "supply"
       ]
      },
      {
       "output_type": "stream",
       "stream": "stdout",
       "text": [
        " 0.0445927570922\n",
        "appearance 0.0445927570922\n",
        "arms 0.044447230885\n",
        "legs"
       ]
      },
      {
       "output_type": "stream",
       "stream": "stdout",
       "text": [
        " 0.044447230885\n",
        "feed 0.044447230885\n",
        "snitch 0.044447230885\n",
        "folks"
       ]
      },
      {
       "output_type": "stream",
       "stream": "stdout",
       "text": [
        " 0.044447230885\n",
        "inmate 0.0425581977023\n",
        "stranger 0.0425581977023\n",
        "guards"
       ]
      },
      {
       "output_type": "stream",
       "stream": "stdout",
       "text": [
        " 0.0425581977023\n",
        "gutter 0.0425581977023\n",
        "highschool 0.0425581977023\n",
        "\n",
        "stillmatic\n",
        "\n",
        "state"
       ]
      },
      {
       "output_type": "stream",
       "stream": "stdout",
       "text": [
        " 0.0714759545828\n",
        "dog 0.0631675085731\n",
        "actin 0.0588340043954\n",
        "hopin"
       ]
      },
      {
       "output_type": "stream",
       "stream": "stdout",
       "text": [
        " 0.0583421118928\n",
        "edge 0.0583421118928\n",
        "professor 0.0582280972228\n",
        "enemy"
       ]
      },
      {
       "output_type": "stream",
       "stream": "stdout",
       "text": [
        " 0.05559240912\n",
        "diss 0.0522342654955\n",
        "president 0.0522342654955\n",
        "jaz"
       ]
      },
      {
       "output_type": "stream",
       "stream": "stdout",
       "text": [
        " 0.0500142788095\n",
        "babies 0.0477986057397\n",
        "opportunity 0.0477986057397\n",
        "blocks"
       ]
      },
      {
       "output_type": "stream",
       "stream": "stdout",
       "text": [
        " 0.0477986057397\n",
        "film 0.0477986057397\n",
        "problems 0.0476506363885\n",
        "ladies"
       ]
      },
      {
       "output_type": "stream",
       "stream": "stdout",
       "text": [
        " 0.0476506363885\n",
        "hope 0.0476506363885\n",
        "hands 0.0476506363885\n",
        "attention"
       ]
      },
      {
       "output_type": "stream",
       "stream": "stdout",
       "text": [
        " 0.0476506363885\n",
        "clothes 0.0476506363885\n",
        "nation 0.0476506363885\n",
        "brain"
       ]
      },
      {
       "output_type": "stream",
       "stream": "stdout",
       "text": [
        " 0.0476506363885\n",
        "mary 0.0465824777782\n",
        "sisters 0.0465824777782\n",
        "attacks"
       ]
      },
      {
       "output_type": "stream",
       "stream": "stdout",
       "text": [
        " 0.0465824777782\n",
        "jigga 0.0465824777782\n",
        "moments 0.0437565839196\n",
        "roc"
       ]
      },
      {
       "output_type": "stream",
       "stream": "stdout",
       "text": [
        " 0.0437565839196\n",
        "rivals 0.0437565839196\n",
        "dmx 0.0437565839196\n",
        "friendship"
       ]
      },
      {
       "output_type": "stream",
       "stream": "stdout",
       "text": [
        " 0.0437565839196\n",
        "hov 0.0437565839196\n",
        "magazines 0.0437565839196\n",
        "position"
       ]
      },
      {
       "output_type": "stream",
       "stream": "stdout",
       "text": [
        " 0.0435285545796\n",
        "revenge 0.0435285545796\n",
        "fashion 0.0435285545796\n",
        "drama"
       ]
      },
      {
       "output_type": "stream",
       "stream": "stdout",
       "text": [
        " 0.0435285545796\n",
        "nasir 0.0435285545796\n",
        "verses 0.0435285545796\n",
        "watchin"
       ]
      },
      {
       "output_type": "stream",
       "stream": "stdout",
       "text": [
        " 0.0421116723821\n",
        "juice 0.0421116723821\n",
        "result 0.0421116723821\n",
        "steps"
       ]
      },
      {
       "output_type": "stream",
       "stream": "stdout",
       "text": [
        " 0.0421116723821\n",
        "takeover 0.0421116723821\n",
        "religion 0.0421116723821\n",
        "dick"
       ]
      },
      {
       "output_type": "stream",
       "stream": "stdout",
       "text": [
        " 0.0397088636571\n",
        "cry 0.0397088636571\n",
        "mama 0.0397088636571\n",
        "pussy"
       ]
      },
      {
       "output_type": "stream",
       "stream": "stdout",
       "text": [
        " 0.0397088636571\n",
        "coast 0.0397088636571\n",
        "\n",
        "gods son\n",
        "\n",
        "comrade"
       ]
      },
      {
       "output_type": "stream",
       "stream": "stdout",
       "text": [
        " 0.070575454914\n",
        "mommy 0.063144827258\n",
        "master"
       ]
      },
      {
       "output_type": "stream",
       "stream": "stdout",
       "text": [
        " 0.063144827258\n",
        "diss 0.0626586119257\n",
        "jones"
       ]
      },
      {
       "output_type": "stream",
       "stream": "stdout",
       "text": [
        " 0.0626586119257\n",
        "ann 0.0599955844489\n",
        "panthers"
       ]
      },
      {
       "output_type": "stream",
       "stream": "stdout",
       "text": [
        " 0.0599955844489\n",
        "lake 0.0599955844489\n",
        "concept"
       ]
      },
      {
       "output_type": "stream",
       "stream": "stdout",
       "text": [
        " 0.0573377314532\n",
        "film 0.0573377314532\n",
        "trust"
       ]
      },
      {
       "output_type": "stream",
       "stream": "stdout",
       "text": [
        " 0.0571602319886\n",
        "shes 0.0571602319886\n",
        "period 0.0558789019038\n",
        "keys"
       ]
      },
      {
       "output_type": "stream",
       "stream": "stdout",
       "text": [
        " 0.0558789019038\n",
        "royalty 0.0524890468929\n",
        "joy"
       ]
      },
      {
       "output_type": "stream",
       "stream": "stdout",
       "text": [
        " 0.0524890468929\n",
        "movements 0.0524890468929\n",
        "region"
       ]
      },
      {
       "output_type": "stream",
       "stream": "stdout",
       "text": [
        " 0.0524890468929\n",
        "tool 0.0524890468929\n",
        "support"
       ]
      },
      {
       "output_type": "stream",
       "stream": "stdout",
       "text": [
        " 0.0522155099381\n",
        "daughter 0.0522155099381\n",
        "none"
       ]
      },
      {
       "output_type": "stream",
       "stream": "stdout",
       "text": [
        " 0.0522155099381\n",
        "issue 0.0522155099381\n",
        "verses 0.0522155099381\n",
        "queen"
       ]
      },
      {
       "output_type": "stream",
       "stream": "stdout",
       "text": [
        " 0.0505158618064\n",
        "livin 0.0505158618064\n",
        "caliber 0.0505158618064\n",
        "pun"
       ]
      },
      {
       "output_type": "stream",
       "stream": "stdout",
       "text": [
        " 0.0476335266572\n",
        "hands 0.0476335266572\n",
        "lord 0.0476335266572\n",
        "producer"
       ]
      },
      {
       "output_type": "stream",
       "stream": "stdout",
       "text": [
        " 0.0476335266572\n",
        "grandchildren 0.047050303276\n",
        "asthma 0.047050303276\n",
        "noises"
       ]
      },
      {
       "output_type": "stream",
       "stream": "stdout",
       "text": [
        " 0.047050303276\n",
        "lps 0.047050303276\n",
        "commission 0.047050303276\n",
        "deuteronomy"
       ]
      },
      {
       "output_type": "stream",
       "stream": "stdout",
       "text": [
        " 0.047050303276\n",
        "centers 0.047050303276\n",
        "offices 0.047050303276\n",
        "camron"
       ]
      },
      {
       "output_type": "stream",
       "stream": "stdout",
       "text": [
        " 0.0466665240154\n",
        "wing 0.0466665240154\n",
        "doctor 0.0466665240154\n",
        "salaam"
       ]
      },
      {
       "output_type": "stream",
       "stream": "stdout",
       "text": [
        " 0.0466665240154\n",
        "remi 0.0466665240154\n",
        "intentions 0.0466665240154\n",
        "curse"
       ]
      },
      {
       "output_type": "stream",
       "stream": "stdout",
       "text": [
        " 0.0466665240154\n",
        "nations 0.0466665240154\n",
        "teaching 0.0466665240154\n",
        "sister"
       ]
      },
      {
       "output_type": "stream",
       "stream": "stdout",
       "text": [
        " 0.0466665240154\n",
        "cancer 0.0458701851625\n",
        "\n",
        "streets disciple\n",
        "\n",
        "disciple 0.0922066190503\n",
        "toe"
       ]
      },
      {
       "output_type": "stream",
       "stream": "stdout",
       "text": [
        " 0.0887296174417\n",
        "ooh 0.0887296174417\n",
        "promise 0.071448844865\n",
        "battle"
       ]
      },
      {
       "output_type": "stream",
       "stream": "stdout",
       "text": [
        " 0.0689292805597\n",
        "oooh 0.0665472130813\n",
        "chucks 0.0665472130813\n",
        "bro"
       ]
      },
      {
       "output_type": "stream",
       "stream": "stdout",
       "text": [
        " 0.0586705792866\n",
        "freaky 0.0565712108711\n",
        "bubble 0.0565712108711\n",
        "wit"
       ]
      },
      {
       "output_type": "stream",
       "stream": "stdout",
       "text": [
        " 0.054065060399\n",
        "diamonds 0.054065060399\n",
        "chick 0.053897692088\n",
        "shes"
       ]
      },
      {
       "output_type": "stream",
       "stream": "stdout",
       "text": [
        " 0.053897692088\n",
        "breasts 0.0494931246603\n",
        "3x 0.0494931246603\n",
        "burners"
       ]
      },
      {
       "output_type": "stream",
       "stream": "stdout",
       "text": [
        " 0.0494931246603\n",
        "switch 0.0494931246603\n",
        "food 0.0492352003998\n",
        "lips"
       ]
      },
      {
       "output_type": "stream",
       "stream": "stdout",
       "text": [
        " 0.0476325632433\n",
        "kelis 0.0476325632433\n",
        "consequences 0.0476325632433\n",
        "cats"
       ]
      },
      {
       "output_type": "stream",
       "stream": "stdout",
       "text": [
        " 0.0449147434067\n",
        "jewelry 0.0449147434067\n",
        "ladies 0.0449147434067\n",
        "african"
       ]
      },
      {
       "output_type": "stream",
       "stream": "stdout",
       "text": [
        " 0.0449147434067\n",
        "dance 0.0449147434067\n",
        "sade 0.0443648087209\n",
        "makings"
       ]
      },
      {
       "output_type": "stream",
       "stream": "stdout",
       "text": [
        " 0.0443648087209\n",
        "hun 0.0443648087209\n",
        "viewings 0.0443648087209\n",
        "coochie"
       ]
      },
      {
       "output_type": "stream",
       "stream": "stdout",
       "text": [
        " 0.0443648087209\n",
        "liquors 0.0443648087209\n",
        "shapin 0.0443648087209\n",
        "thong"
       ]
      },
      {
       "output_type": "stream",
       "stream": "stdout",
       "text": [
        " 0.0443648087209\n",
        "ecstacy 0.0443648087209\n",
        "di 0.0443648087209\n",
        "poundin"
       ]
      },
      {
       "output_type": "stream",
       "stream": "stdout",
       "text": [
        " 0.0443648087209\n",
        "heritage 0.0443648087209\n",
        "voices 0.0443648087209\n",
        "giovanni"
       ]
      },
      {
       "output_type": "stream",
       "stream": "stdout",
       "text": [
        " 0.0443648087209\n",
        "lap 0.0443648087209\n",
        "dawgs 0.0443648087209\n",
        "trusty"
       ]
      },
      {
       "output_type": "stream",
       "stream": "stdout",
       "text": [
        " 0.0443648087209\n",
        "taylors 0.0443648087209\n",
        "butt 0.044002934465\n",
        "william"
       ]
      },
      {
       "output_type": "stream",
       "stream": "stdout",
       "text": [
        " 0.044002934465\n",
        "hypocrisy 0.044002934465\n",
        "author 0.044002934465\n",
        "mic"
       ]
      },
      {
       "output_type": "stream",
       "stream": "stdout",
       "text": [
        " 0.0432520483192\n",
        "\n",
        "hip hop is dead\n",
        "\n",
        "west 0.0842988196321\n",
        "sippin 0.0807160707323\n",
        "flash"
       ]
      },
      {
       "output_type": "stream",
       "stream": "stdout",
       "text": [
        " 0.0676598602372\n",
        "age 0.0674390557056\n",
        "diamonds 0.0647978380625\n",
        "genre"
       ]
      },
      {
       "output_type": "stream",
       "stream": "stdout",
       "text": [
        " 0.0611661294895\n",
        "diss 0.0590091737424\n",
        "jam 0.0590091737424\n",
        "bangin"
       ]
      },
      {
       "output_type": "stream",
       "stream": "stdout",
       "text": [
        " 0.0569699266684\n",
        "pioneers 0.0564936191301\n",
        "grandmaster 0.0564936191301\n",
        "james"
       ]
      },
      {
       "output_type": "stream",
       "stream": "stdout",
       "text": [
        " 0.0555410040536\n",
        "coast 0.053831037058\n",
        "state 0.053831037058\n",
        "raps"
       ]
      },
      {
       "output_type": "stream",
       "stream": "stdout",
       "text": [
        " 0.053831037058\n",
        "industry 0.0509717745746\n",
        "cent 0.0509717745746\n",
        "class"
       ]
      },
      {
       "output_type": "stream",
       "stream": "stdout",
       "text": [
        " 0.0505792917792\n",
        "jones 0.0505792917792\n",
        "careers 0.050226875699\n",
        "kanye"
       ]
      },
      {
       "output_type": "stream",
       "stream": "stdout",
       "text": [
        " 0.050226875699\n",
        "rappin 0.050226875699\n",
        "decades"
       ]
      },
      {
       "output_type": "stream",
       "stream": "stdout",
       "text": [
        " 0.0484296424394\n",
        "turntables 0.0484296424394\n",
        "counter"
       ]
      },
      {
       "output_type": "stream",
       "stream": "stdout",
       "text": [
        " 0.0484296424394\n",
        "showin 0.0484296424394\n",
        "nostalgia"
       ]
      },
      {
       "output_type": "stream",
       "stream": "stdout",
       "text": [
        " 0.0484296424394\n",
        "platinum 0.0462841700446\n",
        "vs"
       ]
      },
      {
       "output_type": "stream",
       "stream": "stdout",
       "text": [
        " 0.0462841700446\n",
        "wit 0.0462841700446\n",
        "mainstream"
       ]
      },
      {
       "output_type": "stream",
       "stream": "stdout",
       "text": [
        " 0.0462841700446\n",
        "mic 0.0462841700446\n",
        "blast"
       ]
      },
      {
       "output_type": "stream",
       "stream": "stdout",
       "text": [
        " 0.0461408889069\n",
        "sign 0.0461408889069\n",
        "step"
       ]
      },
      {
       "output_type": "stream",
       "stream": "stdout",
       "text": [
        " 0.0461408889069\n",
        "clothes 0.0461408889069\n",
        "culture"
       ]
      },
      {
       "output_type": "stream",
       "stream": "stdout",
       "text": [
        " 0.0461408889069\n",
        "cap 0.0451065734915\n",
        "yea"
       ]
      },
      {
       "output_type": "stream",
       "stream": "stdout",
       "text": [
        " 0.0451065734915\n",
        "cigars 0.0451065734915\n",
        "demise"
       ]
      },
      {
       "output_type": "stream",
       "stream": "stdout",
       "text": [
        " 0.0423702143476\n",
        "conscience 0.0423702143476\n",
        "sony 0.0423702143476\n",
        "wasn"
       ]
      },
      {
       "output_type": "stream",
       "stream": "stdout",
       "text": [
        " 0.0423702143476\n",
        "sampling 0.0423702143476\n",
        "nasir 0.042149409816\n",
        "arent"
       ]
      },
      {
       "output_type": "stream",
       "stream": "stdout",
       "text": [
        " 0.042149409816\n",
        "middle 0.042149409816\n",
        "mcs 0.042149409816\n",
        "dog"
       ]
      },
      {
       "output_type": "stream",
       "stream": "stdout",
       "text": [
        " 0.0407774196597\n",
        "\n",
        "untitled\n",
        "\n",
        "nigger 0.11628831834\n",
        "african 0.0870630923506\n",
        "niggers"
       ]
      },
      {
       "output_type": "stream",
       "stream": "stdout",
       "text": [
        " 0.0830743035495\n",
        "whites 0.0812427438866\n",
        "movement 0.0812427438866\n",
        "kkk"
       ]
      },
      {
       "output_type": "stream",
       "stream": "stdout",
       "text": [
        " 0.0781791769314\n",
        "racism 0.0780855547191\n",
        "thomas 0.0726801989623\n",
        "government"
       ]
      },
      {
       "output_type": "stream",
       "stream": "stdout",
       "text": [
        " 0.0633186126186\n",
        "food 0.060733209226\n",
        "rights 0.060733209226\n",
        "ethnicities"
       ]
      },
      {
       "output_type": "stream",
       "stream": "stdout",
       "text": [
        " 0.0586343826986\n",
        "suburbia 0.0586343826986\n",
        "mlk"
       ]
      },
      {
       "output_type": "stream",
       "stream": "stdout",
       "text": [
        " 0.0581441591699\n",
        "condition 0.0581441591699\n",
        "usa"
       ]
      },
      {
       "output_type": "stream",
       "stream": "stdout",
       "text": [
        " 0.0581441591699\n",
        "jackson 0.0580305313476\n",
        "masters"
       ]
      },
      {
       "output_type": "stream",
       "stream": "stdout",
       "text": [
        " 0.0580305313476\n",
        "slave 0.0554037860413\n",
        "chorus"
       ]
      },
      {
       "output_type": "stream",
       "stream": "stdout",
       "text": [
        " 0.0554037860413\n",
        "culture 0.0554037860413\n",
        "jfk"
       ]
      },
      {
       "output_type": "stream",
       "stream": "stdout",
       "text": [
        " 0.0524609862082\n",
        "americas 0.0524609862082\n",
        "ages"
       ]
      },
      {
       "output_type": "stream",
       "stream": "stdout",
       "text": [
        " 0.0516943240708\n",
        "september 0.0516943240708\n",
        "folk"
       ]
      },
      {
       "output_type": "stream",
       "stream": "stdout",
       "text": [
        " 0.0516943240708\n",
        "controversy 0.0516943240708\n",
        "william"
       ]
      },
      {
       "output_type": "stream",
       "stream": "stdout",
       "text": [
        " 0.0516943240708\n",
        "neighborhoods 0.0516943240708\n",
        "challenges"
       ]
      },
      {
       "output_type": "stream",
       "stream": "stdout",
       "text": [
        " 0.0498445821297\n",
        "materialism 0.0498445821297\n",
        "slavery"
       ]
      },
      {
       "output_type": "stream",
       "stream": "stdout",
       "text": [
        " 0.0476364267604\n",
        "truth 0.047488959464\n",
        "slaves"
       ]
      },
      {
       "output_type": "stream",
       "stream": "stdout",
       "text": [
        " 0.047488959464\n",
        "poverty 0.047488959464\n",
        "message"
       ]
      },
      {
       "output_type": "stream",
       "stream": "stdout",
       "text": [
        " 0.047488959464\n",
        "law 0.047488959464\n",
        "david"
       ]
      },
      {
       "output_type": "stream",
       "stream": "stdout",
       "text": [
        " 0.0464244250781\n",
        "conspiracy 0.0464244250781\n",
        "tom"
       ]
      },
      {
       "output_type": "stream",
       "stream": "stdout",
       "text": [
        " 0.0436081193774\n",
        "china 0.0436081193774\n",
        "flag"
       ]
      },
      {
       "output_type": "stream",
       "stream": "stdout",
       "text": [
        " 0.0436081193774\n",
        "pimp 0.0433808637329\n",
        "door"
       ]
      },
      {
       "output_type": "stream",
       "stream": "stdout",
       "text": [
        " 0.0433808637329\n",
        "existence 0.0419687889666\n",
        "result"
       ]
      },
      {
       "output_type": "stream",
       "stream": "stdout",
       "text": [
        " 0.0419687889666\n",
        "problems 0.0395741328866\n",
        "country"
       ]
      },
      {
       "output_type": "stream",
       "stream": "stdout",
       "text": [
        " 0.0395741328866\n",
        "listeners 0.0395741328866\n",
        "problem"
       ]
      },
      {
       "output_type": "stream",
       "stream": "stdout",
       "text": [
        " 0.0395741328866\n",
        "\n",
        "life is good\n",
        "\n",
        "salaam 0.0796611633354\n",
        "remi"
       ]
      },
      {
       "output_type": "stream",
       "stream": "stdout",
       "text": [
        " 0.0682809971446\n",
        "divorce 0.0613201950731\n",
        "elements"
       ]
      },
      {
       "output_type": "stream",
       "stream": "stdout",
       "text": [
        " 0.0613201950731\n",
        "age"
       ]
      },
      {
       "output_type": "stream",
       "stream": "stdout",
       "text": [
        " 0.0611200797181\n",
        "80s 0.0587263416799\n",
        "bentley"
       ]
      },
      {
       "output_type": "stream",
       "stream": "stdout",
       "text": [
        " 0.0569008309538\n",
        "samples"
       ]
      },
      {
       "output_type": "stream",
       "stream": "stdout",
       "text": [
        " 0.0557567081122\n",
        "production"
       ]
      },
      {
       "output_type": "stream",
       "stream": "stdout",
       "text": [
        " 0.0557567081122\n",
        "kelis"
       ]
      },
      {
       "output_type": "stream",
       "stream": "stdout",
       "text": [
        " 0.0554349207789\n",
        "hasnt 0.0554349207789\n",
        "drums"
       ]
      },
      {
       "output_type": "stream",
       "stream": "stdout",
       "text": [
        " 0.0554349207789\n",
        "room 0.0534800697534\n",
        "luxury"
       ]
      },
      {
       "output_type": "stream",
       "stream": "stdout",
       "text": [
        " 0.0534800697534\n",
        "verdict 0.051631898209\n",
        "organ"
       ]
      },
      {
       "output_type": "stream",
       "stream": "stdout",
       "text": [
        " 0.051631898209\n",
        "ll 0.0511001625609\n",
        "marl"
       ]
      },
      {
       "output_type": "stream",
       "stream": "stdout",
       "text": [
        " 0.0511001625609\n",
        "vacation 0.0511001625609\n",
        "legend"
       ]
      },
      {
       "output_type": "stream",
       "stream": "stdout",
       "text": [
        " 0.0503368642971\n",
        "share 0.0503368642971\n",
        "mobb"
       ]
      },
      {
       "output_type": "stream",
       "stream": "stdout",
       "text": [
        " 0.0503368642971\n",
        "film 0.0503368642971\n",
        "shes"
       ]
      },
      {
       "output_type": "stream",
       "stream": "stdout",
       "text": [
        " 0.0487871195981\n",
        "state 0.0487871195981\n",
        "fun"
       ]
      },
      {
       "output_type": "stream",
       "stream": "stdout",
       "text": [
        " 0.0487871195981\n",
        "company"
       ]
      },
      {
       "output_type": "stream",
       "stream": "stdout",
       "text": [
        " 0.0487871195981\n",
        "raps"
       ]
      },
      {
       "output_type": "stream",
       "stream": "stdout",
       "text": [
        " 0.0487871195981\n",
        "vocals 0.0461957673158\n",
        "piano"
       ]
      },
      {
       "output_type": "stream",
       "stream": "stdout",
       "text": [
        " 0.0461957673158\n",
        "marley 0.0461957673158\n",
        "president"
       ]
      },
      {
       "output_type": "stream",
       "stream": "stdout",
       "text": [
        " 0.0458400597886\n",
        "stage 0.0458400597886\n",
        "vibe"
       ]
      },
      {
       "output_type": "stream",
       "stream": "stdout",
       "text": [
        " 0.0458400597886\n",
        "fila 0.0455206647631\n",
        "kanye"
       ]
      },
      {
       "output_type": "stream",
       "stream": "stdout",
       "text": [
        " 0.0455206647631\n",
        "suits 0.0455206647631\n",
        "agent"
       ]
      },
      {
       "output_type": "stream",
       "stream": "stdout",
       "text": [
        " 0.0455206647631\n",
        "anxiety 0.0455206647631\n",
        "tragedy"
       ]
      },
      {
       "output_type": "stream",
       "stream": "stdout",
       "text": [
        " 0.0455206647631\n",
        "hall 0.0438918305668\n",
        "twitter"
       ]
      },
      {
       "output_type": "stream",
       "stream": "stdout",
       "text": [
        " 0.0438918305668\n",
        "banger 0.0438918305668\n",
        "largeup"
       ]
      },
      {
       "output_type": "stream",
       "stream": "stdout",
       "text": [
        " 0.0438918305668\n",
        "vernon"
       ]
      },
      {
       "output_type": "stream",
       "stream": "stdout",
       "text": [
        " 0.0438918305668\n",
        "anthony 0.0438918305668\n",
        "graffiti"
       ]
      },
      {
       "output_type": "stream",
       "stream": "stdout",
       "text": [
        " 0.0438918305668\n",
        "honor 0.0419473869142\n",
        "roots 0.0419473869142\n",
        "bottle"
       ]
      },
      {
       "output_type": "stream",
       "stream": "stdout",
       "text": [
        " 0.0419473869142\n"
       ]
      }
     ],
     "prompt_number": 281
    },
    {
     "cell_type": "code",
     "collapsed": false,
     "input": [
      "count = CountVectorizer(stop_words='english')\n",
      "count_vector = count.fit_transform(song_nouns)"
     ],
     "language": "python",
     "metadata": {},
     "outputs": [],
     "prompt_number": 21
    },
    {
     "cell_type": "code",
     "collapsed": false,
     "input": [
      "print len(words[9])"
     ],
     "language": "python",
     "metadata": {},
     "outputs": [
      {
       "output_type": "stream",
       "stream": "stdout",
       "text": [
        "96845\n"
       ]
      }
     ],
     "prompt_number": 31
    },
    {
     "cell_type": "code",
     "collapsed": false,
     "input": [
      "# for idx, album in enumerate(count_vector):\n",
      "#     counter = 0\n",
      "#     print \n",
      "#     print album_names[idx]\n",
      "#     print\n",
      "#     for index, tfidf in sorted(zip(album.indices,album.data), key= itemgetter(1), reverse=True):\n",
      "#         if counter < 50:\n",
      "# #             if len(wordnet.synsets(str(count.get_feature_names()[index]))) > 0:\n",
      "#             print count.get_feature_names()[index], tfidf\n",
      "#             counter += 1"
     ],
     "language": "python",
     "metadata": {},
     "outputs": [],
     "prompt_number": 22
    },
    {
     "cell_type": "code",
     "collapsed": false,
     "input": [],
     "language": "python",
     "metadata": {},
     "outputs": [],
     "prompt_number": 22
    }
   ],
   "metadata": {}
  }
 ]
}